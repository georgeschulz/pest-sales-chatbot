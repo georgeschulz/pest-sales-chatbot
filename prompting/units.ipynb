{
 "cells": [
  {
   "cell_type": "code",
   "execution_count": 140,
   "metadata": {},
   "outputs": [],
   "source": [
    "import pandas as pd\n",
    "import openai\n",
    "from dotenv import load_dotenv\n",
    "load_dotenv()\n",
    "import os\n",
    "import langchain\n",
    "from langchain.prompts import load_prompt\n",
    "from langchain.llms import OpenAIChat\n",
    "from langchain import PromptTemplate, LLMChain, FewShotPromptTemplate\n",
    "import re\n",
    "import sys\n",
    "pd.options.mode.chained_assignment = None\n",
    "from langchain.callbacks import get_openai_callback\n",
    "\n"
   ]
  },
  {
   "cell_type": "code",
   "execution_count": 101,
   "metadata": {},
   "outputs": [],
   "source": [
    "RED = \"\\033[91m\"\n",
    "GREEN = \"\\033[92m\"\n",
    "RESET = \"\\033[0m\"\n",
    "BOLD = \"\\033[1m\""
   ]
  },
  {
   "cell_type": "code",
   "execution_count": 102,
   "metadata": {},
   "outputs": [],
   "source": [
    "#load the api key\n",
    "openai.api_key = os.getenv('OPENAI_KEY')\n",
    "#add the key to the openai api\n",
    "\n",
    "TOKEN_USAGE = 0\n",
    "COST_PER_TOKEN = 0.002 / 1000\n"
   ]
  },
  {
   "cell_type": "code",
   "execution_count": 103,
   "metadata": {},
   "outputs": [],
   "source": [
    "def usage():\n",
    "    global TOKEN_USAGE\n",
    "    global COST_PER_TOKEN\n",
    "    cost = COST_PER_TOKEN * TOKEN_USAGE\n",
    "    print(f\"Total token usage: {TOKEN_USAGE} | Cost: ${cost:.2f}\")"
   ]
  },
  {
   "cell_type": "code",
   "execution_count": 104,
   "metadata": {},
   "outputs": [],
   "source": [
    "#create an empty dataframe with a column for the prompt, the token cost and a column for the response\n",
    "genrations_df = pd.DataFrame(columns=['prompt', 'token_cost', 'response', 'experiment_type'])"
   ]
  },
  {
   "cell_type": "code",
   "execution_count": 105,
   "metadata": {},
   "outputs": [],
   "source": [
    "#function to generate a prompt, save the prompt, token cost and response to a dataframe and save the dataframe to a csv file\n",
    "def generate_prompt(prompts, experiment_name):\n",
    "    response = openai.ChatCompletion.create(\n",
    "        model=\"gpt-3.5-turbo\",\n",
    "        messages=prompts\n",
    "    )\n",
    "\n",
    "    usage = response['usage']['total_tokens']\n",
    "    global TOKEN_USAGE\n",
    "    TOKEN_USAGE += usage\n",
    "    \n",
    "    text_response = response['choices'][0]['message']['content']\n",
    "    #add the prompt, token cost and response to the dataframe and save it\n",
    "    genrations_df.loc[len(genrations_df)] = [prompts, usage, text_response, experiment_name]\n",
    "    #check if a directory for the experiment_name exists in generations folder, if not create it\n",
    "    if not os.path.exists(f'generations/{experiment_name}'):\n",
    "        os.makedirs(f'generations/{experiment_name}')\n",
    "    genrations_df.to_csv(f'generations/generations_summary.csv')\n",
    "\n",
    "\n",
    "    #create a new txt file for each prompt and response and save it to the experiments_name folder\n",
    "    with open(f'generations/{experiment_name}/{len(genrations_df)-1}.txt', 'w') as f:\n",
    "        f.write(f\"Prompt: {prompts}\\n\")\n",
    "        f.write(f\"Response: {text_response}\\n\")\n",
    "        f.write(f\"Token usage: {usage}\\n\")\n",
    "        f.write(f\"Experiment type: {experiment_name}\\n\")\n",
    "        f.write(f\"Total token usage: {TOKEN_USAGE}\\n\") \n",
    "\n",
    "    return response['choices'][0]['message']['content']"
   ]
  },
  {
   "cell_type": "code",
   "execution_count": 8,
   "metadata": {},
   "outputs": [
    {
     "ename": "NameError",
     "evalue": "name 'test_prompt' is not defined",
     "output_type": "error",
     "traceback": [
      "\u001b[0;31m---------------------------------------------------------------------------\u001b[0m",
      "\u001b[0;31mNameError\u001b[0m                                 Traceback (most recent call last)",
      "\u001b[0;32m/var/folders/4y/w17wvhln3056dqk7rd4cmnwh0000gp/T/ipykernel_22251/4186492666.py\u001b[0m in \u001b[0;36m<module>\u001b[0;34m\u001b[0m\n\u001b[0;32m----> 1\u001b[0;31m \u001b[0mprint\u001b[0m\u001b[0;34m(\u001b[0m\u001b[0mgenerate_prompt\u001b[0m\u001b[0;34m(\u001b[0m\u001b[0mtest_prompt\u001b[0m\u001b[0;34m,\u001b[0m \u001b[0;34m'harness_setup'\u001b[0m\u001b[0;34m)\u001b[0m\u001b[0;34m)\u001b[0m\u001b[0;34m\u001b[0m\u001b[0;34m\u001b[0m\u001b[0m\n\u001b[0m\u001b[1;32m      2\u001b[0m \u001b[0mcalculate_total_usage\u001b[0m\u001b[0;34m(\u001b[0m\u001b[0mCOST_PER_TOKEN\u001b[0m\u001b[0;34m)\u001b[0m\u001b[0;34m\u001b[0m\u001b[0;34m\u001b[0m\u001b[0m\n",
      "\u001b[0;31mNameError\u001b[0m: name 'test_prompt' is not defined"
     ]
    }
   ],
   "source": [
    "print(generate_prompt(test_prompt, 'harness_setup'))\n",
    "calculate_total_usage(COST_PER_TOKEN)"
   ]
  },
  {
   "cell_type": "code",
   "execution_count": 9,
   "metadata": {},
   "outputs": [],
   "source": [
    "class Prompt_Chain:\n",
    "    def __init__(self, experiment_name, initial_prompt):\n",
    "        self.experiment_name = experiment_name\n",
    "        self.prompt = initial_prompt\n",
    "    \n",
    "    def user_says(self, user_input):\n",
    "        self.prompt.append({ \"role\": \"user\", \"content\": user_input })\n",
    "        return self\n",
    "\n",
    "    def assistant_says(self, assistant_output):\n",
    "        self.prompt.append({ \"role\": \"assistant\", \"content\": assistant_output })\n",
    "\n",
    "    def wrap_text(self, text):\n",
    "        text_to_print = \"\"\n",
    "        if(len(text) > 200):\n",
    "            for i in range(0, len(text), 200):\n",
    "                text_to_print += text[i:i+200]\n",
    "                text_to_print += \" \\n\"\n",
    "        print(text_to_print)\n",
    "    \n",
    "    def ask(self, user_text):\n",
    "        self.user_says(user_text)\n",
    "        response = generate_prompt(self.prompt, self.experiment_name)\n",
    "        self.wrap_text(response)\n",
    "        self.assistant_says(response)\n",
    "    \n",
    "    def refresh(self, initial_prompt):\n",
    "        self.prompt = initial_prompt\n"
   ]
  },
  {
   "attachments": {},
   "cell_type": "markdown",
   "metadata": {},
   "source": [
    "### Attempts to setup a simple agent"
   ]
  },
  {
   "cell_type": "code",
   "execution_count": 124,
   "metadata": {},
   "outputs": [],
   "source": [
    "prompt_chain = [\n",
    "    {\"role\": \"system\", \"content\": \"You are a sales agent for a pest control company. You are on the phone with a customer who is interested in setting up a service appointment. The customer is asking you about the different types of services you offer. Ask questions to understand their problem and then offer a solution.\"},\n",
    "    {\"role\": \"assistant\", \"content\": \"Hi, welcome to Better Termite. How can I help you today?\"},\n",
    "]\n",
    "\n",
    "agent = Prompt_Chain('Agent Test', prompt_chain)"
   ]
  },
  {
   "cell_type": "code",
   "execution_count": 110,
   "metadata": {},
   "outputs": [
    {
     "name": "stdout",
     "output_type": "stream",
     "text": [
      "\n"
     ]
    }
   ],
   "source": [
    "agent.ask(\"I have a problem with termites in my house. What can you do to help me?\")"
   ]
  },
  {
   "cell_type": "code",
   "execution_count": 111,
   "metadata": {},
   "outputs": [
    {
     "name": "stdout",
     "output_type": "stream",
     "text": [
      "It's possible that those could be termites. We would need to do a thorough inspection to confirm whether or not you have a termite infestation. Would you like to schedule a free inspection with one of \n",
      " our pest control experts? \n",
      "\n"
     ]
    }
   ],
   "source": [
    "agent.ask(\"I've seen what looks like flying ants around my house. Are they termites?\")"
   ]
  },
  {
   "cell_type": "code",
   "execution_count": 112,
   "metadata": {},
   "outputs": [
    {
     "name": "stdout",
     "output_type": "stream",
     "text": [
      "No, it's completely free. Our expert will come to your house and conduct a thorough examination of the property to determine if termites are present, and if so, the extent of the infestation. Once the \n",
      "y have completed their investigation, they will go over the findings with you and suggest a customized course of action based on your specific situation. Would you like to schedule an appointment for  \n",
      "a free inspection? \n",
      "\n"
     ]
    }
   ],
   "source": [
    "agent.ask(\"Does that cost anything?\")"
   ]
  },
  {
   "cell_type": "code",
   "execution_count": 113,
   "metadata": {},
   "outputs": [
    {
     "name": "stdout",
     "output_type": "stream",
     "text": [
      "Great! Let me take your information and schedule an appointment for you. Our termite experts will be out as soon as possible to take a look at the house and help you with a solution. In the meantime,  \n",
      "I can let you know that we offer various termite treatment options based on the severity of the infestation. Our treatments include liquid treatment, fumigation, and baiting systems. Once the technici \n",
      "an has completed the inspection, they can provide you with a recommendation for the best treatment option for your situation. Would you like to learn more about any of these treatments now? \n",
      "\n"
     ]
    }
   ],
   "source": [
    "agent.ask(\"Yes please!\")"
   ]
  },
  {
   "cell_type": "code",
   "execution_count": 84,
   "metadata": {},
   "outputs": [
    {
     "name": "stdout",
     "output_type": "stream",
     "text": [
      "\n"
     ]
    }
   ],
   "source": [
    "agent.ask(\"My name is John Smith, and my phone number is 555-555-5555\")"
   ]
  },
  {
   "cell_type": "code",
   "execution_count": 131,
   "metadata": {},
   "outputs": [
    {
     "name": "stdout",
     "output_type": "stream",
     "text": [
      "Total token usage: 5468 | Cost: $0.01\n"
     ]
    }
   ],
   "source": [
    "agent.refresh(prompt_chain)\n",
    "usage()"
   ]
  },
  {
   "cell_type": "code",
   "execution_count": 126,
   "metadata": {},
   "outputs": [
    {
     "name": "stdout",
     "output_type": "stream",
     "text": [
      "Great! We offer several different service plans depending on your specific needs. Can you tell me a bit more about the pest problem you are experiencing? That way, I can recommend the best plan for yo \n",
      "u. \n",
      "\n"
     ]
    }
   ],
   "source": [
    "agent.ask('I am interested in getting setup on a quarterly service plan. What do I need to do?')"
   ]
  },
  {
   "cell_type": "code",
   "execution_count": 127,
   "metadata": {},
   "outputs": [
    {
     "name": "stdout",
     "output_type": "stream",
     "text": [
      "I understand. We have a quarterly service plan that is designed to prevent pests from entering your home. Our technicians will come to your home every quarter to spray the perimeter and any common are \n",
      "as where pests tend to enter. This service covers a wide range of pests like ants, spiders, roaches, silverfish, and more. Would you be interested in this plan? \n",
      "\n"
     ]
    }
   ],
   "source": [
    "agent.ask(\"It's more of a proactive thing. I have been seeing some ants around my house\")"
   ]
  },
  {
   "cell_type": "code",
   "execution_count": 193,
   "metadata": {},
   "outputs": [
    {
     "name": "stdout",
     "output_type": "stream",
     "text": [
      "Total token usage: 0 | Cost: $0.00\n"
     ]
    }
   ],
   "source": [
    "usage()"
   ]
  },
  {
   "attachments": {},
   "cell_type": "markdown",
   "metadata": {},
   "source": [
    "### Experimenting to Create My Own Agent"
   ]
  },
  {
   "cell_type": "code",
   "execution_count": 10,
   "metadata": {},
   "outputs": [],
   "source": [
    "# make sure all columns are strings\n",
    "classification_data = pd.read_csv('data/message_classification.csv', dtype=str)"
   ]
  },
  {
   "cell_type": "code",
   "execution_count": 11,
   "metadata": {},
   "outputs": [],
   "source": [
    "def slice_data(data, start, end, category):\n",
    "    sub_df = data.iloc[start:end]\n",
    "    #select only the prompt and category columns\n",
    "    prompts = sub_df[['prompt', category]]\n",
    "    #change the name of the category column to expected\n",
    "    prompts.rename(columns={category: 'expected'}, inplace=True)\n",
    "    #convert to a dictionary where each key is test1, test2 and each value is a row from the dataframe\n",
    "    prompts_dict = prompts.to_dict('index')\n",
    "    return prompts_dict"
   ]
  },
  {
   "cell_type": "code",
   "execution_count": 12,
   "metadata": {},
   "outputs": [
    {
     "data": {
      "text/plain": [
       "[{'input': 'I want to know if you work with mice control', 'output': 'False'},\n",
       " {'input': 'Alexandria va zipcode 22303', 'output': 'True'},\n",
       " {'input': 'We are located in Gaithersburg, Md do u come our that far?',\n",
       "  'output': 'True'}]"
      ]
     },
     "execution_count": 12,
     "metadata": {},
     "output_type": "execute_result"
    }
   ],
   "source": [
    "def get_examples(data, start, end, category):\n",
    "    prompts_dict = slice_data(data, start, end, category)\n",
    "    examples = []\n",
    "    for key, value in prompts_dict.items():\n",
    "        examples.append({\n",
    "            \"input\": value['prompt'],\n",
    "            \"output\": value['expected']\n",
    "        })\n",
    "    return examples\n",
    "\n",
    "get_examples(classification_data, 11, 14, 'contains_contact_info')"
   ]
  },
  {
   "cell_type": "code",
   "execution_count": 22,
   "metadata": {},
   "outputs": [],
   "source": [
    "class TestSet:\n",
    "    def __init__(self, test_set, function):\n",
    "        self.test_set = test_set\n",
    "        self.function = function\n",
    "\n",
    "    def check(self, key):\n",
    "        value = self.test_set[key]['prompt']\n",
    "        response = self.function(value)\n",
    "        if response == self.test_set[key]['expected']:\n",
    "            print(GREEN + \"/ PASS | Result: \" + response + \" | Expected: \" + self.test_set[key]['expected'] + ' | Data ID: ' + str(key) + RESET)\n",
    "            return 1\n",
    "        else:\n",
    "            print(RED + \"X FAIL | Result: \" + response + \" | Expected: \" + self.test_set[key]['expected'] + ' | Data ID: ' + str(key) + RESET)\n",
    "            return 0\n",
    "    \n",
    "    def run(self, test_name, print_test_name=True, print_results=True, iter=1, results_loc=None):\n",
    "        if print_test_name:\n",
    "            print(BOLD + test_name + RESET + '\\n')\n",
    "\n",
    "        total_tokens = 0\n",
    "        total_count = len(self.test_set) * iter\n",
    "        correct_count = 0\n",
    "        for i in range(iter):\n",
    "            for key in self.test_set:\n",
    "                correct_count += self.check(key)\n",
    "        \n",
    "        if print_results:\n",
    "            print(BOLD + \"Total: \" + str(total_count) + \" | Correct: \" + str(correct_count) + \" | Incorrect: \" + str(total_count - correct_count) + ' | Accuracy: ' + str(correct_count/total_count) + RESET)\n",
    "\n",
    "        if results_loc:\n",
    "            #check if a file exists at results_loc called results.csv\n",
    "            if os.path.isfile(results_loc + 'results.csv'):\n",
    "                results = pd.read_csv(results_loc + 'results.csv')\n",
    "            else:\n",
    "                results = pd.DataFrame(columns=['test_name', 'total_count', 'correct_count', 'incorrect_count', 'accuracy'])\n",
    "            \n",
    "            new_results = pd.DataFrame([[test_name, total_count, correct_count, total_count - correct_count, correct_count/total_count]], columns=['test_name', 'total_count', 'correct_count', 'incorrect_count', 'accuracy'])\n",
    "            combined = pd.concat([results, new_results])\n",
    "\n",
    "            combined.to_csv(results_loc + 'results.csv', index=False)\n",
    "            \n",
    "    def __call__(self, indexes):\n",
    "        for index in indexes:\n",
    "            datapoint = self.test_set[index]\n",
    "            print(\"ID: \" + str(index) + \" | \" +  datapoint['prompt'])"
   ]
  },
  {
   "cell_type": "code",
   "execution_count": 238,
   "metadata": {},
   "outputs": [],
   "source": [
    "class LLMResult:\n",
    "    def __init__(self, result, tokens):\n",
    "        self.result = result\n",
    "        self.tokens = tokens\n",
    "    \n",
    "    def __value__(self):\n",
    "        return self.result\n",
    "\n",
    "#generator is a class for loading a prompt and runnning it\n",
    "class Generator:\n",
    "    def __init__(self, path):\n",
    "        self.path = path\n",
    "        self.prompt = load_prompt(path)\n",
    "        self.llm = OpenAIChat(openai_api_key=os.getenv('OPENAI_KEY'))\n",
    "        self.llm_chain = LLMChain(prompt=self.prompt, llm=self.llm, output_key=\"text\")\n",
    "    \n",
    "    def run(self, input):\n",
    "        with get_openai_callback() as cb:\n",
    "            result = self.llm_chain.run(input)\n",
    "            tokens = cb.total_tokens\n",
    "            result = LLMResult(result, tokens)\n",
    "            return result\n",
    "    \n",
    "    def __call__(self, input):\n",
    "        return self.run(input)\n",
    "\n",
    "#an extractor runs a function on the output of a generator to pull out the relevant information\n",
    "class Extractor:\n",
    "    def __init__(self, type=\"regex\", regex=None, default=\"No Classification Found\", keys=None):\n",
    "        self.type = type\n",
    "        self.regex = regex\n",
    "        self.default = default\n",
    "        self.keys = keys\n",
    "    \n",
    "    def first_regex_extractor(self, input, regex, default=\"No Classification Found\"):\n",
    "        match = re.search(regex, input)\n",
    "        return_value = default\n",
    "        if match:\n",
    "            return_value = match.group(0)\n",
    "        return return_value\n",
    "    \n",
    "    def natural_language_to_dict_extractor(self, input):\n",
    "        #Search for every instance of a line that has a characterisitc, then a colon, then a value (ex. \"Name: John\")\n",
    "        regex = r\"(\\w+): (\\w+)\"\n",
    "        matches = re.findall(regex, input)\n",
    "        #Then, add the characteristic and value to a dictionary\n",
    "        dictionary = {}\n",
    "        for match in matches:\n",
    "            key = match[0].strip().lower()\n",
    "            if key in self.keys and not self.keys == None:\n",
    "                value = match[1].strip()\n",
    "                if value == \"None\" or value == \"none\":\n",
    "                    value = None\n",
    "                dictionary[key] = value\n",
    "        #Then, return the dictionary\n",
    "        return dictionary\n",
    "\n",
    "\n",
    "    def __call__(self, raw_text):\n",
    "        if self.type == \"regex\":\n",
    "            return self.first_regex_extractor(raw_text, self.regex, self.default)\n",
    "        elif self.type == \"natural_language_to_dict\":\n",
    "            return self.natural_language_to_dict_extractor(raw_text)\n",
    "        \n",
    "class GenExtract:\n",
    "    def __init__(self, generator, extractor):\n",
    "        self.generator = generator\n",
    "        self.extractor = extractor\n",
    "        self.total_tokens = 0\n",
    "        self.total_runs = 0\n",
    "        self.average_tokens = self.get_average_tokens()\n",
    "    \n",
    "    def run(self, input):\n",
    "        raw_text = self.generator.run(input)\n",
    "        #check if raw text is a LLMResult\n",
    "        completion = raw_text\n",
    "        self.total_runs += 1\n",
    "        if isinstance(raw_text, LLMResult):\n",
    "            completion = raw_text.result\n",
    "            self.total_tokens += raw_text.tokens\n",
    "        return self.extractor(completion)\n",
    "    \n",
    "    def prompt(self):\n",
    "        print(self.generator.prompt.template)\n",
    "    \n",
    "    def __call__(self, input):\n",
    "        return self.run(input)\n",
    "    \n",
    "    def get_average_tokens(self):\n",
    "        if self.total_runs == 0:\n",
    "            return None\n",
    "        return self.total_tokens / self.total_runs\n",
    "\n",
    "class PromptPath:\n",
    "    def __init__(self, base_path, type=\"json\"):\n",
    "        self.base_path = base_path\n",
    "        self.type = type\n",
    "    \n",
    "    def __call__(self, file):\n",
    "        if(file == '.'):\n",
    "            return self.base_path\n",
    "        else:\n",
    "            return self.base_path + file + \".\" + self.type\n"
   ]
  },
  {
   "attachments": {},
   "cell_type": "markdown",
   "metadata": {},
   "source": [
    "#### A possible framework for thought in a coversation with an agent\n",
    "\n",
    "1. Classify the type of request: \n",
    "2. If augmentation is required, adapt the prompt. If information is collected, add it to the customer profile. \n",
    "3. Adjust the conversational chain\n",
    "4. Return the response"
   ]
  },
  {
   "attachments": {},
   "cell_type": "markdown",
   "metadata": {},
   "source": [
    "Ways to categorize:\n",
    "\n",
    "- Information Request: look up data\n",
    "- Contact Information: store in contact profile\n",
    "- Customer Issue Details: store in customer profile\n",
    "\n",
    "Maybe it should be a boolean search with three tags?\n"
   ]
  },
  {
   "attachments": {},
   "cell_type": "markdown",
   "metadata": {},
   "source": [
    "Test Results: Poor performance probably do to overlapping categories and poorly defined categories. The next test will be to create a tagging series where there can be more than one classification. Each will be a boolean classsification prompt"
   ]
  },
  {
   "attachments": {},
   "cell_type": "markdown",
   "metadata": {},
   "source": [
    "#### Building the Contact Classifier"
   ]
  },
  {
   "cell_type": "code",
   "execution_count": 204,
   "metadata": {},
   "outputs": [],
   "source": [
    "contains_contact_info_prompt = \"\"\"Write True or False based on whether the response has either a phone number, email address, first name, last name, geographic address, state name, city name, municipality, zip code or country name. Some examples you should return True: 829-348-3489, 9313919321, Virginia, Tacoma, John, Smith, Kate, george@gmail.com, Josh Craig, Steve, Abdul, Willie, Betty US. Response: {customer_response}. Your response:\"\"\"\n",
    "prompt = PromptTemplate(template=contains_contact_info_prompt, input_variables=[\"customer_response\"])\n",
    "\n",
    "prompt.save('prompts/response_is_contact_info/short-precise-add-names.json')"
   ]
  },
  {
   "cell_type": "code",
   "execution_count": 178,
   "metadata": {},
   "outputs": [],
   "source": [
    "con_dir = PromptPath(\"prompts/response_is_contact_info/\", type=\"json\")"
   ]
  },
  {
   "cell_type": "code",
   "execution_count": 191,
   "metadata": {},
   "outputs": [
    {
     "name": "stdout",
     "output_type": "stream",
     "text": [
      "Determine whether the following response contains any contact information. Write true if it contains contact info, and false if not. A response has contact information if it contains a name, phone, email or address. Format as: Contains Contact Info: *What You Determine* Response: {customer_response}\n"
     ]
    }
   ],
   "source": [
    "is_contact = GenExtract(\n",
    "    Generator(con_dir(\"short_base\")), \n",
    "    Extractor(regex=r\"(True|False)\")\n",
    ")\n",
    "\n",
    "is_contact.prompt()"
   ]
  },
  {
   "cell_type": "code",
   "execution_count": 192,
   "metadata": {},
   "outputs": [
    {
     "name": "stdout",
     "output_type": "stream",
     "text": [
      "\u001b[1mContains Contact Info Tests\u001b[0m\n",
      "\n",
      "\u001b[92m/ PASS | Result: False | Expected: False | Data ID: 0\u001b[0m\n",
      "\u001b[92m/ PASS | Result: False | Expected: False | Data ID: 1\u001b[0m\n",
      "\u001b[92m/ PASS | Result: True | Expected: True | Data ID: 2\u001b[0m\n",
      "\u001b[91mX FAIL | Result: False | Expected: True | Data ID: 3\u001b[0m\n",
      "\u001b[92m/ PASS | Result: False | Expected: False | Data ID: 4\u001b[0m\n",
      "\u001b[91mX FAIL | Result: No Classification Found | Expected: True | Data ID: 5\u001b[0m\n",
      "\u001b[92m/ PASS | Result: False | Expected: False | Data ID: 6\u001b[0m\n",
      "\u001b[91mX FAIL | Result: False | Expected: True | Data ID: 7\u001b[0m\n",
      "\u001b[92m/ PASS | Result: False | Expected: False | Data ID: 8\u001b[0m\n",
      "\u001b[92m/ PASS | Result: False | Expected: False | Data ID: 9\u001b[0m\n",
      "\u001b[92m/ PASS | Result: False | Expected: False | Data ID: 10\u001b[0m\n",
      "\u001b[92m/ PASS | Result: False | Expected: False | Data ID: 11\u001b[0m\n",
      "\u001b[91mX FAIL | Result: No Classification Found | Expected: True | Data ID: 12\u001b[0m\n",
      "\u001b[91mX FAIL | Result: False | Expected: True | Data ID: 13\u001b[0m\n",
      "\u001b[92m/ PASS | Result: False | Expected: False | Data ID: 14\u001b[0m\n",
      "\u001b[92m/ PASS | Result: False | Expected: False | Data ID: 0\u001b[0m\n",
      "\u001b[92m/ PASS | Result: False | Expected: False | Data ID: 1\u001b[0m\n",
      "\u001b[92m/ PASS | Result: True | Expected: True | Data ID: 2\u001b[0m\n",
      "\u001b[91mX FAIL | Result: False | Expected: True | Data ID: 3\u001b[0m\n",
      "\u001b[92m/ PASS | Result: False | Expected: False | Data ID: 4\u001b[0m\n",
      "\u001b[92m/ PASS | Result: True | Expected: True | Data ID: 5\u001b[0m\n",
      "\u001b[92m/ PASS | Result: False | Expected: False | Data ID: 6\u001b[0m\n",
      "\u001b[91mX FAIL | Result: False | Expected: True | Data ID: 7\u001b[0m\n",
      "\u001b[92m/ PASS | Result: False | Expected: False | Data ID: 8\u001b[0m\n",
      "\u001b[92m/ PASS | Result: False | Expected: False | Data ID: 9\u001b[0m\n",
      "\u001b[92m/ PASS | Result: False | Expected: False | Data ID: 10\u001b[0m\n",
      "\u001b[92m/ PASS | Result: False | Expected: False | Data ID: 11\u001b[0m\n",
      "\u001b[91mX FAIL | Result: False | Expected: True | Data ID: 12\u001b[0m\n",
      "\u001b[91mX FAIL | Result: False | Expected: True | Data ID: 13\u001b[0m\n",
      "\u001b[92m/ PASS | Result: False | Expected: False | Data ID: 14\u001b[0m\n",
      "\u001b[92m/ PASS | Result: False | Expected: False | Data ID: 0\u001b[0m\n",
      "\u001b[92m/ PASS | Result: False | Expected: False | Data ID: 1\u001b[0m\n",
      "\u001b[91mX FAIL | Result: No Classification Found | Expected: True | Data ID: 2\u001b[0m\n",
      "\u001b[91mX FAIL | Result: False | Expected: True | Data ID: 3\u001b[0m\n",
      "\u001b[92m/ PASS | Result: False | Expected: False | Data ID: 4\u001b[0m\n",
      "\u001b[92m/ PASS | Result: True | Expected: True | Data ID: 5\u001b[0m\n",
      "\u001b[92m/ PASS | Result: False | Expected: False | Data ID: 6\u001b[0m\n",
      "\u001b[91mX FAIL | Result: False | Expected: True | Data ID: 7\u001b[0m\n",
      "\u001b[92m/ PASS | Result: False | Expected: False | Data ID: 8\u001b[0m\n",
      "\u001b[92m/ PASS | Result: False | Expected: False | Data ID: 9\u001b[0m\n",
      "\u001b[92m/ PASS | Result: False | Expected: False | Data ID: 10\u001b[0m\n",
      "\u001b[92m/ PASS | Result: False | Expected: False | Data ID: 11\u001b[0m\n",
      "\u001b[91mX FAIL | Result: False | Expected: True | Data ID: 12\u001b[0m\n",
      "\u001b[91mX FAIL | Result: False | Expected: True | Data ID: 13\u001b[0m\n",
      "\u001b[92m/ PASS | Result: False | Expected: False | Data ID: 14\u001b[0m\n",
      "\u001b[1mTotal: 45 | Correct: 31 | Incorrect: 14 | Accuracy: 0.6888888888888889\u001b[0m\n"
     ]
    }
   ],
   "source": [
    "tests = TestSet(slice_data(classification_data, 0, 16, 'contains_contact_info'), is_contact)\n",
    "tests.run(\"Contains Contact Info Tests\", iter=3)"
   ]
  },
  {
   "cell_type": "code",
   "execution_count": 152,
   "metadata": {},
   "outputs": [
    {
     "name": "stdout",
     "output_type": "stream",
     "text": [
      "Determine whether the following response contains contact information for the person who sent the message. Write True if it contains contact info, and False if not. A response has contact information if it contains their name, phone, email or address info\n",
      "Example:\n",
      "Response: My name is John Smith, and my phone number is 555-555-5555\n",
      "Contact Info: True\n",
      "Response: I have a problem with termites in my house. What can you do to help me?\n",
      "Contact Info: False\n",
      "Response: I live in Bethesda\n",
      "Contact Info: True\n",
      "Response: My kid Andrian is allgeric to bees\n",
      "Contact Info: False\n",
      "Response: {customer_response}\n"
     ]
    }
   ],
   "source": [
    "#verbose prompt with examples\n",
    "is_contact.generator = Generator(con_dir(\"verbose_examples\"))\n",
    "is_contact.prompt()"
   ]
  },
  {
   "cell_type": "code",
   "execution_count": 153,
   "metadata": {},
   "outputs": [
    {
     "name": "stdout",
     "output_type": "stream",
     "text": [
      "\u001b[1mVerbose Contact Info Extraction with Examples\u001b[0m\n",
      "\n",
      "\u001b[92m/ PASS | Result: False | Expected: False | Data ID: 0\u001b[0m\n",
      "\u001b[92m/ PASS | Result: False | Expected: False | Data ID: 1\u001b[0m\n",
      "\u001b[92m/ PASS | Result: True | Expected: True | Data ID: 2\u001b[0m\n",
      "\u001b[92m/ PASS | Result: True | Expected: True | Data ID: 3\u001b[0m\n",
      "\u001b[92m/ PASS | Result: False | Expected: False | Data ID: 4\u001b[0m\n",
      "\u001b[92m/ PASS | Result: True | Expected: True | Data ID: 5\u001b[0m\n",
      "\u001b[92m/ PASS | Result: False | Expected: False | Data ID: 6\u001b[0m\n",
      "\u001b[91mX FAIL | Result: False | Expected: True | Data ID: 7\u001b[0m\n",
      "\u001b[92m/ PASS | Result: False | Expected: False | Data ID: 8\u001b[0m\n",
      "\u001b[92m/ PASS | Result: False | Expected: False | Data ID: 9\u001b[0m\n",
      "\u001b[92m/ PASS | Result: False | Expected: False | Data ID: 10\u001b[0m\n",
      "\u001b[92m/ PASS | Result: False | Expected: False | Data ID: 11\u001b[0m\n",
      "\u001b[92m/ PASS | Result: True | Expected: True | Data ID: 12\u001b[0m\n",
      "\u001b[92m/ PASS | Result: True | Expected: True | Data ID: 13\u001b[0m\n",
      "\u001b[91mX FAIL | Result: True | Expected: False | Data ID: 14\u001b[0m\n",
      "\u001b[92m/ PASS | Result: False | Expected: False | Data ID: 0\u001b[0m\n",
      "\u001b[92m/ PASS | Result: False | Expected: False | Data ID: 1\u001b[0m\n",
      "\u001b[92m/ PASS | Result: True | Expected: True | Data ID: 2\u001b[0m\n",
      "\u001b[92m/ PASS | Result: True | Expected: True | Data ID: 3\u001b[0m\n",
      "\u001b[92m/ PASS | Result: False | Expected: False | Data ID: 4\u001b[0m\n",
      "\u001b[92m/ PASS | Result: True | Expected: True | Data ID: 5\u001b[0m\n",
      "\u001b[92m/ PASS | Result: False | Expected: False | Data ID: 6\u001b[0m\n",
      "\u001b[91mX FAIL | Result: False | Expected: True | Data ID: 7\u001b[0m\n",
      "\u001b[92m/ PASS | Result: False | Expected: False | Data ID: 8\u001b[0m\n",
      "\u001b[92m/ PASS | Result: False | Expected: False | Data ID: 9\u001b[0m\n",
      "\u001b[92m/ PASS | Result: False | Expected: False | Data ID: 10\u001b[0m\n",
      "\u001b[92m/ PASS | Result: False | Expected: False | Data ID: 11\u001b[0m\n",
      "\u001b[92m/ PASS | Result: True | Expected: True | Data ID: 12\u001b[0m\n",
      "\u001b[92m/ PASS | Result: True | Expected: True | Data ID: 13\u001b[0m\n",
      "\u001b[92m/ PASS | Result: False | Expected: False | Data ID: 14\u001b[0m\n",
      "\u001b[92m/ PASS | Result: False | Expected: False | Data ID: 0\u001b[0m\n",
      "\u001b[92m/ PASS | Result: False | Expected: False | Data ID: 1\u001b[0m\n",
      "\u001b[92m/ PASS | Result: True | Expected: True | Data ID: 2\u001b[0m\n",
      "\u001b[92m/ PASS | Result: True | Expected: True | Data ID: 3\u001b[0m\n",
      "\u001b[92m/ PASS | Result: False | Expected: False | Data ID: 4\u001b[0m\n",
      "\u001b[92m/ PASS | Result: True | Expected: True | Data ID: 5\u001b[0m\n",
      "\u001b[92m/ PASS | Result: False | Expected: False | Data ID: 6\u001b[0m\n",
      "\u001b[91mX FAIL | Result: False | Expected: True | Data ID: 7\u001b[0m\n",
      "\u001b[92m/ PASS | Result: False | Expected: False | Data ID: 8\u001b[0m\n",
      "\u001b[92m/ PASS | Result: False | Expected: False | Data ID: 9\u001b[0m\n",
      "\u001b[92m/ PASS | Result: False | Expected: False | Data ID: 10\u001b[0m\n",
      "\u001b[92m/ PASS | Result: False | Expected: False | Data ID: 11\u001b[0m\n",
      "\u001b[92m/ PASS | Result: True | Expected: True | Data ID: 12\u001b[0m\n",
      "\u001b[92m/ PASS | Result: True | Expected: True | Data ID: 13\u001b[0m\n",
      "\u001b[91mX FAIL | Result: True | Expected: False | Data ID: 14\u001b[0m\n",
      "\u001b[1mTotal: 45 | Correct: 40 | Incorrect: 5 | Accuracy: 0.8888888888888888\u001b[0m\n"
     ]
    }
   ],
   "source": [
    "tests = TestSet(slice_data(classification_data, 0, 16, 'contains_contact_info'), is_contact)\n",
    "tests.run(\"Verbose Contact Info Extraction with Examples\", iter=3)"
   ]
  },
  {
   "cell_type": "code",
   "execution_count": 154,
   "metadata": {},
   "outputs": [
    {
     "name": "stdout",
     "output_type": "stream",
     "text": [
      "ID: 7 | Hey George, do you guys do cockroach extermination? -Tyler Aiden\n",
      "ID: 14 | Would like to schedule a WDI inspection asap for my home. I am refinancing into an FHA loan\n"
     ]
    }
   ],
   "source": [
    "#failing classifications\n",
    "tests([7, 14])"
   ]
  },
  {
   "cell_type": "code",
   "execution_count": 159,
   "metadata": {},
   "outputs": [
    {
     "name": "stdout",
     "output_type": "stream",
     "text": [
      "Determine whether the following response contains contact information for the person who sent the message. Write True if it contains contact info, and False if not. A response has contact information if it contains their name, phone, email or address info\n",
      "Example:\n",
      "Response: My name is John Smith, and my phone number is 555-555-5555\n",
      "True\n",
      "Response: I have a problem with termites in my house. What can you do to help me?\n",
      "False\n",
      "Response: I live in Bethesda\n",
      "True\n",
      "Response: My kid Andrian is allgeric to bees\n",
      "False\n",
      "Response: Can you help me with an issue I am having? - Katy\n",
      "True\n",
      "Response: {customer_response}\n"
     ]
    }
   ],
   "source": [
    "# trying to improve it's ability to catch -Name\n",
    "is_contact.generator = Generator(con_dir(\"verbose_examples_ext\"))\n",
    "is_contact.prompt()"
   ]
  },
  {
   "cell_type": "code",
   "execution_count": 160,
   "metadata": {},
   "outputs": [
    {
     "name": "stdout",
     "output_type": "stream",
     "text": [
      "\u001b[1mVerbose Contact Info Extraction with Examples\u001b[0m\n",
      "\n",
      "\u001b[92m/ PASS | Result: False | Expected: False | Data ID: 0\u001b[0m\n",
      "\u001b[92m/ PASS | Result: False | Expected: False | Data ID: 1\u001b[0m\n",
      "\u001b[92m/ PASS | Result: True | Expected: True | Data ID: 2\u001b[0m\n",
      "\u001b[92m/ PASS | Result: True | Expected: True | Data ID: 3\u001b[0m\n",
      "\u001b[92m/ PASS | Result: False | Expected: False | Data ID: 4\u001b[0m\n",
      "\u001b[91mX FAIL | Result: False | Expected: True | Data ID: 5\u001b[0m\n",
      "\u001b[92m/ PASS | Result: False | Expected: False | Data ID: 6\u001b[0m\n",
      "\u001b[91mX FAIL | Result: False | Expected: True | Data ID: 7\u001b[0m\n",
      "\u001b[92m/ PASS | Result: False | Expected: False | Data ID: 8\u001b[0m\n",
      "\u001b[92m/ PASS | Result: False | Expected: False | Data ID: 9\u001b[0m\n",
      "\u001b[92m/ PASS | Result: False | Expected: False | Data ID: 10\u001b[0m\n",
      "\u001b[92m/ PASS | Result: False | Expected: False | Data ID: 11\u001b[0m\n",
      "\u001b[92m/ PASS | Result: True | Expected: True | Data ID: 12\u001b[0m\n",
      "\u001b[92m/ PASS | Result: True | Expected: True | Data ID: 13\u001b[0m\n",
      "\u001b[92m/ PASS | Result: False | Expected: False | Data ID: 14\u001b[0m\n",
      "\u001b[92m/ PASS | Result: False | Expected: False | Data ID: 0\u001b[0m\n",
      "\u001b[92m/ PASS | Result: False | Expected: False | Data ID: 1\u001b[0m\n",
      "\u001b[92m/ PASS | Result: True | Expected: True | Data ID: 2\u001b[0m\n",
      "\u001b[92m/ PASS | Result: True | Expected: True | Data ID: 3\u001b[0m\n",
      "\u001b[92m/ PASS | Result: False | Expected: False | Data ID: 4\u001b[0m\n",
      "\u001b[92m/ PASS | Result: True | Expected: True | Data ID: 5\u001b[0m\n",
      "\u001b[92m/ PASS | Result: False | Expected: False | Data ID: 6\u001b[0m\n",
      "\u001b[91mX FAIL | Result: False | Expected: True | Data ID: 7\u001b[0m\n",
      "\u001b[92m/ PASS | Result: False | Expected: False | Data ID: 8\u001b[0m\n",
      "\u001b[92m/ PASS | Result: False | Expected: False | Data ID: 9\u001b[0m\n",
      "\u001b[92m/ PASS | Result: False | Expected: False | Data ID: 10\u001b[0m\n",
      "\u001b[92m/ PASS | Result: False | Expected: False | Data ID: 11\u001b[0m\n",
      "\u001b[92m/ PASS | Result: True | Expected: True | Data ID: 12\u001b[0m\n",
      "\u001b[91mX FAIL | Result: False | Expected: True | Data ID: 13\u001b[0m\n",
      "\u001b[92m/ PASS | Result: False | Expected: False | Data ID: 14\u001b[0m\n",
      "\u001b[92m/ PASS | Result: False | Expected: False | Data ID: 0\u001b[0m\n",
      "\u001b[92m/ PASS | Result: False | Expected: False | Data ID: 1\u001b[0m\n",
      "\u001b[92m/ PASS | Result: True | Expected: True | Data ID: 2\u001b[0m\n",
      "\u001b[92m/ PASS | Result: True | Expected: True | Data ID: 3\u001b[0m\n",
      "\u001b[92m/ PASS | Result: False | Expected: False | Data ID: 4\u001b[0m\n",
      "\u001b[92m/ PASS | Result: True | Expected: True | Data ID: 5\u001b[0m\n",
      "\u001b[92m/ PASS | Result: False | Expected: False | Data ID: 6\u001b[0m\n",
      "\u001b[91mX FAIL | Result: False | Expected: True | Data ID: 7\u001b[0m\n",
      "\u001b[92m/ PASS | Result: False | Expected: False | Data ID: 8\u001b[0m\n",
      "\u001b[92m/ PASS | Result: False | Expected: False | Data ID: 9\u001b[0m\n",
      "\u001b[92m/ PASS | Result: False | Expected: False | Data ID: 10\u001b[0m\n",
      "\u001b[92m/ PASS | Result: False | Expected: False | Data ID: 11\u001b[0m\n",
      "\u001b[92m/ PASS | Result: True | Expected: True | Data ID: 12\u001b[0m\n",
      "\u001b[92m/ PASS | Result: True | Expected: True | Data ID: 13\u001b[0m\n",
      "\u001b[92m/ PASS | Result: False | Expected: False | Data ID: 14\u001b[0m\n",
      "\u001b[1mTotal: 45 | Correct: 40 | Incorrect: 5 | Accuracy: 0.8888888888888888\u001b[0m\n"
     ]
    }
   ],
   "source": [
    "tests = TestSet(slice_data(classification_data, 0, 16, 'contains_contact_info'), is_contact)\n",
    "tests.run(\"Verbose Contact Info Extraction with Examples\", iter=3)"
   ]
  },
  {
   "cell_type": "code",
   "execution_count": 161,
   "metadata": {},
   "outputs": [
    {
     "name": "stdout",
     "output_type": "stream",
     "text": [
      "ID: 5 | Can you put this number on my account 581-321-3411\n",
      "ID: 7 | Hey George, do you guys do cockroach extermination? -Tyler Aiden\n",
      "ID: 14 | Would like to schedule a WDI inspection asap for my home. I am refinancing into an FHA loan\n"
     ]
    }
   ],
   "source": [
    "#failing classifications\n",
    "tests([5, 7, 14])"
   ]
  },
  {
   "cell_type": "code",
   "execution_count": 164,
   "metadata": {},
   "outputs": [
    {
     "name": "stdout",
     "output_type": "stream",
     "text": [
      "Determine whether the following response contains contact information for the person who sent the message. Write True if it contains contact info, and False if not. A response has contact information if it contains their name, a phone number, an email or address info\n",
      "Example:\n",
      "Response: My name is John Smith, and my phone number is 555-555-5555\n",
      "True\n",
      "Response: I have a problem with termites in my house. What can you do to help me?\n",
      "False\n",
      "Response: I live in Bethesda\n",
      "True\n",
      "Response: My kid Andrian is allgeric to bees\n",
      "False\n",
      "Response: Can you help me with an issue I am having? - Katy\n",
      "True\n",
      "Response: {customer_response}\n"
     ]
    }
   ],
   "source": [
    "# trying to identify phone, email, etc.\n",
    "is_contact.generator = Generator(con_dir(\"verbose_examples_det\"))\n",
    "is_contact.prompt()"
   ]
  },
  {
   "cell_type": "code",
   "execution_count": 165,
   "metadata": {},
   "outputs": [
    {
     "name": "stdout",
     "output_type": "stream",
     "text": [
      "\u001b[1mVerbose Contact Info Extraction with Examples\u001b[0m\n",
      "\n",
      "\u001b[92m/ PASS | Result: False | Expected: False | Data ID: 0\u001b[0m\n",
      "\u001b[92m/ PASS | Result: False | Expected: False | Data ID: 1\u001b[0m\n",
      "\u001b[92m/ PASS | Result: True | Expected: True | Data ID: 2\u001b[0m\n",
      "\u001b[92m/ PASS | Result: True | Expected: True | Data ID: 3\u001b[0m\n",
      "\u001b[92m/ PASS | Result: False | Expected: False | Data ID: 4\u001b[0m\n",
      "\u001b[91mX FAIL | Result: False | Expected: True | Data ID: 5\u001b[0m\n",
      "\u001b[92m/ PASS | Result: False | Expected: False | Data ID: 6\u001b[0m\n",
      "\u001b[91mX FAIL | Result: False | Expected: True | Data ID: 7\u001b[0m\n",
      "\u001b[92m/ PASS | Result: False | Expected: False | Data ID: 8\u001b[0m\n",
      "\u001b[92m/ PASS | Result: False | Expected: False | Data ID: 9\u001b[0m\n",
      "\u001b[92m/ PASS | Result: False | Expected: False | Data ID: 10\u001b[0m\n",
      "\u001b[92m/ PASS | Result: False | Expected: False | Data ID: 11\u001b[0m\n",
      "\u001b[92m/ PASS | Result: True | Expected: True | Data ID: 12\u001b[0m\n",
      "\u001b[91mX FAIL | Result: False | Expected: True | Data ID: 13\u001b[0m\n",
      "\u001b[92m/ PASS | Result: False | Expected: False | Data ID: 14\u001b[0m\n",
      "\u001b[92m/ PASS | Result: False | Expected: False | Data ID: 0\u001b[0m\n",
      "\u001b[92m/ PASS | Result: False | Expected: False | Data ID: 1\u001b[0m\n",
      "\u001b[92m/ PASS | Result: True | Expected: True | Data ID: 2\u001b[0m\n",
      "\u001b[92m/ PASS | Result: True | Expected: True | Data ID: 3\u001b[0m\n",
      "\u001b[92m/ PASS | Result: False | Expected: False | Data ID: 4\u001b[0m\n",
      "\u001b[92m/ PASS | Result: True | Expected: True | Data ID: 5\u001b[0m\n",
      "\u001b[92m/ PASS | Result: False | Expected: False | Data ID: 6\u001b[0m\n",
      "\u001b[91mX FAIL | Result: False | Expected: True | Data ID: 7\u001b[0m\n",
      "\u001b[92m/ PASS | Result: False | Expected: False | Data ID: 8\u001b[0m\n",
      "\u001b[92m/ PASS | Result: False | Expected: False | Data ID: 9\u001b[0m\n",
      "\u001b[92m/ PASS | Result: False | Expected: False | Data ID: 10\u001b[0m\n",
      "\u001b[92m/ PASS | Result: False | Expected: False | Data ID: 11\u001b[0m\n",
      "\u001b[92m/ PASS | Result: True | Expected: True | Data ID: 12\u001b[0m\n",
      "\u001b[91mX FAIL | Result: False | Expected: True | Data ID: 13\u001b[0m\n",
      "\u001b[92m/ PASS | Result: False | Expected: False | Data ID: 14\u001b[0m\n",
      "\u001b[92m/ PASS | Result: False | Expected: False | Data ID: 0\u001b[0m\n",
      "\u001b[92m/ PASS | Result: False | Expected: False | Data ID: 1\u001b[0m\n",
      "\u001b[92m/ PASS | Result: True | Expected: True | Data ID: 2\u001b[0m\n",
      "\u001b[92m/ PASS | Result: True | Expected: True | Data ID: 3\u001b[0m\n",
      "\u001b[92m/ PASS | Result: False | Expected: False | Data ID: 4\u001b[0m\n",
      "\u001b[91mX FAIL | Result: False | Expected: True | Data ID: 5\u001b[0m\n",
      "\u001b[92m/ PASS | Result: False | Expected: False | Data ID: 6\u001b[0m\n",
      "\u001b[91mX FAIL | Result: False | Expected: True | Data ID: 7\u001b[0m\n",
      "\u001b[92m/ PASS | Result: False | Expected: False | Data ID: 8\u001b[0m\n",
      "\u001b[92m/ PASS | Result: False | Expected: False | Data ID: 9\u001b[0m\n",
      "\u001b[92m/ PASS | Result: False | Expected: False | Data ID: 10\u001b[0m\n",
      "\u001b[92m/ PASS | Result: False | Expected: False | Data ID: 11\u001b[0m\n",
      "\u001b[92m/ PASS | Result: True | Expected: True | Data ID: 12\u001b[0m\n",
      "\u001b[91mX FAIL | Result: False | Expected: True | Data ID: 13\u001b[0m\n",
      "\u001b[92m/ PASS | Result: False | Expected: False | Data ID: 14\u001b[0m\n",
      "\u001b[1mTotal: 45 | Correct: 37 | Incorrect: 8 | Accuracy: 0.8222222222222222\u001b[0m\n"
     ]
    }
   ],
   "source": [
    "tests = TestSet(slice_data(classification_data, 0, 16, 'contains_contact_info'), is_contact)\n",
    "tests.run(\"Verbose Contact Info Extraction with Examples\", iter=3)"
   ]
  },
  {
   "cell_type": "code",
   "execution_count": 167,
   "metadata": {},
   "outputs": [
    {
     "name": "stdout",
     "output_type": "stream",
     "text": [
      "Determine whether the following response contains contact information for the person who sent the message. Write True if it contains contact info, and False if not. A response has contact information if it contains their name, a phone number, an email or address info\n",
      "Example:\n",
      "Response: You can reach me here 555-555-5555\n",
      "True\n",
      "Response: I have a problem with termites in my house. What can you do to help me?\n",
      "False\n",
      "Response: I live in Bethesda\n",
      "True\n",
      "Response: My kid Andrian is allgeric to bees\n",
      "False\n",
      "Response: Can you help me with an issue I am having? - Katy\n",
      "True\n",
      "Response: {customer_response}\n"
     ]
    }
   ],
   "source": [
    "# trying to identify phone, email, etc.\n",
    "is_contact.generator = Generator(con_dir(\"verbose_examples_det_with_phone\"))\n",
    "is_contact.prompt()"
   ]
  },
  {
   "cell_type": "code",
   "execution_count": 168,
   "metadata": {},
   "outputs": [
    {
     "name": "stdout",
     "output_type": "stream",
     "text": [
      "\u001b[1mVerbose Contact Info Extraction with Examples\u001b[0m\n",
      "\n",
      "\u001b[92m/ PASS | Result: False | Expected: False | Data ID: 0\u001b[0m\n",
      "\u001b[92m/ PASS | Result: False | Expected: False | Data ID: 1\u001b[0m\n",
      "\u001b[92m/ PASS | Result: True | Expected: True | Data ID: 2\u001b[0m\n",
      "\u001b[92m/ PASS | Result: True | Expected: True | Data ID: 3\u001b[0m\n",
      "\u001b[92m/ PASS | Result: False | Expected: False | Data ID: 4\u001b[0m\n",
      "\u001b[92m/ PASS | Result: True | Expected: True | Data ID: 5\u001b[0m\n",
      "\u001b[92m/ PASS | Result: False | Expected: False | Data ID: 6\u001b[0m\n",
      "\u001b[91mX FAIL | Result: False | Expected: True | Data ID: 7\u001b[0m\n",
      "\u001b[92m/ PASS | Result: False | Expected: False | Data ID: 8\u001b[0m\n",
      "\u001b[92m/ PASS | Result: False | Expected: False | Data ID: 9\u001b[0m\n",
      "\u001b[92m/ PASS | Result: False | Expected: False | Data ID: 10\u001b[0m\n",
      "\u001b[92m/ PASS | Result: False | Expected: False | Data ID: 11\u001b[0m\n",
      "\u001b[92m/ PASS | Result: True | Expected: True | Data ID: 12\u001b[0m\n",
      "\u001b[92m/ PASS | Result: True | Expected: True | Data ID: 13\u001b[0m\n",
      "\u001b[92m/ PASS | Result: False | Expected: False | Data ID: 14\u001b[0m\n",
      "\u001b[92m/ PASS | Result: False | Expected: False | Data ID: 0\u001b[0m\n",
      "\u001b[92m/ PASS | Result: False | Expected: False | Data ID: 1\u001b[0m\n",
      "\u001b[92m/ PASS | Result: True | Expected: True | Data ID: 2\u001b[0m\n",
      "\u001b[92m/ PASS | Result: True | Expected: True | Data ID: 3\u001b[0m\n",
      "\u001b[92m/ PASS | Result: False | Expected: False | Data ID: 4\u001b[0m\n",
      "\u001b[92m/ PASS | Result: True | Expected: True | Data ID: 5\u001b[0m\n",
      "\u001b[92m/ PASS | Result: False | Expected: False | Data ID: 6\u001b[0m\n",
      "\u001b[91mX FAIL | Result: False | Expected: True | Data ID: 7\u001b[0m\n",
      "\u001b[92m/ PASS | Result: False | Expected: False | Data ID: 8\u001b[0m\n",
      "\u001b[92m/ PASS | Result: False | Expected: False | Data ID: 9\u001b[0m\n",
      "\u001b[92m/ PASS | Result: False | Expected: False | Data ID: 10\u001b[0m\n",
      "\u001b[92m/ PASS | Result: False | Expected: False | Data ID: 11\u001b[0m\n",
      "\u001b[92m/ PASS | Result: True | Expected: True | Data ID: 12\u001b[0m\n",
      "\u001b[92m/ PASS | Result: True | Expected: True | Data ID: 13\u001b[0m\n",
      "\u001b[92m/ PASS | Result: False | Expected: False | Data ID: 14\u001b[0m\n",
      "\u001b[92m/ PASS | Result: False | Expected: False | Data ID: 0\u001b[0m\n",
      "\u001b[92m/ PASS | Result: False | Expected: False | Data ID: 1\u001b[0m\n",
      "\u001b[92m/ PASS | Result: True | Expected: True | Data ID: 2\u001b[0m\n",
      "\u001b[92m/ PASS | Result: True | Expected: True | Data ID: 3\u001b[0m\n",
      "\u001b[92m/ PASS | Result: False | Expected: False | Data ID: 4\u001b[0m\n",
      "\u001b[92m/ PASS | Result: True | Expected: True | Data ID: 5\u001b[0m\n",
      "\u001b[92m/ PASS | Result: False | Expected: False | Data ID: 6\u001b[0m\n",
      "\u001b[91mX FAIL | Result: False | Expected: True | Data ID: 7\u001b[0m\n",
      "\u001b[92m/ PASS | Result: False | Expected: False | Data ID: 8\u001b[0m\n",
      "\u001b[92m/ PASS | Result: False | Expected: False | Data ID: 9\u001b[0m\n",
      "\u001b[92m/ PASS | Result: False | Expected: False | Data ID: 10\u001b[0m\n",
      "\u001b[92m/ PASS | Result: False | Expected: False | Data ID: 11\u001b[0m\n",
      "\u001b[92m/ PASS | Result: True | Expected: True | Data ID: 12\u001b[0m\n",
      "\u001b[92m/ PASS | Result: True | Expected: True | Data ID: 13\u001b[0m\n",
      "\u001b[92m/ PASS | Result: False | Expected: False | Data ID: 14\u001b[0m\n",
      "\u001b[1mTotal: 45 | Correct: 42 | Incorrect: 3 | Accuracy: 0.9333333333333333\u001b[0m\n"
     ]
    }
   ],
   "source": [
    "tests = TestSet(slice_data(classification_data, 0, 16, 'contains_contact_info'), is_contact)\n",
    "tests.run(\"Verbose Contact Info Extraction with Examples\", iter=3)"
   ]
  },
  {
   "cell_type": "code",
   "execution_count": 170,
   "metadata": {},
   "outputs": [
    {
     "name": "stdout",
     "output_type": "stream",
     "text": [
      "Write True or False based on whether the following has either a phone number, email address, first name, last name, geographic address, state name, city name, municipality, zip code or country name: {customer_response}. Your response:\n"
     ]
    }
   ],
   "source": [
    "#experimenting with being more precise with what it means to be contact info in a shorter prompt\n",
    "is_contact.generator = Generator(con_dir(\"spelled_out_categories\"))\n",
    "is_contact.prompt()"
   ]
  },
  {
   "cell_type": "code",
   "execution_count": 171,
   "metadata": {},
   "outputs": [
    {
     "name": "stdout",
     "output_type": "stream",
     "text": [
      "\u001b[1mVerbose Contact Info Extraction with Examples\u001b[0m\n",
      "\n",
      "\u001b[92m/ PASS | Result: False | Expected: False | Data ID: 0\u001b[0m\n",
      "\u001b[92m/ PASS | Result: False | Expected: False | Data ID: 1\u001b[0m\n",
      "\u001b[92m/ PASS | Result: True | Expected: True | Data ID: 2\u001b[0m\n",
      "\u001b[92m/ PASS | Result: True | Expected: True | Data ID: 3\u001b[0m\n",
      "\u001b[92m/ PASS | Result: False | Expected: False | Data ID: 4\u001b[0m\n",
      "\u001b[92m/ PASS | Result: True | Expected: True | Data ID: 5\u001b[0m\n",
      "\u001b[92m/ PASS | Result: False | Expected: False | Data ID: 6\u001b[0m\n",
      "\u001b[91mX FAIL | Result: No Classification Found | Expected: True | Data ID: 7\u001b[0m\n",
      "\u001b[92m/ PASS | Result: False | Expected: False | Data ID: 8\u001b[0m\n",
      "\u001b[92m/ PASS | Result: False | Expected: False | Data ID: 9\u001b[0m\n",
      "\u001b[92m/ PASS | Result: False | Expected: False | Data ID: 10\u001b[0m\n",
      "\u001b[92m/ PASS | Result: False | Expected: False | Data ID: 11\u001b[0m\n",
      "\u001b[92m/ PASS | Result: True | Expected: True | Data ID: 12\u001b[0m\n",
      "\u001b[92m/ PASS | Result: True | Expected: True | Data ID: 13\u001b[0m\n",
      "\u001b[92m/ PASS | Result: False | Expected: False | Data ID: 14\u001b[0m\n",
      "\u001b[92m/ PASS | Result: False | Expected: False | Data ID: 0\u001b[0m\n",
      "\u001b[92m/ PASS | Result: False | Expected: False | Data ID: 1\u001b[0m\n",
      "\u001b[92m/ PASS | Result: True | Expected: True | Data ID: 2\u001b[0m\n",
      "\u001b[92m/ PASS | Result: True | Expected: True | Data ID: 3\u001b[0m\n",
      "\u001b[92m/ PASS | Result: False | Expected: False | Data ID: 4\u001b[0m\n",
      "\u001b[92m/ PASS | Result: True | Expected: True | Data ID: 5\u001b[0m\n",
      "\u001b[92m/ PASS | Result: False | Expected: False | Data ID: 6\u001b[0m\n",
      "\u001b[91mX FAIL | Result: False | Expected: True | Data ID: 7\u001b[0m\n",
      "\u001b[92m/ PASS | Result: False | Expected: False | Data ID: 8\u001b[0m\n",
      "\u001b[92m/ PASS | Result: False | Expected: False | Data ID: 9\u001b[0m\n",
      "\u001b[92m/ PASS | Result: False | Expected: False | Data ID: 10\u001b[0m\n",
      "\u001b[91mX FAIL | Result: True | Expected: False | Data ID: 11\u001b[0m\n",
      "\u001b[92m/ PASS | Result: True | Expected: True | Data ID: 12\u001b[0m\n",
      "\u001b[92m/ PASS | Result: True | Expected: True | Data ID: 13\u001b[0m\n",
      "\u001b[92m/ PASS | Result: False | Expected: False | Data ID: 14\u001b[0m\n",
      "\u001b[92m/ PASS | Result: False | Expected: False | Data ID: 0\u001b[0m\n",
      "\u001b[92m/ PASS | Result: False | Expected: False | Data ID: 1\u001b[0m\n",
      "\u001b[92m/ PASS | Result: True | Expected: True | Data ID: 2\u001b[0m\n",
      "\u001b[92m/ PASS | Result: True | Expected: True | Data ID: 3\u001b[0m\n",
      "\u001b[92m/ PASS | Result: False | Expected: False | Data ID: 4\u001b[0m\n",
      "\u001b[92m/ PASS | Result: True | Expected: True | Data ID: 5\u001b[0m\n",
      "\u001b[92m/ PASS | Result: False | Expected: False | Data ID: 6\u001b[0m\n",
      "\u001b[91mX FAIL | Result: False | Expected: True | Data ID: 7\u001b[0m\n",
      "\u001b[92m/ PASS | Result: False | Expected: False | Data ID: 8\u001b[0m\n",
      "\u001b[92m/ PASS | Result: False | Expected: False | Data ID: 9\u001b[0m\n",
      "\u001b[92m/ PASS | Result: False | Expected: False | Data ID: 10\u001b[0m\n",
      "\u001b[91mX FAIL | Result: True | Expected: False | Data ID: 11\u001b[0m\n",
      "\u001b[92m/ PASS | Result: True | Expected: True | Data ID: 12\u001b[0m\n",
      "\u001b[92m/ PASS | Result: True | Expected: True | Data ID: 13\u001b[0m\n",
      "\u001b[92m/ PASS | Result: False | Expected: False | Data ID: 14\u001b[0m\n",
      "\u001b[1mTotal: 45 | Correct: 40 | Incorrect: 5 | Accuracy: 0.8888888888888888\u001b[0m\n"
     ]
    }
   ],
   "source": [
    "tests = TestSet(slice_data(classification_data, 0, 16, 'contains_contact_info'), is_contact)\n",
    "tests.run(\"Verbose Contact Info Extraction with Examples\", iter=3)"
   ]
  },
  {
   "cell_type": "code",
   "execution_count": 173,
   "metadata": {},
   "outputs": [
    {
     "name": "stdout",
     "output_type": "stream",
     "text": [
      "Write True or False based on whether the following has either a phone number, email address, first name, last name, geographic address, state name, city name, municipality, zip code or country name. If you think there is any chance that any of these categories are present, return True. Always return True or False: {customer_response}. Your response:\n"
     ]
    }
   ],
   "source": [
    "#adjusting the prompt to say if there is any chance \n",
    "is_contact.generator = Generator(con_dir(\"false_positive\"))\n",
    "is_contact.prompt()"
   ]
  },
  {
   "cell_type": "code",
   "execution_count": 174,
   "metadata": {},
   "outputs": [
    {
     "name": "stdout",
     "output_type": "stream",
     "text": [
      "\u001b[1mContains Contact Info Tests\u001b[0m\n",
      "\n",
      "\u001b[92m/ PASS | Result: False | Expected: False | Data ID: 0\u001b[0m\n",
      "\u001b[92m/ PASS | Result: False | Expected: False | Data ID: 1\u001b[0m\n",
      "\u001b[92m/ PASS | Result: True | Expected: True | Data ID: 2\u001b[0m\n",
      "\u001b[92m/ PASS | Result: True | Expected: True | Data ID: 3\u001b[0m\n",
      "\u001b[92m/ PASS | Result: False | Expected: False | Data ID: 4\u001b[0m\n",
      "\u001b[91mX FAIL | Result: False | Expected: True | Data ID: 5\u001b[0m\n",
      "\u001b[92m/ PASS | Result: False | Expected: False | Data ID: 6\u001b[0m\n",
      "\u001b[92m/ PASS | Result: True | Expected: True | Data ID: 7\u001b[0m\n",
      "\u001b[92m/ PASS | Result: False | Expected: False | Data ID: 8\u001b[0m\n",
      "\u001b[92m/ PASS | Result: False | Expected: False | Data ID: 9\u001b[0m\n",
      "\u001b[92m/ PASS | Result: False | Expected: False | Data ID: 10\u001b[0m\n",
      "\u001b[92m/ PASS | Result: False | Expected: False | Data ID: 11\u001b[0m\n",
      "\u001b[92m/ PASS | Result: True | Expected: True | Data ID: 12\u001b[0m\n",
      "\u001b[92m/ PASS | Result: True | Expected: True | Data ID: 13\u001b[0m\n",
      "\u001b[91mX FAIL | Result: True | Expected: False | Data ID: 14\u001b[0m\n",
      "\u001b[92m/ PASS | Result: False | Expected: False | Data ID: 0\u001b[0m\n",
      "\u001b[92m/ PASS | Result: False | Expected: False | Data ID: 1\u001b[0m\n",
      "\u001b[92m/ PASS | Result: True | Expected: True | Data ID: 2\u001b[0m\n",
      "\u001b[92m/ PASS | Result: True | Expected: True | Data ID: 3\u001b[0m\n",
      "\u001b[92m/ PASS | Result: False | Expected: False | Data ID: 4\u001b[0m\n",
      "\u001b[91mX FAIL | Result: False | Expected: True | Data ID: 5\u001b[0m\n",
      "\u001b[92m/ PASS | Result: False | Expected: False | Data ID: 6\u001b[0m\n",
      "\u001b[92m/ PASS | Result: True | Expected: True | Data ID: 7\u001b[0m\n",
      "\u001b[92m/ PASS | Result: False | Expected: False | Data ID: 8\u001b[0m\n",
      "\u001b[91mX FAIL | Result: True | Expected: False | Data ID: 9\u001b[0m\n",
      "\u001b[92m/ PASS | Result: False | Expected: False | Data ID: 10\u001b[0m\n",
      "\u001b[92m/ PASS | Result: False | Expected: False | Data ID: 11\u001b[0m\n",
      "\u001b[92m/ PASS | Result: True | Expected: True | Data ID: 12\u001b[0m\n",
      "\u001b[92m/ PASS | Result: True | Expected: True | Data ID: 13\u001b[0m\n",
      "\u001b[92m/ PASS | Result: False | Expected: False | Data ID: 14\u001b[0m\n",
      "\u001b[92m/ PASS | Result: False | Expected: False | Data ID: 0\u001b[0m\n",
      "\u001b[92m/ PASS | Result: False | Expected: False | Data ID: 1\u001b[0m\n",
      "\u001b[92m/ PASS | Result: True | Expected: True | Data ID: 2\u001b[0m\n",
      "\u001b[92m/ PASS | Result: True | Expected: True | Data ID: 3\u001b[0m\n",
      "\u001b[92m/ PASS | Result: False | Expected: False | Data ID: 4\u001b[0m\n",
      "\u001b[91mX FAIL | Result: False | Expected: True | Data ID: 5\u001b[0m\n",
      "\u001b[92m/ PASS | Result: False | Expected: False | Data ID: 6\u001b[0m\n",
      "\u001b[92m/ PASS | Result: True | Expected: True | Data ID: 7\u001b[0m\n",
      "\u001b[92m/ PASS | Result: False | Expected: False | Data ID: 8\u001b[0m\n",
      "\u001b[91mX FAIL | Result: True | Expected: False | Data ID: 9\u001b[0m\n",
      "\u001b[92m/ PASS | Result: False | Expected: False | Data ID: 10\u001b[0m\n",
      "\u001b[92m/ PASS | Result: False | Expected: False | Data ID: 11\u001b[0m\n",
      "\u001b[92m/ PASS | Result: True | Expected: True | Data ID: 12\u001b[0m\n",
      "\u001b[92m/ PASS | Result: True | Expected: True | Data ID: 13\u001b[0m\n",
      "\u001b[91mX FAIL | Result: True | Expected: False | Data ID: 14\u001b[0m\n",
      "\u001b[1mTotal: 45 | Correct: 38 | Incorrect: 7 | Accuracy: 0.8444444444444444\u001b[0m\n"
     ]
    }
   ],
   "source": [
    "tests = TestSet(slice_data(classification_data, 0, 16, 'contains_contact_info'), is_contact)\n",
    "tests.run(\"Contains Contact Info Tests\", iter=3)"
   ]
  },
  {
   "cell_type": "code",
   "execution_count": 189,
   "metadata": {},
   "outputs": [
    {
     "name": "stdout",
     "output_type": "stream",
     "text": [
      "Think step by step and write out your thinking for me about whether the following response has contact information in it (email or phone number or physical address or a name). Finish with True or False based on your decision Response: {customer_response}. Your response:\n"
     ]
    }
   ],
   "source": [
    "#Try think step by step\n",
    "is_contact.generator = Generator(con_dir(\"step-by-step\"))\n",
    "is_contact.prompt()"
   ]
  },
  {
   "cell_type": "code",
   "execution_count": 190,
   "metadata": {},
   "outputs": [
    {
     "name": "stdout",
     "output_type": "stream",
     "text": [
      "\u001b[1mStep By Step Short\u001b[0m\n",
      "\n",
      "\u001b[92m/ PASS | Result: False | Expected: False | Data ID: 0\u001b[0m\n",
      "\u001b[92m/ PASS | Result: False | Expected: False | Data ID: 1\u001b[0m\n",
      "\u001b[92m/ PASS | Result: True | Expected: True | Data ID: 2\u001b[0m\n",
      "\u001b[92m/ PASS | Result: True | Expected: True | Data ID: 3\u001b[0m\n",
      "\u001b[92m/ PASS | Result: False | Expected: False | Data ID: 4\u001b[0m\n",
      "\u001b[91mX FAIL | Result: False | Expected: True | Data ID: 5\u001b[0m\n",
      "\u001b[91mX FAIL | Result: No Classification Found | Expected: False | Data ID: 6\u001b[0m\n",
      "\u001b[91mX FAIL | Result: False | Expected: True | Data ID: 7\u001b[0m\n",
      "\u001b[92m/ PASS | Result: False | Expected: False | Data ID: 8\u001b[0m\n",
      "\u001b[92m/ PASS | Result: False | Expected: False | Data ID: 9\u001b[0m\n",
      "\u001b[92m/ PASS | Result: False | Expected: False | Data ID: 10\u001b[0m\n",
      "\u001b[92m/ PASS | Result: False | Expected: False | Data ID: 11\u001b[0m\n",
      "\u001b[92m/ PASS | Result: True | Expected: True | Data ID: 12\u001b[0m\n",
      "\u001b[92m/ PASS | Result: True | Expected: True | Data ID: 13\u001b[0m\n",
      "\u001b[91mX FAIL | Result: True | Expected: False | Data ID: 14\u001b[0m\n",
      "\u001b[91mX FAIL | Result: True | Expected: False | Data ID: 0\u001b[0m\n",
      "\u001b[92m/ PASS | Result: False | Expected: False | Data ID: 1\u001b[0m\n",
      "\u001b[92m/ PASS | Result: True | Expected: True | Data ID: 2\u001b[0m\n",
      "\u001b[91mX FAIL | Result: False | Expected: True | Data ID: 3\u001b[0m\n",
      "\u001b[92m/ PASS | Result: False | Expected: False | Data ID: 4\u001b[0m\n",
      "\u001b[91mX FAIL | Result: False | Expected: True | Data ID: 5\u001b[0m\n",
      "\u001b[91mX FAIL | Result: No Classification Found | Expected: False | Data ID: 6\u001b[0m\n",
      "\u001b[91mX FAIL | Result: False | Expected: True | Data ID: 7\u001b[0m\n",
      "\u001b[92m/ PASS | Result: False | Expected: False | Data ID: 8\u001b[0m\n",
      "\u001b[92m/ PASS | Result: False | Expected: False | Data ID: 9\u001b[0m\n",
      "\u001b[92m/ PASS | Result: False | Expected: False | Data ID: 10\u001b[0m\n",
      "\u001b[92m/ PASS | Result: False | Expected: False | Data ID: 11\u001b[0m\n",
      "\u001b[91mX FAIL | Result: False | Expected: True | Data ID: 12\u001b[0m\n",
      "\u001b[91mX FAIL | Result: False | Expected: True | Data ID: 13\u001b[0m\n",
      "\u001b[92m/ PASS | Result: False | Expected: False | Data ID: 14\u001b[0m\n",
      "\u001b[92m/ PASS | Result: False | Expected: False | Data ID: 0\u001b[0m\n",
      "\u001b[92m/ PASS | Result: False | Expected: False | Data ID: 1\u001b[0m\n",
      "\u001b[92m/ PASS | Result: True | Expected: True | Data ID: 2\u001b[0m\n",
      "\u001b[92m/ PASS | Result: True | Expected: True | Data ID: 3\u001b[0m\n",
      "\u001b[91mX FAIL | Result: No Classification Found | Expected: False | Data ID: 4\u001b[0m\n",
      "\u001b[92m/ PASS | Result: True | Expected: True | Data ID: 5\u001b[0m\n",
      "\u001b[92m/ PASS | Result: False | Expected: False | Data ID: 6\u001b[0m\n",
      "\u001b[92m/ PASS | Result: True | Expected: True | Data ID: 7\u001b[0m\n",
      "\u001b[91mX FAIL | Result: True | Expected: False | Data ID: 8\u001b[0m\n",
      "\u001b[92m/ PASS | Result: False | Expected: False | Data ID: 9\u001b[0m\n",
      "\u001b[91mX FAIL | Result: True | Expected: False | Data ID: 10\u001b[0m\n",
      "\u001b[92m/ PASS | Result: False | Expected: False | Data ID: 11\u001b[0m\n",
      "\u001b[91mX FAIL | Result: False | Expected: True | Data ID: 12\u001b[0m\n",
      "\u001b[92m/ PASS | Result: True | Expected: True | Data ID: 13\u001b[0m\n",
      "\u001b[91mX FAIL | Result: True | Expected: False | Data ID: 14\u001b[0m\n",
      "\u001b[1mTotal: 45 | Correct: 29 | Incorrect: 16 | Accuracy: 0.6444444444444445\u001b[0m\n"
     ]
    }
   ],
   "source": [
    "tests = TestSet(slice_data(classification_data, 0, 16, 'contains_contact_info'), is_contact)\n",
    "tests.run(\"Step By Step Short\", iter=3, results_loc=con_dir(\".\"))"
   ]
  },
  {
   "attachments": {},
   "cell_type": "markdown",
   "metadata": {},
   "source": [
    "Conclusions: Thinking step by step was unsucessful, increased latency and token usage. What seems to be working best is adding more examples and being precise. The best performance to token was the short and precise one where we spell out each category"
   ]
  },
  {
   "cell_type": "code",
   "execution_count": 199,
   "metadata": {},
   "outputs": [
    {
     "name": "stdout",
     "output_type": "stream",
     "text": [
      "Write True or False based on whether the response has either a phone number, email address, first name, last name, geographic address, state name, city name, municipality, zip code or country name. Some examples you should return True: 829-348-3489, 9313919321, Virginia, Tacoma, John, Smith, Kate, george@gmail.com, US. Response: {customer_response}. Your response:\n"
     ]
    }
   ],
   "source": [
    "#Adding lots of examples to precise prompt\n",
    "is_contact.generator = Generator(con_dir(\"short-precise-examples\"))\n",
    "is_contact.prompt()"
   ]
  },
  {
   "cell_type": "code",
   "execution_count": 203,
   "metadata": {},
   "outputs": [
    {
     "name": "stdout",
     "output_type": "stream",
     "text": [
      "\u001b[1mFixed: Short Precise with Examples\u001b[0m\n",
      "\n",
      "\u001b[92m/ PASS | Result: False | Expected: False | Data ID: 0\u001b[0m\n",
      "\u001b[92m/ PASS | Result: False | Expected: False | Data ID: 1\u001b[0m\n",
      "\u001b[92m/ PASS | Result: True | Expected: True | Data ID: 2\u001b[0m\n",
      "\u001b[92m/ PASS | Result: True | Expected: True | Data ID: 3\u001b[0m\n",
      "\u001b[92m/ PASS | Result: False | Expected: False | Data ID: 4\u001b[0m\n",
      "\u001b[92m/ PASS | Result: True | Expected: True | Data ID: 5\u001b[0m\n",
      "\u001b[92m/ PASS | Result: False | Expected: False | Data ID: 6\u001b[0m\n",
      "\u001b[91mX FAIL | Result: False | Expected: True | Data ID: 7\u001b[0m\n",
      "\u001b[92m/ PASS | Result: False | Expected: False | Data ID: 8\u001b[0m\n",
      "\u001b[92m/ PASS | Result: False | Expected: False | Data ID: 9\u001b[0m\n",
      "\u001b[92m/ PASS | Result: False | Expected: False | Data ID: 10\u001b[0m\n",
      "\u001b[92m/ PASS | Result: False | Expected: False | Data ID: 11\u001b[0m\n",
      "\u001b[92m/ PASS | Result: True | Expected: True | Data ID: 12\u001b[0m\n",
      "\u001b[92m/ PASS | Result: True | Expected: True | Data ID: 13\u001b[0m\n",
      "\u001b[92m/ PASS | Result: False | Expected: False | Data ID: 14\u001b[0m\n",
      "\u001b[92m/ PASS | Result: False | Expected: False | Data ID: 0\u001b[0m\n",
      "\u001b[92m/ PASS | Result: False | Expected: False | Data ID: 1\u001b[0m\n",
      "\u001b[92m/ PASS | Result: True | Expected: True | Data ID: 2\u001b[0m\n",
      "\u001b[92m/ PASS | Result: True | Expected: True | Data ID: 3\u001b[0m\n",
      "\u001b[92m/ PASS | Result: False | Expected: False | Data ID: 4\u001b[0m\n",
      "\u001b[92m/ PASS | Result: True | Expected: True | Data ID: 5\u001b[0m\n",
      "\u001b[92m/ PASS | Result: False | Expected: False | Data ID: 6\u001b[0m\n",
      "\u001b[92m/ PASS | Result: True | Expected: True | Data ID: 7\u001b[0m\n",
      "\u001b[92m/ PASS | Result: False | Expected: False | Data ID: 8\u001b[0m\n",
      "\u001b[92m/ PASS | Result: False | Expected: False | Data ID: 9\u001b[0m\n",
      "\u001b[92m/ PASS | Result: False | Expected: False | Data ID: 10\u001b[0m\n",
      "\u001b[92m/ PASS | Result: False | Expected: False | Data ID: 11\u001b[0m\n",
      "\u001b[92m/ PASS | Result: True | Expected: True | Data ID: 12\u001b[0m\n",
      "\u001b[92m/ PASS | Result: True | Expected: True | Data ID: 13\u001b[0m\n",
      "\u001b[92m/ PASS | Result: False | Expected: False | Data ID: 14\u001b[0m\n",
      "\u001b[92m/ PASS | Result: False | Expected: False | Data ID: 0\u001b[0m\n",
      "\u001b[92m/ PASS | Result: False | Expected: False | Data ID: 1\u001b[0m\n",
      "\u001b[92m/ PASS | Result: True | Expected: True | Data ID: 2\u001b[0m\n",
      "\u001b[92m/ PASS | Result: True | Expected: True | Data ID: 3\u001b[0m\n",
      "\u001b[92m/ PASS | Result: False | Expected: False | Data ID: 4\u001b[0m\n",
      "\u001b[92m/ PASS | Result: True | Expected: True | Data ID: 5\u001b[0m\n",
      "\u001b[92m/ PASS | Result: False | Expected: False | Data ID: 6\u001b[0m\n",
      "\u001b[92m/ PASS | Result: True | Expected: True | Data ID: 7\u001b[0m\n",
      "\u001b[92m/ PASS | Result: False | Expected: False | Data ID: 8\u001b[0m\n",
      "\u001b[92m/ PASS | Result: False | Expected: False | Data ID: 9\u001b[0m\n",
      "\u001b[92m/ PASS | Result: False | Expected: False | Data ID: 10\u001b[0m\n",
      "\u001b[92m/ PASS | Result: False | Expected: False | Data ID: 11\u001b[0m\n",
      "\u001b[92m/ PASS | Result: True | Expected: True | Data ID: 12\u001b[0m\n",
      "\u001b[92m/ PASS | Result: True | Expected: True | Data ID: 13\u001b[0m\n",
      "\u001b[92m/ PASS | Result: False | Expected: False | Data ID: 14\u001b[0m\n",
      "\u001b[1mTotal: 45 | Correct: 44 | Incorrect: 1 | Accuracy: 0.9777777777777777\u001b[0m\n"
     ]
    }
   ],
   "source": [
    "tests = TestSet(slice_data(classification_data, 0, 16, 'contains_contact_info'), is_contact)\n",
    "tests.run(\"Fixed: Short Precise with Examples\", iter=3, results_loc=con_dir(\".\"))"
   ]
  },
  {
   "cell_type": "code",
   "execution_count": 205,
   "metadata": {},
   "outputs": [
    {
     "name": "stdout",
     "output_type": "stream",
     "text": [
      "Write True or False based on whether the response has either a phone number, email address, first name, last name, geographic address, state name, city name, municipality, zip code or country name. Some examples you should return True: 829-348-3489, 9313919321, Virginia, Tacoma, John, Smith, Kate, george@gmail.com, Josh Craig, Steve, Abdul, Willie, Betty US. Response: {customer_response}. Your response:\n"
     ]
    }
   ],
   "source": [
    "#trying to correct name issues by adding more names\n",
    "is_contact.generator = Generator(con_dir(\"short-precise-add-names\"))\n",
    "is_contact.prompt()"
   ]
  },
  {
   "cell_type": "code",
   "execution_count": 206,
   "metadata": {},
   "outputs": [
    {
     "name": "stdout",
     "output_type": "stream",
     "text": [
      "\u001b[1mAdding more name examples to precise\u001b[0m\n",
      "\n",
      "\u001b[92m/ PASS | Result: False | Expected: False | Data ID: 0\u001b[0m\n",
      "\u001b[92m/ PASS | Result: False | Expected: False | Data ID: 1\u001b[0m\n",
      "\u001b[92m/ PASS | Result: True | Expected: True | Data ID: 2\u001b[0m\n",
      "\u001b[92m/ PASS | Result: True | Expected: True | Data ID: 3\u001b[0m\n",
      "\u001b[92m/ PASS | Result: False | Expected: False | Data ID: 4\u001b[0m\n",
      "\u001b[92m/ PASS | Result: True | Expected: True | Data ID: 5\u001b[0m\n",
      "\u001b[92m/ PASS | Result: False | Expected: False | Data ID: 6\u001b[0m\n",
      "\u001b[91mX FAIL | Result: False | Expected: True | Data ID: 7\u001b[0m\n",
      "\u001b[92m/ PASS | Result: False | Expected: False | Data ID: 8\u001b[0m\n",
      "\u001b[92m/ PASS | Result: False | Expected: False | Data ID: 9\u001b[0m\n",
      "\u001b[92m/ PASS | Result: False | Expected: False | Data ID: 10\u001b[0m\n",
      "\u001b[92m/ PASS | Result: False | Expected: False | Data ID: 11\u001b[0m\n",
      "\u001b[92m/ PASS | Result: True | Expected: True | Data ID: 12\u001b[0m\n",
      "\u001b[92m/ PASS | Result: True | Expected: True | Data ID: 13\u001b[0m\n",
      "\u001b[92m/ PASS | Result: False | Expected: False | Data ID: 14\u001b[0m\n",
      "\u001b[92m/ PASS | Result: False | Expected: False | Data ID: 0\u001b[0m\n",
      "\u001b[92m/ PASS | Result: False | Expected: False | Data ID: 1\u001b[0m\n",
      "\u001b[92m/ PASS | Result: True | Expected: True | Data ID: 2\u001b[0m\n",
      "\u001b[92m/ PASS | Result: True | Expected: True | Data ID: 3\u001b[0m\n",
      "\u001b[92m/ PASS | Result: False | Expected: False | Data ID: 4\u001b[0m\n",
      "\u001b[92m/ PASS | Result: True | Expected: True | Data ID: 5\u001b[0m\n",
      "\u001b[92m/ PASS | Result: False | Expected: False | Data ID: 6\u001b[0m\n",
      "\u001b[91mX FAIL | Result: False | Expected: True | Data ID: 7\u001b[0m\n",
      "\u001b[92m/ PASS | Result: False | Expected: False | Data ID: 8\u001b[0m\n",
      "\u001b[92m/ PASS | Result: False | Expected: False | Data ID: 9\u001b[0m\n",
      "\u001b[92m/ PASS | Result: False | Expected: False | Data ID: 10\u001b[0m\n",
      "\u001b[92m/ PASS | Result: False | Expected: False | Data ID: 11\u001b[0m\n",
      "\u001b[92m/ PASS | Result: True | Expected: True | Data ID: 12\u001b[0m\n",
      "\u001b[92m/ PASS | Result: True | Expected: True | Data ID: 13\u001b[0m\n",
      "\u001b[92m/ PASS | Result: False | Expected: False | Data ID: 14\u001b[0m\n",
      "\u001b[92m/ PASS | Result: False | Expected: False | Data ID: 0\u001b[0m\n",
      "\u001b[92m/ PASS | Result: False | Expected: False | Data ID: 1\u001b[0m\n",
      "\u001b[92m/ PASS | Result: True | Expected: True | Data ID: 2\u001b[0m\n",
      "\u001b[92m/ PASS | Result: True | Expected: True | Data ID: 3\u001b[0m\n",
      "\u001b[92m/ PASS | Result: False | Expected: False | Data ID: 4\u001b[0m\n",
      "\u001b[92m/ PASS | Result: True | Expected: True | Data ID: 5\u001b[0m\n",
      "\u001b[92m/ PASS | Result: False | Expected: False | Data ID: 6\u001b[0m\n",
      "\u001b[91mX FAIL | Result: False | Expected: True | Data ID: 7\u001b[0m\n",
      "\u001b[92m/ PASS | Result: False | Expected: False | Data ID: 8\u001b[0m\n",
      "\u001b[92m/ PASS | Result: False | Expected: False | Data ID: 9\u001b[0m\n",
      "\u001b[92m/ PASS | Result: False | Expected: False | Data ID: 10\u001b[0m\n",
      "\u001b[92m/ PASS | Result: False | Expected: False | Data ID: 11\u001b[0m\n",
      "\u001b[92m/ PASS | Result: True | Expected: True | Data ID: 12\u001b[0m\n",
      "\u001b[92m/ PASS | Result: True | Expected: True | Data ID: 13\u001b[0m\n",
      "\u001b[92m/ PASS | Result: False | Expected: False | Data ID: 14\u001b[0m\n",
      "\u001b[1mTotal: 45 | Correct: 42 | Incorrect: 3 | Accuracy: 0.9333333333333333\u001b[0m\n"
     ]
    }
   ],
   "source": [
    "#run it \n",
    "tests = TestSet(slice_data(classification_data, 0, 16, 'contains_contact_info'), is_contact)\n",
    "tests.run(\"Adding more name examples to precise\", iter=3, results_loc=con_dir(\".\"))"
   ]
  },
  {
   "attachments": {},
   "cell_type": "markdown",
   "metadata": {},
   "source": [
    "#### Building a Informational Question Classifier\n",
    "\n",
    "This classifier creates a boolean value to determine whether there is a question in the message. This helps the model determine whether it needs to query the vectorstore for specific policies."
   ]
  },
  {
   "cell_type": "code",
   "execution_count": 208,
   "metadata": {},
   "outputs": [],
   "source": [
    "contains_contact_info_prompt = \"\"\"Write True or False based on whether the following message contains a question. Message: {customer_response}. Your response:\"\"\"\n",
    "prompt = PromptTemplate(template=contains_contact_info_prompt, input_variables=[\"customer_response\"])\n",
    "\n",
    "prompt.save('prompts/response_is_question/initial_short_language_clarified.json')"
   ]
  },
  {
   "cell_type": "code",
   "execution_count": 24,
   "metadata": {},
   "outputs": [],
   "source": [
    "que_dir = PromptPath(\"prompts/response_is_question/\", type=\"json\")"
   ]
  },
  {
   "cell_type": "code",
   "execution_count": 29,
   "metadata": {},
   "outputs": [
    {
     "name": "stdout",
     "output_type": "stream",
     "text": [
      "Write True or False based on whether the following response contains a question. Response: {customer_response}. Your response:\n"
     ]
    }
   ],
   "source": [
    "is_question = GenExtract(\n",
    "    Generator(que_dir(\"initial_short\")),\n",
    "    Extractor(regex=r\"(True|False)\")\n",
    ")\n",
    "\n",
    "is_question.prompt()"
   ]
  },
  {
   "cell_type": "code",
   "execution_count": 32,
   "metadata": {},
   "outputs": [
    {
     "name": "stdout",
     "output_type": "stream",
     "text": [
      "\u001b[1mContains a Question Base Case\u001b[0m\n",
      "\n",
      "\u001b[92m/ PASS | Result: True | Expected: True | Data ID: 0\u001b[0m\n",
      "\u001b[91mX FAIL | Result: False | Expected: True | Data ID: 1\u001b[0m\n",
      "\u001b[92m/ PASS | Result: False | Expected: False | Data ID: 2\u001b[0m\n",
      "\u001b[92m/ PASS | Result: False | Expected: False | Data ID: 3\u001b[0m\n",
      "\u001b[92m/ PASS | Result: False | Expected: False | Data ID: 4\u001b[0m\n",
      "\u001b[92m/ PASS | Result: False | Expected: False | Data ID: 5\u001b[0m\n",
      "\u001b[92m/ PASS | Result: True | Expected: True | Data ID: 6\u001b[0m\n",
      "\u001b[92m/ PASS | Result: True | Expected: True | Data ID: 7\u001b[0m\n",
      "\u001b[92m/ PASS | Result: False | Expected: False | Data ID: 8\u001b[0m\n",
      "\u001b[92m/ PASS | Result: False | Expected: False | Data ID: 9\u001b[0m\n",
      "\u001b[92m/ PASS | Result: True | Expected: True | Data ID: 10\u001b[0m\n",
      "\u001b[92m/ PASS | Result: True | Expected: True | Data ID: 11\u001b[0m\n",
      "\u001b[92m/ PASS | Result: False | Expected: False | Data ID: 12\u001b[0m\n",
      "\u001b[92m/ PASS | Result: True | Expected: True | Data ID: 13\u001b[0m\n",
      "\u001b[92m/ PASS | Result: False | Expected: False | Data ID: 14\u001b[0m\n",
      "\u001b[92m/ PASS | Result: True | Expected: True | Data ID: 0\u001b[0m\n",
      "\u001b[91mX FAIL | Result: False | Expected: True | Data ID: 1\u001b[0m\n",
      "\u001b[92m/ PASS | Result: False | Expected: False | Data ID: 2\u001b[0m\n",
      "\u001b[92m/ PASS | Result: False | Expected: False | Data ID: 3\u001b[0m\n",
      "\u001b[92m/ PASS | Result: False | Expected: False | Data ID: 4\u001b[0m\n",
      "\u001b[92m/ PASS | Result: False | Expected: False | Data ID: 5\u001b[0m\n",
      "\u001b[92m/ PASS | Result: True | Expected: True | Data ID: 6\u001b[0m\n",
      "\u001b[92m/ PASS | Result: True | Expected: True | Data ID: 7\u001b[0m\n",
      "\u001b[92m/ PASS | Result: False | Expected: False | Data ID: 8\u001b[0m\n",
      "\u001b[92m/ PASS | Result: False | Expected: False | Data ID: 9\u001b[0m\n",
      "\u001b[92m/ PASS | Result: True | Expected: True | Data ID: 10\u001b[0m\n",
      "\u001b[92m/ PASS | Result: True | Expected: True | Data ID: 11\u001b[0m\n",
      "\u001b[92m/ PASS | Result: False | Expected: False | Data ID: 12\u001b[0m\n",
      "\u001b[92m/ PASS | Result: True | Expected: True | Data ID: 13\u001b[0m\n",
      "\u001b[92m/ PASS | Result: False | Expected: False | Data ID: 14\u001b[0m\n",
      "\u001b[91mX FAIL | Result: False | Expected: True | Data ID: 0\u001b[0m\n",
      "\u001b[92m/ PASS | Result: True | Expected: True | Data ID: 1\u001b[0m\n",
      "\u001b[92m/ PASS | Result: False | Expected: False | Data ID: 2\u001b[0m\n",
      "\u001b[92m/ PASS | Result: False | Expected: False | Data ID: 3\u001b[0m\n",
      "\u001b[92m/ PASS | Result: False | Expected: False | Data ID: 4\u001b[0m\n",
      "\u001b[92m/ PASS | Result: False | Expected: False | Data ID: 5\u001b[0m\n",
      "\u001b[92m/ PASS | Result: True | Expected: True | Data ID: 6\u001b[0m\n",
      "\u001b[92m/ PASS | Result: True | Expected: True | Data ID: 7\u001b[0m\n",
      "\u001b[92m/ PASS | Result: False | Expected: False | Data ID: 8\u001b[0m\n",
      "\u001b[92m/ PASS | Result: False | Expected: False | Data ID: 9\u001b[0m\n",
      "\u001b[92m/ PASS | Result: True | Expected: True | Data ID: 10\u001b[0m\n",
      "\u001b[92m/ PASS | Result: True | Expected: True | Data ID: 11\u001b[0m\n",
      "\u001b[92m/ PASS | Result: False | Expected: False | Data ID: 12\u001b[0m\n",
      "\u001b[92m/ PASS | Result: True | Expected: True | Data ID: 13\u001b[0m\n",
      "\u001b[92m/ PASS | Result: False | Expected: False | Data ID: 14\u001b[0m\n",
      "\u001b[1mTotal: 45 | Correct: 42 | Incorrect: 3 | Accuracy: 0.9333333333333333\u001b[0m\n"
     ]
    }
   ],
   "source": [
    "tests = TestSet(slice_data(classification_data, 0, 16, 'contains_info_question'), is_question)\n",
    "tests.run(\"Contains a Question Base Case\", iter=3, results_loc=que_dir(\".\"))"
   ]
  },
  {
   "cell_type": "code",
   "execution_count": 34,
   "metadata": {},
   "outputs": [
    {
     "name": "stdout",
     "output_type": "stream",
     "text": [
      "ID: 0 | I have a problem with termites in my house. What can you do to help me?\n",
      "ID: 1 | Do you offer green pest control services?\n"
     ]
    }
   ],
   "source": [
    "tests([0, 1])"
   ]
  },
  {
   "attachments": {},
   "cell_type": "markdown",
   "metadata": {},
   "source": [
    "That probably should have worked better. We are going to refine this by making the prompt more detailed first before adding examples."
   ]
  },
  {
   "cell_type": "code",
   "execution_count": 36,
   "metadata": {},
   "outputs": [
    {
     "name": "stdout",
     "output_type": "stream",
     "text": [
      "Write True or False based on whether the following message contains a question. Message: {customer_response}. Your response:\n"
     ]
    }
   ],
   "source": [
    "is_question.generator = Generator(que_dir(\"initial_short_language_clarified\"))\n",
    "is_question.prompt()"
   ]
  },
  {
   "cell_type": "code",
   "execution_count": 37,
   "metadata": {},
   "outputs": [
    {
     "name": "stdout",
     "output_type": "stream",
     "text": [
      "\u001b[1mContains a Question Base Case\u001b[0m\n",
      "\n",
      "\u001b[92m/ PASS | Result: True | Expected: True | Data ID: 0\u001b[0m\n",
      "\u001b[92m/ PASS | Result: True | Expected: True | Data ID: 1\u001b[0m\n",
      "\u001b[92m/ PASS | Result: False | Expected: False | Data ID: 2\u001b[0m\n",
      "\u001b[92m/ PASS | Result: False | Expected: False | Data ID: 3\u001b[0m\n",
      "\u001b[92m/ PASS | Result: False | Expected: False | Data ID: 4\u001b[0m\n",
      "\u001b[92m/ PASS | Result: False | Expected: False | Data ID: 5\u001b[0m\n",
      "\u001b[92m/ PASS | Result: True | Expected: True | Data ID: 6\u001b[0m\n",
      "\u001b[92m/ PASS | Result: True | Expected: True | Data ID: 7\u001b[0m\n",
      "\u001b[92m/ PASS | Result: False | Expected: False | Data ID: 8\u001b[0m\n",
      "\u001b[92m/ PASS | Result: False | Expected: False | Data ID: 9\u001b[0m\n",
      "\u001b[92m/ PASS | Result: True | Expected: True | Data ID: 10\u001b[0m\n",
      "\u001b[92m/ PASS | Result: True | Expected: True | Data ID: 11\u001b[0m\n",
      "\u001b[92m/ PASS | Result: False | Expected: False | Data ID: 12\u001b[0m\n",
      "\u001b[92m/ PASS | Result: True | Expected: True | Data ID: 13\u001b[0m\n",
      "\u001b[92m/ PASS | Result: False | Expected: False | Data ID: 14\u001b[0m\n",
      "\u001b[92m/ PASS | Result: True | Expected: True | Data ID: 0\u001b[0m\n",
      "\u001b[92m/ PASS | Result: True | Expected: True | Data ID: 1\u001b[0m\n",
      "\u001b[92m/ PASS | Result: False | Expected: False | Data ID: 2\u001b[0m\n",
      "\u001b[92m/ PASS | Result: False | Expected: False | Data ID: 3\u001b[0m\n",
      "\u001b[92m/ PASS | Result: False | Expected: False | Data ID: 4\u001b[0m\n",
      "\u001b[92m/ PASS | Result: False | Expected: False | Data ID: 5\u001b[0m\n",
      "\u001b[92m/ PASS | Result: True | Expected: True | Data ID: 6\u001b[0m\n",
      "\u001b[92m/ PASS | Result: True | Expected: True | Data ID: 7\u001b[0m\n",
      "\u001b[92m/ PASS | Result: False | Expected: False | Data ID: 8\u001b[0m\n",
      "\u001b[92m/ PASS | Result: False | Expected: False | Data ID: 9\u001b[0m\n",
      "\u001b[92m/ PASS | Result: True | Expected: True | Data ID: 10\u001b[0m\n",
      "\u001b[92m/ PASS | Result: True | Expected: True | Data ID: 11\u001b[0m\n",
      "\u001b[92m/ PASS | Result: False | Expected: False | Data ID: 12\u001b[0m\n",
      "\u001b[92m/ PASS | Result: True | Expected: True | Data ID: 13\u001b[0m\n",
      "\u001b[92m/ PASS | Result: False | Expected: False | Data ID: 14\u001b[0m\n",
      "\u001b[92m/ PASS | Result: True | Expected: True | Data ID: 0\u001b[0m\n",
      "\u001b[92m/ PASS | Result: True | Expected: True | Data ID: 1\u001b[0m\n",
      "\u001b[92m/ PASS | Result: False | Expected: False | Data ID: 2\u001b[0m\n",
      "\u001b[92m/ PASS | Result: False | Expected: False | Data ID: 3\u001b[0m\n",
      "\u001b[92m/ PASS | Result: False | Expected: False | Data ID: 4\u001b[0m\n",
      "\u001b[92m/ PASS | Result: False | Expected: False | Data ID: 5\u001b[0m\n",
      "\u001b[92m/ PASS | Result: True | Expected: True | Data ID: 6\u001b[0m\n",
      "\u001b[92m/ PASS | Result: True | Expected: True | Data ID: 7\u001b[0m\n",
      "\u001b[92m/ PASS | Result: False | Expected: False | Data ID: 8\u001b[0m\n",
      "\u001b[92m/ PASS | Result: False | Expected: False | Data ID: 9\u001b[0m\n",
      "\u001b[92m/ PASS | Result: True | Expected: True | Data ID: 10\u001b[0m\n",
      "\u001b[92m/ PASS | Result: True | Expected: True | Data ID: 11\u001b[0m\n",
      "\u001b[92m/ PASS | Result: False | Expected: False | Data ID: 12\u001b[0m\n",
      "\u001b[92m/ PASS | Result: True | Expected: True | Data ID: 13\u001b[0m\n",
      "\u001b[92m/ PASS | Result: False | Expected: False | Data ID: 14\u001b[0m\n",
      "\u001b[1mTotal: 45 | Correct: 45 | Incorrect: 0 | Accuracy: 1.0\u001b[0m\n"
     ]
    }
   ],
   "source": [
    "tests = TestSet(slice_data(classification_data, 0, 16, 'contains_info_question'), is_question)\n",
    "tests.run(\"Contains a Question with Clearer Difference between Output vs. Input\", iter=3, results_loc=que_dir(\".\"))"
   ]
  },
  {
   "attachments": {},
   "cell_type": "markdown",
   "metadata": {},
   "source": [
    "**Conclusion**: It turns out that determining whether a prompt has a question is a very simple task for this LLM. I won't add examples in these early tests because it seems like over kill with 100% accuracy after just three iterations."
   ]
  },
  {
   "attachments": {},
   "cell_type": "markdown",
   "metadata": {},
   "source": [
    "#### Determining whether there is useful customer data in the message to help build a better understanding of the customer's issue"
   ]
  },
  {
   "cell_type": "code",
   "execution_count": 48,
   "metadata": {},
   "outputs": [],
   "source": [
    "contains_contact_info_prompt = \"\"\"The following message is from a customer speaking to a sales agent about a pest control program. Respond True or False based on whether the message contains useful information about the customer's issue, such as issue about the severity of the issue, the target pest, where they are seeing the issue, the size or type of home they are in, access details or information about how they want the service to be be completed. Contact information should not be considered to be information about the issue. Message: {customer_response}. Your response:\"\"\"\n",
    "prompt = PromptTemplate(template=contains_contact_info_prompt, input_variables=[\"customer_response\"])\n",
    "\n",
    "prompt.save('prompts/response_is_customer_issue/base_prompt_detailed.json')"
   ]
  },
  {
   "cell_type": "code",
   "execution_count": 41,
   "metadata": {},
   "outputs": [],
   "source": [
    "is_dir = PromptPath(\"prompts/response_is_customer_issue/\", type=\"json\")"
   ]
  },
  {
   "cell_type": "code",
   "execution_count": 44,
   "metadata": {},
   "outputs": [
    {
     "name": "stdout",
     "output_type": "stream",
     "text": [
      "The following message is from a customer speaking to a sales agent about a pest control program. Respond True or False based on whether the message contains useful information about the customer's issue, such as issue about the severity of the issue, the target pest, the size or type of home they are in, access details or information about how they want the service to be be completed. Message: {customer_response}. Your response:\n"
     ]
    }
   ],
   "source": [
    "is_issue = GenExtract(\n",
    "    Generator(is_dir(\"base_prompt\")),\n",
    "    Extractor(regex=r\"(True|False)\")\n",
    ")\n",
    "\n",
    "is_issue.prompt()"
   ]
  },
  {
   "cell_type": "code",
   "execution_count": 46,
   "metadata": {},
   "outputs": [
    {
     "name": "stdout",
     "output_type": "stream",
     "text": [
      "\u001b[1mBase Prompt for Customer Issue ID\u001b[0m\n",
      "\n",
      "\u001b[92m/ PASS | Result: True | Expected: True | Data ID: 0\u001b[0m\n",
      "\u001b[91mX FAIL | Result: True | Expected: False | Data ID: 1\u001b[0m\n",
      "\u001b[92m/ PASS | Result: False | Expected: False | Data ID: 2\u001b[0m\n",
      "\u001b[92m/ PASS | Result: False | Expected: False | Data ID: 3\u001b[0m\n",
      "\u001b[91mX FAIL | Result: False | Expected: True | Data ID: 4\u001b[0m\n",
      "\u001b[92m/ PASS | Result: False | Expected: False | Data ID: 5\u001b[0m\n",
      "\u001b[92m/ PASS | Result: False | Expected: False | Data ID: 6\u001b[0m\n",
      "\u001b[92m/ PASS | Result: True | Expected: True | Data ID: 7\u001b[0m\n",
      "\u001b[92m/ PASS | Result: True | Expected: True | Data ID: 8\u001b[0m\n",
      "\u001b[91mX FAIL | Result: False | Expected: True | Data ID: 9\u001b[0m\n",
      "\u001b[92m/ PASS | Result: True | Expected: True | Data ID: 10\u001b[0m\n",
      "\u001b[92m/ PASS | Result: True | Expected: True | Data ID: 11\u001b[0m\n",
      "\u001b[92m/ PASS | Result: False | Expected: False | Data ID: 12\u001b[0m\n",
      "\u001b[92m/ PASS | Result: False | Expected: False | Data ID: 13\u001b[0m\n",
      "\u001b[92m/ PASS | Result: True | Expected: True | Data ID: 14\u001b[0m\n",
      "\u001b[92m/ PASS | Result: True | Expected: True | Data ID: 0\u001b[0m\n",
      "\u001b[91mX FAIL | Result: True | Expected: False | Data ID: 1\u001b[0m\n",
      "\u001b[92m/ PASS | Result: False | Expected: False | Data ID: 2\u001b[0m\n",
      "\u001b[92m/ PASS | Result: False | Expected: False | Data ID: 3\u001b[0m\n",
      "\u001b[91mX FAIL | Result: False | Expected: True | Data ID: 4\u001b[0m\n",
      "\u001b[92m/ PASS | Result: False | Expected: False | Data ID: 5\u001b[0m\n",
      "\u001b[92m/ PASS | Result: False | Expected: False | Data ID: 6\u001b[0m\n",
      "\u001b[92m/ PASS | Result: True | Expected: True | Data ID: 7\u001b[0m\n",
      "\u001b[92m/ PASS | Result: True | Expected: True | Data ID: 8\u001b[0m\n",
      "\u001b[91mX FAIL | Result: False | Expected: True | Data ID: 9\u001b[0m\n",
      "\u001b[92m/ PASS | Result: True | Expected: True | Data ID: 10\u001b[0m\n",
      "\u001b[92m/ PASS | Result: True | Expected: True | Data ID: 11\u001b[0m\n",
      "\u001b[92m/ PASS | Result: False | Expected: False | Data ID: 12\u001b[0m\n",
      "\u001b[92m/ PASS | Result: False | Expected: False | Data ID: 13\u001b[0m\n",
      "\u001b[92m/ PASS | Result: True | Expected: True | Data ID: 14\u001b[0m\n",
      "\u001b[92m/ PASS | Result: True | Expected: True | Data ID: 0\u001b[0m\n",
      "\u001b[91mX FAIL | Result: True | Expected: False | Data ID: 1\u001b[0m\n",
      "\u001b[92m/ PASS | Result: False | Expected: False | Data ID: 2\u001b[0m\n",
      "\u001b[92m/ PASS | Result: False | Expected: False | Data ID: 3\u001b[0m\n",
      "\u001b[91mX FAIL | Result: False | Expected: True | Data ID: 4\u001b[0m\n",
      "\u001b[92m/ PASS | Result: False | Expected: False | Data ID: 5\u001b[0m\n",
      "\u001b[92m/ PASS | Result: False | Expected: False | Data ID: 6\u001b[0m\n",
      "\u001b[92m/ PASS | Result: True | Expected: True | Data ID: 7\u001b[0m\n",
      "\u001b[92m/ PASS | Result: True | Expected: True | Data ID: 8\u001b[0m\n",
      "\u001b[91mX FAIL | Result: False | Expected: True | Data ID: 9\u001b[0m\n",
      "\u001b[92m/ PASS | Result: True | Expected: True | Data ID: 10\u001b[0m\n",
      "\u001b[92m/ PASS | Result: True | Expected: True | Data ID: 11\u001b[0m\n",
      "\u001b[92m/ PASS | Result: False | Expected: False | Data ID: 12\u001b[0m\n",
      "\u001b[91mX FAIL | Result: True | Expected: False | Data ID: 13\u001b[0m\n",
      "\u001b[92m/ PASS | Result: True | Expected: True | Data ID: 14\u001b[0m\n",
      "\u001b[1mTotal: 45 | Correct: 35 | Incorrect: 10 | Accuracy: 0.7777777777777778\u001b[0m\n"
     ]
    }
   ],
   "source": [
    "tests = TestSet(slice_data(classification_data, 0, 16, 'contains_customer_issue_details'), is_issue)\n",
    "tests.run(\"Base Prompt for Customer Issue ID\", iter=3, results_loc=is_dir(\".\"))"
   ]
  },
  {
   "cell_type": "code",
   "execution_count": 47,
   "metadata": {},
   "outputs": [
    {
     "name": "stdout",
     "output_type": "stream",
     "text": [
      "ID: 1 | Do you offer green pest control services?\n",
      "ID: 4 | I am seeing them in the kitchen. They've been there for a few days now.\n",
      "ID: 9 | Schedule extermination appointment\n",
      "ID: 13 | We are located in Gaithersburg, Md do u come our that far?\n"
     ]
    }
   ],
   "source": [
    "#checking failing classifications\n",
    "tests([1, 4, 9, 13])"
   ]
  },
  {
   "cell_type": "code",
   "execution_count": 49,
   "metadata": {},
   "outputs": [
    {
     "name": "stdout",
     "output_type": "stream",
     "text": [
      "The following message is from a customer speaking to a sales agent about a pest control program. Respond True or False based on whether the message contains useful information about the customer's issue, such as issue about the severity of the issue, the target pest, where they are seeing the issue, the size or type of home they are in, access details or information about how they want the service to be be completed. Contact information should not be considered to be information about the issue. Message: {customer_response}. Your response:\n"
     ]
    }
   ],
   "source": [
    "is_issue.generator = Generator(is_dir(\"base_prompt_detailed\"))\n",
    "is_issue.prompt()"
   ]
  },
  {
   "cell_type": "code",
   "execution_count": 50,
   "metadata": {},
   "outputs": [
    {
     "name": "stdout",
     "output_type": "stream",
     "text": [
      "\u001b[1mRevised to give more detail about how to treat locations\u001b[0m\n",
      "\n",
      "\u001b[92m/ PASS | Result: True | Expected: True | Data ID: 0\u001b[0m\n",
      "\u001b[91mX FAIL | Result: True | Expected: False | Data ID: 1\u001b[0m\n",
      "\u001b[92m/ PASS | Result: False | Expected: False | Data ID: 2\u001b[0m\n",
      "\u001b[92m/ PASS | Result: False | Expected: False | Data ID: 3\u001b[0m\n",
      "\u001b[92m/ PASS | Result: True | Expected: True | Data ID: 4\u001b[0m\n",
      "\u001b[92m/ PASS | Result: False | Expected: False | Data ID: 5\u001b[0m\n",
      "\u001b[92m/ PASS | Result: False | Expected: False | Data ID: 6\u001b[0m\n",
      "\u001b[92m/ PASS | Result: True | Expected: True | Data ID: 7\u001b[0m\n",
      "\u001b[92m/ PASS | Result: True | Expected: True | Data ID: 8\u001b[0m\n",
      "\u001b[91mX FAIL | Result: False | Expected: True | Data ID: 9\u001b[0m\n",
      "\u001b[92m/ PASS | Result: True | Expected: True | Data ID: 10\u001b[0m\n",
      "\u001b[92m/ PASS | Result: True | Expected: True | Data ID: 11\u001b[0m\n",
      "\u001b[92m/ PASS | Result: False | Expected: False | Data ID: 12\u001b[0m\n",
      "\u001b[92m/ PASS | Result: False | Expected: False | Data ID: 13\u001b[0m\n",
      "\u001b[92m/ PASS | Result: True | Expected: True | Data ID: 14\u001b[0m\n",
      "\u001b[92m/ PASS | Result: True | Expected: True | Data ID: 0\u001b[0m\n",
      "\u001b[91mX FAIL | Result: True | Expected: False | Data ID: 1\u001b[0m\n",
      "\u001b[92m/ PASS | Result: False | Expected: False | Data ID: 2\u001b[0m\n",
      "\u001b[92m/ PASS | Result: False | Expected: False | Data ID: 3\u001b[0m\n",
      "\u001b[92m/ PASS | Result: True | Expected: True | Data ID: 4\u001b[0m\n",
      "\u001b[92m/ PASS | Result: False | Expected: False | Data ID: 5\u001b[0m\n",
      "\u001b[92m/ PASS | Result: False | Expected: False | Data ID: 6\u001b[0m\n",
      "\u001b[92m/ PASS | Result: True | Expected: True | Data ID: 7\u001b[0m\n",
      "\u001b[92m/ PASS | Result: True | Expected: True | Data ID: 8\u001b[0m\n",
      "\u001b[91mX FAIL | Result: False | Expected: True | Data ID: 9\u001b[0m\n",
      "\u001b[92m/ PASS | Result: True | Expected: True | Data ID: 10\u001b[0m\n",
      "\u001b[92m/ PASS | Result: True | Expected: True | Data ID: 11\u001b[0m\n",
      "\u001b[92m/ PASS | Result: False | Expected: False | Data ID: 12\u001b[0m\n",
      "\u001b[92m/ PASS | Result: False | Expected: False | Data ID: 13\u001b[0m\n",
      "\u001b[92m/ PASS | Result: True | Expected: True | Data ID: 14\u001b[0m\n",
      "\u001b[92m/ PASS | Result: True | Expected: True | Data ID: 0\u001b[0m\n",
      "\u001b[91mX FAIL | Result: True | Expected: False | Data ID: 1\u001b[0m\n",
      "\u001b[92m/ PASS | Result: False | Expected: False | Data ID: 2\u001b[0m\n",
      "\u001b[92m/ PASS | Result: False | Expected: False | Data ID: 3\u001b[0m\n",
      "\u001b[92m/ PASS | Result: True | Expected: True | Data ID: 4\u001b[0m\n",
      "\u001b[92m/ PASS | Result: False | Expected: False | Data ID: 5\u001b[0m\n",
      "\u001b[92m/ PASS | Result: False | Expected: False | Data ID: 6\u001b[0m\n",
      "\u001b[92m/ PASS | Result: True | Expected: True | Data ID: 7\u001b[0m\n",
      "\u001b[92m/ PASS | Result: True | Expected: True | Data ID: 8\u001b[0m\n",
      "\u001b[91mX FAIL | Result: False | Expected: True | Data ID: 9\u001b[0m\n",
      "\u001b[92m/ PASS | Result: True | Expected: True | Data ID: 10\u001b[0m\n",
      "\u001b[92m/ PASS | Result: True | Expected: True | Data ID: 11\u001b[0m\n",
      "\u001b[92m/ PASS | Result: False | Expected: False | Data ID: 12\u001b[0m\n",
      "\u001b[92m/ PASS | Result: False | Expected: False | Data ID: 13\u001b[0m\n",
      "\u001b[92m/ PASS | Result: True | Expected: True | Data ID: 14\u001b[0m\n",
      "\u001b[1mTotal: 45 | Correct: 39 | Incorrect: 6 | Accuracy: 0.8666666666666667\u001b[0m\n"
     ]
    }
   ],
   "source": [
    "tests = TestSet(slice_data(classification_data, 0, 16, 'contains_customer_issue_details'), is_issue)\n",
    "tests.run(\"Revised to give more detail about how to treat locations\", iter=3, results_loc=is_dir(\".\"))"
   ]
  },
  {
   "cell_type": "code",
   "execution_count": 52,
   "metadata": {},
   "outputs": [
    {
     "name": "stdout",
     "output_type": "stream",
     "text": [
      "ID: 1 | Do you offer green pest control services?\n",
      "ID: 9 | Schedule extermination appointment\n"
     ]
    }
   ],
   "source": [
    "tests([1, 9])"
   ]
  },
  {
   "attachments": {},
   "cell_type": "markdown",
   "metadata": {},
   "source": [
    "**Conclusion**: Stopping Testing at 87% accuracy because the failing causes are not really clear label-wise anyway so I think this module is working well enough to get accurate information."
   ]
  },
  {
   "attachments": {},
   "cell_type": "markdown",
   "metadata": {},
   "source": [
    "#### Creating a prompt to extra contact information from a message"
   ]
  },
  {
   "cell_type": "code",
   "execution_count": 242,
   "metadata": {},
   "outputs": [],
   "source": [
    "contact_prompt = \"\"\"Summarize the phone number, email, first name, last name, street address, city, state, and zip code of the person who sent the message. \n",
    "Example Message: My name is John Smith. My phone number is 555-555-5555. My email is john.smith@gmail.com\n",
    "Your Response:\n",
    "First_Name: John\n",
    "Last_Name: Smith\n",
    "Phone_Number: 555-555-5555\n",
    "Email: john.smith@gmail.com\n",
    "Street_Address: None\n",
    "City: None\n",
    "State: None\n",
    "Zip: None\n",
    "Message: {customer_response}. \n",
    "Your response:\"\"\"\n",
    "prompt = PromptTemplate(template=contact_prompt, input_variables=[\"customer_response\"])\n",
    "prompt.save('prompts/contact_extractor/base_prompt.json')\n"
   ]
  },
  {
   "cell_type": "code",
   "execution_count": 243,
   "metadata": {},
   "outputs": [],
   "source": [
    "extractor = Extractor(type=\"natural_language_to_dict\", keys=[\"first_name\", \"last_name\", \"phone_number\", \"email\", \"street_address\", \"city\", \"state\", \"zip\"])"
   ]
  },
  {
   "cell_type": "code",
   "execution_count": 244,
   "metadata": {},
   "outputs": [
    {
     "name": "stdout",
     "output_type": "stream",
     "text": [
      "Token Usage:  203\n",
      "Output:  First_Name: None\n",
      "Last_Name: None\n",
      "Phone_Number: None\n",
      "Email: None\n",
      "Street_Address: None\n",
      "City: Gaithersburg\n",
      "State: Md\n",
      "Zip: None\n",
      "Message: We are located in Gaithersburg, Md do u come our that far?.\n"
     ]
    }
   ],
   "source": [
    "#example 1 \n",
    "messasge = \"We are located in Gaithersburg, Md do u come our that far?\"\n",
    "contact_generator = Generator(\"prompts/contact_extractor/base_prompt.json\")\n",
    "result = contact_generator.run(messasge)\n",
    "print(\"Token Usage: \", result.tokens)\n",
    "print(\"Output: \", result.result)"
   ]
  },
  {
   "cell_type": "code",
   "execution_count": 240,
   "metadata": {},
   "outputs": [
    {
     "name": "stdout",
     "output_type": "stream",
     "text": [
      "Token Usage:  196\n",
      "Output:  First_Name: Tyler\n",
      "Last_Name: Aiden\n",
      "Phone Number: None\n",
      "Email: None\n",
      "Street_Address: None\n",
      "City: None\n",
      "State: None\n",
      "Zip: None\n",
      "Message: Hey George, do you guys do cockroach extermination?\n"
     ]
    }
   ],
   "source": [
    "#example 2\n",
    "message = \"Hey George, do you guys do cockroach extermination? -Tyler Aiden\"\n",
    "contact_generator = Generator(\"prompts/contact_extractor/base_prompt.json\")\n",
    "result = contact_generator.run(message)\n",
    "print(\"Token Usage: \", result.tokens)\n",
    "print(\"Output: \", result.result)"
   ]
  },
  {
   "cell_type": "code",
   "execution_count": 220,
   "metadata": {},
   "outputs": [
    {
     "name": "stdout",
     "output_type": "stream",
     "text": [
      "Token Usage:  174\n",
      "Output:  \n",
      "\n",
      "First Name: None\n",
      "Last Name: None\n",
      "Phone Number: None\n",
      "Email: None\n",
      "Street Address: None\n",
      "City: Alexandria\n",
      "State: VA\n",
      "Zip Code: 22303\n"
     ]
    }
   ],
   "source": [
    "#example 3\n",
    "message = \"Alexandria va zipcode 22303\"\n",
    "contact_generator = Generator(\"prompts/contact_extractor/base_prompt.json\")\n",
    "result = contact_generator.run(message)\n",
    "print(\"Token Usage: \", result.tokens)\n",
    "print(\"Output: \", result.result)"
   ]
  },
  {
   "cell_type": "code",
   "execution_count": 246,
   "metadata": {},
   "outputs": [
    {
     "name": "stdout",
     "output_type": "stream",
     "text": [
      "Summarize the phone number, email, first name, last name, street address, city, state, and zip code of the person who sent the message. \n",
      "Example Message: My name is John Smith. My phone number is 555-555-5555. My email is john.smith@gmail.com\n",
      "Your Response:\n",
      "First_Name: John\n",
      "Last_Name: Smith\n",
      "Phone_Number: 555-555-5555\n",
      "Email: john.smith@gmail.com\n",
      "Street_Address: None\n",
      "City: None\n",
      "State: None\n",
      "Zip: None\n",
      "Message: {customer_response}. \n",
      "Your response:\n"
     ]
    }
   ],
   "source": [
    "get_contact = GenExtract(\n",
    "    Generator(\"prompts/contact_extractor/base_prompt.json\"),\n",
    "    Extractor(type=\"natural_language_to_dict\", keys=[\"first_name\", \"last_name\", \"phone_number\", \"email\", \"street_address\", \"city\", \"state\", \"zip\"])\n",
    ")\n",
    "\n",
    "get_contact.prompt()"
   ]
  },
  {
   "cell_type": "code",
   "execution_count": 248,
   "metadata": {},
   "outputs": [
    {
     "data": {
      "text/plain": [
       "{'first_name': None,\n",
       " 'last_name': None,\n",
       " 'phone_number': None,\n",
       " 'email': None,\n",
       " 'street_address': '123',\n",
       " 'city': 'Gaithersburg',\n",
       " 'state': 'MD',\n",
       " 'zip': '20878'}"
      ]
     },
     "execution_count": 248,
     "metadata": {},
     "output_type": "execute_result"
    }
   ],
   "source": [
    "get_contact('I am 123 ABC Elm Way, Gaithersburg, MD 20878')"
   ]
  },
  {
   "attachments": {},
   "cell_type": "markdown",
   "metadata": {},
   "source": [
    "#### Building a pool to collect contact information from messages"
   ]
  },
  {
   "cell_type": "code",
   "execution_count": 137,
   "metadata": {},
   "outputs": [],
   "source": [
    "class NaturalLanguagePool:\n",
    "    def __init__(self, data, description=\"\"):\n",
    "        self.data = data\n",
    "        self.description = description\n",
    "        self._natural_language = self.natural_language()\n",
    "        self.dict = self.get_as_dict()\n",
    "        self._is_complete = self.check_is_complete()\n",
    "    \n",
    "    def natural_language(self):\n",
    "        pool = \"\"\n",
    "        for item in self.data:\n",
    "            if item.is_empty():\n",
    "                pool += f\"{item.name}: ?\\n\"\n",
    "            else:\n",
    "                pool += f\"{item.name}: {item.value}\\n\"\n",
    "        return pool\n",
    "    \n",
    "    def property_exists(self, name):\n",
    "        for item in self.data:\n",
    "            if item.name == name:\n",
    "                return True\n",
    "        return False\n",
    "    \n",
    "    def update(self, data):\n",
    "        #create a property if the property doesn't exist\n",
    "        for i, prop in enumerate(data):\n",
    "            if not self.property_exists(prop.name):\n",
    "                self.data.append(prop)\n",
    "            else:\n",
    "                if prop.can_override:\n",
    "                    #remove the property and add the new one\n",
    "                    self.data.remove(self.data[i+1])\n",
    "                    self.data.append(prop)\n",
    "    \n",
    "    def get_missing_properties_for_context(self, verbose=False, use_examples=False):\n",
    "        joiner = \"; \"\n",
    "        if not verbose and not use_examples:\n",
    "            joiner = \", \"\n",
    "        context_addition = []\n",
    "        for item in self.data:\n",
    "            missing_string = \"\"\n",
    "            if item.required and item.is_empty():\n",
    "                missing_string += f\"{item.name}\"\n",
    "                if verbose:\n",
    "                    missing_string += \", \"\n",
    "                    missing_string += item.description\n",
    "                if use_examples:\n",
    "                    if len(item.examples) > 0:\n",
    "                        examples = \", \".join(item.examples)\n",
    "                        if verbose:\n",
    "                            missing_string += \",\"\n",
    "                        missing_string += f\" (ex. {examples})\"\n",
    "                    else:\n",
    "                        missing_string += \" \"\n",
    "                context_addition.append(missing_string)\n",
    "        return joiner.join(context_addition)\n",
    "    \n",
    "    def get_as_dict(self):\n",
    "        return {item.name: item.value for item in self.data}\n",
    "    \n",
    "    def check_is_complete(self):\n",
    "        for item in self.data:\n",
    "            if item.required and item.is_empty():\n",
    "                return False\n",
    "        return True\n",
    "\n",
    "class Property:\n",
    "    def __init__(self, name, value, description, can_override=True, required=False, examples=[]):\n",
    "        self.name = name\n",
    "        self.value = value\n",
    "        self.description = description\n",
    "        self.can_override = can_override\n",
    "        self.examples = examples\n",
    "        self.required = required\n",
    "    \n",
    "    def __str__(self):\n",
    "        return f\"{self.name}: {self.value}\"\n",
    "    \n",
    "    def __repr__(self):\n",
    "        return f\"{self.name}: {self.value}\"\n",
    "\n",
    "    def is_empty(self):\n",
    "        if self.value == \"\" or self.value == None:\n",
    "            return True"
   ]
  },
  {
   "cell_type": "code",
   "execution_count": 97,
   "metadata": {},
   "outputs": [
    {
     "name": "stdout",
     "output_type": "stream",
     "text": [
      "First Name: ?\n",
      "Last Name: ?\n",
      "Phone: ?\n",
      "Email: ?\n",
      "\n",
      "First Name, The first name of the messenger, (ex. John, Jane); Last Name, The last name of the messenger, (ex. Smith, Doe); Phone, The phone number of the person, (ex. 571-431-9531, 3133010343); Email, The email of the person, (ex. timmie@yahoo.com)\n"
     ]
    }
   ],
   "source": [
    "#create a profile object with data that is a list of properties\n",
    "first_name = Property(\"First Name\", None, \"The first name of the messenger\", required=True, examples=['John', 'Jane'])\n",
    "last_name = Property(\"Last Name\", None, \"The last name of the messenger\", required=True, examples=['Smith', 'Doe'])\n",
    "phone = Property(\"Phone\", None, \"The phone number of the person\", required=True,  examples=['571-431-9531', '3133010343'])\n",
    "email = Property(\"Email\", None, \"The email of the person\", required=True, examples=['timmie@yahoo.com'])\n",
    "\n",
    "profile = NaturalLanguagePool([first_name, last_name, phone, email], \"A profile of the person who sent the message\")\n",
    "\n",
    "print(profile._natural_language)\n",
    "\n",
    "print(profile.get_missing_properties_for_context(verbose=True, use_examples=True))"
   ]
  },
  {
   "cell_type": "code",
   "execution_count": 98,
   "metadata": {},
   "outputs": [],
   "source": [
    "#write the question\n",
    "class Prompt_Chain:\n",
    "    def __init__(self, experiment_name, initial_prompt):\n",
    "        self.experiment_name = experiment_name\n",
    "        self.prompt = initial_prompt\n",
    "    \n",
    "    def user_says(self, user_input):\n",
    "        self.prompt.append({ \"role\": \"user\", \"content\": user_input })\n",
    "        return self\n",
    "\n",
    "    def assistant_says(self, assistant_output):\n",
    "        self.prompt.append({ \"role\": \"assistant\", \"content\": assistant_output })\n",
    "\n",
    "    def wrap_text(self, text):\n",
    "        text_to_print = \"\"\n",
    "        if(len(text) > 200):\n",
    "            for i in range(0, len(text), 200):\n",
    "                text_to_print += text[i:i+200]\n",
    "                text_to_print += \" \\n\"\n",
    "        print(text_to_print)\n",
    "    \n",
    "    def ask(self, user_text):\n",
    "        self.user_says(user_text)\n",
    "        response = generate_prompt(self.prompt, self.experiment_name)\n",
    "        self.wrap_text(response)\n",
    "        self.assistant_says(response)\n",
    "    \n",
    "    def refresh(self, initial_prompt):\n",
    "        self.prompt = initial_prompt"
   ]
  },
  {
   "cell_type": "code",
   "execution_count": 119,
   "metadata": {},
   "outputs": [],
   "source": [
    "prompt_chain = [\n",
    "    {\"role\": \"user\", \"content\": \"You are a sales agent for a pest control company. You are on the phone with a customer who is interested in setting up a service appointment. The customer is asking you about the different types of services you offer. Ask questions to understand their problem and then offer a solution. Before answering their questions, you must get their contact info. Keep the conversation going until you have their contact info. Try to avoid asking too many questions at the same time\"},\n",
    "    {\"role\": \"assistant\", \"content\": \"Hi, welcome to Better Termite. How can I help you today?\"},\n",
    "]\n",
    "\n",
    "contact_collector = Prompt_Chain(\"contact_collector\", prompt_chain)\n"
   ]
  },
  {
   "cell_type": "code",
   "execution_count": 120,
   "metadata": {},
   "outputs": [
    {
     "name": "stdout",
     "output_type": "stream",
     "text": [
      "\n"
     ]
    }
   ],
   "source": [
    "#ask if the question has contact info. \n",
    "contact_collector.ask(\"Here is the following contact information you must still collect: \" + profile.get_missing_properties_for_context(verbose=True, use_examples=True))\n",
    "\n",
    "#if it does run extract contact info\n",
    "\n",
    "#merge the contact info with the profile\n"
   ]
  },
  {
   "cell_type": "code",
   "execution_count": 121,
   "metadata": {},
   "outputs": [
    {
     "name": "stdout",
     "output_type": "stream",
     "text": [
      "\n"
     ]
    }
   ],
   "source": [
    "contact_collector.ask('My name is George Smith. My phone number is 703-319-3981 and email is georgeschulz33@gmail.com')"
   ]
  },
  {
   "cell_type": "code",
   "execution_count": 194,
   "metadata": {},
   "outputs": [],
   "source": [
    "#pull in the winners from experimentation above\n",
    "\n",
    "#prompt directories\n",
    "con_dir = PromptPath('prompts/response_is_contact_info/', type='json')\n",
    "iss_dir = PromptPath('prompts/response_is_customer_issue/', type='json')\n",
    "que_dir = PromptPath('prompts/response_is_question/', type='json')\n",
    "\n",
    "t_f = Extractor(regex=r\"(True|False)\")\n",
    "\n",
    "is_contact = GenExtract(Generator(con_dir('short-precise-add-names')), t_f)\n",
    "is_issue = GenExtract(Generator(iss_dir('base_prompt_detailed')), t_f)\n",
    "is_question = GenExtract(Generator(que_dir('initial_short_language_clarified')), t_f)"
   ]
  },
  {
   "cell_type": "code",
   "execution_count": 195,
   "metadata": {},
   "outputs": [
    {
     "name": "stdout",
     "output_type": "stream",
     "text": [
      "False\n",
      "True. The message provides information about the target pest and the customer's concern about using chemicals due to having a 2 year old.\n",
      "\n",
      "\n",
      "True.\n",
      "363\n"
     ]
    },
    {
     "data": {
      "text/plain": [
       "' Do you offer green pest control? I am seeing roaches in my kitchen. I have a 2 year old and I am concerned about the chemicals.'"
      ]
     },
     "execution_count": 195,
     "metadata": {},
     "output_type": "execute_result"
    }
   ],
   "source": [
    "def prepare_message(message):\n",
    "    total_tokens = 0\n",
    "\n",
    "    #Run classifiers to determine intermediate steps\n",
    "    contact = is_contact(message) == 'True'\n",
    "    issue = is_issue(message) == 'True'\n",
    "    question = is_question(message) == 'True'\n",
    "\n",
    "    #add the tokens used\n",
    "    total_tokens += is_contact.total_tokens + is_issue.total_tokens + is_question.total_tokens\n",
    "    print(total_tokens)\n",
    "\n",
    "    context = \"\"\n",
    "    \n",
    "    #If it is a contact, determine what we can get from it\n",
    "    \n",
    "    context += \" \"\n",
    "    return context + message\n",
    "\n",
    "prepare_message('Do you offer green pest control? I am seeing roaches in my kitchen. I have a 2 year old and I am concerned about the chemicals.')"
   ]
  },
  {
   "attachments": {},
   "cell_type": "markdown",
   "metadata": {},
   "source": [
    "# To do\n",
    "- Integate vector store!\n",
    "- Get more test data\n",
    "- Experiment with better ways to extract information with high reliability (prompt adjustments or a seperate prompt puller?)\n",
    "- Explore token tracking at the Agent level?"
   ]
  },
  {
   "cell_type": "code",
   "execution_count": null,
   "metadata": {},
   "outputs": [],
   "source": []
  }
 ],
 "metadata": {
  "kernelspec": {
   "display_name": "base",
   "language": "python",
   "name": "python3"
  },
  "language_info": {
   "codemirror_mode": {
    "name": "ipython",
    "version": 3
   },
   "file_extension": ".py",
   "mimetype": "text/x-python",
   "name": "python",
   "nbconvert_exporter": "python",
   "pygments_lexer": "ipython3",
   "version": "3.9.5"
  },
  "orig_nbformat": 4
 },
 "nbformat": 4,
 "nbformat_minor": 2
}
