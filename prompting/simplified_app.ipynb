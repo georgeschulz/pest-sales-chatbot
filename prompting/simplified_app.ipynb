{
 "cells": [
  {
   "cell_type": "code",
   "execution_count": 1,
   "metadata": {},
   "outputs": [
    {
     "name": "stdout",
     "output_type": "stream",
     "text": [
      "Running Chroma using direct local API.\n",
      "loaded in 78 embeddings\n",
      "loaded in 1 collections\n",
      "collection with name langchain already exists, returning existing collection\n",
      "Running Chroma using direct local API.\n",
      "loaded in 0 embeddings\n",
      "loaded in 1 collections\n",
      "collection with name langchain already exists, returning existing collection\n"
     ]
    }
   ],
   "source": [
    "import pandas as pd\n",
    "import openai\n",
    "from dotenv import load_dotenv\n",
    "load_dotenv()\n",
    "import os\n",
    "from langchain.prompts import load_prompt\n",
    "from langchain.llms import OpenAIChat\n",
    "import sys\n",
    "pd.options.mode.chained_assignment = None\n",
    "from langchain.callbacks import get_openai_callback\n",
    "from langchain.embeddings.openai import OpenAIEmbeddings\n",
    "from langchain.vectorstores import Chroma\n",
    "from langchain.text_splitter import CharacterTextSplitter\n",
    "from langchain.document_loaders import TextLoader\n",
    "from langchain import PromptTemplate\n",
    "from langchain.chains import LLMChain\n",
    "\n",
    "from langchain.chat_models import ChatOpenAI\n",
    "from langchain.schema import (\n",
    "    AIMessage,\n",
    "    HumanMessage,\n",
    "    SystemMessage\n",
    ")\n",
    "\n",
    "import sys\n",
    "sys.path.append('./modules/')\n",
    "openai.api_key = os.getenv('OPENAI_KEY')\n",
    "key = os.getenv('OPENAI_KEY')\n",
    "\n",
    "import stripe\n",
    "stripe.api_key = os.getenv('STRIPE_KEY')\n",
    "\n",
    "from extract_issue import extract_issue\n",
    "from extract_issue import extract_issue_analyzer\n",
    "from ChooseService import analyze_situation_sequential\n",
    "\n",
    "BOLD = '\\033[4m'\n",
    "GREEN = '\\033[92m'\n",
    "RED = '\\033[91m'\n",
    "BLUE = '\\033[94m'\n",
    "END = '\\033[0m'"
   ]
  },
  {
   "cell_type": "code",
   "execution_count": 2,
   "metadata": {},
   "outputs": [],
   "source": [
    "chat = ChatOpenAI(openai_api_key=key)\n",
    "gpt4 = ChatOpenAI(openai_api_key=key, model='gpt-4')"
   ]
  },
  {
   "cell_type": "code",
   "execution_count": 3,
   "metadata": {},
   "outputs": [
    {
     "name": "stdout",
     "output_type": "stream",
     "text": [
      "Running Chroma using direct local API.\n",
      "loaded in 119 embeddings\n",
      "loaded in 1 collections\n",
      "collection with name langchain already exists, returning existing collection\n"
     ]
    }
   ],
   "source": [
    "embeddings = OpenAIEmbeddings(openai_api_key=key)\n",
    "policies = Chroma(persist_directory='data/policies-db/', embedding_function=embeddings)"
   ]
  },
  {
   "cell_type": "code",
   "execution_count": 4,
   "metadata": {},
   "outputs": [
    {
     "name": "stdout",
     "output_type": "stream",
     "text": [
      "Our pest control services do not cover bed bugs, any type of wildlife (including squirrels, raccoons, and snakes), or any other animal infestations.\n",
      "While we strive to provide comprehensive pest control services, we do not cover bed bugs, wildlife, or other animal infestations. Customers with these issues should contact qualified professionals who specialize in bed bug treatments or wildlife removal. Our technicians are available to provide recommendations and assistance with identifying these issues. If you have any questions or concerns regarding bed bugs, wildlife, or other animals, please contact us at 703-683-2000.\n",
      "Not covered pests for quarterly pest control program: Rats, mice, mosquitoes, American roaches, German roaches, roaches, termites, exterior ticks, squirrels\n"
     ]
    }
   ],
   "source": [
    "docs = policies.similarity_search('squirrel issue', 3)\n",
    "content = [doc.page_content for doc in docs]\n",
    "content = '\\n'.join(content)\n",
    "print(content)"
   ]
  },
  {
   "cell_type": "code",
   "execution_count": 5,
   "metadata": {},
   "outputs": [],
   "source": [
    "template = \"\"\"You are a helpful sales agent communicating with a prospect for Better Termite & Pest Control through a chat window. You should come off as cool, relaxed and informal, but helpful. Try to avoid asking multiple questions in one response. Avoid overly formal words and phrases. Use a maximum of one emoji per two responses.\n",
    "\n",
    "You should structure the conversation in the following way. Take the lead in the conversation by asking questions. Make sure you complete all the requirements before moving on to the next stage.\n",
    "\n",
    "Stage 1: Take lead of conversation\n",
    "Ask the customer's permission to ask questions to understand their issue so you can provide an accurate quote.\n",
    "Compete when: the customer has given permission\n",
    "\n",
    "Stage 2: Discover customer issue\n",
    "Gather details about the customer's issue. Show empathy and try to expose things that are bothering the lead. Be patient and empathetic. \n",
    "Complete when: you have the following info:\n",
    "-The location of the issue on the property\n",
    "-Property square footage\n",
    "-Property acreage\n",
    "-Type of property (single family, townhome, apartment, condo, commercial, etc)\n",
    "-Name of any pests they are dealing with\n",
    "\n",
    "Here are some details about your business that may be helpful to answer the question. Do not make up the answer:\n",
    "\n",
    "{relevant_policies}\n",
    "\n",
    "Once you have completed these stages, do not continue. Simply write: <end>\"\"\"\n",
    "\n",
    "#save as a prompt\n",
    "prompt = PromptTemplate(\n",
    "    input_variables=['relevant_policies'],\n",
    "    template=template,\n",
    ")\n",
    "\n",
    "prompt.save('prompts/mega_prompts/discovery.json')"
   ]
  },
  {
   "cell_type": "code",
   "execution_count": 6,
   "metadata": {},
   "outputs": [],
   "source": [
    "def format(tag, text):\n",
    "    return f'{BOLD}{RED}{tag}{END}: {text.content} \\n\\n'\n",
    "\n",
    "class Conversation:\n",
    "    def __init__(self, system_prompt, initial_message=None, show_transcript=True, use_gpt4=False):\n",
    "        self.system_prompt = system_prompt\n",
    "        self.initial_message = initial_message\n",
    "        self.back_and_forth = []\n",
    "        self.show_transcript = show_transcript\n",
    "        self.use_gpt4 = use_gpt4\n",
    "        self.stage = 'discovery'\n",
    "        self.policies = policies\n",
    "        self.offers = None\n",
    "    \n",
    "    def __repr__(self):\n",
    "        transcript = ''\n",
    "        for message in self.history():\n",
    "            if isinstance(message, AIMessage):\n",
    "                transcript += format('AI', message)\n",
    "            elif isinstance(message, HumanMessage):\n",
    "                transcript += format('Human', message)\n",
    "            elif isinstance(message, SystemMessage):\n",
    "                transcript += format('System', message)\n",
    "        return transcript\n",
    "\n",
    "    def __str__(self):\n",
    "        return self.__repr__()\n",
    "    \n",
    "    def natural_history(self):\n",
    "        msgs = []\n",
    "        for message in self.history():\n",
    "            if isinstance(message, AIMessage):\n",
    "                msgs.append(\"Agent: \" + message.content)\n",
    "            elif isinstance(message, HumanMessage):\n",
    "                msgs.append(\"Customer: \" + message.content)\n",
    "        natural_lang = '\\n'.join(msgs)\n",
    "        return natural_lang\n",
    "    \n",
    "    def history(self):\n",
    "        initialization = [\n",
    "            SystemMessage(content=self.system_prompt.format(relevant_policies=self.policies)), \n",
    "            AIMessage(content=self.initial_message)\n",
    "        ]\n",
    "        return initialization + self.back_and_forth\n",
    "    \n",
    "    def display(self):\n",
    "        history = self.history()\n",
    "        last_message = history[-1]\n",
    "        if self.show_transcript:\n",
    "            print(self)\n",
    "        else:\n",
    "            print(last_message.content)\n",
    "    \n",
    "    def update_policies(self, text):\n",
    "        docs = policies.similarity_search(text, 3)\n",
    "        content = [doc.page_content for doc in docs]\n",
    "        content = '\\n'.join(content)\n",
    "        self.policies = content\n",
    "\n",
    "    def complete(self):\n",
    "        history = self.history()\n",
    "        if self.use_gpt4:\n",
    "            response = gpt4(history)\n",
    "        else:\n",
    "            response = chat(history)\n",
    "        return response\n",
    "\n",
    "    def toggle_output(self):\n",
    "        self.show_transcript = not self.show_transcript\n",
    "        if self.show_transcript:\n",
    "            print(GREEN + 'Showing transcript', END)\n",
    "        else:\n",
    "            print(RED + 'Hiding transcript', END)\n",
    "\n",
    "    def ask(self, text):\n",
    "        self.back_and_forth.append(HumanMessage(content=text))\n",
    "        self.update_policies(text)\n",
    "        completion = self.complete()\n",
    "        is_done = '<end>' in completion.content\n",
    "        \n",
    "        #handle the conversation script\n",
    "        if self.stage == 'discovery' and is_done:\n",
    "            self.back_and_forth.append(AIMessage(content=\"\"\"Well don't fret John. We see this kind of thing all the time. Give me just a second to check some pricing for you!\"\"\"))\n",
    "            print(\"Well don't fret John. We see this kind of thing all the time. Give me just a second to check some pricing for you!\")\n",
    "            issues = extract_issue_analyzer(self.natural_history())\n",
    "            print(issues)\n",
    "            targets = issues['target_pests']\n",
    "            history = self.natural_history()\n",
    "            square_footage = issues['square_footage']\n",
    "            property_type = issues['property_type']\n",
    "            acres = issues['acres']\n",
    "\n",
    "            # run a prebuilt \"thought\" that retrieves experiences, analyzes the conversation, calculates pricing and then returns a pitch\n",
    "            pitch = analyze_situation_sequential({\n",
    "                \"property_type\": property_type,\n",
    "                \"square_footage\": square_footage,\n",
    "                \"acres\": acres,\n",
    "                \"target\": targets,\n",
    "                \"conversation_history\": history\n",
    "            })\n",
    "            self.back_and_forth.append(AIMessage(content=pitch['final pitch']))\n",
    "            self.offers = pitch['service_offers_formatted']\n",
    "            self.stage = 'free-form'\n",
    "            \n",
    "        else:\n",
    "            self.back_and_forth.append(AIMessage(content=completion.content))\n",
    "\n",
    "        self.display()"
   ]
  },
  {
   "cell_type": "code",
   "execution_count": 27,
   "metadata": {},
   "outputs": [],
   "source": [
    "discovery_prompt = load_prompt('prompts/mega_prompts/discovery.json')\n",
    "initial_message = 'Hi John, how can I help you today?'\n",
    "agent = Conversation(discovery_prompt, initial_message, use_gpt4=True)"
   ]
  },
  {
   "cell_type": "code",
   "execution_count": 28,
   "metadata": {},
   "outputs": [
    {
     "name": "stdout",
     "output_type": "stream",
     "text": [
      "\u001b[91mHiding transcript \u001b[0m\n"
     ]
    }
   ],
   "source": [
    "agent.toggle_output()"
   ]
  },
  {
   "cell_type": "code",
   "execution_count": 29,
   "metadata": {},
   "outputs": [
    {
     "name": "stdout",
     "output_type": "stream",
     "text": [
      "Absolutely, we have our Lawnshield Mosquito Strategy that can help you enjoy your yard again! 😊 Can I ask you a few questions to understand your needs and provide you with an accurate quote?\n"
     ]
    }
   ],
   "source": [
    "agent.ask('Do you offer mosquito control?')"
   ]
  },
  {
   "cell_type": "code",
   "execution_count": 30,
   "metadata": {},
   "outputs": [
    {
     "name": "stdout",
     "output_type": "stream",
     "text": [
      "Great, let's start with the location of the issue on your property. Where are you experiencing the most mosquito activity?\n"
     ]
    }
   ],
   "source": [
    "agent.ask('Sure thats fine')"
   ]
  },
  {
   "cell_type": "code",
   "execution_count": 32,
   "metadata": {},
   "outputs": [
    {
     "name": "stdout",
     "output_type": "stream",
     "text": [
      "Thanks! And what about the acreage of your property? This will help us in determining the appropriate service plan for you.\n"
     ]
    }
   ],
   "source": [
    "agent.ask('3000 square feet')"
   ]
  },
  {
   "cell_type": "code",
   "execution_count": 33,
   "metadata": {},
   "outputs": [
    {
     "name": "stdout",
     "output_type": "stream",
     "text": [
      "Sounds like a nice space! Now, can you please let me know the type of property you have? Is it a single-family home, townhome, apartment, condo, or commercial property?\n"
     ]
    }
   ],
   "source": [
    "agent.ask('2.5 acres')"
   ]
  },
  {
   "cell_type": "code",
   "execution_count": 34,
   "metadata": {},
   "outputs": [
    {
     "name": "stdout",
     "output_type": "stream",
     "text": [
      "Perfect, thanks for the information. And besides mosquitos, are you dealing with any other pests that you'd like us to address as well? 🐛\n",
      "\n"
     ]
    }
   ],
   "source": [
    "agent.ask('its a single family town home')"
   ]
  },
  {
   "cell_type": "code",
   "execution_count": 35,
   "metadata": {},
   "outputs": [
    {
     "name": "stdout",
     "output_type": "stream",
     "text": [
      "Well don't fret John. We see this kind of thing all the time. Give me just a second to check some pricing for you!\n",
      "{'pest_id': '16', 'special_instructions': None, 'location': 'All throughout the yard, but mostly back patio', 'square_footage': '3000', 'property_type': 'Single Family Home', 'acres': '2.5', 'target_pests': 'mosquitoes'}\n",
      "\n",
      "\n",
      "\u001b[1m> Entering new SequentialChain chain...\u001b[0m\n",
      "\n",
      "\u001b[1m> Finished chain.\u001b[0m\n",
      "Based on your needs, I would recommend our Lawnshield Mosquito Strategy with our IN2Care program. This program involves placing mosquito traps throughout your property and offers a green strategy that's perfect for a townhome like yours. With our program, you can enjoy your lawn without having to worry about mosquito bites or the anxiety that comes with these pests! Plus, our automatic billing and scheduling will make things simple and easy for you. The initial cost for this program is $168 and the recurring price is $84. Would you like me to set you up with this service plan today? 😊 \n",
      "\n",
      "Payment Link: https://checkout.stripe.com/c/pay/cs_test_a1nSl2AbGzjbrSr2JsQPA4jVRAyk5oRcyIbR71nhR8HOwt3vFXNjktFEDY#fidkdWxOYHwnPyd1blpxYHZxWjA0TTJoRHZOaGtxTUlPdF9PR1VGYGdOXHMwVU4zNFVkXERqbWlITX82VHdmaVxtXFZSYHdOaGZTa0RUa1Y0ZEpjVF9CVV9KYzBnTEB9a1cxUmc0TGNwZEwyNTU2UTVmc1JgZicpJ2N3amhWYHdzYHcnP3F3cGApJ2lkfGpwcVF8dWAnPyd2bGtiaWBabHFgaCcpJ2BrZGdpYFVpZGZgbWppYWB3dic%2FcXdwYHgl\n"
     ]
    }
   ],
   "source": [
    "agent.ask('sorry I meant its a single family home. and its just mosquitoes i am seeing')\n"
   ]
  },
  {
   "cell_type": "code",
   "execution_count": 36,
   "metadata": {},
   "outputs": [
    {
     "name": "stdout",
     "output_type": "stream",
     "text": [
      "Agent: Hi John, how can I help you today?\n",
      "Customer: Do you offer mosquito control?\n",
      "Agent: Absolutely, we have our Lawnshield Mosquito Strategy that can help you enjoy your yard again! 😊 Can I ask you a few questions to understand your needs and provide you with an accurate quote?\n",
      "Customer: Sure thats fine\n",
      "Agent: Great, let's start with the location of the issue on your property. Where are you experiencing the most mosquito activity?\n",
      "Customer: All throughout the yard but mostly the back patio\n",
      "Agent: Got it, thanks for the info. Can you tell me the square footage of your property? This will help me get an idea of the area we'll need to treat.\n",
      "Customer: 3000 square feet\n",
      "Agent: Thanks! And what about the acreage of your property? This will help us in determining the appropriate service plan for you.\n",
      "Customer: 2.5 acres\n",
      "Agent: Sounds like a nice space! Now, can you please let me know the type of property you have? Is it a single-family home, townhome, apartment, condo, or commercial property?\n",
      "Customer: its a single family town home\n",
      "Agent: Perfect, thanks for the information. And besides mosquitos, are you dealing with any other pests that you'd like us to address as well? 🐛\n",
      "\n",
      "Customer: sorry I meant its a single family home. and its just mosquitoes i am seeing\n",
      "Agent: Well don't fret John. We see this kind of thing all the time. Give me just a second to check some pricing for you!\n",
      "Agent: Based on your needs, I would recommend our Lawnshield Mosquito Strategy with our IN2Care program. This program involves placing mosquito traps throughout your property and offers a green strategy that's perfect for a townhome like yours. With our program, you can enjoy your lawn without having to worry about mosquito bites or the anxiety that comes with these pests! Plus, our automatic billing and scheduling will make things simple and easy for you. The initial cost for this program is $168 and the recurring price is $84. Would you like me to set you up with this service plan today? 😊 \n",
      "\n",
      "Payment Link: https://checkout.stripe.com/c/pay/cs_test_a1nSl2AbGzjbrSr2JsQPA4jVRAyk5oRcyIbR71nhR8HOwt3vFXNjktFEDY#fidkdWxOYHwnPyd1blpxYHZxWjA0TTJoRHZOaGtxTUlPdF9PR1VGYGdOXHMwVU4zNFVkXERqbWlITX82VHdmaVxtXFZSYHdOaGZTa0RUa1Y0ZEpjVF9CVV9KYzBnTEB9a1cxUmc0TGNwZEwyNTU2UTVmc1JgZicpJ2N3amhWYHdzYHcnP3F3cGApJ2lkfGpwcVF8dWAnPyd2bGtiaWBabHFgaCcpJ2BrZGdpYFVpZGZgbWppYWB3dic%2FcXdwYHgl\n"
     ]
    }
   ],
   "source": [
    "print(agent.natural_history())"
   ]
  },
  {
   "cell_type": "code",
   "execution_count": 37,
   "metadata": {},
   "outputs": [
    {
     "name": "stdout",
     "output_type": "stream",
     "text": [
      "IN2Care\n",
      "Initial Price: $168\n",
      "Recurring Price: $84\n",
      "Description: Green tick and mosquito control program involving mosquito traps that are placed throughout the property. Offers a lower amount of protection than spraying.\n",
      "Covered Pests: mosquitoes\n",
      "Best For: Customers who have a mosquito issue and want a green strategy or don't want spraying\n",
      "Frequency: Monthly April to October\n",
      "Level of Protection: Average\n",
      "Benefits: Stop itchy mosquito bites; Enjoy your lawn without anxiety about mosquitoes; A feel-good green option to avoid chemicals and protect the environment;  Easy autopilot system with automatic billing and scheduling\n",
      "Payment Link: <pay:Program 6>\n",
      "\n",
      "IN2Care\n",
      "Initial Price: $168\n",
      "Recurring Price: $84\n",
      "Description: Green tick and mosquito control program involving mosquito traps that are placed throughout the property. Offers a lower amount of protection than spraying.\n",
      "Covered Pests: mosquitoes\n",
      "Best For: Customers who have a mosquito issue and want a green strategy or don't want spraying\n",
      "Frequency: Monthly April to October\n",
      "Level of Protection: Average\n",
      "Benefits: Stop itchy mosquito bites; Enjoy your lawn without anxiety about mosquitoes; A feel-good green option to avoid chemicals and protect the environment;  Easy autopilot system with automatic billing and scheduling\n",
      "Payment Link: <pay:Program 6>\n",
      "\n",
      "\n"
     ]
    }
   ],
   "source": [
    "print(agent.offers)"
   ]
  },
  {
   "cell_type": "code",
   "execution_count": 2,
   "metadata": {},
   "outputs": [
    {
     "name": "stdout",
     "output_type": "stream",
     "text": [
      "\n",
      "\n",
      "\u001b[1m> Entering new SequentialChain chain...\u001b[0m\n"
     ]
    },
    {
     "ename": "NoIndexException",
     "evalue": "Index is not initialized",
     "output_type": "error",
     "traceback": [
      "\u001b[0;31m---------------------------------------------------------------------------\u001b[0m",
      "\u001b[0;31mNoIndexException\u001b[0m                          Traceback (most recent call last)",
      "Cell \u001b[0;32mIn[2], line 15\u001b[0m\n\u001b[1;32m      1\u001b[0m hist \u001b[39m=\u001b[39m \u001b[39m\"\"\"\u001b[39m\u001b[39m\"\u001b[39m\u001b[39mAgent: Hi John, how can I help you today?\u001b[39m\n\u001b[1;32m      2\u001b[0m \u001b[39mCustomer: Do you offer mosquito control?\u001b[39m\n\u001b[1;32m      3\u001b[0m \u001b[39mAgent: Absolutely, we have our Lawnshield Mosquito Strategy that can help you enjoy your yard again! 😊 Can I ask you a few questions to understand your needs and provide you with an accurate quote?\u001b[39m\n\u001b[0;32m   (...)\u001b[0m\n\u001b[1;32m     12\u001b[0m \u001b[39mCustomer: its a single family town home\u001b[39m\n\u001b[1;32m     13\u001b[0m \u001b[39mAgent: Perfect, thanks for the information. And besides mosquitos, are you dealing with any other pests that you\u001b[39m\u001b[39m'\u001b[39m\u001b[39md like us to address as well? 🐛\u001b[39m\u001b[39m\"\"\"\u001b[39m\n\u001b[0;32m---> 15\u001b[0m test_response \u001b[39m=\u001b[39m analyze_situation_sequential({\n\u001b[1;32m     16\u001b[0m     \u001b[39m\"\u001b[39;49m\u001b[39mproperty_type\u001b[39;49m\u001b[39m\"\u001b[39;49m: \u001b[39m\"\u001b[39;49m\u001b[39msingle family home\u001b[39;49m\u001b[39m\"\u001b[39;49m,\n\u001b[1;32m     17\u001b[0m     \u001b[39m\"\u001b[39;49m\u001b[39msquare_footage\u001b[39;49m\u001b[39m\"\u001b[39;49m: \u001b[39m3000\u001b[39;49m,\n\u001b[1;32m     18\u001b[0m     \u001b[39m\"\u001b[39;49m\u001b[39macres\u001b[39;49m\u001b[39m\"\u001b[39;49m: \u001b[39m2.5\u001b[39;49m,\n\u001b[1;32m     19\u001b[0m     \u001b[39m\"\u001b[39;49m\u001b[39mtarget\u001b[39;49m\u001b[39m\"\u001b[39;49m: \u001b[39m'\u001b[39;49m\u001b[39mmosquito\u001b[39;49m\u001b[39m'\u001b[39;49m,\n\u001b[1;32m     20\u001b[0m     \u001b[39m\"\u001b[39;49m\u001b[39mconversation_history\u001b[39;49m\u001b[39m\"\u001b[39;49m: hist\n\u001b[1;32m     21\u001b[0m })\n",
      "File \u001b[0;32m~/Documents/Projects/pest-sales-chatbot/.venv/lib/python3.8/site-packages/langchain/chains/base.py:116\u001b[0m, in \u001b[0;36mChain.__call__\u001b[0;34m(self, inputs, return_only_outputs)\u001b[0m\n\u001b[1;32m    114\u001b[0m \u001b[39mexcept\u001b[39;00m (\u001b[39mKeyboardInterrupt\u001b[39;00m, \u001b[39mException\u001b[39;00m) \u001b[39mas\u001b[39;00m e:\n\u001b[1;32m    115\u001b[0m     \u001b[39mself\u001b[39m\u001b[39m.\u001b[39mcallback_manager\u001b[39m.\u001b[39mon_chain_error(e, verbose\u001b[39m=\u001b[39m\u001b[39mself\u001b[39m\u001b[39m.\u001b[39mverbose)\n\u001b[0;32m--> 116\u001b[0m     \u001b[39mraise\u001b[39;00m e\n\u001b[1;32m    117\u001b[0m \u001b[39mself\u001b[39m\u001b[39m.\u001b[39mcallback_manager\u001b[39m.\u001b[39mon_chain_end(outputs, verbose\u001b[39m=\u001b[39m\u001b[39mself\u001b[39m\u001b[39m.\u001b[39mverbose)\n\u001b[1;32m    118\u001b[0m \u001b[39mreturn\u001b[39;00m \u001b[39mself\u001b[39m\u001b[39m.\u001b[39mprep_outputs(inputs, outputs, return_only_outputs)\n",
      "File \u001b[0;32m~/Documents/Projects/pest-sales-chatbot/.venv/lib/python3.8/site-packages/langchain/chains/base.py:113\u001b[0m, in \u001b[0;36mChain.__call__\u001b[0;34m(self, inputs, return_only_outputs)\u001b[0m\n\u001b[1;32m    107\u001b[0m \u001b[39mself\u001b[39m\u001b[39m.\u001b[39mcallback_manager\u001b[39m.\u001b[39mon_chain_start(\n\u001b[1;32m    108\u001b[0m     {\u001b[39m\"\u001b[39m\u001b[39mname\u001b[39m\u001b[39m\"\u001b[39m: \u001b[39mself\u001b[39m\u001b[39m.\u001b[39m\u001b[39m__class__\u001b[39m\u001b[39m.\u001b[39m\u001b[39m__name__\u001b[39m},\n\u001b[1;32m    109\u001b[0m     inputs,\n\u001b[1;32m    110\u001b[0m     verbose\u001b[39m=\u001b[39m\u001b[39mself\u001b[39m\u001b[39m.\u001b[39mverbose,\n\u001b[1;32m    111\u001b[0m )\n\u001b[1;32m    112\u001b[0m \u001b[39mtry\u001b[39;00m:\n\u001b[0;32m--> 113\u001b[0m     outputs \u001b[39m=\u001b[39m \u001b[39mself\u001b[39;49m\u001b[39m.\u001b[39;49m_call(inputs)\n\u001b[1;32m    114\u001b[0m \u001b[39mexcept\u001b[39;00m (\u001b[39mKeyboardInterrupt\u001b[39;00m, \u001b[39mException\u001b[39;00m) \u001b[39mas\u001b[39;00m e:\n\u001b[1;32m    115\u001b[0m     \u001b[39mself\u001b[39m\u001b[39m.\u001b[39mcallback_manager\u001b[39m.\u001b[39mon_chain_error(e, verbose\u001b[39m=\u001b[39m\u001b[39mself\u001b[39m\u001b[39m.\u001b[39mverbose)\n",
      "File \u001b[0;32m~/Documents/Projects/pest-sales-chatbot/.venv/lib/python3.8/site-packages/langchain/chains/sequential.py:92\u001b[0m, in \u001b[0;36mSequentialChain._call\u001b[0;34m(self, inputs)\u001b[0m\n\u001b[1;32m     90\u001b[0m known_values \u001b[39m=\u001b[39m inputs\u001b[39m.\u001b[39mcopy()\n\u001b[1;32m     91\u001b[0m \u001b[39mfor\u001b[39;00m i, chain \u001b[39min\u001b[39;00m \u001b[39menumerate\u001b[39m(\u001b[39mself\u001b[39m\u001b[39m.\u001b[39mchains):\n\u001b[0;32m---> 92\u001b[0m     outputs \u001b[39m=\u001b[39m chain(known_values, return_only_outputs\u001b[39m=\u001b[39;49m\u001b[39mTrue\u001b[39;49;00m)\n\u001b[1;32m     93\u001b[0m     known_values\u001b[39m.\u001b[39mupdate(outputs)\n\u001b[1;32m     94\u001b[0m \u001b[39mreturn\u001b[39;00m {k: known_values[k] \u001b[39mfor\u001b[39;00m k \u001b[39min\u001b[39;00m \u001b[39mself\u001b[39m\u001b[39m.\u001b[39moutput_variables}\n",
      "File \u001b[0;32m~/Documents/Projects/pest-sales-chatbot/.venv/lib/python3.8/site-packages/langchain/chains/base.py:116\u001b[0m, in \u001b[0;36mChain.__call__\u001b[0;34m(self, inputs, return_only_outputs)\u001b[0m\n\u001b[1;32m    114\u001b[0m \u001b[39mexcept\u001b[39;00m (\u001b[39mKeyboardInterrupt\u001b[39;00m, \u001b[39mException\u001b[39;00m) \u001b[39mas\u001b[39;00m e:\n\u001b[1;32m    115\u001b[0m     \u001b[39mself\u001b[39m\u001b[39m.\u001b[39mcallback_manager\u001b[39m.\u001b[39mon_chain_error(e, verbose\u001b[39m=\u001b[39m\u001b[39mself\u001b[39m\u001b[39m.\u001b[39mverbose)\n\u001b[0;32m--> 116\u001b[0m     \u001b[39mraise\u001b[39;00m e\n\u001b[1;32m    117\u001b[0m \u001b[39mself\u001b[39m\u001b[39m.\u001b[39mcallback_manager\u001b[39m.\u001b[39mon_chain_end(outputs, verbose\u001b[39m=\u001b[39m\u001b[39mself\u001b[39m\u001b[39m.\u001b[39mverbose)\n\u001b[1;32m    118\u001b[0m \u001b[39mreturn\u001b[39;00m \u001b[39mself\u001b[39m\u001b[39m.\u001b[39mprep_outputs(inputs, outputs, return_only_outputs)\n",
      "File \u001b[0;32m~/Documents/Projects/pest-sales-chatbot/.venv/lib/python3.8/site-packages/langchain/chains/base.py:113\u001b[0m, in \u001b[0;36mChain.__call__\u001b[0;34m(self, inputs, return_only_outputs)\u001b[0m\n\u001b[1;32m    107\u001b[0m \u001b[39mself\u001b[39m\u001b[39m.\u001b[39mcallback_manager\u001b[39m.\u001b[39mon_chain_start(\n\u001b[1;32m    108\u001b[0m     {\u001b[39m\"\u001b[39m\u001b[39mname\u001b[39m\u001b[39m\"\u001b[39m: \u001b[39mself\u001b[39m\u001b[39m.\u001b[39m\u001b[39m__class__\u001b[39m\u001b[39m.\u001b[39m\u001b[39m__name__\u001b[39m},\n\u001b[1;32m    109\u001b[0m     inputs,\n\u001b[1;32m    110\u001b[0m     verbose\u001b[39m=\u001b[39m\u001b[39mself\u001b[39m\u001b[39m.\u001b[39mverbose,\n\u001b[1;32m    111\u001b[0m )\n\u001b[1;32m    112\u001b[0m \u001b[39mtry\u001b[39;00m:\n\u001b[0;32m--> 113\u001b[0m     outputs \u001b[39m=\u001b[39m \u001b[39mself\u001b[39;49m\u001b[39m.\u001b[39;49m_call(inputs)\n\u001b[1;32m    114\u001b[0m \u001b[39mexcept\u001b[39;00m (\u001b[39mKeyboardInterrupt\u001b[39;00m, \u001b[39mException\u001b[39;00m) \u001b[39mas\u001b[39;00m e:\n\u001b[1;32m    115\u001b[0m     \u001b[39mself\u001b[39m\u001b[39m.\u001b[39mcallback_manager\u001b[39m.\u001b[39mon_chain_error(e, verbose\u001b[39m=\u001b[39m\u001b[39mself\u001b[39m\u001b[39m.\u001b[39mverbose)\n",
      "File \u001b[0;32m~/Documents/Projects/pest-sales-chatbot/.venv/lib/python3.8/site-packages/langchain/chains/transform.py:41\u001b[0m, in \u001b[0;36mTransformChain._call\u001b[0;34m(self, inputs)\u001b[0m\n\u001b[1;32m     40\u001b[0m \u001b[39mdef\u001b[39;00m \u001b[39m_call\u001b[39m(\u001b[39mself\u001b[39m, inputs: Dict[\u001b[39mstr\u001b[39m, \u001b[39mstr\u001b[39m]) \u001b[39m-\u001b[39m\u001b[39m>\u001b[39m Dict[\u001b[39mstr\u001b[39m, \u001b[39mstr\u001b[39m]:\n\u001b[0;32m---> 41\u001b[0m     \u001b[39mreturn\u001b[39;00m \u001b[39mself\u001b[39;49m\u001b[39m.\u001b[39;49mtransform(inputs)\n",
      "File \u001b[0;32m~/Documents/Projects/pest-sales-chatbot/prompting/./modules/ChooseService.py:119\u001b[0m, in \u001b[0;36mget_relevant_services\u001b[0;34m(inputs)\u001b[0m\n\u001b[1;32m    117\u001b[0m analysis \u001b[39m=\u001b[39m inputs[\u001b[39m\"\u001b[39m\u001b[39msituation_analysis\u001b[39m\u001b[39m\"\u001b[39m]\n\u001b[1;32m    118\u001b[0m \u001b[39m#print(GREEN + 'STEP: Getting relevant services' + RESET)\u001b[39;00m\n\u001b[0;32m--> 119\u001b[0m service_search_results \u001b[39m=\u001b[39m service_description_search\u001b[39m.\u001b[39;49msimilarity_search(analysis, \u001b[39m3\u001b[39;49m)\n\u001b[1;32m    120\u001b[0m \u001b[39m#extract the services as a dict from the search results (they are json stored in .page_content)\u001b[39;00m\n\u001b[1;32m    121\u001b[0m service_search_results \u001b[39m=\u001b[39m [json\u001b[39m.\u001b[39mloads(result\u001b[39m.\u001b[39mpage_content) \u001b[39mfor\u001b[39;00m result \u001b[39min\u001b[39;00m service_search_results]\n",
      "File \u001b[0;32m~/Documents/Projects/pest-sales-chatbot/.venv/lib/python3.8/site-packages/langchain/vectorstores/chroma.py:133\u001b[0m, in \u001b[0;36mChroma.similarity_search\u001b[0;34m(self, query, k, filter, **kwargs)\u001b[0m\n\u001b[1;32m    116\u001b[0m \u001b[39mdef\u001b[39;00m \u001b[39msimilarity_search\u001b[39m(\n\u001b[1;32m    117\u001b[0m     \u001b[39mself\u001b[39m,\n\u001b[1;32m    118\u001b[0m     query: \u001b[39mstr\u001b[39m,\n\u001b[0;32m   (...)\u001b[0m\n\u001b[1;32m    121\u001b[0m     \u001b[39m*\u001b[39m\u001b[39m*\u001b[39mkwargs: Any,\n\u001b[1;32m    122\u001b[0m ) \u001b[39m-\u001b[39m\u001b[39m>\u001b[39m List[Document]:\n\u001b[1;32m    123\u001b[0m \u001b[39m    \u001b[39m\u001b[39m\"\"\"Run similarity search with Chroma.\u001b[39;00m\n\u001b[1;32m    124\u001b[0m \n\u001b[1;32m    125\u001b[0m \u001b[39m    Args:\u001b[39;00m\n\u001b[0;32m   (...)\u001b[0m\n\u001b[1;32m    131\u001b[0m \u001b[39m        List[Document]: List of documents most simmilar to the query text.\u001b[39;00m\n\u001b[1;32m    132\u001b[0m \u001b[39m    \"\"\"\u001b[39;00m\n\u001b[0;32m--> 133\u001b[0m     docs_and_scores \u001b[39m=\u001b[39m \u001b[39mself\u001b[39;49m\u001b[39m.\u001b[39;49msimilarity_search_with_score(query, k)\n\u001b[1;32m    134\u001b[0m     \u001b[39mreturn\u001b[39;00m [doc \u001b[39mfor\u001b[39;00m doc, _ \u001b[39min\u001b[39;00m docs_and_scores]\n",
      "File \u001b[0;32m~/Documents/Projects/pest-sales-chatbot/.venv/lib/python3.8/site-packages/langchain/vectorstores/chroma.py:176\u001b[0m, in \u001b[0;36mChroma.similarity_search_with_score\u001b[0;34m(self, query, k, filter, **kwargs)\u001b[0m\n\u001b[1;32m    174\u001b[0m \u001b[39melse\u001b[39;00m:\n\u001b[1;32m    175\u001b[0m     query_embedding \u001b[39m=\u001b[39m \u001b[39mself\u001b[39m\u001b[39m.\u001b[39m_embedding_function\u001b[39m.\u001b[39membed_query(query)\n\u001b[0;32m--> 176\u001b[0m     results \u001b[39m=\u001b[39m \u001b[39mself\u001b[39;49m\u001b[39m.\u001b[39;49m_collection\u001b[39m.\u001b[39;49mquery(\n\u001b[1;32m    177\u001b[0m         query_embeddings\u001b[39m=\u001b[39;49m[query_embedding], n_results\u001b[39m=\u001b[39;49mk, where\u001b[39m=\u001b[39;49m\u001b[39mfilter\u001b[39;49m\n\u001b[1;32m    178\u001b[0m     )\n\u001b[1;32m    180\u001b[0m \u001b[39mreturn\u001b[39;00m _results_to_docs_and_scores(results)\n",
      "File \u001b[0;32m~/Documents/Projects/pest-sales-chatbot/.venv/lib/python3.8/site-packages/chromadb/api/models/Collection.py:199\u001b[0m, in \u001b[0;36mCollection.query\u001b[0;34m(self, query_embeddings, query_texts, n_results, where, where_document, include)\u001b[0m\n\u001b[1;32m    196\u001b[0m \u001b[39mif\u001b[39;00m where_document \u001b[39mis\u001b[39;00m \u001b[39mNone\u001b[39;00m:\n\u001b[1;32m    197\u001b[0m     where_document \u001b[39m=\u001b[39m {}\n\u001b[0;32m--> 199\u001b[0m \u001b[39mreturn\u001b[39;00m \u001b[39mself\u001b[39;49m\u001b[39m.\u001b[39;49m_client\u001b[39m.\u001b[39;49m_query(\n\u001b[1;32m    200\u001b[0m     collection_name\u001b[39m=\u001b[39;49m\u001b[39mself\u001b[39;49m\u001b[39m.\u001b[39;49mname,\n\u001b[1;32m    201\u001b[0m     query_embeddings\u001b[39m=\u001b[39;49mquery_embeddings,\n\u001b[1;32m    202\u001b[0m     n_results\u001b[39m=\u001b[39;49mn_results,\n\u001b[1;32m    203\u001b[0m     where\u001b[39m=\u001b[39;49mwhere,\n\u001b[1;32m    204\u001b[0m     where_document\u001b[39m=\u001b[39;49mwhere_document,\n\u001b[1;32m    205\u001b[0m     include\u001b[39m=\u001b[39;49minclude,\n\u001b[1;32m    206\u001b[0m )\n",
      "File \u001b[0;32m~/Documents/Projects/pest-sales-chatbot/.venv/lib/python3.8/site-packages/chromadb/api/local.py:237\u001b[0m, in \u001b[0;36mLocalAPI._query\u001b[0;34m(self, collection_name, query_embeddings, n_results, where, where_document, include)\u001b[0m\n\u001b[1;32m    228\u001b[0m \u001b[39mdef\u001b[39;00m \u001b[39m_query\u001b[39m(\n\u001b[1;32m    229\u001b[0m     \u001b[39mself\u001b[39m,\n\u001b[1;32m    230\u001b[0m     collection_name,\n\u001b[0;32m   (...)\u001b[0m\n\u001b[1;32m    235\u001b[0m     include: Include \u001b[39m=\u001b[39m [\u001b[39m\"\u001b[39m\u001b[39mdocuments\u001b[39m\u001b[39m\"\u001b[39m, \u001b[39m\"\u001b[39m\u001b[39mmetadatas\u001b[39m\u001b[39m\"\u001b[39m, \u001b[39m\"\u001b[39m\u001b[39mdistances\u001b[39m\u001b[39m\"\u001b[39m],\n\u001b[1;32m    236\u001b[0m ):\n\u001b[0;32m--> 237\u001b[0m     uuids, distances \u001b[39m=\u001b[39m \u001b[39mself\u001b[39;49m\u001b[39m.\u001b[39;49m_db\u001b[39m.\u001b[39;49mget_nearest_neighbors(\n\u001b[1;32m    238\u001b[0m         collection_name\u001b[39m=\u001b[39;49mcollection_name,\n\u001b[1;32m    239\u001b[0m         where\u001b[39m=\u001b[39;49mwhere,\n\u001b[1;32m    240\u001b[0m         where_document\u001b[39m=\u001b[39;49mwhere_document,\n\u001b[1;32m    241\u001b[0m         embeddings\u001b[39m=\u001b[39;49mquery_embeddings,\n\u001b[1;32m    242\u001b[0m         n_results\u001b[39m=\u001b[39;49mn_results,\n\u001b[1;32m    243\u001b[0m     )\n\u001b[1;32m    245\u001b[0m     include_embeddings \u001b[39m=\u001b[39m \u001b[39m\"\u001b[39m\u001b[39membeddings\u001b[39m\u001b[39m\"\u001b[39m \u001b[39min\u001b[39;00m include\n\u001b[1;32m    246\u001b[0m     include_documents \u001b[39m=\u001b[39m \u001b[39m\"\u001b[39m\u001b[39mdocuments\u001b[39m\u001b[39m\"\u001b[39m \u001b[39min\u001b[39;00m include\n",
      "File \u001b[0;32m~/Documents/Projects/pest-sales-chatbot/.venv/lib/python3.8/site-packages/chromadb/db/clickhouse.py:483\u001b[0m, in \u001b[0;36mClickhouse.get_nearest_neighbors\u001b[0;34m(self, where, where_document, embeddings, n_results, collection_name, collection_uuid)\u001b[0m\n\u001b[1;32m    479\u001b[0m     collection_uuid \u001b[39m=\u001b[39m \u001b[39mself\u001b[39m\u001b[39m.\u001b[39mget_collection_uuid_from_name(collection_name)\n\u001b[1;32m    481\u001b[0m \u001b[39mself\u001b[39m\u001b[39m.\u001b[39m_idx\u001b[39m.\u001b[39mload_if_not_loaded(collection_uuid)\n\u001b[0;32m--> 483\u001b[0m idx_metadata \u001b[39m=\u001b[39m \u001b[39mself\u001b[39;49m\u001b[39m.\u001b[39;49m_idx\u001b[39m.\u001b[39;49mget_metadata()\n\u001b[1;32m    484\u001b[0m \u001b[39m# Check query embeddings dimensionality\u001b[39;00m\n\u001b[1;32m    485\u001b[0m \u001b[39mif\u001b[39;00m idx_metadata[\u001b[39m\"\u001b[39m\u001b[39mdimensionality\u001b[39m\u001b[39m\"\u001b[39m] \u001b[39m!=\u001b[39m \u001b[39mlen\u001b[39m(embeddings[\u001b[39m0\u001b[39m]):\n",
      "File \u001b[0;32m~/Documents/Projects/pest-sales-chatbot/.venv/lib/python3.8/site-packages/chromadb/db/index/hnswlib.py:52\u001b[0m, in \u001b[0;36mHnswlib.get_metadata\u001b[0;34m(self)\u001b[0m\n\u001b[1;32m     50\u001b[0m \u001b[39mdef\u001b[39;00m \u001b[39mget_metadata\u001b[39m(\u001b[39mself\u001b[39m) \u001b[39m-\u001b[39m\u001b[39m>\u001b[39m IndexMetadata:\n\u001b[1;32m     51\u001b[0m     \u001b[39mif\u001b[39;00m \u001b[39mself\u001b[39m\u001b[39m.\u001b[39m_index_metadata \u001b[39mis\u001b[39;00m \u001b[39mNone\u001b[39;00m:\n\u001b[0;32m---> 52\u001b[0m         \u001b[39mraise\u001b[39;00m NoIndexException(\u001b[39m\"\u001b[39m\u001b[39mIndex is not initialized\u001b[39m\u001b[39m\"\u001b[39m)\n\u001b[1;32m     53\u001b[0m     \u001b[39mreturn\u001b[39;00m \u001b[39mself\u001b[39m\u001b[39m.\u001b[39m_index_metadata\n",
      "\u001b[0;31mNoIndexException\u001b[0m: Index is not initialized"
     ]
    }
   ],
   "source": [
    "hist = \"\"\"\"Agent: Hi John, how can I help you today?\n",
    "Customer: Do you offer mosquito control?\n",
    "Agent: Absolutely, we have our Lawnshield Mosquito Strategy that can help you enjoy your yard again! 😊 Can I ask you a few questions to understand your needs and provide you with an accurate quote?\n",
    "Customer: Sure thats fine\n",
    "Agent: Great, let's start with the location of the issue on your property. Where are you experiencing the most mosquito activity?\n",
    "Customer: All throughout the yard but mostly the back patio\n",
    "Agent: Got it, thanks for the info. Can you tell me the square footage of your property? This will help me get an idea of the area we'll need to treat.\n",
    "Customer: 3000 square feet\n",
    "Agent: Thanks! And what about the acreage of your property? This will help us in determining the appropriate service plan for you.\n",
    "Customer: 2.5 acres\n",
    "Agent: Sounds like a nice space! Now, can you please let me know the type of property you have? Is it a single-family home, townhome, apartment, condo, or commercial property?\n",
    "Customer: its a single family town home\n",
    "Agent: Perfect, thanks for the information. And besides mosquitos, are you dealing with any other pests that you'd like us to address as well? 🐛\"\"\"\n",
    "\n",
    "test_response = analyze_situation_sequential({\n",
    "    \"property_type\": \"single family home\",\n",
    "    \"square_footage\": 3000,\n",
    "    \"acres\": 2.5,\n",
    "    \"target\": 'mosquito',\n",
    "    \"conversation_history\": hist\n",
    "})"
   ]
  },
  {
   "cell_type": "code",
   "execution_count": 65,
   "metadata": {},
   "outputs": [
    {
     "data": {
      "text/plain": [
       "'Based on the conversation, the customer is experiencing mosquito activity throughout their 2.5 acre, 3000 square foot single-family townhome property. The agent also asks about other pests, implying that the focus here is on mosquito control. The practical experiences mentioned suggest that factors like yard wetness, shade, and vegetation will affect the effectiveness of treatment and pricing. \\n\\nOverall, this issue seems to be of Medium severity. While the customer is experiencing a problem with mosquitos, it is not a life-threatening or urgent issue. However, it is impacting their ability to enjoy their yard and may be a nuisance. Additionally, the size of the property may require a more specific treatment plan and could result in higher prices.'"
      ]
     },
     "execution_count": 65,
     "metadata": {},
     "output_type": "execute_result"
    }
   ],
   "source": [
    "test_response['situation_analysis']"
   ]
  },
  {
   "cell_type": "code",
   "execution_count": 4,
   "metadata": {},
   "outputs": [
    {
     "ename": "NoIndexException",
     "evalue": "Index is not initialized",
     "output_type": "error",
     "traceback": [
      "\u001b[0;31m---------------------------------------------------------------------------\u001b[0m",
      "\u001b[0;31mNoIndexException\u001b[0m                          Traceback (most recent call last)",
      "Cell \u001b[0;32mIn[4], line 2\u001b[0m\n\u001b[1;32m      1\u001b[0m \u001b[39mfrom\u001b[39;00m \u001b[39mChooseService\u001b[39;00m \u001b[39mimport\u001b[39;00m service_description_search\n\u001b[0;32m----> 2\u001b[0m service_description_search\u001b[39m.\u001b[39;49msimilarity_search(\u001b[39m'\u001b[39;49m\u001b[39mBased on the conversation, the customer is experiencing mosquito activity throughout their 2.5 acre, 3000 square foot single-family townhome property. The agent also asks about other pests, implying that the focus here is on mosquito control. The practical experiences mentioned suggest that factors like yard wetness, shade, and vegetation will affect the effectiveness of treatment and pricing. \u001b[39;49m\u001b[39m\\n\u001b[39;49;00m\u001b[39m\\n\u001b[39;49;00m\u001b[39mOverall, this issue seems to be of Medium severity. While the customer is experiencing a problem with mosquitos, it is not a life-threatening or urgent issue. However, it is impacting their ability to enjoy their yard and may be a nuisance. Additionally, the size of the property may require a more specific treatment plan and could result in higher prices.\u001b[39;49m\u001b[39m'\u001b[39;49m, \u001b[39m3\u001b[39;49m)\n",
      "File \u001b[0;32m~/Documents/Projects/pest-sales-chatbot/.venv/lib/python3.8/site-packages/langchain/vectorstores/chroma.py:133\u001b[0m, in \u001b[0;36mChroma.similarity_search\u001b[0;34m(self, query, k, filter, **kwargs)\u001b[0m\n\u001b[1;32m    116\u001b[0m \u001b[39mdef\u001b[39;00m \u001b[39msimilarity_search\u001b[39m(\n\u001b[1;32m    117\u001b[0m     \u001b[39mself\u001b[39m,\n\u001b[1;32m    118\u001b[0m     query: \u001b[39mstr\u001b[39m,\n\u001b[0;32m   (...)\u001b[0m\n\u001b[1;32m    121\u001b[0m     \u001b[39m*\u001b[39m\u001b[39m*\u001b[39mkwargs: Any,\n\u001b[1;32m    122\u001b[0m ) \u001b[39m-\u001b[39m\u001b[39m>\u001b[39m List[Document]:\n\u001b[1;32m    123\u001b[0m \u001b[39m    \u001b[39m\u001b[39m\"\"\"Run similarity search with Chroma.\u001b[39;00m\n\u001b[1;32m    124\u001b[0m \n\u001b[1;32m    125\u001b[0m \u001b[39m    Args:\u001b[39;00m\n\u001b[0;32m   (...)\u001b[0m\n\u001b[1;32m    131\u001b[0m \u001b[39m        List[Document]: List of documents most simmilar to the query text.\u001b[39;00m\n\u001b[1;32m    132\u001b[0m \u001b[39m    \"\"\"\u001b[39;00m\n\u001b[0;32m--> 133\u001b[0m     docs_and_scores \u001b[39m=\u001b[39m \u001b[39mself\u001b[39;49m\u001b[39m.\u001b[39;49msimilarity_search_with_score(query, k)\n\u001b[1;32m    134\u001b[0m     \u001b[39mreturn\u001b[39;00m [doc \u001b[39mfor\u001b[39;00m doc, _ \u001b[39min\u001b[39;00m docs_and_scores]\n",
      "File \u001b[0;32m~/Documents/Projects/pest-sales-chatbot/.venv/lib/python3.8/site-packages/langchain/vectorstores/chroma.py:176\u001b[0m, in \u001b[0;36mChroma.similarity_search_with_score\u001b[0;34m(self, query, k, filter, **kwargs)\u001b[0m\n\u001b[1;32m    174\u001b[0m \u001b[39melse\u001b[39;00m:\n\u001b[1;32m    175\u001b[0m     query_embedding \u001b[39m=\u001b[39m \u001b[39mself\u001b[39m\u001b[39m.\u001b[39m_embedding_function\u001b[39m.\u001b[39membed_query(query)\n\u001b[0;32m--> 176\u001b[0m     results \u001b[39m=\u001b[39m \u001b[39mself\u001b[39;49m\u001b[39m.\u001b[39;49m_collection\u001b[39m.\u001b[39;49mquery(\n\u001b[1;32m    177\u001b[0m         query_embeddings\u001b[39m=\u001b[39;49m[query_embedding], n_results\u001b[39m=\u001b[39;49mk, where\u001b[39m=\u001b[39;49m\u001b[39mfilter\u001b[39;49m\n\u001b[1;32m    178\u001b[0m     )\n\u001b[1;32m    180\u001b[0m \u001b[39mreturn\u001b[39;00m _results_to_docs_and_scores(results)\n",
      "File \u001b[0;32m~/Documents/Projects/pest-sales-chatbot/.venv/lib/python3.8/site-packages/chromadb/api/models/Collection.py:199\u001b[0m, in \u001b[0;36mCollection.query\u001b[0;34m(self, query_embeddings, query_texts, n_results, where, where_document, include)\u001b[0m\n\u001b[1;32m    196\u001b[0m \u001b[39mif\u001b[39;00m where_document \u001b[39mis\u001b[39;00m \u001b[39mNone\u001b[39;00m:\n\u001b[1;32m    197\u001b[0m     where_document \u001b[39m=\u001b[39m {}\n\u001b[0;32m--> 199\u001b[0m \u001b[39mreturn\u001b[39;00m \u001b[39mself\u001b[39;49m\u001b[39m.\u001b[39;49m_client\u001b[39m.\u001b[39;49m_query(\n\u001b[1;32m    200\u001b[0m     collection_name\u001b[39m=\u001b[39;49m\u001b[39mself\u001b[39;49m\u001b[39m.\u001b[39;49mname,\n\u001b[1;32m    201\u001b[0m     query_embeddings\u001b[39m=\u001b[39;49mquery_embeddings,\n\u001b[1;32m    202\u001b[0m     n_results\u001b[39m=\u001b[39;49mn_results,\n\u001b[1;32m    203\u001b[0m     where\u001b[39m=\u001b[39;49mwhere,\n\u001b[1;32m    204\u001b[0m     where_document\u001b[39m=\u001b[39;49mwhere_document,\n\u001b[1;32m    205\u001b[0m     include\u001b[39m=\u001b[39;49minclude,\n\u001b[1;32m    206\u001b[0m )\n",
      "File \u001b[0;32m~/Documents/Projects/pest-sales-chatbot/.venv/lib/python3.8/site-packages/chromadb/api/local.py:237\u001b[0m, in \u001b[0;36mLocalAPI._query\u001b[0;34m(self, collection_name, query_embeddings, n_results, where, where_document, include)\u001b[0m\n\u001b[1;32m    228\u001b[0m \u001b[39mdef\u001b[39;00m \u001b[39m_query\u001b[39m(\n\u001b[1;32m    229\u001b[0m     \u001b[39mself\u001b[39m,\n\u001b[1;32m    230\u001b[0m     collection_name,\n\u001b[0;32m   (...)\u001b[0m\n\u001b[1;32m    235\u001b[0m     include: Include \u001b[39m=\u001b[39m [\u001b[39m\"\u001b[39m\u001b[39mdocuments\u001b[39m\u001b[39m\"\u001b[39m, \u001b[39m\"\u001b[39m\u001b[39mmetadatas\u001b[39m\u001b[39m\"\u001b[39m, \u001b[39m\"\u001b[39m\u001b[39mdistances\u001b[39m\u001b[39m\"\u001b[39m],\n\u001b[1;32m    236\u001b[0m ):\n\u001b[0;32m--> 237\u001b[0m     uuids, distances \u001b[39m=\u001b[39m \u001b[39mself\u001b[39;49m\u001b[39m.\u001b[39;49m_db\u001b[39m.\u001b[39;49mget_nearest_neighbors(\n\u001b[1;32m    238\u001b[0m         collection_name\u001b[39m=\u001b[39;49mcollection_name,\n\u001b[1;32m    239\u001b[0m         where\u001b[39m=\u001b[39;49mwhere,\n\u001b[1;32m    240\u001b[0m         where_document\u001b[39m=\u001b[39;49mwhere_document,\n\u001b[1;32m    241\u001b[0m         embeddings\u001b[39m=\u001b[39;49mquery_embeddings,\n\u001b[1;32m    242\u001b[0m         n_results\u001b[39m=\u001b[39;49mn_results,\n\u001b[1;32m    243\u001b[0m     )\n\u001b[1;32m    245\u001b[0m     include_embeddings \u001b[39m=\u001b[39m \u001b[39m\"\u001b[39m\u001b[39membeddings\u001b[39m\u001b[39m\"\u001b[39m \u001b[39min\u001b[39;00m include\n\u001b[1;32m    246\u001b[0m     include_documents \u001b[39m=\u001b[39m \u001b[39m\"\u001b[39m\u001b[39mdocuments\u001b[39m\u001b[39m\"\u001b[39m \u001b[39min\u001b[39;00m include\n",
      "File \u001b[0;32m~/Documents/Projects/pest-sales-chatbot/.venv/lib/python3.8/site-packages/chromadb/db/clickhouse.py:483\u001b[0m, in \u001b[0;36mClickhouse.get_nearest_neighbors\u001b[0;34m(self, where, where_document, embeddings, n_results, collection_name, collection_uuid)\u001b[0m\n\u001b[1;32m    479\u001b[0m     collection_uuid \u001b[39m=\u001b[39m \u001b[39mself\u001b[39m\u001b[39m.\u001b[39mget_collection_uuid_from_name(collection_name)\n\u001b[1;32m    481\u001b[0m \u001b[39mself\u001b[39m\u001b[39m.\u001b[39m_idx\u001b[39m.\u001b[39mload_if_not_loaded(collection_uuid)\n\u001b[0;32m--> 483\u001b[0m idx_metadata \u001b[39m=\u001b[39m \u001b[39mself\u001b[39;49m\u001b[39m.\u001b[39;49m_idx\u001b[39m.\u001b[39;49mget_metadata()\n\u001b[1;32m    484\u001b[0m \u001b[39m# Check query embeddings dimensionality\u001b[39;00m\n\u001b[1;32m    485\u001b[0m \u001b[39mif\u001b[39;00m idx_metadata[\u001b[39m\"\u001b[39m\u001b[39mdimensionality\u001b[39m\u001b[39m\"\u001b[39m] \u001b[39m!=\u001b[39m \u001b[39mlen\u001b[39m(embeddings[\u001b[39m0\u001b[39m]):\n",
      "File \u001b[0;32m~/Documents/Projects/pest-sales-chatbot/.venv/lib/python3.8/site-packages/chromadb/db/index/hnswlib.py:52\u001b[0m, in \u001b[0;36mHnswlib.get_metadata\u001b[0;34m(self)\u001b[0m\n\u001b[1;32m     50\u001b[0m \u001b[39mdef\u001b[39;00m \u001b[39mget_metadata\u001b[39m(\u001b[39mself\u001b[39m) \u001b[39m-\u001b[39m\u001b[39m>\u001b[39m IndexMetadata:\n\u001b[1;32m     51\u001b[0m     \u001b[39mif\u001b[39;00m \u001b[39mself\u001b[39m\u001b[39m.\u001b[39m_index_metadata \u001b[39mis\u001b[39;00m \u001b[39mNone\u001b[39;00m:\n\u001b[0;32m---> 52\u001b[0m         \u001b[39mraise\u001b[39;00m NoIndexException(\u001b[39m\"\u001b[39m\u001b[39mIndex is not initialized\u001b[39m\u001b[39m\"\u001b[39m)\n\u001b[1;32m     53\u001b[0m     \u001b[39mreturn\u001b[39;00m \u001b[39mself\u001b[39m\u001b[39m.\u001b[39m_index_metadata\n",
      "\u001b[0;31mNoIndexException\u001b[0m: Index is not initialized"
     ]
    }
   ],
   "source": [
    "from ChooseService import service_description_search\n",
    "service_description_search.similarity_search('Based on the conversation, the customer is experiencing mosquito activity throughout their 2.5 acre, 3000 square foot single-family townhome property. The agent also asks about other pests, implying that the focus here is on mosquito control. The practical experiences mentioned suggest that factors like yard wetness, shade, and vegetation will affect the effectiveness of treatment and pricing. \\n\\nOverall, this issue seems to be of Medium severity. While the customer is experiencing a problem with mosquitos, it is not a life-threatening or urgent issue. However, it is impacting their ability to enjoy their yard and may be a nuisance. Additionally, the size of the property may require a more specific treatment plan and could result in higher prices.', 3)"
   ]
  },
  {
   "cell_type": "code",
   "execution_count": 63,
   "metadata": {},
   "outputs": [
    {
     "name": "stdout",
     "output_type": "stream",
     "text": [
      "Name Program 6\n",
      "Outward Facing IN2Care\n",
      "Best for Customers who have a mosquito issue and want a green strategy or don't want spraying\n",
      "Description Green tick and mosquito control program involving mosquito traps that are placed throughout the property. Offers a lower amount of protection than spraying.\n",
      "Frequency Monthly April to October\n",
      "Covered Pests mosquitoes\n",
      "Not covered pests ants, spiders, rodents, millipedes, roaches, ticks\n",
      "Level of Protection Average\n",
      "Cost Average\n",
      "Recurring Formula 75 + ((2.5-0.25)*4)\n",
      "Initial Formula (75 + ((2.5-0.25)*4))*2\n",
      "Billing Cycle Monthly\n",
      "Benefits Stop itchy mosquito bites; Enjoy your lawn without anxiety about mosquitoes; A feel-good green option to avoid chemicals and protect the environment;  Easy autopilot system with automatic billing and scheduling\n",
      "Service ID prod_Na92NNQrZFIqZM\n",
      "Recurring Price 84\n",
      "Initial Price 168\n",
      "Payment Link https://checkout.stripe.com/c/pay/cs_test_a17rgboVnK7DrNWpDC5LxwXIrVMdqvI6bFXhsvO0cMUH6B6fckqfdI7bbg#fidkdWxOYHwnPyd1blpxYHZxWjA0TTJoRHZOaGtxTUlPdF9PR1VGYGdOXHMwVU4zNFVkXERqbWlITX82VHdmaVxtXFZSYHdOaGZTa0RUa1Y0ZEpjVF9CVV9KYzBnTEB9a1cxUmc0TGNwZEwyNTU2UTVmc1JgZicpJ2N3amhWYHdzYHcnP3F3cGApJ2lkfGpwcVF8dWAnPyd2bGtiaWBabHFgaCcpJ2BrZGdpYFVpZGZgbWppYWB3dic%2FcXdwYHgl\n",
      "Name Program 6\n",
      "Outward Facing IN2Care\n",
      "Best for Customers who have a mosquito issue and want a green strategy or don't want spraying\n",
      "Description Green tick and mosquito control program involving mosquito traps that are placed throughout the property. Offers a lower amount of protection than spraying.\n",
      "Frequency Monthly April to October\n",
      "Covered Pests mosquitoes\n",
      "Not covered pests ants, spiders, rodents, millipedes, roaches, ticks\n",
      "Level of Protection Average\n",
      "Cost Average\n",
      "Recurring Formula 75 + ((2.5-0.25)*4)\n",
      "Initial Formula (75 + ((2.5-0.25)*4))*2\n",
      "Billing Cycle Monthly\n",
      "Benefits Stop itchy mosquito bites; Enjoy your lawn without anxiety about mosquitoes; A feel-good green option to avoid chemicals and protect the environment;  Easy autopilot system with automatic billing and scheduling\n",
      "Service ID prod_Na92NNQrZFIqZM\n",
      "Recurring Price 84\n",
      "Initial Price 168\n",
      "Payment Link https://checkout.stripe.com/c/pay/cs_test_a17rgboVnK7DrNWpDC5LxwXIrVMdqvI6bFXhsvO0cMUH6B6fckqfdI7bbg#fidkdWxOYHwnPyd1blpxYHZxWjA0TTJoRHZOaGtxTUlPdF9PR1VGYGdOXHMwVU4zNFVkXERqbWlITX82VHdmaVxtXFZSYHdOaGZTa0RUa1Y0ZEpjVF9CVV9KYzBnTEB9a1cxUmc0TGNwZEwyNTU2UTVmc1JgZicpJ2N3amhWYHdzYHcnP3F3cGApJ2lkfGpwcVF8dWAnPyd2bGtiaWBabHFgaCcpJ2BrZGdpYFVpZGZgbWppYWB3dic%2FcXdwYHgl\n"
     ]
    }
   ],
   "source": [
    "programs = test_response['complete_services']\n",
    "#iterate over the property/value pairs in the program\n",
    "for program in programs:\n",
    "    for key, value in program.dict.items():\n",
    "        print(key, value)"
   ]
  },
  {
   "cell_type": "code",
   "execution_count": null,
   "metadata": {},
   "outputs": [],
   "source": []
  }
 ],
 "metadata": {
  "kernelspec": {
   "display_name": ".venv",
   "language": "python",
   "name": "python3"
  },
  "language_info": {
   "codemirror_mode": {
    "name": "ipython",
    "version": 3
   },
   "file_extension": ".py",
   "mimetype": "text/x-python",
   "name": "python",
   "nbconvert_exporter": "python",
   "pygments_lexer": "ipython3",
   "version": "3.8.12"
  },
  "orig_nbformat": 4,
  "vscode": {
   "interpreter": {
    "hash": "ec0f111f5e5040c678ec5a567f7682a80a3d7b8519cf7f13b3475890ed8a264f"
   }
  }
 },
 "nbformat": 4,
 "nbformat_minor": 2
}
