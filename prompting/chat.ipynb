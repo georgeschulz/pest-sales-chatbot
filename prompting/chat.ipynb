{
 "cells": [
  {
   "cell_type": "code",
   "execution_count": 48,
   "metadata": {},
   "outputs": [],
   "source": [
    "import pandas as pd\n",
    "import openai\n",
    "from dotenv import load_dotenv\n",
    "load_dotenv()\n",
    "import os\n",
    "import langchain\n",
    "from langchain.prompts import load_prompt\n",
    "from langchain.llms import OpenAIChat\n",
    "from langchain import PromptTemplate, LLMChain, FewShotPromptTemplate\n",
    "import re"
   ]
  },
  {
   "cell_type": "code",
   "execution_count": 3,
   "metadata": {},
   "outputs": [],
   "source": [
    "#load the api key\n",
    "openai.api_key = os.getenv('OPENAI_KEY')\n",
    "#add the key to the openai api\n",
    "\n",
    "TOKEN_USAGE = 0\n",
    "COST_PER_TOKEN = 0.002 / 1000\n"
   ]
  },
  {
   "cell_type": "code",
   "execution_count": 4,
   "metadata": {},
   "outputs": [],
   "source": [
    "def usage():\n",
    "    global TOKEN_USAGE\n",
    "    global COST_PER_TOKEN\n",
    "    cost = COST_PER_TOKEN * TOKEN_USAGE\n",
    "    print(f\"Total token usage: {TOKEN_USAGE} | Cost: ${cost:.2f}\")"
   ]
  },
  {
   "cell_type": "code",
   "execution_count": 5,
   "metadata": {},
   "outputs": [],
   "source": [
    "#create an empty dataframe with a column for the prompt, the token cost and a column for the response\n",
    "genrations_df = pd.DataFrame(columns=['prompt', 'token_cost', 'response', 'experiment_type'])"
   ]
  },
  {
   "cell_type": "code",
   "execution_count": 6,
   "metadata": {},
   "outputs": [],
   "source": [
    "#function to generate a prompt, save the prompt, token cost and response to a dataframe and save the dataframe to a csv file\n",
    "def generate_prompt(prompts, experiment_name):\n",
    "    response = openai.ChatCompletion.create(\n",
    "        model=\"gpt-3.5-turbo\",\n",
    "        messages=prompts\n",
    "    )\n",
    "\n",
    "    usage = response['usage']['total_tokens']\n",
    "    global TOKEN_USAGE\n",
    "    TOKEN_USAGE += usage\n",
    "    \n",
    "    text_response = response['choices'][0]['message']['content']\n",
    "    #add the prompt, token cost and response to the dataframe and save it\n",
    "    genrations_df.loc[len(genrations_df)] = [prompts, usage, text_response, experiment_name]\n",
    "    #check if a directory for the experiment_name exists in generations folder, if not create it\n",
    "    if not os.path.exists(f'generations/{experiment_name}'):\n",
    "        os.makedirs(f'generations/{experiment_name}')\n",
    "    genrations_df.to_csv(f'generations/generations_summary.csv')\n",
    "\n",
    "\n",
    "    #create a new txt file for each prompt and response and save it to the experiments_name folder\n",
    "    with open(f'generations/{experiment_name}/{len(genrations_df)-1}.txt', 'w') as f:\n",
    "        f.write(f\"Prompt: {prompts}\\n\")\n",
    "        f.write(f\"Response: {text_response}\\n\")\n",
    "        f.write(f\"Token usage: {usage}\\n\")\n",
    "        f.write(f\"Experiment type: {experiment_name}\\n\")\n",
    "        f.write(f\"Total token usage: {TOKEN_USAGE}\\n\") \n",
    "\n",
    "    return response['choices'][0]['message']['content']"
   ]
  },
  {
   "cell_type": "code",
   "execution_count": 48,
   "metadata": {},
   "outputs": [
    {
     "name": "stdout",
     "output_type": "stream",
     "text": [
      "My programmers call me OpenAI, but you can call me whatever you like.\n",
      "Total token usage: 292 | Cost: $0.00\n"
     ]
    }
   ],
   "source": [
    "print(generate_prompt(test_prompt, 'harness_setup'))\n",
    "calculate_total_usage(COST_PER_TOKEN)"
   ]
  },
  {
   "cell_type": "code",
   "execution_count": 7,
   "metadata": {},
   "outputs": [],
   "source": [
    "class Prompt_Chain:\n",
    "    def __init__(self, experiment_name, initial_prompt):\n",
    "        self.experiment_name = experiment_name\n",
    "        self.prompt = initial_prompt\n",
    "    \n",
    "    def user_says(self, user_input):\n",
    "        self.prompt.append({ \"role\": \"user\", \"content\": user_input })\n",
    "        return self\n",
    "\n",
    "    def assistant_says(self, assistant_output):\n",
    "        self.prompt.append({ \"role\": \"assistant\", \"content\": assistant_output })\n",
    "\n",
    "    def wrap_text(self, text):\n",
    "        text_to_print = \"\"\n",
    "        if(len(text) > 200):\n",
    "            for i in range(0, len(text), 200):\n",
    "                text_to_print += text[i:i+200]\n",
    "                text_to_print += \" \\n\"\n",
    "        print(text_to_print)\n",
    "    \n",
    "    def ask(self, user_text):\n",
    "        self.user_says(user_text)\n",
    "        response = generate_prompt(self.prompt, self.experiment_name)\n",
    "        self.wrap_text(response)\n",
    "        self.assistant_says(response)\n",
    "    \n",
    "    def refresh(self, initial_prompt):\n",
    "        self.prompt = initial_prompt\n"
   ]
  },
  {
   "attachments": {},
   "cell_type": "markdown",
   "metadata": {},
   "source": [
    "### Attempts to setup a simple agent"
   ]
  },
  {
   "cell_type": "code",
   "execution_count": 124,
   "metadata": {},
   "outputs": [],
   "source": [
    "prompt_chain = [\n",
    "    {\"role\": \"system\", \"content\": \"You are a sales agent for a pest control company. You are on the phone with a customer who is interested in setting up a service appointment. The customer is asking you about the different types of services you offer. Ask questions to understand their problem and then offer a solution.\"},\n",
    "    {\"role\": \"assistant\", \"content\": \"Hi, welcome to Better Termite. How can I help you today?\"},\n",
    "]\n",
    "\n",
    "agent = Prompt_Chain('Agent Test', prompt_chain)"
   ]
  },
  {
   "cell_type": "code",
   "execution_count": 110,
   "metadata": {},
   "outputs": [
    {
     "name": "stdout",
     "output_type": "stream",
     "text": [
      "\n"
     ]
    }
   ],
   "source": [
    "agent.ask(\"I have a problem with termites in my house. What can you do to help me?\")"
   ]
  },
  {
   "cell_type": "code",
   "execution_count": 111,
   "metadata": {},
   "outputs": [
    {
     "name": "stdout",
     "output_type": "stream",
     "text": [
      "It's possible that those could be termites. We would need to do a thorough inspection to confirm whether or not you have a termite infestation. Would you like to schedule a free inspection with one of \n",
      " our pest control experts? \n",
      "\n"
     ]
    }
   ],
   "source": [
    "agent.ask(\"I've seen what looks like flying ants around my house. Are they termites?\")"
   ]
  },
  {
   "cell_type": "code",
   "execution_count": 112,
   "metadata": {},
   "outputs": [
    {
     "name": "stdout",
     "output_type": "stream",
     "text": [
      "No, it's completely free. Our expert will come to your house and conduct a thorough examination of the property to determine if termites are present, and if so, the extent of the infestation. Once the \n",
      "y have completed their investigation, they will go over the findings with you and suggest a customized course of action based on your specific situation. Would you like to schedule an appointment for  \n",
      "a free inspection? \n",
      "\n"
     ]
    }
   ],
   "source": [
    "agent.ask(\"Does that cost anything?\")"
   ]
  },
  {
   "cell_type": "code",
   "execution_count": 113,
   "metadata": {},
   "outputs": [
    {
     "name": "stdout",
     "output_type": "stream",
     "text": [
      "Great! Let me take your information and schedule an appointment for you. Our termite experts will be out as soon as possible to take a look at the house and help you with a solution. In the meantime,  \n",
      "I can let you know that we offer various termite treatment options based on the severity of the infestation. Our treatments include liquid treatment, fumigation, and baiting systems. Once the technici \n",
      "an has completed the inspection, they can provide you with a recommendation for the best treatment option for your situation. Would you like to learn more about any of these treatments now? \n",
      "\n"
     ]
    }
   ],
   "source": [
    "agent.ask(\"Yes please!\")"
   ]
  },
  {
   "cell_type": "code",
   "execution_count": 84,
   "metadata": {},
   "outputs": [
    {
     "name": "stdout",
     "output_type": "stream",
     "text": [
      "\n"
     ]
    }
   ],
   "source": [
    "agent.ask(\"My name is John Smith, and my phone number is 555-555-5555\")"
   ]
  },
  {
   "cell_type": "code",
   "execution_count": 131,
   "metadata": {},
   "outputs": [
    {
     "name": "stdout",
     "output_type": "stream",
     "text": [
      "Total token usage: 5468 | Cost: $0.01\n"
     ]
    }
   ],
   "source": [
    "agent.refresh(prompt_chain)\n",
    "usage()"
   ]
  },
  {
   "cell_type": "code",
   "execution_count": 126,
   "metadata": {},
   "outputs": [
    {
     "name": "stdout",
     "output_type": "stream",
     "text": [
      "Great! We offer several different service plans depending on your specific needs. Can you tell me a bit more about the pest problem you are experiencing? That way, I can recommend the best plan for yo \n",
      "u. \n",
      "\n"
     ]
    }
   ],
   "source": [
    "agent.ask('I am interested in getting setup on a quarterly service plan. What do I need to do?')"
   ]
  },
  {
   "cell_type": "code",
   "execution_count": 127,
   "metadata": {},
   "outputs": [
    {
     "name": "stdout",
     "output_type": "stream",
     "text": [
      "I understand. We have a quarterly service plan that is designed to prevent pests from entering your home. Our technicians will come to your home every quarter to spray the perimeter and any common are \n",
      "as where pests tend to enter. This service covers a wide range of pests like ants, spiders, roaches, silverfish, and more. Would you be interested in this plan? \n",
      "\n"
     ]
    }
   ],
   "source": [
    "agent.ask(\"It's more of a proactive thing. I have been seeing some ants around my house\")"
   ]
  },
  {
   "cell_type": "code",
   "execution_count": 256,
   "metadata": {},
   "outputs": [
    {
     "name": "stdout",
     "output_type": "stream",
     "text": [
      "Total token usage: 8666 | Cost: $0.02\n"
     ]
    }
   ],
   "source": [
    "usage()"
   ]
  },
  {
   "attachments": {},
   "cell_type": "markdown",
   "metadata": {},
   "source": [
    "### Experimenting to Create My Own Agent"
   ]
  },
  {
   "cell_type": "code",
   "execution_count": 184,
   "metadata": {},
   "outputs": [],
   "source": [
    "#contact information collected through form a the start of the conversation\n",
    "first_name = \"John\"\n",
    "last_name = \"Smith\"\n",
    "phone_number = \"555-555-5555\"\n",
    "email = 'georgeschulz33@gmail.com'\n",
    "address = '4355 Penwood Drive'\n",
    "city = 'Alexandria'\n",
    "state = 'VA'\n",
    "zip_code = '22310'\n"
   ]
  },
  {
   "cell_type": "code",
   "execution_count": 185,
   "metadata": {},
   "outputs": [],
   "source": [
    "#agent screens geographic data"
   ]
  },
  {
   "cell_type": "code",
   "execution_count": 203,
   "metadata": {},
   "outputs": [],
   "source": [
    "#agent attempts to build a customer profile of the issue, while exposing pain points\n",
    "template = \"\"\" You are a sales agent for a pest control company. You are a chatbot texting with a propsect for a service program. Your goal is to get them to sign up for a service program. Respond by classifying the information as one of the following categories: Question, Contact, Special Instructions, or Customer Issue Detail. You should categorize all responses as one of the categories For example:\n",
    "\n",
    "User: I have a problem with termites in my house. What can you do to help me?\n",
    "Category: Customer Issue Detail\n",
    "\n",
    "User: Do you offer green pest control services?\n",
    "Category: Question\n",
    "\n",
    "User: My name is John Smith, and my phone number is 555-555-5555\n",
    "Category: Contact\n",
    "\n",
    "User: There is a gate in the back of my house. Please make sure to close it when you leave.\n",
    "Category: Special Instructions\n",
    "\"\"\"\n",
    "\n",
    "prompt_chain = [\n",
    "    {\"role\": \"system\", \"content\": template},\n",
    "    {\"role\": \"assistant\", \"content\": \"Hi, welcome to Better Termite. How can I help you today?\"},\n",
    "]\n",
    "\n",
    "agent = Prompt_Chain('Agent Test', prompt_chain)"
   ]
  },
  {
   "cell_type": "code",
   "execution_count": 204,
   "metadata": {},
   "outputs": [
    {
     "name": "stdout",
     "output_type": "stream",
     "text": [
      "\n",
      "None\n"
     ]
    }
   ],
   "source": [
    "print(agent.ask(\"This is G Schulz just reaching back out\"))"
   ]
  },
  {
   "cell_type": "code",
   "execution_count": 205,
   "metadata": {},
   "outputs": [
    {
     "name": "stdout",
     "output_type": "stream",
     "text": [
      "Category: Customer Issue Detail\n",
      "\n",
      "I'm sorry to hear that you have a termite problem. We offer a comprehensive termite treatment program that includes a combination of baiting and liquid application met \n",
      "hods. Our program is designed to eliminate existing termites and prevent future infestations. Would you like to learn more about this program? \n",
      "\n"
     ]
    }
   ],
   "source": [
    "agent.ask(\"I have a problem with termites in my house. What can you do to help me?\")"
   ]
  },
  {
   "cell_type": "code",
   "execution_count": 8,
   "metadata": {},
   "outputs": [],
   "source": [
    "class TestSet:\n",
    "    def __init__(self, test_set, function):\n",
    "        self.test_set = test_set\n",
    "        self.test_name = 'Untitled test'\n",
    "        self.function = function\n",
    "    \n",
    "    async def run(self, name):\n",
    "        self.test_name = name\n",
    "        #iterate over test_set, a dictionary where each key is a dictionary\n",
    "        for test in self.test_set:\n",
    "            actual = await self.function(test)\n",
    "            self.test_set[test]['actual'] = actual\n",
    "            if self.test_set[test]['expected'] == actual:\n",
    "                self.test_set[test]['result'] = 'pass'\n",
    "            else:\n",
    "                self.test_set[test]['result'] = 'fail'\n",
    "        \n",
    "        #calculate the overall percentage passed and failed\n",
    "        total = len(self.test_set)\n",
    "        passed = 0\n",
    "        for test in self.test_set:\n",
    "            if self.test_set[test]['result'] == 'pass':\n",
    "                passed += 1\n",
    "\n",
    "        print(f\"Test {self.test_name} passed {passed} out of {total} tests\")\n",
    "        \n",
    "        return self.test_set\n",
    "\n",
    "    def check(self, key):\n",
    "        value = self.test_set[key]['prompt']\n",
    "        response = self.function(value)\n",
    "        if response == self.test_set[key]['expected']:\n",
    "            print(\"/ PASS | Result: \" + response + \" | Expected: \" + self.test_set[key]['expected'])\n",
    "        else:\n",
    "            print(\"X FAIL | Result: \" + response + \" | Expected: \" + self.test_set[key]['expected'])"
   ]
  },
  {
   "attachments": {},
   "cell_type": "markdown",
   "metadata": {},
   "source": [
    "#### A possible framework for thought in a coversation with an agent\n",
    "\n",
    "1. Classify the type of request: \n",
    "2. If augmentation is required, adapt the prompt. If information is collected, add it to the customer profile. \n",
    "3. Adjust the conversational chain\n",
    "4. Return the response"
   ]
  },
  {
   "cell_type": "code",
   "execution_count": 238,
   "metadata": {},
   "outputs": [],
   "source": [
    "template = \"\"\"Classify the response as one of the following categories: Question, Contact, Special Instructions, or Customer Issue Detail. Format as: Category: *category* Response: {customer_response}\"\"\"\n",
    "prompt = PromptTemplate(template=template, input_variables=[\"customer_response\"])\n",
    "prompt.save('prompts/response_classification/short-1.json')"
   ]
  },
  {
   "cell_type": "code",
   "execution_count": 9,
   "metadata": {},
   "outputs": [],
   "source": [
    "def classify_response_request_type(customer_response):\n",
    "    prompt = load_prompt('prompts/response_classification/verbose-1.json')\n",
    "    llm = OpenAIChat(openai_api_key=os.getenv('OPENAI_KEY'))\n",
    "    llm_chain = LLMChain(prompt=prompt, llm=llm, output_key=\"text\")\n",
    "    classification_raw = llm_chain.run(customer_response)\n",
    "    #check if the terms: \"Question\", \"Contact\", \"Special Instructions\", or \"Customer Issue Detail\" are in the response. If they are, pull out the first that appears in classification_raw. Use a regex to pull out the category and get the\n",
    "    match = re.search(r\"(Question|Contact|Special Instructions|Customer Issue Detail)\", classification_raw)\n",
    "    return_value = \"No Classification Found\"\n",
    "    if match:\n",
    "        return_value = match.group(0)\n",
    "    return return_value"
   ]
  },
  {
   "attachments": {},
   "cell_type": "markdown",
   "metadata": {},
   "source": [
    "Ways to categorize:\n",
    "\n",
    "- Information Request: look up data\n",
    "- Contact Information: store in contact profile\n",
    "- Customer Issue Details: store in customer profile\n",
    "\n",
    "Maybe it should be a boolean search with three tags?\n"
   ]
  },
  {
   "cell_type": "code",
   "execution_count": null,
   "metadata": {},
   "outputs": [],
   "source": [
    "\n",
    "example_set = {\n",
    "    \"test1\": {\n",
    "        \"prompt\": \"I have a problem with termites in my house. What can you do to help me?\",\n",
    "        \"expected\": \"Customer Issue Detail\"\n",
    "    },\n",
    "    \"test2\": {\n",
    "        \"prompt\": \"Do you offer green pest control services?\",\n",
    "        \"expected\": \"Question\"\n",
    "    },\n",
    "    \"test3\": {\n",
    "        \"prompt\": \"My name is John Smith, and my phone number is 555-555-5555\",\n",
    "        \"expected\": \"Contact\"\n",
    "    },\n",
    "}\n",
    "\n",
    "test = TestSet(example_set, classify_response_request_type)\n",
    "# test.check('test1')"
   ]
  },
  {
   "attachments": {},
   "cell_type": "markdown",
   "metadata": {},
   "source": [
    "Test Results: Poor performance probably do to overlapping categories and poorly defined categories. The next test will be to create a tagging series where there can be more than one classification. Each will be a boolean classsification prompt"
   ]
  },
  {
   "cell_type": "code",
   "execution_count": 49,
   "metadata": {},
   "outputs": [],
   "source": [
    "contains_contact_info_prompt = \"\"\"Determine whether the following response contains contact information for the person who sent the message. Write True if it contains contact info, and False if not. A response has contact information if it contains their name, phone, email or address info\n",
    "Example:\n",
    "Response: My name is John Smith, and my phone number is 555-555-5555\n",
    "True\n",
    "Response: I have a problem with termites in my house. What can you do to help me?\n",
    "False\n",
    "Response: I live in Bethesda\n",
    "True\n",
    "Response: My kid Andrian is allgeric to bees\n",
    "False\n",
    "Response: {customer_response}\"\"\"\n",
    "prompt = PromptTemplate(template=contains_contact_info_prompt, input_variables=[\"customer_response\"])\n",
    "\n",
    "\n",
    "\n",
    "prompt.save('prompts/response_is_contact_info/contains_contact_info_example_interpolation.json')"
   ]
  },
  {
   "cell_type": "code",
   "execution_count": 50,
   "metadata": {},
   "outputs": [],
   "source": [
    "def classify_contains_contact_info(customer_response):\n",
    "    prompt = load_prompt('prompts/response_is_contact_info/contains_contact_info_2.json')\n",
    "    llm = OpenAIChat(openai_api_key=os.getenv('OPENAI_KEY'))\n",
    "    llm_chain = LLMChain(prompt=prompt, llm=llm, output_key=\"text\")\n",
    "    classification_raw = llm_chain.run(customer_response)\n",
    "    match = re.search(r\"(True|False)\", classification_raw)\n",
    "    return_value = \"No Classification Found\"\n",
    "    if match:\n",
    "        return_value = match.group(0)\n",
    "    return return_value"
   ]
  },
  {
   "cell_type": "code",
   "execution_count": 56,
   "metadata": {},
   "outputs": [
    {
     "name": "stdout",
     "output_type": "stream",
     "text": [
      "/ PASS | Result: False | Expected: False\n",
      "/ PASS | Result: False | Expected: False\n",
      "/ PASS | Result: True | Expected: True\n",
      "/ PASS | Result: True | Expected: True\n",
      "/ PASS | Result: False | Expected: False\n",
      "X FAIL | Result: False | Expected: True\n"
     ]
    }
   ],
   "source": [
    "example_set = {\n",
    "    \"test1\": {\n",
    "        \"prompt\": \"I have a problem with termites in my house. What can you do to help me?\",\n",
    "        \"expected\": \"False\"\n",
    "    },\n",
    "    \"test2\": {\n",
    "        \"prompt\": \"Do you offer green pest control services?\",\n",
    "        \"expected\": \"False\"\n",
    "    },\n",
    "    \"test3\": {\n",
    "        \"prompt\": \"My name is John Smith, and my phone number is 555-555-5555\",\n",
    "        \"expected\": \"True\"\n",
    "    },\n",
    "    \"test4\": {\n",
    "        \"prompt\": \"I live in Alexandria\",\n",
    "        \"expected\": \"True\"\n",
    "    },\n",
    "    \"test5\": {\n",
    "        \"prompt\": \"I am seeing them in the kitchen. They've been there for a few days now.\",\n",
    "        \"expected\": \"False\"\n",
    "    },\n",
    "    \"test6\": {\n",
    "        \"prompt\": \"Can you put this number on my account 5813213411\",\n",
    "        \"expected\": \"True\"\n",
    "    }  \n",
    "}\n",
    "\n",
    "tests = TestSet(example_set, classify_contains_contact_info)\n",
    "for test in tests.test_set:\n",
    "     tests.check(test)\n"
   ]
  },
  {
   "cell_type": "code",
   "execution_count": 271,
   "metadata": {},
   "outputs": [
    {
     "data": {
      "text/plain": [
       "'True'"
      ]
     },
     "execution_count": 271,
     "metadata": {},
     "output_type": "execute_result"
    }
   ],
   "source": [
    "classify_contains_contact_info('My name is John Smith, and my phone number is 555-555-5555')"
   ]
  },
  {
   "cell_type": "code",
   "execution_count": 281,
   "metadata": {},
   "outputs": [
    {
     "data": {
      "text/plain": [
       "<coroutine object TestSet.run at 0x7f964b49b2c0>"
      ]
     },
     "execution_count": 281,
     "metadata": {},
     "output_type": "execute_result"
    }
   ],
   "source": [
    "result"
   ]
  },
  {
   "cell_type": "code",
   "execution_count": null,
   "metadata": {},
   "outputs": [],
   "source": []
  }
 ],
 "metadata": {
  "kernelspec": {
   "display_name": "base",
   "language": "python",
   "name": "python3"
  },
  "language_info": {
   "codemirror_mode": {
    "name": "ipython",
    "version": 3
   },
   "file_extension": ".py",
   "mimetype": "text/x-python",
   "name": "python",
   "nbconvert_exporter": "python",
   "pygments_lexer": "ipython3",
   "version": "3.9.5"
  },
  "orig_nbformat": 4
 },
 "nbformat": 4,
 "nbformat_minor": 2
}
