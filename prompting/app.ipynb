{
 "cells": [
  {
   "cell_type": "code",
   "execution_count": 16,
   "metadata": {},
   "outputs": [],
   "source": [
    "import pandas as pd\n",
    "import openai\n",
    "from dotenv import load_dotenv\n",
    "load_dotenv()\n",
    "import os\n",
    "from langchain.prompts import load_prompt\n",
    "from langchain.llms import OpenAIChat\n",
    "import sys\n",
    "pd.options.mode.chained_assignment = None\n",
    "from langchain.callbacks import get_openai_callback\n",
    "from langchain.embeddings.openai import OpenAIEmbeddings\n",
    "from langchain.vectorstores import Chroma\n",
    "from langchain.text_splitter import CharacterTextSplitter\n",
    "from langchain.document_loaders import TextLoader\n",
    "\n",
    "from langchain.chat_models import ChatOpenAI\n",
    "from langchain.schema import (\n",
    "    AIMessage,\n",
    "    SystemMessage\n",
    ")\n",
    "import sys\n",
    "sys.path.append('./modules/')\n",
    "openai.api_key = os.getenv('OPENAI_KEY')\n",
    "key = os.getenv('OPENAI_KEY')\n",
    "\n",
    "import stripe\n",
    "stripe.api_key = os.getenv('STRIPE_KEY')\n",
    "\n",
    "from Generator import Generator\n",
    "from Extractor import Extractor\n",
    "from PromptPath import PromptPath\n",
    "from GenExtract import GenExtract\n",
    "from Property import Property\n",
    "from NaturalLanguagePool import NaturalLanguagePool\n",
    "from DynamicChatHistory import DynamicChatHistory\n",
    "from Conversation import Conversation\n",
    "from ConversationScript import ConversationScript\n",
    "from ConversationScriptStage import ConversationScriptStage\n",
    "from show_chat_log import show_chat_log\n",
    "from is_question import is_question\n",
    "from customer_profile import customer_profile\n",
    "\n",
    "times_embedding_run = 0"
   ]
  },
  {
   "attachments": {},
   "cell_type": "markdown",
   "metadata": {},
   "source": [
    "#### App Development Notes:\n",
    "\n",
    "What seems to be creating the greatest latency issues?\n",
    "1. The memory, which was supposed to be a token saving/context management system but may be overkill in early stage parts of the conversation\n",
    "2. The classifers that are needed to preare the prompt (the prompt itself seems to run pretty fast)"
   ]
  },
  {
   "cell_type": "code",
   "execution_count": 17,
   "metadata": {},
   "outputs": [
    {
     "name": "stderr",
     "output_type": "stream",
     "text": [
      "Created a chunk of size 408, which is longer than the specified 250\n",
      "Created a chunk of size 377, which is longer than the specified 250\n",
      "Created a chunk of size 293, which is longer than the specified 250\n",
      "Created a chunk of size 298, which is longer than the specified 250\n",
      "Created a chunk of size 332, which is longer than the specified 250\n",
      "Created a chunk of size 510, which is longer than the specified 250\n",
      "Created a chunk of size 514, which is longer than the specified 250\n",
      "Created a chunk of size 350, which is longer than the specified 250\n",
      "Created a chunk of size 265, which is longer than the specified 250\n",
      "Created a chunk of size 458, which is longer than the specified 250\n",
      "Created a chunk of size 667, which is longer than the specified 250\n",
      "Created a chunk of size 282, which is longer than the specified 250\n",
      "Created a chunk of size 364, which is longer than the specified 250\n",
      "Created a chunk of size 441, which is longer than the specified 250\n",
      "Created a chunk of size 360, which is longer than the specified 250\n",
      "Created a chunk of size 440, which is longer than the specified 250\n",
      "Created a chunk of size 263, which is longer than the specified 250\n",
      "Created a chunk of size 281, which is longer than the specified 250\n",
      "Created a chunk of size 581, which is longer than the specified 250\n",
      "Created a chunk of size 262, which is longer than the specified 250\n",
      "Created a chunk of size 855, which is longer than the specified 250\n",
      "Created a chunk of size 380, which is longer than the specified 250\n",
      "Created a chunk of size 258, which is longer than the specified 250\n",
      "Created a chunk of size 286, which is longer than the specified 250\n",
      "Created a chunk of size 326, which is longer than the specified 250\n",
      "Created a chunk of size 255, which is longer than the specified 250\n",
      "Created a chunk of size 371, which is longer than the specified 250\n",
      "Created a chunk of size 368, which is longer than the specified 250\n"
     ]
    },
    {
     "name": "stdout",
     "output_type": "stream",
     "text": [
      "Running Chroma using direct local API.\n",
      "Using DuckDB in-memory for database. Data will be transient.\n"
     ]
    },
    {
     "data": {
      "text/plain": [
       "'Embeddings generated into policies variable'"
      ]
     },
     "execution_count": 17,
     "metadata": {},
     "output_type": "execute_result"
    }
   ],
   "source": [
    "#load in the policies to the vectorstore\n",
    "loaders = []\n",
    "docs = []\n",
    "\n",
    "#create a list with the names of the files to be loaded in the data/policies folder\n",
    "for file in os.listdir('data/policies'):\n",
    "    if file.endswith('.txt'):\n",
    "        loader = TextLoader('data/policies/' + file)\n",
    "        loaders.append(loader)\n",
    "\n",
    "for loader in loaders:\n",
    "    docs.extend(loader.load())\n",
    "\n",
    "if times_embedding_run < 1:\n",
    "    text_splitter = CharacterTextSplitter(chunk_size=250, chunk_overlap=0)\n",
    "    documents = text_splitter.split_documents(docs)\n",
    "\n",
    "    embeddings = OpenAIEmbeddings(openai_api_key=key)\n",
    "    policies = Chroma.from_documents(documents, embeddings)\n",
    "    times_embedding_run += 1\n",
    "\n",
    "\"Embeddings generated into policies variable\""
   ]
  },
  {
   "cell_type": "code",
   "execution_count": 18,
   "metadata": {},
   "outputs": [],
   "source": [
    "location_of_issue = Property('location', None, \"The location of the issue\", required=True, examples=['kitchen', 'bathroom', 'bedroom', 'proactive'])\n",
    "\n",
    "special_instructions = Property('special_instructions', None, \"Any special instructions for the technician\", required=False, examples=['please call before arriving', 'please leave a note on the door'])\n",
    "\n",
    "square_footage = Property('square_footage', None, \"The square footage of the property\", required=False, examples=['1000', '2000', '3000'])\n",
    "\n",
    "pest_id = Property('pest_id', None, \"The id number of the pest\", required=True, examples=['1', '2', '3'])\n",
    "\n",
    "issues = NaturalLanguagePool([location_of_issue, special_instructions, pest_id, square_footage], \"The issues the customer is having\", create_new_properties=True)"
   ]
  },
  {
   "cell_type": "code",
   "execution_count": 19,
   "metadata": {},
   "outputs": [],
   "source": [
    "chat = ChatOpenAI(openai_api_key=key)\n",
    "\n",
    "initial_prompt = \"\"\"You are a helpful sales agent communicating with a prospect for Better Termite & Pest Control through a chat window. You should come off as cool, relaxed and informal, but helpful. A new lead has reached out through our site. I will provide you with goals based on the information you have collected so far. Try to avoid asking multiple questions in one response. Avoid overly formal words and phrases.\"\"\"\n",
    "\n",
    "history = DynamicChatHistory(chat, system_message=initial_prompt, additional_context=\"\", initial_history=[SystemMessage(content=\"Hi! My name is George from Better Termite & Pest Control. How can I help you? :)\")])\n",
    "\n",
    "stage_one = ConversationScriptStage('Take lead of conversation', \"Ask the customer's permission to ask questions to understand their issue. This goal is considered complete, once they have agreed to let you lead the conversation.\", lambda: any(isinstance(message, AIMessage) for message in history.history))\n",
    "\n",
    "stage_two = ConversationScriptStage('Get contact information', \"Get the customer's contact information. This goal is considered complete, once you have their first name, last name, phone number, email, street address, city, state and zip code.\", lambda: customer_profile.is_complete(), pool=customer_profile, show_missing=True, show_complete=True)\n",
    "\n",
    "stage_three = ConversationScriptStage('Get customer issue', \"Gather details about the customer's issue. This goal is considered complete, once you have the pest ID, location of the issue and the square footage of the property. Make sure to check if the customer is seeing multiple issues. Ask only 1 question per response.\", lambda: issues.is_complete(), pool=issues, show_missing=True, show_complete=True)\n",
    "\n",
    "sales_script = ConversationScript([stage_one, stage_two, stage_three])\n",
    "\n",
    "agent = Conversation(history, chat, sales_script, customer_profile, issues, policies, log_prompt=True)"
   ]
  },
  {
   "cell_type": "code",
   "execution_count": 20,
   "metadata": {},
   "outputs": [
    {
     "name": "stdout",
     "output_type": "stream",
     "text": [
      "Pests: None\n",
      "Pest_Id: 0\n",
      "Special_Instructions: None\n",
      "Location: None\n",
      "Square_Footage: None\n",
      "{'pest_id': '0', 'special_instructions': None, 'location': None, 'square_footage': None}\n",
      "*System*:  You are a helpful sales agent communicating with a prospect for Better Termite & Pest Control through a chat window. You should come off as cool, relaxed and informal, but helpful. A new lead has reached out through our site. I will provide you with goals based on the information you have collected so far. Try to avoid asking multiple questions in one response. Avoid overly formal words and phrases.\n",
      "Conversation Summary So Far:\n",
      "User: Hi name is John Smith and I am interested in pest control\n",
      " Current goal: Ask the customer's permission to ask questions to understand their issue. This goal is considered complete, once they have agreed to let you lead the conversation.Use the following pieces of context to answer the users question. If you don't know the answer, just say that you don't know, don't try to make up an answer.\n",
      "At our company, we strive to provide prompt and efficient pest control services to all of our customers. To ensure that our scheduling process runs smoothly, we have implemented the following policies:\n",
      "\n",
      "*Human*:  Hi name is John Smith and I am interested in pest control\n",
      "------------------\n",
      "Agent:  Hi John! Thanks for reaching out to Better Termite & Pest Control. I’d be happy to help you with your pest control needs. Before we begin, may I ask you a few questions to better understand your issue?\n"
     ]
    }
   ],
   "source": [
    "agent.respond('Hi name is John Smith and I am interested in pest control')"
   ]
  },
  {
   "cell_type": "code",
   "execution_count": 21,
   "metadata": {},
   "outputs": [
    {
     "name": "stdout",
     "output_type": "stream",
     "text": [
      "Pests: None\n",
      "Pest_Id: 0\n",
      "Special_Instructions: None\n",
      "Location: None\n",
      "Square_Footage: None\n",
      "{'pest_id': '0', 'special_instructions': None, 'location': None, 'square_footage': None}\n",
      "*System*:  You are a helpful sales agent communicating with a prospect for Better Termite & Pest Control through a chat window. You should come off as cool, relaxed and informal, but helpful. A new lead has reached out through our site. I will provide you with goals based on the information you have collected so far. Try to avoid asking multiple questions in one response. Avoid overly formal words and phrases.\n",
      "Conversation Summary So Far:\n",
      "User: Hi name is John Smith and I am interested in pest control\n",
      "Agent: Hi John! Thanks for reaching out to Better Termite & Pest Control. I’d be happy to help you with your pest control needs. Before we begin, may I ask you a few questions to better understand your issue?\n",
      "User: Yeah sure, thats fine\n",
      " Current goal: Get the customer's contact information. This goal is considered complete, once you have their first name, last name, phone number, email, street address, city, state and zip code.\n",
      "What we are missing: phone_number, email, street_address, city, state, zip\n",
      "What we have so far:\n",
      "first_name: John\n",
      "last_name: Smith\n",
      "phone_number: ?\n",
      "email: ?\n",
      "street_address: ?\n",
      "city: ?\n",
      "state: ?\n",
      "zip: ?\n",
      "Use the following pieces of context to answer the users question. If you don't know the answer, just say that you don't know, don't try to make up an answer.\n",
      "We appreciate your cooperation with our policies to ensure that we can provide the best possible service to all of our customers.\n",
      "\n",
      "*Human*:  Yeah sure, thats fine\n",
      "------------------\n",
      "Agent:  Great, thank you John. First, may I have your phone number so we can easily reach you if we need to discuss your pest control needs further?\n"
     ]
    }
   ],
   "source": [
    "agent.respond('Yeah sure, thats fine')"
   ]
  },
  {
   "cell_type": "code",
   "execution_count": 22,
   "metadata": {},
   "outputs": [
    {
     "name": "stdout",
     "output_type": "stream",
     "text": [
      "Pests: None\n",
      "Pest_Id: 0\n",
      "Special_Instructions: None\n",
      "Location: None\n",
      "Square_Footage: None\n",
      "{'pest_id': '0', 'special_instructions': None, 'location': None, 'square_footage': None}\n",
      "*System*:  You are a helpful sales agent communicating with a prospect for Better Termite & Pest Control through a chat window. You should come off as cool, relaxed and informal, but helpful. A new lead has reached out through our site. I will provide you with goals based on the information you have collected so far. Try to avoid asking multiple questions in one response. Avoid overly formal words and phrases.\n",
      "Conversation Summary So Far:\n",
      "User: Hi name is John Smith and I am interested in pest control\n",
      "Agent: Hi John! Thanks for reaching out to Better Termite & Pest Control. I’d be happy to help you with your pest control needs. Before we begin, may I ask you a few questions to better understand your issue?\n",
      "User: Yeah sure, thats fine\n",
      "Agent: Great, thank you John. First, may I have your phone number so we can easily reach you if we need to discuss your pest control needs further?\n",
      "User: Sure my name is George Schulz. My email is georgeschulz33@gmail.com, phone is 571-431-9531, and my address is 123 Elm Way, Gaithersburg, MD 20878\n",
      " Current goal: Gather details about the customer's issue. This goal is considered complete, once you have the pest ID, location of the issue and the square footage of the property. Make sure to check if the customer is seeing multiple issues. Ask only 1 question per response.\n",
      "What we are missing: location\n",
      "What we have so far:\n",
      "location: ?\n",
      "special_instructions: ?\n",
      "pest_id: 0\n",
      "square_footage: ?\n",
      "Use the following pieces of context to answer the users question. If you don't know the answer, just say that you don't know, don't try to make up an answer.\n",
      "Scheduling: To schedule an estimate, callback, or service, please contact us at 703-683-2000. Our office hours are Monday through Friday, 8 AM to 5 PM.\n",
      "\n",
      "*Human*:  Sure my name is George Schulz. My email is georgeschulz33@gmail.com, phone is 571-431-9531, and my address is 123 Elm Way, Gaithersburg, MD 20878\n",
      "------------------\n",
      "Agent:  Thank you for providing that information, George. Can you tell me which type of pest issue you are experiencing?\n"
     ]
    }
   ],
   "source": [
    "agent.respond('Sure my name is George Schulz. My email is georgeschulz33@gmail.com, phone is 571-431-9531, and my address is 123 Elm Way, Gaithersburg, MD 20878')"
   ]
  },
  {
   "cell_type": "code",
   "execution_count": 23,
   "metadata": {},
   "outputs": [
    {
     "name": "stdout",
     "output_type": "stream",
     "text": [
      "Pests: Mice\n",
      "Pest_Id: 5\n",
      "Special_Instructions: Mice seen in the kitchen\n",
      "Location: Kitchen\n",
      "Square_Footage: None\n",
      "{'pest_id': '5', 'special_instructions': 'Mice seen in the kitchen', 'location': 'Kitchen', 'square_footage': None}\n",
      "*System*:  You are a helpful sales agent communicating with a prospect for Better Termite & Pest Control through a chat window. You should come off as cool, relaxed and informal, but helpful. A new lead has reached out through our site. I will provide you with goals based on the information you have collected so far. Try to avoid asking multiple questions in one response. Avoid overly formal words and phrases.\n",
      "Conversation Summary So Far:\n",
      "User: Hi name is John Smith and I am interested in pest control\n",
      "Agent: Hi John! Thanks for reaching out to Better Termite & Pest Control. I’d be happy to help you with your pest control needs. Before we begin, may I ask you a few questions to better understand your issue?\n",
      "User: Yeah sure, thats fine\n",
      "Agent: Great, thank you John. First, may I have your phone number so we can easily reach you if we need to discuss your pest control needs further?\n",
      "User: Sure my name is George Schulz. My email is georgeschulz33@gmail.com, phone is 571-431-9531, and my address is 123 Elm Way, Gaithersburg, MD 20878\n",
      "Agent: Thank you for providing that information, George. Can you tell me which type of pest issue you are experiencing?\n",
      "User: Last night, I saw a mouse run across the kitchen and it really startled me. I'm not sure if there could be more. I just want them gone.\n",
      " Use the following pieces of context to answer the users question. If you don't know the answer, just say that you don't know, don't try to make up an answer.\n",
      "Winter: Monitoring your home for any pest activity during the winter is vital to maintaining a pest-free home. We monitor closely for rodent activity and keep a careful watch for termite activity.\n",
      "\n",
      "*Human*:  Last night, I saw a mouse run across the kitchen and it really startled me. I'm not sure if there could be more. I just want them gone.\n",
      "------------------\n",
      "Agent:  I understand how that can be alarming, George. It's possible there may be more mice in your home, so it's important to take action. Our company specializes in rodent control and we can definitely help you get rid of the mice in your home. Winter is actually a prime time for rodent activity, so monitoring your home for any pest activity during the winter is vital to maintaining a pest-free home. We monitor closely for rodent activity specifically and also keep a careful watch for termite activity.\n"
     ]
    }
   ],
   "source": [
    "agent.respond(\"Last night, I saw a mouse run across the kitchen and it really startled me. I'm not sure if there could be more. I just want them gone.\")"
   ]
  },
  {
   "cell_type": "code",
   "execution_count": 24,
   "metadata": {},
   "outputs": [
    {
     "name": "stdout",
     "output_type": "stream",
     "text": [
      "Pests: None\n",
      "Pest_Id: 0\n",
      "Special_Instructions: None\n",
      "Location: None\n",
      "Square_Footage: 2000\n",
      "Customer Response: I have seen a lot of spiders in my basement.\n",
      "Pests: Spiders\n",
      "Pest_Id: 2\n",
      "Special_Instructions: Spiders are in the basement\n",
      "Location: Basement\n",
      "Square_Footage: None\n",
      "Customer Response: I have noticed some bed bug bites on my body.\n",
      "Pests: Bed Bugs\n",
      "Pest_Id: 9\n",
      "Special_Instructions: Customer is experiencing bed bug bites\n",
      "Location: None\n",
      "Square_Footage: None\n",
      "{'pest_id': '9', 'special_instructions': 'Customer is experiencing bed bug bites', 'location': None, 'square_footage': None}\n",
      "*System*:  You are a helpful sales agent communicating with a prospect for Better Termite & Pest Control through a chat window. You should come off as cool, relaxed and informal, but helpful. A new lead has reached out through our site. I will provide you with goals based on the information you have collected so far. Try to avoid asking multiple questions in one response. Avoid overly formal words and phrases.\n",
      "Conversation Summary So Far:\n",
      "User: Hi name is John Smith and I am interested in pest control\n",
      "Agent: Hi John! Thanks for reaching out to Better Termite & Pest Control. I’d be happy to help you with your pest control needs. Before we begin, may I ask you a few questions to better understand your issue?\n",
      "User: Yeah sure, thats fine\n",
      "Agent: Great, thank you John. First, may I have your phone number so we can easily reach you if we need to discuss your pest control needs further?\n",
      "User: Sure my name is George Schulz. My email is georgeschulz33@gmail.com, phone is 571-431-9531, and my address is 123 Elm Way, Gaithersburg, MD 20878\n",
      "Agent: Thank you for providing that information, George. Can you tell me which type of pest issue you are experiencing?\n",
      "User: Last night, I saw a mouse run across the kitchen and it really startled me. I'm not sure if there could be more. I just want them gone.\n",
      "Agent: I understand how that can be alarming, George. It's possible there may be more mice in your home, so it's important to take action. Our company specializes in rodent control and we can definitely help you get rid of the mice in your home. Winter is actually a prime time for rodent activity, so monitoring your home for any pest activity during the winter is vital to maintaining a pest-free home. We monitor closely for rodent activity specifically and also keep a careful watch for termite activity.\n",
      "User: Maybe, but I would like to add: my home is 2000 square feet\n",
      " Use the following pieces of context to answer the users question. If you don't know the answer, just say that you don't know, don't try to make up an answer.\n",
      "Castle's 7-Point Touch\n",
      "Castle uses a unique 7-point touch process that is specifically designed for new homes in the DC metro area. It helps you form a preventative \"moat\" around your home to keep invaders from disrupting your home. Our defense provides year-round, seasonal protection against 31 common pests and rodents that we've identified as typical invaders to new homes.\n",
      "\n",
      "*Human*:  Maybe, but I would like to add: my home is 2000 square feet\n",
      "------------------\n",
      "Agent:  Thank you for letting me know, George. Knowing the square footage of your home is important for us to give you an accurate estimate. Our team will take that into consideration when assessing your pest control needs and providing you with a quote. Is there anything else I can help you with at this time?\n"
     ]
    }
   ],
   "source": [
    "agent.respond('Maybe, but I would like to add: my home is 2000 square feet')"
   ]
  },
  {
   "cell_type": "code",
   "execution_count": 14,
   "metadata": {},
   "outputs": [
    {
     "name": "stdout",
     "output_type": "stream",
     "text": [
      "Pests: Rodents\n",
      "Pest_Id: 4\n",
      "Special_Instructions: Recommend inspection to determine extent of issue. Mention Castle's 7-Point Touch protection plan.\n",
      "Location: Kitchen\n",
      "Square_Footage: 2000\n",
      "{'pest_id': '4', 'special_instructions': 'Recommend inspection to determine extent of issue. Mention Castle', 'location': 'Kitchen', 'square_footage': '2000'}\n"
     ]
    },
    {
     "ename": "TypeError",
     "evalue": "'NoneType' object is not iterable",
     "output_type": "error",
     "traceback": [
      "\u001b[0;31m---------------------------------------------------------------------------\u001b[0m",
      "\u001b[0;31mTypeError\u001b[0m                                 Traceback (most recent call last)",
      "Cell \u001b[0;32mIn[14], line 1\u001b[0m\n\u001b[0;32m----> 1\u001b[0m agent\u001b[39m.\u001b[39;49missues\u001b[39m.\u001b[39;49mupdate(agent\u001b[39m.\u001b[39;49mget_issue(\u001b[39m\"\"\"\u001b[39;49m\u001b[39m*System*:  You are a helpful sales agent communicating with a prospect for Better Termite & Pest Control through a chat window. You should come off as cool, relaxed and informal, but helpful. A new lead has reached out through our site. I will provide you with goals based on the information you have collected so far. Try to avoid asking multiple questions in one response. Avoid overly formal words and phrases.\u001b[39;49m\n\u001b[1;32m      2\u001b[0m \u001b[39mConversation Summary So Far:\u001b[39;49m\n\u001b[1;32m      3\u001b[0m \u001b[39mUser: Hi name is John Smith and I am interested in pest control\u001b[39;49m\n\u001b[1;32m      4\u001b[0m \u001b[39mAgent: Hey there John! Thanks for reaching out to Better Termite & Pest Control. I\u001b[39;49m\u001b[39m'\u001b[39;49m\u001b[39md love to help you out with your pest control needs. May I ask what type of pest issue you\u001b[39;49m\u001b[39m'\u001b[39;49m\u001b[39mre dealing with?\u001b[39;49m\n\u001b[1;32m      5\u001b[0m \u001b[39mUser: Yeah sure, thats fine\u001b[39;49m\n\u001b[1;32m      6\u001b[0m \u001b[39mAgent: Great! To help you get started, may I have your phone number please?\u001b[39;49m\n\u001b[1;32m      7\u001b[0m \u001b[39mUser: Sure my name is George Schulz. My email is georgeschulz33@gmail.com, phone is 571-431-9531, and my address is 123 Elm Way, Gaithersburg, MD 20878\u001b[39;49m\n\u001b[1;32m      8\u001b[0m \u001b[39mAgent: Thanks, George! To better assist you, could you please let me know what type of pest issue you\u001b[39;49m\u001b[39m'\u001b[39;49m\u001b[39mre dealing with and where is the location of the issue in your property? Additionally, what is the total square footage of the area impacted?\u001b[39;49m\n\u001b[1;32m      9\u001b[0m \u001b[39mUser: Last night, I saw a mouse run across the kitchen and it really startled me. I\u001b[39;49m\u001b[39m'\u001b[39;49m\u001b[39mm not sure if there could be more. I just want them gone.\u001b[39;49m\n\u001b[1;32m     10\u001b[0m \u001b[39mAgent: I understand how you feel George, rodents can be really alarming. Rest assured, we can help you with that. Our team specializes in rodent control, and we highly recommend getting an inspection to determine the extent of the issue. It\u001b[39;49m\u001b[39m'\u001b[39;49m\u001b[39ms important to note that during the winter months, we monitor homes closely for rodent activity. Would you like to schedule an inspection with us?\u001b[39;49m\n\u001b[1;32m     11\u001b[0m \u001b[39mUser: Maybe, but I would like to add: my home is 2000 square feet\u001b[39;49m\n\u001b[1;32m     12\u001b[0m \u001b[39m Use the following pieces of context to answer the users question. If you don\u001b[39;49m\u001b[39m'\u001b[39;49m\u001b[39mt know the answer, just say that you don\u001b[39;49m\u001b[39m'\u001b[39;49m\u001b[39mt know, don\u001b[39;49m\u001b[39m'\u001b[39;49m\u001b[39mt try to make up an answer.\u001b[39;49m\n\u001b[1;32m     13\u001b[0m \u001b[39mCastle\u001b[39;49m\u001b[39m'\u001b[39;49m\u001b[39ms 7-Point Touch\u001b[39;49m\n\u001b[1;32m     14\u001b[0m \u001b[39mCastle uses a unique 7-point touch process that is specifically designed for new homes in the DC metro area. It helps you form a preventative \u001b[39;49m\u001b[39m\"\u001b[39;49m\u001b[39mmoat\u001b[39;49m\u001b[39m\"\u001b[39;49m\u001b[39m around your home to keep invaders from disrupting your home. Our defense provides year-round, seasonal protection against 31 common pests and rodents that we\u001b[39;49m\u001b[39m'\u001b[39;49m\u001b[39mve identified as typical invaders to new homes.\u001b[39;49m\n\u001b[1;32m     15\u001b[0m \n\u001b[1;32m     16\u001b[0m \u001b[39m*Human*:  Maybe, but I would like to add: my home is 2000 square feet\u001b[39;49m\n\u001b[1;32m     17\u001b[0m \u001b[39m------------------\u001b[39;49m\n\u001b[1;32m     18\u001b[0m \u001b[39mAgent:  Thank you, George, for letting me know that your home is 2000 square feet. This will help us determine the scope of work needed to effectively resolve the rodent issue. Our team can definitely provide you with a quote and more information about our services. Would you like me to have someone reach out to you to schedule an inspection? Also, have you heard about Castle\u001b[39;49m\u001b[39m'\u001b[39;49m\u001b[39ms 7-Point Touch protection plan? It\u001b[39;49m\u001b[39m'\u001b[39;49m\u001b[39ms a great preventative measure to help ensure your home stays pest-free year-round.\u001b[39;49m\u001b[39m\"\"\"\u001b[39;49m))\n",
      "File \u001b[0;32m~/Documents/Projects/pest-sales-chatbot/prompting/./modules/NaturalLanguagePool.py:30\u001b[0m, in \u001b[0;36mNaturalLanguagePool.update\u001b[0;34m(self, data)\u001b[0m\n\u001b[1;32m     28\u001b[0m \u001b[39mdef\u001b[39;00m \u001b[39mupdate\u001b[39m(\u001b[39mself\u001b[39m, data):\n\u001b[1;32m     29\u001b[0m     \u001b[39m#create a property if the property doesn't exist\u001b[39;00m\n\u001b[0;32m---> 30\u001b[0m     \u001b[39mfor\u001b[39;00m i, prop \u001b[39min\u001b[39;00m \u001b[39menumerate\u001b[39;49m(data):\n\u001b[1;32m     31\u001b[0m         \u001b[39mif\u001b[39;00m \u001b[39mnot\u001b[39;00m \u001b[39mself\u001b[39m\u001b[39m.\u001b[39mproperty_exists(prop) \u001b[39mand\u001b[39;00m \u001b[39mself\u001b[39m\u001b[39m.\u001b[39mcreate_new_properties:\n\u001b[1;32m     32\u001b[0m             new \u001b[39m=\u001b[39m Property(prop, data[prop], description\u001b[39m=\u001b[39m\u001b[39m\"\u001b[39m\u001b[39m\"\u001b[39m, can_override\u001b[39m=\u001b[39m\u001b[39mTrue\u001b[39;00m)\n",
      "\u001b[0;31mTypeError\u001b[0m: 'NoneType' object is not iterable"
     ]
    }
   ],
   "source": []
  },
  {
   "cell_type": "code",
   "execution_count": 12,
   "metadata": {},
   "outputs": [
    {
     "ename": "TypeError",
     "evalue": "'NaturalLanguagePool' object is not callable",
     "output_type": "error",
     "traceback": [
      "\u001b[0;31m---------------------------------------------------------------------------\u001b[0m",
      "\u001b[0;31mTypeError\u001b[0m                                 Traceback (most recent call last)",
      "Cell \u001b[0;32mIn[12], line 1\u001b[0m\n\u001b[0;32m----> 1\u001b[0m agent\u001b[39m.\u001b[39;49missues(\u001b[39m'\u001b[39;49m\u001b[39mYep seeing in my kitchen\u001b[39;49m\u001b[39m'\u001b[39;49m)\n",
      "\u001b[0;31mTypeError\u001b[0m: 'NaturalLanguagePool' object is not callable"
     ]
    }
   ],
   "source": [
    "agent.issues('Yep seeing in my kitchen')"
   ]
  },
  {
   "cell_type": "code",
   "execution_count": 18,
   "metadata": {},
   "outputs": [
    {
     "name": "stdout",
     "output_type": "stream",
     "text": [
      "*System*:  You are a helpful sales agent communicating with a prospect for Better Termite & Pest Control through a chat window. You should come off as cool, relaxed and informal, but helpful. A new lead has reached out through our site. I will provide you with goals based on the information you have collected so far. Try to avoid asking multiple questions in one response. Avoid overly formal words and phrases.\n",
      "Conversation Summary So Far:\n",
      "User: Hi name is John Smith and I am interested in pest control\n",
      "Agent: Hey John, thanks for reaching out to us here at Better Termite & Pest Control. I'm happy to assist you with your pest control needs. Do you mind if I ask you a few questions to get a better understanding of your situation?\n",
      "User: Yeah sure, thats fine\n",
      "Agent: Great, thanks! Can you kindly provide me with your phone number, email, street address, city, state, and zip code? That way we can get in touch with you and provide a more accurate estimate.\n",
      "User: Sure my name is George Schulz. My email is georgeschulz33@gmail.com, phone is 571-431-9531, and my address is 123 Elm Way, Gaithersburg, MD 20878\n",
      "Agent: Thanks for providing that information, George! Can you let me know what type of pests you are having an issue with? That way we can provide the proper treatment.\n",
      "User: I've been seeing ants in my kitchen and some spiders around the house. Im just fed up!\n",
      "Agent: I'm sorry to hear that, George! Just to clarify, are you experiencing issues with any other pests besides ants and spiders?\n",
      "User: No right now, just those two pests.\n",
      "Agent: Got it, thanks for letting me know! Can you tell me the approximate square footage of your property? It will help us in determining the extent of the problem.\n",
      "User: It's 2500 square feet\n",
      " Current goal: Gather details about the customer's issue. This goal is considered complete, once you have the pest ID, location of the issue and the square footage of the property. Make sure to check if the customer is seeing multiple issues. Ask only 1 question per response.\n",
      "What we are missing: pest_id\n",
      "What we have so far:\n",
      "location: Kitchen, around the house\n",
      "special_instructions: Ants are in the kitchen, spiders are around the house\n",
      "pest_id: ?\n",
      "square_footage: 2500\n",
      "pests: Ants, spiders\n",
      "Use the following pieces of context to answer the users question. If you don't know the answer, just say that you don't know, don't try to make up an answer.\n",
      "Castle's 7-Point Touch\n",
      "Castle uses a unique 7-point touch process that is specifically designed for new homes in the DC metro area. It helps you form a preventative \"moat\" around your home to keep invaders from disrupting your home. Our defense provides year-round, seasonal protection against 31 common pests and rodents that we've identified as typical invaders to new homes.\n",
      "\n",
      "*Human*:  It's 2500 square feet\n",
      "------------------\n",
      "Agent:  Thanks for letting me know, George! Based on your description, it sounds like you may have an issue with ants and spiders in your kitchen and around your house. Is that correct? Additionally, have you noticed any other types of pests around your property?\n"
     ]
    }
   ],
   "source": [
    "agent.respond(\"It's 2500 square feet\")"
   ]
  },
  {
   "cell_type": "code",
   "execution_count": null,
   "metadata": {},
   "outputs": [],
   "source": []
  },
  {
   "cell_type": "code",
   "execution_count": 10,
   "metadata": {},
   "outputs": [
    {
     "data": {
      "text/plain": [
       "[first_name: George,\n",
       " last_name: Schulz,\n",
       " phone_number: 571-431-9531,\n",
       " email: georgeschulz33@gmail.com,\n",
       " street_address: 123 Elm Way,\n",
       " city: Gaithersburg,\n",
       " state: MD,\n",
       " zip: 20878]"
      ]
     },
     "execution_count": 10,
     "metadata": {},
     "output_type": "execute_result"
    }
   ],
   "source": [
    "agent.customer_profile.data"
   ]
  },
  {
   "cell_type": "code",
   "execution_count": 15,
   "metadata": {},
   "outputs": [
    {
     "name": "stdout",
     "output_type": "stream",
     "text": [
      "*Initialization Prompt*: Hi! My name is George from Better Termite & Pest Control. How can I help you? :)\n",
      "------------------------------------\n",
      "*User*: Hi name is John Smith and I am interested in pest control\n",
      "------------------------------------\n",
      "*Agent*: Hey there John! Thanks for reaching out to Better Termite & Pest Control. I'd love to help you out with your pest control needs. May I ask what type of pest issue you're dealing with?\n",
      "------------------------------------\n",
      "*User*: Yeah sure, thats fine\n",
      "------------------------------------\n",
      "*Agent*: Great! To help you get started, may I have your phone number please?\n",
      "------------------------------------\n",
      "*User*: Sure my name is George Schulz. My email is georgeschulz33@gmail.com, phone is 571-431-9531, and my address is 123 Elm Way, Gaithersburg, MD 20878\n",
      "------------------------------------\n",
      "*Agent*: Thanks, George! To better assist you, could you please let me know what type of pest issue you're dealing with and where is the location of the issue in your property? Additionally, what is the total square footage of the area impacted?\n",
      "------------------------------------\n",
      "*User*: Last night, I saw a mouse run across the kitchen and it really startled me. I'm not sure if there could be more. I just want them gone.\n",
      "------------------------------------\n",
      "*Agent*: I understand how you feel George, rodents can be really alarming. Rest assured, we can help you with that. Our team specializes in rodent control, and we highly recommend getting an inspection to determine the extent of the issue. It's important to note that during the winter months, we monitor homes closely for rodent activity. Would you like to schedule an inspection with us?\n",
      "------------------------------------\n",
      "*User*: Maybe, but I would like to add: my home is 2000 square feet\n",
      "------------------------------------\n",
      "*Agent*: Thank you, George, for letting me know that your home is 2000 square feet. This will help us determine the scope of work needed to effectively resolve the rodent issue. Our team can definitely provide you with a quote and more information about our services. Would you like me to have someone reach out to you to schedule an inspection? Also, have you heard about Castle's 7-Point Touch protection plan? It's a great preventative measure to help ensure your home stays pest-free year-round.\n",
      "------------------------------------\n"
     ]
    }
   ],
   "source": [
    "show_chat_log(agent.history)"
   ]
  },
  {
   "cell_type": "code",
   "execution_count": 19,
   "metadata": {},
   "outputs": [
    {
     "name": "stdout",
     "output_type": "stream",
     "text": [
      "*System*:  You are a helpful sales agent communicating with a prospect for Better Termite & Pest Control through a chat window. You should come off as cool, relaxed and informal, but helpful. A new lead has reached out through our site. I will provide you with goals based on the information you have collected so far. Try to avoid asking multiple questions in one response. Avoid overly formal words and phrases.\n",
      "Conversation Summary So Far:\n",
      "User: Hi name is John Smith and I am interested in pest control\n",
      "Agent: Hey John, thanks for reaching out to us here at Better Termite & Pest Control. I'm happy to assist you with your pest control needs. Do you mind if I ask you a few questions to get a better understanding of your situation?\n",
      "User: Yeah sure, thats fine\n",
      "Agent: Great, thanks! Can you kindly provide me with your phone number, email, street address, city, state, and zip code? That way we can get in touch with you and provide a more accurate estimate.\n",
      "User: Sure my name is George Schulz. My email is georgeschulz33@gmail.com, phone is 571-431-9531, and my address is 123 Elm Way, Gaithersburg, MD 20878\n",
      "Agent: Thanks for providing that information, George! Can you let me know what type of pests you are having an issue with? That way we can provide the proper treatment.\n",
      "User: I've been seeing ants in my kitchen and some spiders around the house. Im just fed up!\n",
      "Agent: I'm sorry to hear that, George! Just to clarify, are you experiencing issues with any other pests besides ants and spiders?\n",
      "User: No right now, just those two pests.\n",
      "Agent: Got it, thanks for letting me know! Can you tell me the approximate square footage of your property? It will help us in determining the extent of the problem.\n",
      "User: It's 2500 square feet\n",
      "Agent: Thanks for letting me know, George! Based on your description, it sounds like you may have an issue with ants and spiders in your kitchen and around your house. Is that correct? Additionally, have you noticed any other types of pests around your property?\n",
      "User: Yes, thats right\n",
      " Current goal: Gather details about the customer's issue. This goal is considered complete, once you have the pest ID, location of the issue and the square footage of the property. Make sure to check if the customer is seeing multiple issues. Ask only 1 question per response.\n",
      "What we are missing: pest_id\n",
      "What we have so far:\n",
      "location: Kitchen, around the house\n",
      "special_instructions: Ants are in the kitchen, spiders are around the house\n",
      "pest_id: ?\n",
      "square_footage: 2500\n",
      "pests: Ants, spiders\n",
      "Use the following pieces of context to answer the users question. If you don't know the answer, just say that you don't know, don't try to make up an answer.\n",
      "Conclusion:\n",
      "\n",
      "*Human*:  Yes, thats right\n",
      "------------------\n",
      "Agent:  Thanks for confirming, George! Just one more question, do you happen to know what type of ants you are seeing in your kitchen? It can help us identify the proper treatment. If you're not sure, that's okay! We have a team of experts who will be able to help identify them.\n"
     ]
    }
   ],
   "source": [
    "agent.respond('Yes, thats right')"
   ]
  },
  {
   "cell_type": "code",
   "execution_count": 20,
   "metadata": {},
   "outputs": [
    {
     "name": "stdout",
     "output_type": "stream",
     "text": [
      "*System*:  You are a helpful sales agent communicating with a prospect for Better Termite & Pest Control through a chat window. You should come off as cool, relaxed and informal, but helpful. A new lead has reached out through our site. I will provide you with goals based on the information you have collected so far. Try to avoid asking multiple questions in one response. Avoid overly formal words and phrases.\n",
      "Conversation Summary So Far:\n",
      "User: Hi name is John Smith and I am interested in pest control\n",
      "Agent: Hey John, thanks for reaching out to us here at Better Termite & Pest Control. I'm happy to assist you with your pest control needs. Do you mind if I ask you a few questions to get a better understanding of your situation?\n",
      "User: Yeah sure, thats fine\n",
      "Agent: Great, thanks! Can you kindly provide me with your phone number, email, street address, city, state, and zip code? That way we can get in touch with you and provide a more accurate estimate.\n",
      "User: Sure my name is George Schulz. My email is georgeschulz33@gmail.com, phone is 571-431-9531, and my address is 123 Elm Way, Gaithersburg, MD 20878\n",
      "Agent: Thanks for providing that information, George! Can you let me know what type of pests you are having an issue with? That way we can provide the proper treatment.\n",
      "User: I've been seeing ants in my kitchen and some spiders around the house. Im just fed up!\n",
      "Agent: I'm sorry to hear that, George! Just to clarify, are you experiencing issues with any other pests besides ants and spiders?\n",
      "User: No right now, just those two pests.\n",
      "Agent: Got it, thanks for letting me know! Can you tell me the approximate square footage of your property? It will help us in determining the extent of the problem.\n",
      "User: It's 2500 square feet\n",
      "Agent: Thanks for letting me know, George! Based on your description, it sounds like you may have an issue with ants and spiders in your kitchen and around your house. Is that correct? Additionally, have you noticed any other types of pests around your property?\n",
      "User: Yes, thats right\n",
      "Agent: Thanks for confirming, George! Just one more question, do you happen to know what type of ants you are seeing in your kitchen? It can help us identify the proper treatment. If you're not sure, that's okay! We have a team of experts who will be able to help identify them.\n",
      "User: Im not sure\n",
      " Current goal: Gather details about the customer's issue. This goal is considered complete, once you have the pest ID, location of the issue and the square footage of the property. Make sure to check if the customer is seeing multiple issues. Ask only 1 question per response.\n",
      "What we are missing: pest_id\n",
      "What we have so far:\n",
      "location: Kitchen, around the house\n",
      "special_instructions: Ants are in the kitchen, spiders are around the house\n",
      "pest_id: ?\n",
      "square_footage: 2500\n",
      "pests: Ants, spiders\n",
      "Use the following pieces of context to answer the users question. If you don't know the answer, just say that you don't know, don't try to make up an answer.\n",
      "Conclusion:\n",
      "\n",
      "*Human*:  Im not sure\n",
      "------------------\n",
      "Agent:  No problem, George! Our team of experts will be able to identify the ants for you when they come for the inspection. So, just to recap, you are experiencing issues with ants in your kitchen and spiders around your house, correct? And the square footage of your property is 2500. Is there anything else you'd like to share or any other questions you have?\n"
     ]
    }
   ],
   "source": [
    "agent.respond('Im not sure')"
   ]
  },
  {
   "cell_type": "code",
   "execution_count": 21,
   "metadata": {},
   "outputs": [
    {
     "data": {
      "text/plain": [
       "[location: Kitchen, around the house,\n",
       " special_instructions: Ants are in the kitchen, spiders are around the house,\n",
       " pest_id: None,\n",
       " square_footage: 2500,\n",
       " pests: Ants, spiders]"
      ]
     },
     "execution_count": 21,
     "metadata": {},
     "output_type": "execute_result"
    }
   ],
   "source": [
    "agent.issues.data"
   ]
  },
  {
   "cell_type": "code",
   "execution_count": 23,
   "metadata": {},
   "outputs": [
    {
     "name": "stdout",
     "output_type": "stream",
     "text": [
      "\n",
      "User: Hi name is John Smith and I am interested in pest control\n",
      "Agent: Hey John, thanks for reaching out to us here at Better Termite & Pest Control. I'm happy to assist you with your pest control needs. Do you mind if I ask you a few questions to get a better understanding of your situation?\n",
      "User: Yeah sure, thats fine\n",
      "Agent: Great, thanks! Can you kindly provide me with your phone number, email, street address, city, state, and zip code? That way we can get in touch with you and provide a more accurate estimate.\n",
      "User: Sure my name is George Schulz. My email is georgeschulz33@gmail.com, phone is 571-431-9531, and my address is 123 Elm Way, Gaithersburg, MD 20878\n",
      "Agent: Thanks for providing that information, George! Can you let me know what type of pests you are having an issue with? That way we can provide the proper treatment.\n",
      "User: I've been seeing ants in my kitchen and some spiders around the house. Im just fed up!\n",
      "Agent: I'm sorry to hear that, George! Just to clarify, are you experiencing issues with any other pests besides ants and spiders?\n",
      "User: No right now, just those two pests.\n",
      "Agent: Got it, thanks for letting me know! Can you tell me the approximate square footage of your property? It will help us in determining the extent of the problem.\n",
      "User: It's 2500 square feet\n",
      "Agent: Thanks for letting me know, George! Based on your description, it sounds like you may have an issue with ants and spiders in your kitchen and around your house. Is that correct? Additionally, have you noticed any other types of pests around your property?\n",
      "User: Yes, thats right\n",
      "Agent: Thanks for confirming, George! Just one more question, do you happen to know what type of ants you are seeing in your kitchen? It can help us identify the proper treatment. If you're not sure, that's okay! We have a team of experts who will be able to help identify them.\n",
      "User: Im not sure\n",
      "Agent: No problem, George! Our team of experts will be able to identify the ants for you when they come for the inspection. So, just to recap, you are experiencing issues with ants in your kitchen and spiders around your house, correct? And the square footage of your property is 2500. Is there anything else you'd like to share or any other questions you have?\n"
     ]
    }
   ],
   "source": [
    "print(agent.history.get_transcript())"
   ]
  },
  {
   "cell_type": "code",
   "execution_count": 39,
   "metadata": {},
   "outputs": [
    {
     "name": "stdout",
     "output_type": "stream",
     "text": [
      "Creating new location\n",
      " name: George Schulz,\n",
      " address: 123 Elm Way,\n",
      " city: Gaithersburg,\n",
      " state: MD,\n",
      " zip: 20878,\n",
      " phone: 571-431-9531,\n",
      " email: georgeschulz33@gmail.com,\n",
      "\n"
     ]
    },
    {
     "data": {
      "text/plain": [
       "True"
      ]
     },
     "execution_count": 39,
     "metadata": {},
     "output_type": "execute_result"
    }
   ],
   "source": [
    "import datetime\n",
    "import random\n",
    "\n",
    "#a class for mocking a connection to pestpac database for testing purposes of the LLM\n",
    "class PestPacConnection:\n",
    "    def __init__(self, api_key, username, password):\n",
    "        self.api_key = api_key\n",
    "        self.username = username\n",
    "        self.password = password\n",
    "    \n",
    "    #make sure the default start date is tomorrow's date and end date is tomorrows + 10\n",
    "    def best_fit(self, lat, long, service, s_date=None, e_date=None, dow=None, time_rg=None):\n",
    "        if s_date == None:\n",
    "            s_date = datetime.date.today() + datetime.timedelta(days=1)\n",
    "        if e_date == None:\n",
    "            e_date = datetime.date.today() + datetime.timedelta(days=11)\n",
    "        \n",
    "        #generate 3 random dates between the start and end date and choose a random tech\n",
    "        appointments = []\n",
    "        techs = ['John Smith', 'Jayden Nicholas', 'Gregory Stepheson']\n",
    "        time_ranges = ['9:00 AM - 12:00 PM', '12:00 PM - 3:00 PM', '3:00 PM - 6:00 PM']\n",
    "        for i in range(3):\n",
    "            #get 3 random dates between the start and end date\n",
    "            date = random.randint(s_date.toordinal(), e_date.toordinal())\n",
    "            date = datetime.date.fromordinal(date)\n",
    "            tech = random.choice(techs)\n",
    "            time = random.choice(time_ranges)\n",
    "            appointments.append({'date': date, 'tech': tech, 'time': time})\n",
    "\n",
    "        return appointments\n",
    "    \n",
    "    def create_service(self, loc_id, serv, bill_freq, bill_inf, recur_price, recur_time, tech, in_date, instr, in_time, initial_price):\n",
    "        print('Creating new service')\n",
    "        print(f' loc_id: {loc_id},\\n serv: {serv},\\n bill_freq: {bill_freq},\\n bill_inf: {bill_inf},\\n recur_price: {recur_price},\\n recur_time: {recur_time},\\n tech: {tech},\\n in_date: {in_date},\\n instr: {instr},\\n in_time: {in_time},\\n initial_price: {initial_price}')\n",
    "        return True\n",
    "\n",
    "    def create_loc(self, name, address, city, state, zip, phone, email):\n",
    "        print('Creating new location')\n",
    "        print(f' name: {name},\\n address: {address},\\n city: {city},\\n state: {state},\\n zip: {zip},\\n phone: {phone},\\n email: {email},\\n')\n",
    "        return True\n",
    "\n",
    "pp = PestPacConnection(api_key='123', username='123', password='123')\n",
    "pp.create_loc('George Schulz', '123 Elm Way', 'Gaithersburg', 'MD', '20878', '571-431-9531', 'georgeschulz33@gmail.com')"
   ]
  },
  {
   "cell_type": "code",
   "execution_count": 13,
   "metadata": {},
   "outputs": [],
   "source": [
    "class Payments:\n",
    "    def __init__(self, api_key):\n",
    "        self.api_key = api_key\n",
    "    \n",
    "    def get_product(self, program_name):\n",
    "        programs = {\n",
    "            'All in One': 'prod_MLignVDWxCwv98',\n",
    "            'lawnshield': 'prod_NX8oqOKLA2tPIn',\n",
    "            'castle': 'prod_NX8pSb35sDjLqE'        \n",
    "        }\n",
    "\n",
    "        return programs[program_name]\n",
    "    \n",
    "    def create_payment_link(self, service_name, initial):\n",
    "        stripe.api_key = self.api_key\n",
    "        service_id = self.get_product(service_name)\n",
    "        unit_amount = int(initial * 100)\n",
    "        #create the price for the service in the stripe dashboard\n",
    "        price = stripe.Price.create(currency=\"usd\", unit_amount=unit_amount, product=service_id)\n",
    "        price_id = price.id\n",
    "        #create the payment link\n",
    "        link = stripe.checkout.Session.create(\n",
    "            payment_method_types=['card'],\n",
    "            line_items=[\n",
    "                {\n",
    "                    'price': price_id,\n",
    "                    'quantity': 1,\n",
    "                },\n",
    "            ],\n",
    "            mode='payment',\n",
    "            success_url='https://example.com/success',\n",
    "            cancel_url='https://example.com/cancel',\n",
    "        )\n",
    "        return link.url\n",
    "\n",
    "\n",
    "pay = Payments(api_key=os.getenv('STRIPE_KEY'))"
   ]
  },
  {
   "cell_type": "code",
   "execution_count": 15,
   "metadata": {},
   "outputs": [
    {
     "data": {
      "text/plain": [
       "'https://checkout.stripe.com/c/pay/cs_test_a12BomIMePybf7XcJHkYeLnvvfFplRLN7i7cE5UtLZuGG7qJT27APCm9D1#fidkdWxOYHwnPyd1blpxYHZxWjA0TTJoRHZOaGtxTUlPdF9PR1VGYGdOXHMwVU4zNFVkXERqbWlITX82VHdmaVxtXFZSYHdOaGZTa0RUa1Y0ZEpjVF9CVV9KYzBnTEB9a1cxUmc0TGNwZEwyNTU2UTVmc1JgZicpJ2N3amhWYHdzYHcnP3F3cGApJ2lkfGpwcVF8dWAnPyd2bGtiaWBabHFgaCcpJ2BrZGdpYFVpZGZgbWppYWB3dic%2FcXdwYHgl'"
      ]
     },
     "execution_count": 15,
     "metadata": {},
     "output_type": "execute_result"
    }
   ],
   "source": [
    "pay.create_payment_link('castle', 84.99)"
   ]
  },
  {
   "cell_type": "code",
   "execution_count": null,
   "metadata": {},
   "outputs": [],
   "source": [
    "class Knowledge:\n",
    "    def __init__(self):\n",
    "        pass\n",
    "\n",
    "    def find_best_service(self, pest, location):\n",
    "        #find the best service for the pest and location\n",
    "        return 'All in One'\n",
    "    \n",
    "    def assess_situation(self, pest, location):\n",
    "        #find the best service for the pest and location\n",
    "        return 'All in One'\n",
    "    \n",
    "    def get_price(self, service):\n",
    "        #get the price for the service\n",
    "        return 84.99\n",
    "    \n",
    "    "
   ]
  }
 ],
 "metadata": {
  "kernelspec": {
   "display_name": ".venv",
   "language": "python",
   "name": "python3"
  },
  "language_info": {
   "codemirror_mode": {
    "name": "ipython",
    "version": 3
   },
   "file_extension": ".py",
   "mimetype": "text/x-python",
   "name": "python",
   "nbconvert_exporter": "python",
   "pygments_lexer": "ipython3",
   "version": "3.8.12"
  },
  "orig_nbformat": 4,
  "vscode": {
   "interpreter": {
    "hash": "ec0f111f5e5040c678ec5a567f7682a80a3d7b8519cf7f13b3475890ed8a264f"
   }
  }
 },
 "nbformat": 4,
 "nbformat_minor": 2
}
