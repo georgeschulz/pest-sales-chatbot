{
 "cells": [
  {
   "cell_type": "code",
   "execution_count": 10,
   "metadata": {},
   "outputs": [],
   "source": [
    "import pandas as pd\n",
    "import openai\n",
    "from dotenv import load_dotenv\n",
    "load_dotenv()\n",
    "import os\n",
    "from langchain.prompts import load_prompt\n",
    "from langchain.llms import OpenAIChat\n",
    "import sys\n",
    "pd.options.mode.chained_assignment = None\n",
    "from langchain.callbacks import get_openai_callback\n",
    "from langchain.embeddings.openai import OpenAIEmbeddings\n",
    "from langchain.vectorstores import Chroma\n",
    "from langchain.text_splitter import CharacterTextSplitter\n",
    "from langchain.document_loaders import TextLoader\n",
    "\n",
    "from langchain.chat_models import ChatOpenAI\n",
    "from langchain.schema import (\n",
    "    AIMessage,\n",
    "    SystemMessage\n",
    ")\n",
    "import sys\n",
    "sys.path.append('./modules/')\n",
    "openai.api_key = os.getenv('OPENAI_KEY')\n",
    "key = os.getenv('OPENAI_KEY')\n",
    "\n",
    "from Generator import Generator\n",
    "from Extractor import Extractor\n",
    "from PromptPath import PromptPath\n",
    "from GenExtract import GenExtract\n",
    "from Property import Property\n",
    "from NaturalLanguagePool import NaturalLanguagePool\n",
    "from DynamicChatHistory import DynamicChatHistory\n",
    "from Conversation import Conversation\n",
    "from ConversationScript import ConversationScript\n",
    "from ConversationScriptStage import ConversationScriptStage\n",
    "from show_chat_log import show_chat_log\n",
    "from is_question import is_question\n",
    "from customer_profile import customer_profile\n",
    "\n",
    "times_embedding_run = 0"
   ]
  },
  {
   "cell_type": "code",
   "execution_count": 11,
   "metadata": {},
   "outputs": [
    {
     "name": "stdout",
     "output_type": "stream",
     "text": [
      "Running Chroma using direct local API.\n",
      "Using DuckDB in-memory for database. Data will be transient.\n"
     ]
    },
    {
     "data": {
      "text/plain": [
       "'Embeddings generated into policies variable'"
      ]
     },
     "execution_count": 11,
     "metadata": {},
     "output_type": "execute_result"
    }
   ],
   "source": [
    "#load in the policies to the vectorstore\n",
    "loaders = []\n",
    "docs = []\n",
    "\n",
    "#create a list with the names of the files to be loaded in the data/policies folder\n",
    "for file in os.listdir('data/policies'):\n",
    "    if file.endswith('.txt'):\n",
    "        loader = TextLoader('data/policies/' + file)\n",
    "        loaders.append(loader)\n",
    "\n",
    "for loader in loaders:\n",
    "    docs.extend(loader.load())\n",
    "\n",
    "if times_embedding_run < 1:\n",
    "    text_splitter = CharacterTextSplitter(chunk_size=250, chunk_overlap=0)\n",
    "    documents = text_splitter.split_documents(docs)\n",
    "\n",
    "    embeddings = OpenAIEmbeddings(openai_api_key=key)\n",
    "    policies = Chroma.from_documents(documents, embeddings)\n",
    "    times_embedding_run += 1\n",
    "\n",
    "\"Embeddings generated into policies variable\""
   ]
  },
  {
   "cell_type": "code",
   "execution_count": 3,
   "metadata": {},
   "outputs": [],
   "source": [
    "targets = Property('targets', None, \"Any target pests or rodents that the customer is having issues with\", required=True, examples=['cockroaches', 'rats', 'mice'])\n",
    "\n",
    "location_of_issue = Property('location_of_issue', None, \"The location of the issue\", required=True, examples=['kitchen', 'bathroom', 'bedroom', 'proactive'])\n",
    "\n",
    "service_type = Property('service_type', None, \"The type of service the customer is looking for\", required=True, examples=['extermination', 'inspection', 'proactive treatment'])\n",
    "\n",
    "severity = Property('severity', None, \"The severity of the issue. Can be low, medium or high\", required=True, examples=['low', 'medium', 'high'])\n",
    "\n",
    "special_instructions = Property('special_instructions', None, \"Any special instructions for the technician\", required=False, examples=['please call before arriving', 'please leave a note on the door'])\n",
    "\n",
    "time_constraints = Property('time_constraints', None, \"Any time constraints for the technician\", required=False, examples=['please arrive between 9am and 11am', 'please arrive between 1pm and 3pm'])\n",
    "\n",
    "issues = NaturalLanguagePool([targets, location_of_issue, service_type, severity, special_instructions, time_constraints], \"The issues the customer is having\", create_new_properties=True)"
   ]
  },
  {
   "cell_type": "code",
   "execution_count": 6,
   "metadata": {},
   "outputs": [],
   "source": [
    "chat = ChatOpenAI(openai_api_key=key)\n",
    "\n",
    "initial_prompt = \"\"\"You are a helpful sales agent communicating with a prospect for Better Termite & Pest Control through a chat window. You should come off as cool, relaxed and informal, but helpful. A new lead has reached out through our site. I will provide you with goals based on the information you have collected so far. Try to avoid asking multiple questions in one response. Avoid overly formal words and phrases.\"\"\"\n",
    "\n",
    "history = DynamicChatHistory(chat, system_message=initial_prompt, additional_context=\"\", initial_history=[SystemMessage(content=\"Hi! My name is George from Better Termite & Pest Control. How can I help you? :)\")])\n",
    "\n",
    "stage_one = ConversationScriptStage('Take lead of conversation', \"Ask the customer's permission to ask questions to understand their issue. This goal is considered complete, once they have agreed to let you lead the conversation.\", lambda: any(isinstance(message, AIMessage) for message in history.history))\n",
    "\n",
    "stage_two = ConversationScriptStage('Get contact information', \"Get the customer's contact information. This goal is considered complete, once you have their first name, last name, phone number, email, street address, city, state and zip code.\", lambda: customer_profile.is_complete(), pool=customer_profile, show_missing=True, show_complete=True)\n",
    "\n",
    "stage_three = ConversationScriptStage('Get customer issue', \"Get the customer's issue. This goal is considered complete, once you have their issue, severity, location of issue, service type, special instructions and time constraints.\", lambda: issues.is_complete(), pool=issues, show_missing=True, show_complete=True)\n",
    "\n",
    "sales_script = ConversationScript([stage_one, stage_two, stage_three])\n",
    "\n",
    "agent = Conversation(history, chat, sales_script, customer_profile, policies)"
   ]
  },
  {
   "cell_type": "code",
   "execution_count": 8,
   "metadata": {},
   "outputs": [
    {
     "name": "stdout",
     "output_type": "stream",
     "text": [
      "Agent:  Hello John! Thank you for reaching out to Better Termite & Pest Control. May I ask a few questions to better understand your pest control needs?\n"
     ]
    }
   ],
   "source": [
    "agent.respond('Hi name is John Smith and I am interested in pest control')"
   ]
  },
  {
   "cell_type": "code",
   "execution_count": 9,
   "metadata": {},
   "outputs": [
    {
     "name": "stdout",
     "output_type": "stream",
     "text": [
      "Agent:  I'm sorry, we do not offer any wildlife control services, including control for squirrels. Our pest control services mainly focus on insect and rodent control. However, we can definitely assist you with any pest issues you may be having in your home.\n"
     ]
    }
   ],
   "source": [
    "agent.respond('Yeah sure, but before we start, do you offer squirrel control?')"
   ]
  },
  {
   "cell_type": "code",
   "execution_count": 10,
   "metadata": {},
   "outputs": [
    {
     "name": "stdout",
     "output_type": "stream",
     "text": [
      "Agent:  We could definitely assist you with that! To better assist you, may I have your phone number, email, street address, city, state, and zip code, please? That way, I can have one of our representatives get in touch with you as soon as possible.\n"
     ]
    }
   ],
   "source": [
    "agent.respond('No worries. I also have an ant problem in my kitchen')"
   ]
  },
  {
   "cell_type": "code",
   "execution_count": 11,
   "metadata": {},
   "outputs": [
    {
     "name": "stdout",
     "output_type": "stream",
     "text": [
      "Agent:  Thank you for providing that information George! I would be happy to help you with your ant problem. Can you tell me more about the ants? Where are you seeing them in your home? Are they appearing in any specific areas or rooms? Also, do you have any specific targets or areas that you're concerned about? Lastly, are you looking for a one-time service or recurring service?\n"
     ]
    }
   ],
   "source": [
    "agent.respond('Sure my name is George Schulz. My email is georgeschulz33@gmail.com, phone is 571-431-9531, and my address is 123 Elm Way, Gaithersburg, MD 20878')"
   ]
  },
  {
   "cell_type": "code",
   "execution_count": 14,
   "metadata": {},
   "outputs": [
    {
     "data": {
      "text/plain": [
       "[first_name: George,\n",
       " last_name: Schulz,\n",
       " phone_number: 571-431-9531,\n",
       " email: georgeschulz33@gmail.com,\n",
       " street_address: 123 Elm Way,\n",
       " city: Gaithersburg,\n",
       " state: MD,\n",
       " zip: 20878]"
      ]
     },
     "execution_count": 14,
     "metadata": {},
     "output_type": "execute_result"
    }
   ],
   "source": [
    "agent.customer_profile.data"
   ]
  },
  {
   "cell_type": "code",
   "execution_count": null,
   "metadata": {},
   "outputs": [],
   "source": []
  }
 ],
 "metadata": {
  "kernelspec": {
   "display_name": ".venv",
   "language": "python",
   "name": "python3"
  },
  "language_info": {
   "codemirror_mode": {
    "name": "ipython",
    "version": 3
   },
   "file_extension": ".py",
   "mimetype": "text/x-python",
   "name": "python",
   "nbconvert_exporter": "python",
   "pygments_lexer": "ipython3",
   "version": "3.8.12"
  },
  "orig_nbformat": 4,
  "vscode": {
   "interpreter": {
    "hash": "ec0f111f5e5040c678ec5a567f7682a80a3d7b8519cf7f13b3475890ed8a264f"
   }
  }
 },
 "nbformat": 4,
 "nbformat_minor": 2
}
