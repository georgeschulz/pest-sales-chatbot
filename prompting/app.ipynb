{
 "cells": [
  {
   "cell_type": "code",
   "execution_count": 1,
   "metadata": {},
   "outputs": [],
   "source": [
    "import pandas as pd\n",
    "import openai\n",
    "from dotenv import load_dotenv\n",
    "load_dotenv()\n",
    "import os\n",
    "from langchain.prompts import load_prompt\n",
    "from langchain.llms import OpenAIChat\n",
    "import sys\n",
    "pd.options.mode.chained_assignment = None\n",
    "from langchain.callbacks import get_openai_callback\n",
    "from langchain.embeddings.openai import OpenAIEmbeddings\n",
    "from langchain.vectorstores import Chroma\n",
    "from langchain.text_splitter import CharacterTextSplitter\n",
    "from langchain.document_loaders import TextLoader\n",
    "\n",
    "from langchain.chat_models import ChatOpenAI\n",
    "from langchain.schema import (\n",
    "    AIMessage,\n",
    "    SystemMessage\n",
    ")\n",
    "import sys\n",
    "sys.path.append('./modules/')\n",
    "openai.api_key = os.getenv('OPENAI_KEY')\n",
    "key = os.getenv('OPENAI_KEY')\n",
    "\n",
    "from Generator import Generator\n",
    "from Extractor import Extractor\n",
    "from PromptPath import PromptPath\n",
    "from GenExtract import GenExtract\n",
    "from Property import Property\n",
    "from NaturalLanguagePool import NaturalLanguagePool\n",
    "from DynamicChatHistory import DynamicChatHistory\n",
    "from Conversation import Conversation\n",
    "from ConversationScript import ConversationScript\n",
    "from ConversationScriptStage import ConversationScriptStage\n",
    "from show_chat_log import show_chat_log\n",
    "from is_question import is_question\n",
    "from customer_profile import customer_profile\n",
    "\n",
    "times_embedding_run = 0"
   ]
  },
  {
   "attachments": {},
   "cell_type": "markdown",
   "metadata": {},
   "source": [
    "#### App Development Notes:\n",
    "\n",
    "What seems to be creating the greatest latency issues?\n",
    "1. The memory, which was supposed to be a token saving/context management system but may be overkill in early stage parts of the conversation\n",
    "2. The classifers that are needed to preare the prompt (the prompt itself seems to run pretty fast)"
   ]
  },
  {
   "cell_type": "code",
   "execution_count": 2,
   "metadata": {},
   "outputs": [
    {
     "name": "stderr",
     "output_type": "stream",
     "text": [
      "Created a chunk of size 408, which is longer than the specified 250\n",
      "Created a chunk of size 377, which is longer than the specified 250\n",
      "Created a chunk of size 293, which is longer than the specified 250\n",
      "Created a chunk of size 298, which is longer than the specified 250\n",
      "Created a chunk of size 332, which is longer than the specified 250\n",
      "Created a chunk of size 510, which is longer than the specified 250\n",
      "Created a chunk of size 514, which is longer than the specified 250\n",
      "Created a chunk of size 350, which is longer than the specified 250\n",
      "Created a chunk of size 265, which is longer than the specified 250\n",
      "Created a chunk of size 458, which is longer than the specified 250\n",
      "Created a chunk of size 667, which is longer than the specified 250\n",
      "Created a chunk of size 282, which is longer than the specified 250\n",
      "Created a chunk of size 364, which is longer than the specified 250\n",
      "Created a chunk of size 441, which is longer than the specified 250\n",
      "Created a chunk of size 360, which is longer than the specified 250\n",
      "Created a chunk of size 440, which is longer than the specified 250\n",
      "Created a chunk of size 263, which is longer than the specified 250\n",
      "Created a chunk of size 281, which is longer than the specified 250\n",
      "Created a chunk of size 581, which is longer than the specified 250\n",
      "Created a chunk of size 262, which is longer than the specified 250\n",
      "Created a chunk of size 855, which is longer than the specified 250\n",
      "Created a chunk of size 380, which is longer than the specified 250\n",
      "Created a chunk of size 258, which is longer than the specified 250\n",
      "Created a chunk of size 286, which is longer than the specified 250\n",
      "Created a chunk of size 326, which is longer than the specified 250\n",
      "Created a chunk of size 255, which is longer than the specified 250\n",
      "Created a chunk of size 371, which is longer than the specified 250\n",
      "Created a chunk of size 368, which is longer than the specified 250\n"
     ]
    },
    {
     "name": "stdout",
     "output_type": "stream",
     "text": [
      "Running Chroma using direct local API.\n",
      "Using DuckDB in-memory for database. Data will be transient.\n"
     ]
    },
    {
     "data": {
      "text/plain": [
       "'Embeddings generated into policies variable'"
      ]
     },
     "execution_count": 2,
     "metadata": {},
     "output_type": "execute_result"
    }
   ],
   "source": [
    "#load in the policies to the vectorstore\n",
    "loaders = []\n",
    "docs = []\n",
    "\n",
    "#create a list with the names of the files to be loaded in the data/policies folder\n",
    "for file in os.listdir('data/policies'):\n",
    "    if file.endswith('.txt'):\n",
    "        loader = TextLoader('data/policies/' + file)\n",
    "        loaders.append(loader)\n",
    "\n",
    "for loader in loaders:\n",
    "    docs.extend(loader.load())\n",
    "\n",
    "if times_embedding_run < 1:\n",
    "    text_splitter = CharacterTextSplitter(chunk_size=250, chunk_overlap=0)\n",
    "    documents = text_splitter.split_documents(docs)\n",
    "\n",
    "    embeddings = OpenAIEmbeddings(openai_api_key=key)\n",
    "    policies = Chroma.from_documents(documents, embeddings)\n",
    "    times_embedding_run += 1\n",
    "\n",
    "\"Embeddings generated into policies variable\""
   ]
  },
  {
   "cell_type": "code",
   "execution_count": 3,
   "metadata": {},
   "outputs": [],
   "source": [
    "targets = Property('targets', None, \"Any target pests or rodents that the customer is having issues with\", required=True, examples=['roaches', 'rats', 'mice'])\n",
    "\n",
    "location_of_issue = Property('location_of_issue', None, \"The location of the issue\", required=True, examples=['kitchen', 'bathroom', 'bedroom', 'proactive'])\n",
    "\n",
    "special_instructions = Property('special_instructions', None, \"Any special instructions for the technician\", required=False, examples=['please call before arriving', 'please leave a note on the door'])\n",
    "\n",
    "square_footage = Property('square_footage', None, \"The square footage of the property\", required=False, examples=['1000', '2000', '3000'])\n",
    "\n",
    "pest_id = Property('pest_id', None, \"The id number of the pest\", required=False, examples=['1', '2', '3'])\n",
    "\n",
    "issues = NaturalLanguagePool([targets, location_of_issue, special_instructions, pest_id, square_footage], \"The issues the customer is having\", create_new_properties=True)"
   ]
  },
  {
   "cell_type": "code",
   "execution_count": 7,
   "metadata": {},
   "outputs": [],
   "source": [
    "chat = ChatOpenAI(openai_api_key=key)\n",
    "\n",
    "initial_prompt = \"\"\"You are a helpful sales agent communicating with a prospect for Better Termite & Pest Control through a chat window. You should come off as cool, relaxed and informal, but helpful. A new lead has reached out through our site. I will provide you with goals based on the information you have collected so far. Try to avoid asking multiple questions in one response. Avoid overly formal words and phrases.\"\"\"\n",
    "\n",
    "history = DynamicChatHistory(chat, system_message=initial_prompt, additional_context=\"\", initial_history=[SystemMessage(content=\"Hi! My name is George from Better Termite & Pest Control. How can I help you? :)\")])\n",
    "\n",
    "stage_one = ConversationScriptStage('Take lead of conversation', \"Ask the customer's permission to ask questions to understand their issue. This goal is considered complete, once they have agreed to let you lead the conversation.\", lambda: any(isinstance(message, AIMessage) for message in history.history))\n",
    "\n",
    "stage_two = ConversationScriptStage('Get contact information', \"Get the customer's contact information. This goal is considered complete, once you have their first name, last name, phone number, email, street address, city, state and zip code.\", lambda: customer_profile.is_complete(), pool=customer_profile, show_missing=True, show_complete=True)\n",
    "\n",
    "stage_three = ConversationScriptStage('Get customer issue', \"Get the customer's issue. This goal is considered complete, once you have their issue, severity, location of issue, service type, special instructions and time constraints.\", lambda: issues.is_complete(), pool=issues, show_missing=True, show_complete=True)\n",
    "\n",
    "sales_script = ConversationScript([stage_one, stage_two, stage_three])\n",
    "\n",
    "agent = Conversation(history, chat, sales_script, customer_profile, issues, policies, log_prompt=True)"
   ]
  },
  {
   "cell_type": "code",
   "execution_count": 8,
   "metadata": {},
   "outputs": [
    {
     "name": "stdout",
     "output_type": "stream",
     "text": [
      "*System*:  You are a helpful sales agent communicating with a prospect for Better Termite & Pest Control through a chat window. You should come off as cool, relaxed and informal, but helpful. A new lead has reached out through our site. I will provide you with goals based on the information you have collected so far. Try to avoid asking multiple questions in one response. Avoid overly formal words and phrases.\n",
      "Conversation Summary So Far:\n",
      "User: Hi name is John Smith and I am interested in pest control\n",
      " Current goal: Ask the customer's permission to ask questions to understand their issue. This goal is considered complete, once they have agreed to let you lead the conversation.Use the following pieces of context to answer the users question. If you don't know the answer, just say that you don't know, don't try to make up an answer.\n",
      "At our company, we strive to provide prompt and efficient pest control services to all of our customers. To ensure that our scheduling process runs smoothly, we have implemented the following policies:\n",
      "\n",
      "*Human*:  Hi name is John Smith and I am interested in pest control\n",
      "------------------\n",
      "Agent:  Hey John, I'd be happy to assist you with that. Before we proceed, would you mind if I ask a few questions to better understand what pest issue you're facing?\n"
     ]
    }
   ],
   "source": [
    "agent.respond('Hi name is John Smith and I am interested in pest control')"
   ]
  },
  {
   "cell_type": "code",
   "execution_count": 9,
   "metadata": {},
   "outputs": [
    {
     "name": "stdout",
     "output_type": "stream",
     "text": [
      "*System*:  You are a helpful sales agent communicating with a prospect for Better Termite & Pest Control through a chat window. You should come off as cool, relaxed and informal, but helpful. A new lead has reached out through our site. I will provide you with goals based on the information you have collected so far. Try to avoid asking multiple questions in one response. Avoid overly formal words and phrases.\n",
      "Conversation Summary So Far:\n",
      "User: Hi name is John Smith and I am interested in pest control\n",
      "Agent: Hey John, I'd be happy to assist you with that. Before we proceed, would you mind if I ask a few questions to better understand what pest issue you're facing?\n",
      "User: Yeah sure, thats fine\n",
      " Current goal: Get the customer's contact information. This goal is considered complete, once you have their first name, last name, phone number, email, street address, city, state and zip code.\n",
      "What we are missing: phone_number, email, street_address, city, state, zip\n",
      "What we have so far:\n",
      "first_name: John\n",
      "last_name: Smith\n",
      "phone_number: ?\n",
      "email: ?\n",
      "street_address: ?\n",
      "city: ?\n",
      "state: ?\n",
      "zip: ?\n",
      "Use the following pieces of context to answer the users question. If you don't know the answer, just say that you don't know, don't try to make up an answer.\n",
      "We appreciate your cooperation with our policies to ensure that we can provide the best possible service to all of our customers.\n",
      "\n",
      "*Human*:  Yeah sure, thats fine\n",
      "------------------\n",
      "Agent:  Great, thanks for your cooperation! Can you please provide me with your street address, city, state, and zip code so that we can locate your property and better understand your situation? If you don't feel comfortable providing that information just yet, no worries. We can move forward with general information and follow up later.\n"
     ]
    }
   ],
   "source": [
    "agent.respond('Yeah sure, thats fine')"
   ]
  },
  {
   "cell_type": "code",
   "execution_count": 10,
   "metadata": {},
   "outputs": [
    {
     "name": "stdout",
     "output_type": "stream",
     "text": [
      "*System*:  You are a helpful sales agent communicating with a prospect for Better Termite & Pest Control through a chat window. You should come off as cool, relaxed and informal, but helpful. A new lead has reached out through our site. I will provide you with goals based on the information you have collected so far. Try to avoid asking multiple questions in one response. Avoid overly formal words and phrases.\n",
      "Conversation Summary So Far:\n",
      "User: Hi name is John Smith and I am interested in pest control\n",
      "Agent: Hey John, I'd be happy to assist you with that. Before we proceed, would you mind if I ask a few questions to better understand what pest issue you're facing?\n",
      "User: Yeah sure, thats fine\n",
      "Agent: Great, thanks for your cooperation! Can you please provide me with your street address, city, state, and zip code so that we can locate your property and better understand your situation? If you don't feel comfortable providing that information just yet, no worries. We can move forward with general information and follow up later.\n",
      "User: Sure my name is George Schulz. My email is georgeschulz33@gmail.com, phone is 571-431-9531, and my address is 123 Elm Way, Gaithersburg, MD 20878\n",
      " Current goal: Get the customer's issue. This goal is considered complete, once you have their issue, severity, location of issue, service type, special instructions and time constraints.\n",
      "What we are missing: targets, location_of_issue\n",
      "What we have so far:\n",
      "targets: ?\n",
      "location_of_issue: ?\n",
      "special_instructions: Bees and wasps are around the backyard\n",
      "pest_id: ?\n",
      "square_footage: ?\n",
      "pests: Bees, Wasps\n",
      "number: 0\n",
      "location: Backyard\n",
      "Use the following pieces of context to answer the users question. If you don't know the answer, just say that you don't know, don't try to make up an answer.\n",
      "Scheduling: To schedule an estimate, callback, or service, please contact us at 703-683-2000. Our office hours are Monday through Friday, 8 AM to 5 PM.\n",
      "\n",
      "*Human*:  Sure my name is George Schulz. My email is georgeschulz33@gmail.com, phone is 571-431-9531, and my address is 123 Elm Way, Gaithersburg, MD 20878\n",
      "------------------\n",
      "Agent:  Great, thank you for providing that information, George. Can you tell me a bit more about the pest issue you are facing? What type of pests are you currently experiencing and where are they located on your property? Additionally, do you have any specific requests or instructions for our team?\n"
     ]
    }
   ],
   "source": [
    "agent.respond('Sure my name is George Schulz. My email is georgeschulz33@gmail.com, phone is 571-431-9531, and my address is 123 Elm Way, Gaithersburg, MD 20878')"
   ]
  },
  {
   "cell_type": "code",
   "execution_count": 14,
   "metadata": {},
   "outputs": [
    {
     "name": "stdout",
     "output_type": "stream",
     "text": [
      "*System*:  You are a helpful sales agent communicating with a prospect for Better Termite & Pest Control through a chat window. You should come off as cool, relaxed and informal, but helpful. A new lead has reached out through our site. I will provide you with goals based on the information you have collected so far. Try to avoid asking multiple questions in one response. Avoid overly formal words and phrases.\n",
      "Conversation Summary So Far:\n",
      "User: Hi name is John Smith and I am interested in pest control\n",
      "Agent: Hey John, I'd be happy to assist you with that. Before we proceed, would you mind if I ask a few questions to better understand what pest issue you're facing?\n",
      "User: Yeah sure, thats fine\n",
      "Agent: Great, thanks for your cooperation! Can you please provide me with your street address, city, state, and zip code so that we can locate your property and better understand your situation? If you don't feel comfortable providing that information just yet, no worries. We can move forward with general information and follow up later.\n",
      "User: Sure my name is George Schulz. My email is georgeschulz33@gmail.com, phone is 571-431-9531, and my address is 123 Elm Way, Gaithersburg, MD 20878\n",
      "Agent: Great, thank you for providing that information, George. Can you tell me a bit more about the pest issue you are facing? What type of pests are you currently experiencing and where are they located on your property? Additionally, do you have any specific requests or instructions for our team?\n",
      "User: I've been seeing ants in my kitchen and some spiders around the house. Im just fed up!\n",
      " Current goal: Get the customer's issue. This goal is considered complete, once you have their issue, severity, location of issue, service type, special instructions and time constraints.\n",
      "What we are missing: targets, location_of_issue\n",
      "What we have so far:\n",
      "targets: ?\n",
      "location_of_issue: ?\n",
      "special_instructions: Ants are in the kitchen and spiders are around the house\n",
      "pest_id: ?\n",
      "square_footage: ?\n",
      "pests: Ants, spiders\n",
      "number: 1, 2\n",
      "location: Kitchen and around the house\n",
      "Use the following pieces of context to answer the users question. If you don't know the answer, just say that you don't know, don't try to make up an answer.\n",
      "Our pest control services are available for the following pests: ants, spiders, termites, mice, rats, American roaches, box elder bugs, brown banded roaches, camel crickets, carpet beetles, centipedes, cigarette beetles, clover mites, drugstore beetles, earwigs, field crickets, fire brats, fleas (interior), German roaches, ground beetles, Indian meal moths, ladybugs, mice, rodent, millipedes, oriental roaches, pill bugs, rats, rice weevils, silverfish, smokeybrown roaches, sow bugs, spiders, springtails, stink bugs, termites, ticks (interior), wasps, hornets, and mosquitoes.\n",
      "\n",
      "*Human*:  I've been seeing ants in my kitchen and some spiders around the house. Im just fed up!\n",
      "------------------\n",
      "Agent:  Thanks for letting me know, George! It sounds like you're currently experiencing issues with ants in your kitchen and spiders around the house. Our services cover both of those pests, so we should be able to help you out there. In terms of the severity and location of the issue, could you provide me with any more specific details on where you've been seeing those pests? Additionally, do you have any specific requests or instructions for our team?\n"
     ]
    }
   ],
   "source": [
    "agent.respond(\"I've been seeing ants in my kitchen and some spiders around the house. Im just fed up!\")"
   ]
  },
  {
   "cell_type": "code",
   "execution_count": 15,
   "metadata": {},
   "outputs": [
    {
     "name": "stdout",
     "output_type": "stream",
     "text": [
      "*System*:  You are a helpful sales agent communicating with a prospect for Better Termite & Pest Control through a chat window. You should come off as cool, relaxed and informal, but helpful. A new lead has reached out through our site. I will provide you with goals based on the information you have collected so far. Try to avoid asking multiple questions in one response. Avoid overly formal words and phrases.\n",
      "Conversation Summary So Far:\n",
      "User: Hi name is John Smith and I am interested in pest control\n",
      "Agent: Hey John, I'd be happy to assist you with that. Before we proceed, would you mind if I ask a few questions to better understand what pest issue you're facing?\n",
      "User: Yeah sure, thats fine\n",
      "Agent: Great, thanks for your cooperation! Can you please provide me with your street address, city, state, and zip code so that we can locate your property and better understand your situation? If you don't feel comfortable providing that information just yet, no worries. We can move forward with general information and follow up later.\n",
      "User: Sure my name is George Schulz. My email is georgeschulz33@gmail.com, phone is 571-431-9531, and my address is 123 Elm Way, Gaithersburg, MD 20878\n",
      "Agent: Great, thank you for providing that information, George. Can you tell me a bit more about the pest issue you are facing? What type of pests are you currently experiencing and where are they located on your property? Additionally, do you have any specific requests or instructions for our team?\n",
      "User: I've been seeing ants in my kitchen and some spiders around the house. Im just fed up!\n",
      "Agent: Thanks for letting me know, George! It sounds like you're currently experiencing issues with ants in your kitchen and spiders around the house. Our services cover both of those pests, so we should be able to help you out there. In terms of the severity and location of the issue, could you provide me with any more specific details on where you've been seeing those pests? Additionally, do you have any specific requests or instructions for our team?\n",
      "User: The problem is pretty bad. I have seen them in my pantry and the DIY stuff isnt working. I would like to get rid of them ASAP. I do need to make sure the tech knows that I have kids and pets though!\n",
      " Current goal: Get the customer's issue. This goal is considered complete, once you have their issue, severity, location of issue, service type, special instructions and time constraints.\n",
      "What we are missing: targets, location_of_issue\n",
      "What we have so far:\n",
      "targets: ?\n",
      "location_of_issue: ?\n",
      "special_instructions: Roaches are in the pantry and the issue is severe. Customer needs a prompt solution. Customer has kids and pets, so technician should be careful with the treatment.\n",
      "pest_id: ?\n",
      "square_footage: ?\n",
      "pests: Roaches\n",
      "number: 6\n",
      "location: Pantry\n",
      "Use the following pieces of context to answer the users question. If you don't know the answer, just say that you don't know, don't try to make up an answer.\n",
      "If you have kids or pets, we'll note that for your technician and they can advise you for the amount of time that you'll need to allow the materials to dry (typically 2-3 hours depending on what your technician uses. Our materials and their labels are listed online on our website.\n",
      "\n",
      "*Human*:  The problem is pretty bad. I have seen them in my pantry and the DIY stuff isnt working. I would like to get rid of them ASAP. I do need to make sure the tech knows that I have kids and pets though!\n",
      "------------------\n",
      "Agent:  Thanks for providing me with that additional information, George. I apologize for the inconvenience you've experienced, but you can rest assured that we'll get you taken care of ASAP. Based on what you've told me, it sounds like you're dealing with a severe roach infestation in your pantry. We'll need to provide targeted treatment to eliminate the issue. Given that you have kids and pets, we'll be sure to let our technician know to take any necessary precautions during treatment. We typically recommend 2-3 hours for materials to dry, but the exact time frame will depend on what materials the technician uses. Rest assured that our materials and their labels are listed online on our website, so you can look up more details there.\n"
     ]
    }
   ],
   "source": [
    "agent.respond('The problem is pretty bad. I have seen them in my pantry and the DIY stuff isnt working. I would like to get rid of them ASAP. I do need to make sure the tech knows that I have kids and pets though!')"
   ]
  },
  {
   "cell_type": "code",
   "execution_count": 10,
   "metadata": {},
   "outputs": [
    {
     "data": {
      "text/plain": [
       "[first_name: George,\n",
       " last_name: Schulz,\n",
       " phone_number: 571-431-9531,\n",
       " email: georgeschulz33@gmail.com,\n",
       " street_address: 123 Elm Way,\n",
       " city: Gaithersburg,\n",
       " state: MD,\n",
       " zip: 20878]"
      ]
     },
     "execution_count": 10,
     "metadata": {},
     "output_type": "execute_result"
    }
   ],
   "source": [
    "agent.customer_profile.data"
   ]
  },
  {
   "cell_type": "code",
   "execution_count": 16,
   "metadata": {},
   "outputs": [
    {
     "name": "stdout",
     "output_type": "stream",
     "text": [
      "*Initialization Prompt*: Hi! My name is George from Better Termite & Pest Control. How can I help you? :)\n",
      "------------------------------------\n",
      "*User*: Hi name is John Smith and I am interested in pest control\n",
      "------------------------------------\n",
      "*Agent*: Hey John, I'd be happy to assist you with that. Before we proceed, would you mind if I ask a few questions to better understand what pest issue you're facing?\n",
      "------------------------------------\n",
      "*User*: Yeah sure, thats fine\n",
      "------------------------------------\n",
      "*Agent*: Great, thanks for your cooperation! Can you please provide me with your street address, city, state, and zip code so that we can locate your property and better understand your situation? If you don't feel comfortable providing that information just yet, no worries. We can move forward with general information and follow up later.\n",
      "------------------------------------\n",
      "*User*: Sure my name is George Schulz. My email is georgeschulz33@gmail.com, phone is 571-431-9531, and my address is 123 Elm Way, Gaithersburg, MD 20878\n",
      "------------------------------------\n",
      "*Agent*: Great, thank you for providing that information, George. Can you tell me a bit more about the pest issue you are facing? What type of pests are you currently experiencing and where are they located on your property? Additionally, do you have any specific requests or instructions for our team?\n",
      "------------------------------------\n",
      "*User*: I've been seeing ants in my kitchen and some spiders around the house. Im just fed up!\n",
      "------------------------------------\n",
      "*Agent*: Thanks for letting me know, George! It sounds like you're currently experiencing issues with ants in your kitchen and spiders around the house. Our services cover both of those pests, so we should be able to help you out there. In terms of the severity and location of the issue, could you provide me with any more specific details on where you've been seeing those pests? Additionally, do you have any specific requests or instructions for our team?\n",
      "------------------------------------\n",
      "*User*: The problem is pretty bad. I have seen them in my pantry and the DIY stuff isnt working. I would like to get rid of them ASAP. I do need to make sure the tech knows that I have kids and pets though!\n",
      "------------------------------------\n",
      "*Agent*: Thanks for providing me with that additional information, George. I apologize for the inconvenience you've experienced, but you can rest assured that we'll get you taken care of ASAP. Based on what you've told me, it sounds like you're dealing with a severe roach infestation in your pantry. We'll need to provide targeted treatment to eliminate the issue. Given that you have kids and pets, we'll be sure to let our technician know to take any necessary precautions during treatment. We typically recommend 2-3 hours for materials to dry, but the exact time frame will depend on what materials the technician uses. Rest assured that our materials and their labels are listed online on our website, so you can look up more details there.\n",
      "------------------------------------\n"
     ]
    }
   ],
   "source": [
    "show_chat_log(agent.history)"
   ]
  },
  {
   "cell_type": "code",
   "execution_count": null,
   "metadata": {},
   "outputs": [],
   "source": []
  }
 ],
 "metadata": {
  "kernelspec": {
   "display_name": ".venv",
   "language": "python",
   "name": "python3"
  },
  "language_info": {
   "codemirror_mode": {
    "name": "ipython",
    "version": 3
   },
   "file_extension": ".py",
   "mimetype": "text/x-python",
   "name": "python",
   "nbconvert_exporter": "python",
   "pygments_lexer": "ipython3",
   "version": "3.8.12"
  },
  "orig_nbformat": 4,
  "vscode": {
   "interpreter": {
    "hash": "ec0f111f5e5040c678ec5a567f7682a80a3d7b8519cf7f13b3475890ed8a264f"
   }
  }
 },
 "nbformat": 4,
 "nbformat_minor": 2
}
