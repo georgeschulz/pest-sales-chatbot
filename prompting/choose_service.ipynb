{
 "cells": [
  {
   "cell_type": "code",
   "execution_count": 27,
   "metadata": {},
   "outputs": [],
   "source": [
    "import pandas as pd\n",
    "import openai\n",
    "from dotenv import load_dotenv\n",
    "load_dotenv()\n",
    "import os\n",
    "from langchain.prompts import load_prompt\n",
    "from langchain import PromptTemplate\n",
    "from langchain.llms import OpenAIChat\n",
    "import sys\n",
    "pd.options.mode.chained_assignment = None\n",
    "from langchain.callbacks import get_openai_callback\n",
    "from langchain.embeddings.openai import OpenAIEmbeddings\n",
    "from langchain.vectorstores import Chroma\n",
    "from langchain.text_splitter import CharacterTextSplitter\n",
    "from langchain.document_loaders import TextLoader\n",
    "from langchain import PromptTemplate, LLMChain, VectorDBQA\n",
    "from langchain.chains import TransformChain, SequentialChain\n",
    "from langchain.document_loaders.csv_loader import CSVLoader\n",
    "import re\n",
    "\n",
    "from langchain.chat_models import ChatOpenAI\n",
    "from langchain.schema import (\n",
    "    AIMessage,\n",
    "    SystemMessage\n",
    ")\n",
    "\n",
    "import sys\n",
    "sys.path.append('./modules/')\n",
    "openai.api_key = os.getenv('OPENAI_KEY')\n",
    "key = os.getenv('OPENAI_KEY')\n",
    "\n",
    "from Generator import Generator\n",
    "from Extractor import Extractor\n",
    "from PromptPath import PromptPath\n",
    "from GenExtract import GenExtract\n",
    "from Property import Property\n",
    "from NaturalLanguagePool import NaturalLanguagePool\n",
    "from DynamicChatHistory import DynamicChatHistory\n",
    "from Conversation import Conversation\n",
    "from ConversationScript import ConversationScript\n",
    "from ConversationScriptStage import ConversationScriptStage\n",
    "from show_chat_log import show_chat_log\n",
    "from is_question import is_question\n",
    "from customer_profile import customer_profile\n",
    "\n",
    "times_embedding_run = 10"
   ]
  },
  {
   "attachments": {},
   "cell_type": "markdown",
   "metadata": {},
   "source": [
    "#### Step 1: Create a directory in the prompts folder to store the contents. Then save the path"
   ]
  },
  {
   "cell_type": "code",
   "execution_count": 28,
   "metadata": {},
   "outputs": [
    {
     "name": "stdout",
     "output_type": "stream",
     "text": [
      "prompt folder exists\n"
     ]
    }
   ],
   "source": [
    "#prompt folder_name\n",
    "prompt_folder_name = 'service_selector'\n",
    "\n",
    "#check to see if the the folder name exists in the prompts folder\n",
    "if prompt_folder_name in os.listdir('prompts'):\n",
    "    print('prompt folder exists')\n",
    "    prompt_folder_path = 'prompts/' + prompt_folder_name\n",
    "else:\n",
    "    os.mkdir('prompts/' + prompt_folder_name)\n",
    "    prompt_folder_path = 'prompts/' + prompt_folder_name\n",
    "\n",
    "path = PromptPath(prompt_folder_path + '/', type=\"json\")\n",
    "\n",
    "def save(prompt, name):\n",
    "    prompt.save(prompt_folder_path + '/' + name + '.json')"
   ]
  },
  {
   "cell_type": "code",
   "execution_count": 29,
   "metadata": {},
   "outputs": [],
   "source": [
    "chat = ChatOpenAI(openai_api_key=key)\n"
   ]
  },
  {
   "cell_type": "code",
   "execution_count": 73,
   "metadata": {},
   "outputs": [
    {
     "name": "stdout",
     "output_type": "stream",
     "text": [
      "Running Chroma using direct local API.\n",
      "Using DuckDB in-memory for database. Data will be transient.\n",
      "Exiting: Cleaning up .chroma directory\n"
     ]
    },
    {
     "data": {
      "text/plain": [
       "'Embeddings generated into policies variable'"
      ]
     },
     "execution_count": 73,
     "metadata": {},
     "output_type": "execute_result"
    }
   ],
   "source": [
    "#load in the policies to the vectorstore\n",
    "situation_loaders = []\n",
    "situation_docs = []\n",
    "\n",
    "#create a list with the names of the files to be loaded in the data/policies folder\n",
    "for file in os.listdir('data/situational-experience'):\n",
    "    if file.endswith('.txt'):\n",
    "        loader = TextLoader('data/situational-experience/' + file)\n",
    "        situation_loaders.append(loader)\n",
    "\n",
    "for loader in situation_loaders:\n",
    "    situation_docs.extend(loader.load())\n",
    "\n",
    "if times_embedding_run < 20:\n",
    "    text_splitter = CharacterTextSplitter(chunk_size=300, chunk_overlap=0)\n",
    "    documents = text_splitter.split_documents(situation_docs)\n",
    "\n",
    "    siutation_embeddings = OpenAIEmbeddings(openai_api_key=key)\n",
    "    situational_experience = Chroma.from_documents(documents, siutation_embeddings)\n",
    "    times_embedding_run += 1\n",
    "\n",
    "\n",
    "\"Embeddings generated into policies variable\""
   ]
  },
  {
   "cell_type": "code",
   "execution_count": 150,
   "metadata": {},
   "outputs": [
    {
     "name": "stdout",
     "output_type": "stream",
     "text": [
      "Running Chroma using direct local API.\n",
      "Using DuckDB in-memory for database. Data will be transient.\n",
      "Exiting: Cleaning up .chroma directory\n"
     ]
    }
   ],
   "source": [
    "situation_loaders = []\n",
    "situation_docs = []\n",
    "\n",
    "all_services_df = pd.read_csv('data/services_search - Sheet1.csv')\n",
    "service_descriptions = []\n",
    "#iterate over the contents of data/services folder and load the json files into situation_loaders\n",
    "for file in os.listdir('data/services'):\n",
    "    if file.endswith('.json'):\n",
    "        loaders = TextLoader('data/services/' + file)\n",
    "        situation_loaders.append(loaders)\n",
    "\n",
    "for loader in situation_loaders:\n",
    "    situation_docs.extend(loader.load())\n",
    "\n",
    "service_description_embeddings = OpenAIEmbeddings(openai_api_key=key)\n",
    "service_description_search = Chroma.from_documents(situation_docs, service_description_embeddings)"
   ]
  },
  {
   "cell_type": "code",
   "execution_count": 180,
   "metadata": {},
   "outputs": [],
   "source": [
    "import json\n",
    "\n",
    "search_term = \"Ant control program\"\n",
    "\n",
    "class Programs:\n",
    "    def __init__(self, services):\n",
    "        self.services = services\n",
    "\n",
    "    def get_service(self, name):\n",
    "        for service in self.services:\n",
    "            if service['Name'] == name:\n",
    "                return service\n",
    "        return None\n",
    "    \n",
    "class Program:\n",
    "    def __init__(self, dict):\n",
    "        self.dict = dict\n",
    "    \n",
    "    def __repr__(self):\n",
    "        return self.dict['Outward Facing']\n",
    "\n",
    "service_search_results = service_description_search.similarity_search(search_term, 3)\n",
    "#extract the services as a dict from the search results (they are json stored in .page_content)\n",
    "service_search_results = [json.loads(result.page_content) for result in service_search_results]\n",
    "\n",
    "#create a list of dicts out of the contents of all_services_df\n",
    "all_services = []\n",
    "for index, row in all_services_df.iterrows():\n",
    "    all_services.append(row.to_dict())\n",
    "\n",
    "all_services_list = Programs(all_services)\n",
    "#load the services into a Programs object\n",
    "detailed_services = []\n",
    "for service in service_search_results:\n",
    "    service_name = service['Name']\n",
    "    detailed_service = all_services_list.get_service(service_name)\n",
    "    detailed_services.append(Program(detailed_service))"
   ]
  },
  {
   "cell_type": "code",
   "execution_count": 181,
   "metadata": {},
   "outputs": [
    {
     "name": "stdout",
     "output_type": "stream",
     "text": [
      "[Castle Program, Quarterly Pest Control, One Time Pest Control]\n"
     ]
    }
   ],
   "source": [
    "print(detailed_services)"
   ]
  },
  {
   "cell_type": "code",
   "execution_count": 79,
   "metadata": {},
   "outputs": [],
   "source": [
    "def get_situational_awareness(inputs: dict) -> dict:\n",
    "    customer_issue = inputs[\"customer_issue\"]\n",
    "    knowledge = situational_experience.similarity_search(customer_issue, 5)\n",
    "    knowledge = [message.page_content for message in knowledge]\n",
    "    print('STEP: Getting situational experiences')\n",
    "    return { \"situational_experience\": knowledge }\n",
    "\n",
    "retrieve_situational_awareness = TransformChain(transform=get_situational_awareness, input_variables=[\"customer_issue\"], output_variables=[\"situational_experience\"])"
   ]
  },
  {
   "cell_type": "code",
   "execution_count": 32,
   "metadata": {},
   "outputs": [],
   "source": [
    "template_message = \"\"\"Your goal is to identify how severe this issue is. Think step by step about your answer and use the information you provided to make you answer. After your analysis, please rate the severity as Low, Medium or High.\n",
    "Customer Issue: {customer_issue}\n",
    "Property Type: {property_type}\n",
    "Below are some possible practical experiences from our technicians that may be useful. Some of it may not be relevant to your answer.\n",
    "{situational_experience}\n",
    "----\n",
    "Your Analysis:\n",
    "\"\"\"\n",
    "\n",
    "template = PromptTemplate(template=template_message, input_variables=[\"customer_issue\", \"situational_experience\", \"property_type\"])\n",
    "analyze_issue_chain = LLMChain(llm=chat, prompt=template, output_key=\"siutation_analysis\")"
   ]
  },
  {
   "cell_type": "code",
   "execution_count": 86,
   "metadata": {},
   "outputs": [
    {
     "name": "stdout",
     "output_type": "stream",
     "text": [
      "Running Chroma using direct local API.\n",
      "Using DuckDB in-memory for database. Data will be transient.\n",
      "Exiting: Cleaning up .chroma directory\n"
     ]
    }
   ],
   "source": [
    "loader = CSVLoader(file_path='./data/service_embeddings.csv')\n",
    "services = loader.load()\n",
    "\n",
    "service_embeddings = OpenAIEmbeddings(openai_api_key=key)\n",
    "service_search = Chroma.from_documents(services, service_embeddings)"
   ]
  },
  {
   "cell_type": "code",
   "execution_count": 34,
   "metadata": {},
   "outputs": [],
   "source": [
    "situation_summarize_text = \"\"\"Summarize what kind of program you are looking for based on this analysis in one sentence.\n",
    "Example Summary: Program for a townhome with a severe german roach infestation.\n",
    "Analysis:\n",
    "{siutation_analysis}\n",
    "Your Summary:\n",
    "\"\"\"\n",
    "\n",
    "situation_template = PromptTemplate(template=situation_summarize_text, input_variables=[\"siutation_analysis\"])\n",
    "situation_summarize_chain = LLMChain(llm=chat, prompt=situation_template, output_key=\"service_search_term\")"
   ]
  },
  {
   "cell_type": "code",
   "execution_count": 87,
   "metadata": {},
   "outputs": [],
   "source": [
    "def get_best_services(inputs: dict) -> dict:\n",
    "    print('Getting best services')\n",
    "    customer_issue = inputs[\"service_search_term\"]\n",
    "    services = service_search.similarity_search(customer_issue, 3)\n",
    "    services = [message.page_content for message in services]\n",
    "    return { \"services_plain_text\": '\\n'.join(services) }\n",
    "\n",
    "retrieve_services = TransformChain(transform=get_best_services, input_variables=[\"service_search_term\"], output_variables=[\"services_plain_text\"])"
   ]
  },
  {
   "attachments": {},
   "cell_type": "markdown",
   "metadata": {},
   "source": [
    "#### Step 2: Create your base prompt & Test It"
   ]
  },
  {
   "cell_type": "code",
   "execution_count": 36,
   "metadata": {},
   "outputs": [],
   "source": [
    "text = \"\"\"About the customer you are helping:\n",
    "Current Issue: {customer_issue}\n",
    "Severity: {siutation_analysis}\n",
    "Stated Preferences: {customer_preferences}\n",
    "Your goal is to help them pick whatever service would work best for them. Put then in order of best to worst. Your should prefer services that are recurring, rather than one time services. If the customer's preferences indicate they are interested in one time, services you should also add in one time servies.\n",
    "\n",
    "{services_plain_text}\n",
    "\n",
    "Think step by step and walk through your logic for selecting the program for the customer before writing your answer. Explain your thinking before answering. Then, write an ordered list with at least one response like this at the end of your response. Do not include programs that will not solve the problem. You do not have to include all programs in the list. Do your thinking, then write the list:\n",
    "Example:\n",
    "Given that the customer has termites, we can eliminate all programs that don't cover termites, like the monthly pest and rodent control, quarterly pest control, VIP, Lawnshield, One Time Services, IN2Care and Castle.\n",
    "Since the customer has not stated they have a pest problem, Program 2 is the best program for them. Next best is the Program 4.\n",
    "Ratings\n",
    "1. Program 2\n",
    "2. Program 4\n",
    "Your answer:\"\"\"\n",
    "prompt = PromptTemplate(template=text, input_variables=[\"customer_issue\", \"siutation_analysis\", \"services_plain_text\", \"customer_preferences\"])\n",
    "\n",
    "save(prompt, 'base_prompt')"
   ]
  },
  {
   "cell_type": "code",
   "execution_count": 37,
   "metadata": {},
   "outputs": [],
   "source": [
    "think_through_offerings_chain = LLMChain(llm=chat, prompt=prompt, output_key=\"thinking_through_service_rankings\")"
   ]
  },
  {
   "cell_type": "code",
   "execution_count": 38,
   "metadata": {},
   "outputs": [],
   "source": [
    "parser_text = \"\"\"Convert The Text into a comma seperated list of numbers. For example:\n",
    "Example Text\n",
    "1. Program 8\n",
    "2. Program 4\n",
    "\n",
    "Example Answer: 8, 4\n",
    "\n",
    "Text:\n",
    "{thinking_through_service_rankings}\n",
    "Your answer:\n",
    "\"\"\"\n",
    "\n",
    "parser_prompt = PromptTemplate(template=parser_text, input_variables=[\"thinking_through_service_rankings\"])\n",
    "map_to_ids_chain = LLMChain(llm=chat, prompt=parser_prompt, output_key=\"service_id_list\")"
   ]
  },
  {
   "cell_type": "code",
   "execution_count": 39,
   "metadata": {},
   "outputs": [],
   "source": [
    "import re \n",
    "\n",
    "def transform_func(inputs: dict) -> dict:\n",
    "    print('Finding service IDS in analysis')\n",
    "    text = inputs[\"service_id_list\"]\n",
    "    pattern = r'\\d+(?:,\\s*\\d+)+'\n",
    "    matches = re.findall(pattern, text)\n",
    "    #split the matches by commas into a list\n",
    "    matches = matches[0].split(',')\n",
    "    #strip the whitespace from the list\n",
    "    matches = [x.strip() for x in matches]\n",
    "    return {\"service_ids\": matches}\n",
    "\n",
    "parser_chain = TransformChain(transform=transform_func, input_variables=[\"service_id_list\"], output_variables=[\"service_ids\"])"
   ]
  },
  {
   "cell_type": "code",
   "execution_count": 40,
   "metadata": {},
   "outputs": [],
   "source": [
    "import pandas as pd\n",
    "\n",
    "services_df = pd.read_csv('./data/services_search - Sheet1.csv')\n",
    "#create a new column called ID that is the index of the row\n",
    "services_df['ID'] = services_df.index + 1\n",
    "#cast the ID as a string\n",
    "services_df['ID'] = services_df['ID'].astype(str)\n",
    "#save services as a offers dict with the ID as the key and the service as the value and the rest of the columns as a sub dict\n",
    "offers = services_df.set_index('ID').T.to_dict('dict')\n",
    "\n",
    "def get_offers(inputs: dict) -> dict:\n",
    "    print('Getting JSON offers')\n",
    "    ids = inputs[\"service_ids\"]\n",
    "    recurring_formua_raw = offers[ids[0]][\"Recurring Formula\"]\n",
    "    initial_formula_raw = offers[ids[0]][\"Initial Formula\"]\n",
    "    return {\"offers\": [offers[x] for x in ids], \"recurring_formula_raw\": recurring_formua_raw, \"initial_formula_raw\": initial_formula_raw }\n",
    "\n",
    "get_offers_chain = TransformChain(transform=get_offers, input_variables=[\"service_ids\"], output_variables=[\"offers\", \"recurring_formula_raw\", \"initial_formula_raw\"])"
   ]
  },
  {
   "cell_type": "code",
   "execution_count": 41,
   "metadata": {},
   "outputs": [],
   "source": [
    "def prepare_formulas(inputs: dict) -> dict:\n",
    "    #interpolate the recurring formula with the inputs\n",
    "    print('start prepare formulas')\n",
    "    recurring_formula = inputs[\"recurring_formula_raw\"]\n",
    "    recurring_formula = recurring_formula.replace(\"{square_footage}\", str(inputs[\"square_footage\"]))\n",
    "    recurring_formula = recurring_formula.replace(\"{target}\", str(inputs[\"target\"]))\n",
    "    recurring_formula = recurring_formula.replace(\"{severity}\", str(inputs[\"severity\"]))\n",
    "    recurring_formula = recurring_formula.replace(\"{acres}\", str(inputs[\"acres\"]))\n",
    "    \n",
    "    #interpolate the setup formula with the inputs\n",
    "    initial_formula = inputs[\"initial_formula_raw\"]\n",
    "    initial_formula = initial_formula.replace(\"{square_footage}\", str(inputs[\"square_footage\"]))\n",
    "    initial_formula = initial_formula.replace(\"{target}\", str(inputs[\"target\"]))\n",
    "    initial_formula = initial_formula.replace(\"{severity}\", str(inputs[\"severity\"]))\n",
    "    initial_formula = initial_formula.replace(\"{acres}\", str(inputs[\"acres\"]))\n",
    "    print('end prepare formulas')\n",
    "\n",
    "    return {\"recurring_formula_parsed\": recurring_formula, \"initial_formula_parsed\": initial_formula}\n",
    "\n",
    "parse_formula_chain = TransformChain(transform=prepare_formulas, input_variables=['square_footage',  'target', 'severity', 'acres', 'recurring_formula_raw', 'initial_formula_raw'], output_variables=[\"recurring_formula_parsed\", \"initial_formula_parsed\"])"
   ]
  },
  {
   "cell_type": "code",
   "execution_count": 42,
   "metadata": {},
   "outputs": [],
   "source": [
    "recurring_calculator_template = \"\"\"Solve this excel formula. Briefly show your thinking for each step. Here are the inputs to the formula. \n",
    "Then write the answer as:\n",
    "Answer: *answer*\n",
    "{recurring_formula_parsed}\n",
    "\"\"\"\n",
    "\n",
    "recurring_calculator_prompt = PromptTemplate(\n",
    "    template=recurring_calculator_template,\n",
    "    input_variables=[\"recurring_formula_parsed\"]\n",
    ")\n",
    "\n",
    "recurring_calculator_chain = LLMChain(llm=chat, prompt=recurring_calculator_prompt, output_key=\"recurring_logic\")\n",
    "\n",
    "initial_calculator_template = \"\"\"Solve this excel formula. Briefly show your thinking for each step. Here are the inputs to the formula. \n",
    "Then write the answer as:\n",
    "Answer: *answer*\n",
    "{initial_formula_parsed}\n",
    "\"\"\"\n",
    "\n",
    "initial_calculator_prompt = PromptTemplate(\n",
    "    template=initial_calculator_template,\n",
    "    input_variables=[\"initial_formula_parsed\"]\n",
    ")\n",
    "\n",
    "initial_calculator_chain = LLMChain(llm=chat, prompt=initial_calculator_prompt, output_key=\"initial_logic\")\n",
    "    "
   ]
  },
  {
   "cell_type": "code",
   "execution_count": 50,
   "metadata": {},
   "outputs": [],
   "source": [
    "def parse_formula_thinking(inputs: dict) -> dict:\n",
    "    recurring_matches = re.search(r\"Answer:\\s+(\\$?\\d+(\\.\\d{2})?)\", inputs[\"recurring_logic\"])\n",
    "    initial_matches = re.search(r\"Answer:\\s+(\\$?\\d+(\\.\\d{2})?)\", inputs[\"initial_logic\"])\n",
    "    \n",
    "    if recurring_matches:\n",
    "        #replace any $ signs\n",
    "        recurring_matches = recurring_matches.group(1).replace(\"$\", \"\")\n",
    "    else:\n",
    "        recurring_matches = \"Error calculating recurring price\"\n",
    "    \n",
    "    if initial_matches:\n",
    "        #replace any $ signs\n",
    "        initial_matches = initial_matches.group(1).replace(\"$\", \"\")\n",
    "    else:\n",
    "        initial_matches = \"Error calculating initial price\"\n",
    "\n",
    "    return {\"recurring_price\": recurring_matches, \"initial_price\": initial_matches}\n",
    "\n",
    "parse_formula_thinking_chain = TransformChain(transform=parse_formula_thinking, input_variables=[\"recurring_logic\", \"initial_logic\"], output_variables=[\"recurring_price\", \"initial_price\"])"
   ]
  },
  {
   "cell_type": "code",
   "execution_count": 45,
   "metadata": {},
   "outputs": [],
   "source": [
    "def prepare_offer(inputs: dict) -> dict:\n",
    "    offer = inputs[\"offers\"][0]\n",
    "    offer[\"recurring_price\"] = inputs[\"recurring_price\"]\n",
    "    offer[\"initial_price\"] = inputs[\"initial_price\"]\n",
    "    return {\n",
    "        \"offer\": offer,\n",
    "        \"name\": offer['Outward Facing'],\n",
    "        \"description\": offer['Description'],\n",
    "        \"frequency\": offer['Frequency'],\n",
    "        \"recurring_value\": offer['recurring_price'],\n",
    "        \"initial_value\": offer['initial_price'],\n",
    "        \"covered\": ', '.join(offer['Covered Pests'])\n",
    "    }\n",
    "\n",
    "prepare_offer_chain = TransformChain(transform=prepare_offer, input_variables=[\"offers\", \"recurring_price\", \"initial_price\"], output_variables=[\"offer\", \"name\", \"description\", \"frequency\", \"covered\", \"recurring_value\", \"initial_value\"])"
   ]
  },
  {
   "cell_type": "code",
   "execution_count": 88,
   "metadata": {},
   "outputs": [],
   "source": [
    "pitch_template = \"\"\"You are an expert and friendly salesperson for a sales company. You have just finished collecting information from the customer. Provide a helpful and brief explaination of the best service you found for htem based on the following service and issue. Focus on service benefits and avoid being overly technical. Be casual and pretend you are chatting with a friend. This is a chat message so keep it relatively short.\n",
    "Customer Issue: {customer_issue}\n",
    "Customer Preferences: {customer_preferences}\n",
    "Program: {name}\n",
    "Description: {description}\n",
    "Frequency: {frequency}\n",
    "Covered: {covered}\n",
    "Initial cost (billed for the first service): {initial_value}\n",
    "Ongoing cost (billed for any followup services that this program involves): {recurring_value}\n",
    "Covered Pests: {covered}\n",
    "Your pitch:\n",
    "\"\"\"\n",
    "\n",
    "parser_prompt = PromptTemplate(template=pitch_template, input_variables=[\"customer_issue\", \"customer_preferences\", \"name\", \"description\", \"frequency\", \"covered\", \"recurring_value\", \"covered\", \"initial_value\"])\n",
    "sales_pitch_chain = LLMChain(llm=chat, prompt=parser_prompt, output_key=\"pitch\")"
   ]
  },
  {
   "cell_type": "code",
   "execution_count": 89,
   "metadata": {},
   "outputs": [],
   "source": [
    "analyze_situation_sequential = SequentialChain(\n",
    "    chains=[\n",
    "        retrieve_situational_awareness, \n",
    "        analyze_issue_chain, \n",
    "        situation_summarize_chain, \n",
    "        retrieve_services, \n",
    "        think_through_offerings_chain, \n",
    "        map_to_ids_chain,\n",
    "        parser_chain,\n",
    "        get_offers_chain,\n",
    "        parse_formula_chain,\n",
    "        recurring_calculator_chain,\n",
    "        initial_calculator_chain,\n",
    "        parse_formula_thinking_chain,\n",
    "        prepare_offer_chain,\n",
    "        sales_pitch_chain\n",
    "    ],\n",
    "    input_variables=[\"customer_issue\", \"customer_preferences\", \"square_footage\", \"property_type\", \"acres\", \"target\", \"severity\"],\n",
    "    output_variables=[\n",
    "        \"situational_experience\", \n",
    "        \"siutation_analysis\", \n",
    "        \"service_search_term\", \n",
    "        \"services_plain_text\", \n",
    "        \"thinking_through_service_rankings\", \n",
    "        \"service_id_list\", \n",
    "        \"service_ids\", \n",
    "        \"offers\", \n",
    "        \"recurring_formula_parsed\",\n",
    "        \"initial_formula_parsed\",\n",
    "        \"recurring_logic\",\n",
    "        \"initial_logic\",\n",
    "        \"recurring_price\",\n",
    "        \"initial_price\",\n",
    "        \"pitch\"\n",
    "    ],\n",
    "    verbose=True\n",
    ")"
   ]
  },
  {
   "cell_type": "code",
   "execution_count": 90,
   "metadata": {},
   "outputs": [
    {
     "name": "stdout",
     "output_type": "stream",
     "text": [
      "\n",
      "\n",
      "\u001b[1m> Entering new SequentialChain chain...\u001b[0m\n",
      "STEP: Getting situational experiences\n",
      "Getting best services\n",
      "Finding service IDS in analysis\n",
      "Getting JSON offers\n",
      "start prepare formulas\n",
      "end prepare formulas\n",
      "\n",
      "\u001b[1m> Finished chain.\u001b[0m\n"
     ]
    }
   ],
   "source": [
    "response = analyze_situation_sequential({\n",
    "    \"customer_issue\": \"Roaches in the apartment\",\n",
    "    \"customer_preferences\": \"none\",\n",
    "    \"property_type\": \"apartment\",\n",
    "    \"square_footage\": 800,\n",
    "    \"acres\": 0,\n",
    "    \"target\": \"roaches\",\n",
    "    \"severity\": \"high\"\n",
    "})"
   ]
  },
  {
   "cell_type": "code",
   "execution_count": 54,
   "metadata": {},
   "outputs": [],
   "source": [
    "example = ['customer_issue',\n",
    " 'customer_preferences',\n",
    " 'property_type',\n",
    " 'square_footage',\n",
    " 'acres',\n",
    " 'target',\n",
    " 'severity',\n",
    " 'situational_experience',\n",
    " 'siutation_analysis',\n",
    " 'service_search_term',\n",
    " 'services_plain_text',\n",
    " 'thinking_through_service_rankings',\n",
    " 'service_id_list',\n",
    " 'service_ids',\n",
    " 'offers',\n",
    " 'recurring_formula_parsed',\n",
    " 'initial_formula_parsed',\n",
    " 'recurring_logic',\n",
    " 'initial_logic',\n",
    " 'recurring_price',\n",
    " 'initial_price',\n",
    " 'pitch']\n",
    "\n",
    "def observe_steps(steps, start, num_steps):\n",
    "    step_list = [\n",
    "        f'Inputs: Customer Issues: {steps[\"customer_issue\"]}\\nCustomer Preferences: {steps[\"customer_preferences\"]}\\nProperty Type: {steps[\"property_type\"]}\\nSquare Footage: {steps[\"square_footage\"]}\\nAcres: {steps[\"acres\"]}\\nTarget: {steps[\"target\"]}\\nSeverity: {steps[\"severity\"]}',\n",
    "        f'situational_experience: {steps[\"situational_experience\"]}',\n",
    "        f'siutation_analysis: {steps[\"siutation_analysis\"]}',\n",
    "        f'service_search_term: {steps[\"service_search_term\"]}',\n",
    "        f'services_plain_text: {steps[\"services_plain_text\"]}',\n",
    "        f'thinking_through_service_rankings: {steps[\"thinking_through_service_rankings\"]}',\n",
    "        f'service_id_list: {steps[\"service_id_list\"]}',\n",
    "        f'service_ids: {steps[\"service_ids\"]}',\n",
    "        f'offers: {steps[\"offers\"]}',\n",
    "        f'recurring_formula_parsed: {steps[\"recurring_formula_parsed\"]}',\n",
    "        f'recurring_logic: {steps[\"recurring_logic\"]}',\n",
    "        f'recurring_price: {steps[\"recurring_price\"]}',\n",
    "        f'initial_formula_parsed: {steps[\"initial_formula_parsed\"]}',\n",
    "        f'initial_logic: {steps[\"initial_logic\"]}',\n",
    "        f'initial_price: {steps[\"initial_price\"]}',\n",
    "        f'pitch: {steps[\"pitch\"]}'\n",
    "    ]\n",
    "\n",
    "    end = start + num_steps\n",
    "    list = step_list[start:end]\n",
    "    for i in list:\n",
    "        print(i)\n",
    "        print('-----------------')\n",
    "\n"
   ]
  },
  {
   "cell_type": "code",
   "execution_count": 91,
   "metadata": {},
   "outputs": [
    {
     "name": "stdout",
     "output_type": "stream",
     "text": [
      "Inputs: Customer Issues: Roaches in the apartment\n",
      "Customer Preferences: none\n",
      "Property Type: apartment\n",
      "Square Footage: 800\n",
      "Acres: 0\n",
      "Target: roaches\n",
      "Severity: high\n",
      "-----------------\n",
      "situational_experience: ['You should assume that a roach issue will be harder to control if the customer lives in an apartment, townhouse or duplex.', 'Customers will need a minimum of monthly service frequency for roaches']\n",
      "-----------------\n",
      "siutation_analysis: \n",
      "\n",
      "Based on the information provided, the issue of roaches in the apartment is likely to be a high severity issue. The fact that the property type is an apartment, townhouse, or duplex makes it harder to control pest infestations. Furthermore, the technician advised that a minimum of monthly service frequency is required for roach control, which suggests that this is a persistent problem that requires ongoing attention. Roaches can carry diseases, contaminate food, and cause allergic reactions, making it critical to address this issue promptly to protect the health and safety of residents. Therefore, it is essential to take immediate action, such as hiring a professional pest control service, to address the issue effectively.\n",
      "-----------------\n",
      "service_search_term: Program for monthly professional pest control services to address a severe roach infestation in a townhome.\n",
      "-----------------\n",
      "services_plain_text: Name: Program 8\n",
      "Best for: Customers with a active roach or rodent issue\n",
      "Description: Ongoing rodent and/or pest control program that provides a high level of protection against pests, mice and rats. We come out monthly and complete a perimeter treatment and setup and maintain rodent baiting program.\n",
      "Frequency: Monthly year round\n",
      "Covered Pests: ants, spiders, rodent issues, millipedes, roaches issues, crickets, centipedes\n",
      "Level of Protection: High\n",
      "Cost: High\n",
      "Name: Program 2\n",
      "Best for: The best pest control issues like ants, spiders, millipedes, centipedes\n",
      "Description: Bimonthly pest control program covering pests and proactive rodent issues.\n",
      "Frequency: Bimonthly year round\n",
      "Covered Pests: ants, spiders, mild or moderate rodent issues, millipedes, mild roaches issues, crickets, centipedes\n",
      "Level of Protection: Average\n",
      "Cost: Average\n",
      "Name: Program 7\n",
      "Best for: Customers who have a very mild pest issue or want a low price\n",
      "Description: Quarterly pest control program convering basic pest control\n",
      "Frequency: Quarterly year round\n",
      "Covered Pests: ants, spiders, millipedes, crickets, centipedes\n",
      "Level of Protection: Low\n",
      "Cost: Low\n",
      "-----------------\n",
      "thinking_through_service_rankings: \n",
      "\n",
      "Based on the severity of the issue, it is best to recommend a program with a high level of protection against pests like roaches. Therefore, Program 8 is the best option for the customer. However, if the customer is not interested in a high-cost program or does not want a monthly recurring service, Program 2 would be the next best choice as it still offers an average level of protection against roaches and is a recurring service. Program 7 is not recommended as it has a low level of protection and may not effectively address the roach issue.\n",
      "\n",
      "1. Program 8\n",
      "2. Program 2\n",
      "-----------------\n",
      "service_id_list: 8, 2\n",
      "-----------------\n",
      "service_ids: ['8', '2']\n",
      "-----------------\n",
      "offers: [{'Name': 'Program 8', 'Outward Facing': 'Monthly Pest and Rodent Control', 'Best for': 'Customers with a active roach or rodent issue', 'Description': 'Ongoing rodent and/or pest control program that provides a high level of protection against pests, mice and rats. We come out monthly and complete a perimeter treatment and setup and maintain rodent baiting program.', 'Frequency': 'Monthly year round', 'Covered Pests': 'ants, spiders, rodent issues, millipedes, roaches issues, crickets, centipedes', 'Not covered pests': 'mosquitoes, ticks', 'Level of Protection': 'High', 'Cost': 'High', 'Recurring Formula': 'switch(\"{target}\", \"ants\", 75, \"spiders\", 75, \"roaches\", 90, \"rats\", 85, \"mice\", 85, \"millipedes\", 75, \"centipedes\", 75,  80) + if({square_footage} >= 4000, 10, if({square_footage} >= 2500, 5, 0))', 'Initial Formula': 'if(\"{severity}\"=\"high\", 199, if(\"{severity}\"=\"medium\", 149, 0))', 'Billing Cycle': 'Monthly', 'recurring_price': '90', 'initial_price': '199'}, {'Name': 'Program 2', 'Outward Facing': 'Castle Program', 'Best for': 'The best pest control issues like ants, spiders, millipedes, centipedes', 'Description': 'Bimonthly pest control program covering pests and proactive rodent issues.', 'Frequency': 'Bimonthly year round', 'Covered Pests': 'ants, spiders, mild or moderate rodent issues, millipedes, mild roaches issues, crickets, centipedes', 'Not covered pests': 'severe roach issues, severe rodent issues, mosquitoes, termites', 'Level of Protection': 'Average', 'Cost': 'Average', 'Recurring Formula': 'switch(\"{target}\", \"ants\", 75, \"spiders\", 75, \"roaches\", 90, \"rats\", 85, \"mice\", 85, \"millipedes\", 75, \"centipedes\", 75,  80) + if({square_footage} >= 4000, 10, if({square_footage} >= 2500, 5, 0))', 'Initial Formula': 'if(\"{severity}\"=\"high\", 199, if({severity}=\"medium\", 149, 0))', 'Billing Cycle': 'Per Service'}]\n",
      "-----------------\n",
      "recurring_formula_parsed: switch(\"roaches\", \"ants\", 75, \"spiders\", 75, \"roaches\", 90, \"rats\", 85, \"mice\", 85, \"millipedes\", 75, \"centipedes\", 75,  80) + if(800 >= 4000, 10, if(800 >= 2500, 5, 0))\n",
      "-----------------\n",
      "recurring_logic: \n",
      "\n",
      "Step 1: Let's focus on the first part of the formula which is the 'switch' function. The switch function is used to evaluate an expression against a list of values and returns the result corresponding to first matching value. Here, the expression is \"roaches\". Since \"roaches\" is the first matching value, the result would be 90. \n",
      "\n",
      "Step 2: The second part of the formula is an 'if' statement which is used to perform a logical test and if the test is true, it returns one value and if the test is false, it returns another value. Here, the logical test is '800 >= 4000'. Since 800 is not greater than or equal to 4000, the next argument in the if function is evaluated which is another if statement. \n",
      "\n",
      "Step 3: Now, let's evaluate the second if statement. The logical test is '800 >= 2500'. Since 800 is not greater than or equal to 2500, the next argument which is 0 is returned. \n",
      "\n",
      "Step 4: Now, let's add the result of the 'switch' function and the result of the 'if' statement. \n",
      "\n",
      "Answer: 90 + 0 = 90.\n",
      "-----------------\n",
      "recurring_price: 90\n",
      "-----------------\n",
      "initial_formula_parsed: if(\"high\"=\"high\", 199, if(\"high\"=\"medium\", 149, 0))\n",
      "-----------------\n",
      "initial_logic: \n",
      "\n",
      "First step is to evaluate the first argument of the IF function, which is the condition \"high\"=\"high\". This is always true, so we move on to the second argument of the IF function, which is 199. \n",
      "\n",
      "Therefore, if the condition \"high\"=\"high\" is true, the function returns 199.\n",
      "\n",
      "Answer: 199.\n",
      "-----------------\n",
      "initial_price: 199\n",
      "-----------------\n",
      "pitch: Hey there! So based on the information you gave me, I think the Monthly Pest and Rodent Control program would be the best service for you. With this program, we provide ongoing protection against pests, rodents, and other common household bugs. We come out monthly to complete a perimeter treatment and also set up and maintain a rodent baiting program. The program covers a wide range of pests, including roaches, crickets, centipedes, and millipedes, among others. The initial cost for the first service is $199, and then it's $90 for any follow-up services needed throughout the year. It's really a great value for the level of protection you'll receive. Let me know if you have any questions!\n",
      "-----------------\n"
     ]
    }
   ],
   "source": [
    "observe_steps(response, 0, 18)\n",
    "# print(response[\"services_plain_text\"])"
   ]
  },
  {
   "cell_type": "code",
   "execution_count": null,
   "metadata": {},
   "outputs": [],
   "source": []
  }
 ],
 "metadata": {
  "kernelspec": {
   "display_name": ".venv",
   "language": "python",
   "name": "python3"
  },
  "language_info": {
   "codemirror_mode": {
    "name": "ipython",
    "version": 3
   },
   "file_extension": ".py",
   "mimetype": "text/x-python",
   "name": "python",
   "nbconvert_exporter": "python",
   "pygments_lexer": "ipython3",
   "version": "3.8.12"
  },
  "orig_nbformat": 4,
  "vscode": {
   "interpreter": {
    "hash": "ec0f111f5e5040c678ec5a567f7682a80a3d7b8519cf7f13b3475890ed8a264f"
   }
  }
 },
 "nbformat": 4,
 "nbformat_minor": 2
}
