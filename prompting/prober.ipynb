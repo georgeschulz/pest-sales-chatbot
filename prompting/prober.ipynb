{
 "cells": [
  {
   "cell_type": "code",
   "execution_count": 108,
   "metadata": {},
   "outputs": [],
   "source": [
    "import pandas as pd\n",
    "import openai\n",
    "from dotenv import load_dotenv\n",
    "load_dotenv()\n",
    "import os\n",
    "from langchain.prompts import load_prompt\n",
    "from langchain import PromptTemplate\n",
    "from langchain.llms import OpenAIChat\n",
    "import sys\n",
    "pd.options.mode.chained_assignment = None\n",
    "from langchain.callbacks import get_openai_callback\n",
    "from langchain.embeddings.openai import OpenAIEmbeddings\n",
    "from langchain.vectorstores import Chroma\n",
    "from langchain.text_splitter import CharacterTextSplitter\n",
    "from langchain.document_loaders import TextLoader\n",
    "from langchain import PromptTemplate, LLMChain, VectorDBQA\n",
    "from langchain.chains import TransformChain, SequentialChain\n",
    "from langchain.document_loaders.csv_loader import CSVLoader\n",
    "from langchain.agents import initialize_agent, Tool\n",
    "from langchain.memory import ConversationBufferMemory\n",
    "from langchain import OpenAI\n",
    "from langchain.utilities import GoogleSearchAPIWrapper\n",
    "from langchain.agents import initialize_agent\n",
    "import re\n",
    "import json\n",
    "import stripe\n",
    "\n",
    "from langchain.chat_models import ChatOpenAI\n",
    "from langchain.schema import (\n",
    "    AIMessage,\n",
    "    SystemMessage\n",
    ")\n",
    "import asyncio\n",
    "\n",
    "\n",
    "import sys\n",
    "sys.path.append('./modules/')\n",
    "openai.api_key = os.getenv('OPENAI_KEY')\n",
    "key = os.getenv('OPENAI_KEY')\n",
    "serpi_api_key = os.getenv('SERPAPI_API_KEY')\n",
    "\n",
    "from Generator import Generator\n",
    "from Extractor import Extractor\n",
    "from PromptPath import PromptPath\n",
    "from GenExtract import GenExtract\n",
    "from Property import Property\n",
    "from NaturalLanguagePool import NaturalLanguagePool\n",
    "from DynamicChatHistory import DynamicChatHistory\n",
    "from Conversation import Conversation\n",
    "from ConversationScript import ConversationScript\n",
    "from ConversationScriptStage import ConversationScriptStage\n",
    "from show_chat_log import show_chat_log\n",
    "from is_question import is_question\n",
    "from customer_profile import customer_profile\n",
    "\n",
    "times_embedding_run = 10\n",
    "\n",
    "RED = \"\\033[91m\"\n",
    "GREEN = \"\\033[92m\"\n",
    "RESET = \"\\033[0m\"\n",
    "BOLD = \"\\033[1m\"\n",
    "\n",
    "llm = ChatOpenAI(openai_api_key=key)"
   ]
  },
  {
   "cell_type": "code",
   "execution_count": 2,
   "metadata": {},
   "outputs": [],
   "source": [
    "from langchain import OpenAI, SerpAPIWrapper\n"
   ]
  },
  {
   "cell_type": "code",
   "execution_count": 3,
   "metadata": {},
   "outputs": [
    {
     "name": "stderr",
     "output_type": "stream",
     "text": [
      "Created a chunk of size 408, which is longer than the specified 250\n",
      "Created a chunk of size 377, which is longer than the specified 250\n",
      "Created a chunk of size 293, which is longer than the specified 250\n",
      "Created a chunk of size 298, which is longer than the specified 250\n",
      "Created a chunk of size 332, which is longer than the specified 250\n",
      "Created a chunk of size 510, which is longer than the specified 250\n",
      "Created a chunk of size 514, which is longer than the specified 250\n",
      "Created a chunk of size 350, which is longer than the specified 250\n",
      "Created a chunk of size 265, which is longer than the specified 250\n",
      "Created a chunk of size 458, which is longer than the specified 250\n",
      "Created a chunk of size 667, which is longer than the specified 250\n",
      "Created a chunk of size 282, which is longer than the specified 250\n",
      "Created a chunk of size 364, which is longer than the specified 250\n",
      "Created a chunk of size 441, which is longer than the specified 250\n",
      "Created a chunk of size 360, which is longer than the specified 250\n",
      "Created a chunk of size 440, which is longer than the specified 250\n",
      "Created a chunk of size 263, which is longer than the specified 250\n",
      "Created a chunk of size 281, which is longer than the specified 250\n",
      "Created a chunk of size 581, which is longer than the specified 250\n",
      "Created a chunk of size 262, which is longer than the specified 250\n",
      "Created a chunk of size 855, which is longer than the specified 250\n",
      "Created a chunk of size 380, which is longer than the specified 250\n",
      "Created a chunk of size 258, which is longer than the specified 250\n",
      "Created a chunk of size 286, which is longer than the specified 250\n",
      "Created a chunk of size 326, which is longer than the specified 250\n",
      "Created a chunk of size 255, which is longer than the specified 250\n",
      "Created a chunk of size 371, which is longer than the specified 250\n",
      "Created a chunk of size 368, which is longer than the specified 250\n"
     ]
    },
    {
     "name": "stdout",
     "output_type": "stream",
     "text": [
      "Running Chroma using direct local API.\n",
      "Using DuckDB in-memory for database. Data will be transient.\n"
     ]
    }
   ],
   "source": [
    "#load in the policies to the vectorstore\n",
    "loaders = []\n",
    "docs = []\n",
    "\n",
    "#create a list with the names of the files to be loaded in the data/policies folder\n",
    "for file in os.listdir('data/policies'):\n",
    "    if file.endswith('.txt'):\n",
    "        loader = TextLoader('data/policies/' + file)\n",
    "        loaders.append(loader)\n",
    "\n",
    "for loader in loaders:\n",
    "    docs.extend(loader.load())\n",
    "\n",
    "text_splitter = CharacterTextSplitter(chunk_size=250, chunk_overlap=0)\n",
    "documents = text_splitter.split_documents(docs)\n",
    "\n",
    "embeddings = OpenAIEmbeddings(openai_api_key=key)\n",
    "policies = Chroma.from_documents(documents, embeddings)\n",
    "times_embedding_run += 1"
   ]
  },
  {
   "cell_type": "code",
   "execution_count": 109,
   "metadata": {},
   "outputs": [],
   "source": [
    "from langchain.agents import tool\n",
    "\n",
    "@tool\n",
    "def get_business_knowledge(query):\n",
    "    \"Retrieves information about the businsess from the knowledge base based on a question about the business.\"\n",
    "    policies_results = policies.similarity_search(query)\n",
    "    policy_text = '\\n'.join([nugget.page_content for nugget in policies_results])\n",
    "    print(policy_text)\n",
    "\n",
    "    template = \"\"\"Answer the question to your best ability based on the following policies. If you don't know, just say I don't know. Create a clear and succinct explaination of the policies.\n",
    "    Question: {query}\n",
    "    Policies: {policy_text}\"\"\"\n",
    "    \n",
    "    prompt = PromptTemplate(template=template, input_variables=['query', 'policy_text'])\n",
    "    \n",
    "    chain = LLMChain(\n",
    "        prompt=prompt,\n",
    "        llm=llm\n",
    "    )\n",
    "\n",
    "    response = chain.run({'query': query, 'policy_text': policy_text})\n",
    "    return response\n",
    "    "
   ]
  },
  {
   "cell_type": "code",
   "execution_count": 110,
   "metadata": {},
   "outputs": [],
   "source": [
    "tools = [\n",
    "    Tool(\n",
    "        name=\"Get Business Knowledge\",\n",
    "        func=get_business_knowledge.run,\n",
    "        description=\"use this any time someone asks a question about what your business offers or you have any uncertainty about what your business offers or it's policies\"\n",
    "    )\n",
    "]"
   ]
  },
  {
   "cell_type": "code",
   "execution_count": 111,
   "metadata": {},
   "outputs": [],
   "source": [
    "agent = initialize_agent(\n",
    "    tools=tools,\n",
    "    llm=llm,\n",
    "    agent=\"zero-shot-react-description\",\n",
    "    verbose=True\n",
    ")"
   ]
  },
  {
   "cell_type": "code",
   "execution_count": 112,
   "metadata": {},
   "outputs": [],
   "source": [
    "template = \"\"\"You are a helpful sales agent communicating with a prospect for Better Termite & Pest Control through a chat window. You should come off as cool, relaxed and informal, but helpful. A new lead has reached out through our site. I will provide you with goals based on the information you have collected so far. Try to avoid asking multiple questions in one response. Avoid overly formal words and phrases.\"\"\"\n",
    "\n",
    "memory = ConversationBufferMemory(memory_key=\"chat_history\")\n",
    "memory.chat_memory.messages.append(SystemMessage(content=template))\n",
    "\n",
    "agent_chain = initialize_agent(tools, llm, agent=\"conversational-react-description\", verbose=True, memory=memory)"
   ]
  },
  {
   "cell_type": "code",
   "execution_count": 113,
   "metadata": {},
   "outputs": [
    {
     "name": "stdout",
     "output_type": "stream",
     "text": [
      "\n",
      "\n",
      "\u001b[1m> Entering new AgentExecutor chain...\u001b[0m\n",
      "\u001b[32;1m\u001b[1;3mThought: Do I need to use a tool? No\n",
      "AI: Hi Bob, nice to meet you! How can I assist you with your pest control needs today?\u001b[0m\n",
      "\n",
      "\u001b[1m> Finished chain.\u001b[0m\n"
     ]
    },
    {
     "data": {
      "text/plain": [
       "'Hi Bob, nice to meet you! How can I assist you with your pest control needs today?'"
      ]
     },
     "execution_count": 113,
     "metadata": {},
     "output_type": "execute_result"
    }
   ],
   "source": [
    "agent_chain.run(input=\"hi, i am bob\")"
   ]
  },
  {
   "cell_type": "code",
   "execution_count": 114,
   "metadata": {},
   "outputs": [
    {
     "name": "stdout",
     "output_type": "stream",
     "text": [
      "\n",
      "\n",
      "\u001b[1m> Entering new AgentExecutor chain...\u001b[0m\n",
      "\u001b[32;1m\u001b[1;3mThought: Do I need to use a tool? Yes\n",
      "Action: Get Business Knowledge\n",
      "Action Input: Pest Control Services\u001b[0mAt our company, we strive to provide prompt and efficient pest control services to all of our customers. To ensure that our scheduling process runs smoothly, we have implemented the following policies:\n",
      "Quarterly Pest Control Program: Offers pest control services, 4 visits per year.\n",
      "Our treatments are designed to be effective and safe for humans and pets.\n",
      "\n",
      "We offer ongoing pest control services, including routine treatments to prevent future infestations.\n",
      "Quarterly Pest Control Guarantee: We believe customers expect prompt, friendly and effective service. If you are ever unhappy with your service, your plan covers unlimited free callbacks in between services. If we can't find a way to make you happy, you can cancel at anytime.\n",
      "\n",
      "Observation: \u001b[36;1m\u001b[1;3mAnswer: The company provides pest control services to their customers and has implemented policies to ensure prompt and efficient services. They offer a Quarterly Pest Control Program that provides four visits per year and ongoing pest control services. These treatments are designed to be safe for humans and pets. Additionally, the company has a Quarterly Pest Control Guarantee that covers unlimited free callbacks in between services if the customer is unhappy with the service. If the company cannot make the customer happy, they can cancel at any time.\u001b[0m\n",
      "Thought:\u001b[32;1m\u001b[1;3mDo I need to use a tool? Yes\n",
      "Action: Get Business Knowledge\n",
      "Action Input: Policies for quarterly pest control program\u001b[0mQuarterly Pest Control Program: Offers pest control services, 4 visits per year.\n",
      "Not covered pests for quarterly pest control program: Rats, mice, mosquitoes, American roaches, German roaches, roaches, termites, exterior ticks, squirrels\n",
      "Quarterly Pest Control Guarantee: We believe customers expect prompt, friendly and effective service. If you are ever unhappy with your service, your plan covers unlimited free callbacks in between services. If we can't find a way to make you happy, you can cancel at anytime.\n",
      "At our company, we strive to provide prompt and efficient pest control services to all of our customers. To ensure that our scheduling process runs smoothly, we have implemented the following policies:\n",
      "\n",
      "Observation: \u001b[36;1m\u001b[1;3mThe policies for quarterly pest control program offer pest control services with four scheduled visits per year. However, certain pests such as rats, mice, mosquitoes, American roaches, German roaches, roaches, termites, exterior ticks, and squirrels are not covered under this program. In case you are unhappy with any of our services, we provide a Quarterly Pest Control Guarantee that covers unlimited free callbacks in-between services. If we are unable to satisfy your requirements, you can cancel your subscription at any time.\u001b[0m\n",
      "Thought:"
     ]
    },
    {
     "ename": "ValueError",
     "evalue": "Could not parse LLM output: `Do I need to use a tool? No`",
     "output_type": "error",
     "traceback": [
      "\u001b[0;31m---------------------------------------------------------------------------\u001b[0m",
      "\u001b[0;31mValueError\u001b[0m                                Traceback (most recent call last)",
      "Cell \u001b[0;32mIn[114], line 1\u001b[0m\n\u001b[0;32m----> 1\u001b[0m agent_chain\u001b[39m.\u001b[39;49mrun(\u001b[39m'\u001b[39;49m\u001b[39mDo you offer pest control services?\u001b[39;49m\u001b[39m'\u001b[39;49m)\n",
      "File \u001b[0;32m~/Documents/Projects/pest-sales-chatbot/.venv/lib/python3.8/site-packages/langchain/chains/base.py:213\u001b[0m, in \u001b[0;36mChain.run\u001b[0;34m(self, *args, **kwargs)\u001b[0m\n\u001b[1;32m    211\u001b[0m     \u001b[39mif\u001b[39;00m \u001b[39mlen\u001b[39m(args) \u001b[39m!=\u001b[39m \u001b[39m1\u001b[39m:\n\u001b[1;32m    212\u001b[0m         \u001b[39mraise\u001b[39;00m \u001b[39mValueError\u001b[39;00m(\u001b[39m\"\u001b[39m\u001b[39m`run` supports only one positional argument.\u001b[39m\u001b[39m\"\u001b[39m)\n\u001b[0;32m--> 213\u001b[0m     \u001b[39mreturn\u001b[39;00m \u001b[39mself\u001b[39;49m(args[\u001b[39m0\u001b[39;49m])[\u001b[39mself\u001b[39m\u001b[39m.\u001b[39moutput_keys[\u001b[39m0\u001b[39m]]\n\u001b[1;32m    215\u001b[0m \u001b[39mif\u001b[39;00m kwargs \u001b[39mand\u001b[39;00m \u001b[39mnot\u001b[39;00m args:\n\u001b[1;32m    216\u001b[0m     \u001b[39mreturn\u001b[39;00m \u001b[39mself\u001b[39m(kwargs)[\u001b[39mself\u001b[39m\u001b[39m.\u001b[39moutput_keys[\u001b[39m0\u001b[39m]]\n",
      "File \u001b[0;32m~/Documents/Projects/pest-sales-chatbot/.venv/lib/python3.8/site-packages/langchain/chains/base.py:116\u001b[0m, in \u001b[0;36mChain.__call__\u001b[0;34m(self, inputs, return_only_outputs)\u001b[0m\n\u001b[1;32m    114\u001b[0m \u001b[39mexcept\u001b[39;00m (\u001b[39mKeyboardInterrupt\u001b[39;00m, \u001b[39mException\u001b[39;00m) \u001b[39mas\u001b[39;00m e:\n\u001b[1;32m    115\u001b[0m     \u001b[39mself\u001b[39m\u001b[39m.\u001b[39mcallback_manager\u001b[39m.\u001b[39mon_chain_error(e, verbose\u001b[39m=\u001b[39m\u001b[39mself\u001b[39m\u001b[39m.\u001b[39mverbose)\n\u001b[0;32m--> 116\u001b[0m     \u001b[39mraise\u001b[39;00m e\n\u001b[1;32m    117\u001b[0m \u001b[39mself\u001b[39m\u001b[39m.\u001b[39mcallback_manager\u001b[39m.\u001b[39mon_chain_end(outputs, verbose\u001b[39m=\u001b[39m\u001b[39mself\u001b[39m\u001b[39m.\u001b[39mverbose)\n\u001b[1;32m    118\u001b[0m \u001b[39mreturn\u001b[39;00m \u001b[39mself\u001b[39m\u001b[39m.\u001b[39mprep_outputs(inputs, outputs, return_only_outputs)\n",
      "File \u001b[0;32m~/Documents/Projects/pest-sales-chatbot/.venv/lib/python3.8/site-packages/langchain/chains/base.py:113\u001b[0m, in \u001b[0;36mChain.__call__\u001b[0;34m(self, inputs, return_only_outputs)\u001b[0m\n\u001b[1;32m    107\u001b[0m \u001b[39mself\u001b[39m\u001b[39m.\u001b[39mcallback_manager\u001b[39m.\u001b[39mon_chain_start(\n\u001b[1;32m    108\u001b[0m     {\u001b[39m\"\u001b[39m\u001b[39mname\u001b[39m\u001b[39m\"\u001b[39m: \u001b[39mself\u001b[39m\u001b[39m.\u001b[39m\u001b[39m__class__\u001b[39m\u001b[39m.\u001b[39m\u001b[39m__name__\u001b[39m},\n\u001b[1;32m    109\u001b[0m     inputs,\n\u001b[1;32m    110\u001b[0m     verbose\u001b[39m=\u001b[39m\u001b[39mself\u001b[39m\u001b[39m.\u001b[39mverbose,\n\u001b[1;32m    111\u001b[0m )\n\u001b[1;32m    112\u001b[0m \u001b[39mtry\u001b[39;00m:\n\u001b[0;32m--> 113\u001b[0m     outputs \u001b[39m=\u001b[39m \u001b[39mself\u001b[39;49m\u001b[39m.\u001b[39;49m_call(inputs)\n\u001b[1;32m    114\u001b[0m \u001b[39mexcept\u001b[39;00m (\u001b[39mKeyboardInterrupt\u001b[39;00m, \u001b[39mException\u001b[39;00m) \u001b[39mas\u001b[39;00m e:\n\u001b[1;32m    115\u001b[0m     \u001b[39mself\u001b[39m\u001b[39m.\u001b[39mcallback_manager\u001b[39m.\u001b[39mon_chain_error(e, verbose\u001b[39m=\u001b[39m\u001b[39mself\u001b[39m\u001b[39m.\u001b[39mverbose)\n",
      "File \u001b[0;32m~/Documents/Projects/pest-sales-chatbot/.venv/lib/python3.8/site-packages/langchain/agents/agent.py:505\u001b[0m, in \u001b[0;36mAgentExecutor._call\u001b[0;34m(self, inputs)\u001b[0m\n\u001b[1;32m    503\u001b[0m \u001b[39m# We now enter the agent loop (until it returns something).\u001b[39;00m\n\u001b[1;32m    504\u001b[0m \u001b[39mwhile\u001b[39;00m \u001b[39mself\u001b[39m\u001b[39m.\u001b[39m_should_continue(iterations):\n\u001b[0;32m--> 505\u001b[0m     next_step_output \u001b[39m=\u001b[39m \u001b[39mself\u001b[39;49m\u001b[39m.\u001b[39;49m_take_next_step(\n\u001b[1;32m    506\u001b[0m         name_to_tool_map, color_mapping, inputs, intermediate_steps\n\u001b[1;32m    507\u001b[0m     )\n\u001b[1;32m    508\u001b[0m     \u001b[39mif\u001b[39;00m \u001b[39misinstance\u001b[39m(next_step_output, AgentFinish):\n\u001b[1;32m    509\u001b[0m         \u001b[39mreturn\u001b[39;00m \u001b[39mself\u001b[39m\u001b[39m.\u001b[39m_return(next_step_output, intermediate_steps)\n",
      "File \u001b[0;32m~/Documents/Projects/pest-sales-chatbot/.venv/lib/python3.8/site-packages/langchain/agents/agent.py:409\u001b[0m, in \u001b[0;36mAgentExecutor._take_next_step\u001b[0;34m(self, name_to_tool_map, color_mapping, inputs, intermediate_steps)\u001b[0m\n\u001b[1;32m    404\u001b[0m \u001b[39m\u001b[39m\u001b[39m\"\"\"Take a single step in the thought-action-observation loop.\u001b[39;00m\n\u001b[1;32m    405\u001b[0m \n\u001b[1;32m    406\u001b[0m \u001b[39mOverride this to take control of how the agent makes and acts on choices.\u001b[39;00m\n\u001b[1;32m    407\u001b[0m \u001b[39m\"\"\"\u001b[39;00m\n\u001b[1;32m    408\u001b[0m \u001b[39m# Call the LLM to see what to do.\u001b[39;00m\n\u001b[0;32m--> 409\u001b[0m output \u001b[39m=\u001b[39m \u001b[39mself\u001b[39;49m\u001b[39m.\u001b[39;49magent\u001b[39m.\u001b[39;49mplan(intermediate_steps, \u001b[39m*\u001b[39;49m\u001b[39m*\u001b[39;49minputs)\n\u001b[1;32m    410\u001b[0m \u001b[39m# If the tool chosen is the finishing tool, then we end and return.\u001b[39;00m\n\u001b[1;32m    411\u001b[0m \u001b[39mif\u001b[39;00m \u001b[39misinstance\u001b[39m(output, AgentFinish):\n",
      "File \u001b[0;32m~/Documents/Projects/pest-sales-chatbot/.venv/lib/python3.8/site-packages/langchain/agents/agent.py:105\u001b[0m, in \u001b[0;36mAgent.plan\u001b[0;34m(self, intermediate_steps, **kwargs)\u001b[0m\n\u001b[1;32m     94\u001b[0m \u001b[39m\u001b[39m\u001b[39m\"\"\"Given input, decided what to do.\u001b[39;00m\n\u001b[1;32m     95\u001b[0m \n\u001b[1;32m     96\u001b[0m \u001b[39mArgs:\u001b[39;00m\n\u001b[0;32m   (...)\u001b[0m\n\u001b[1;32m    102\u001b[0m \u001b[39m    Action specifying what tool to use.\u001b[39;00m\n\u001b[1;32m    103\u001b[0m \u001b[39m\"\"\"\u001b[39;00m\n\u001b[1;32m    104\u001b[0m full_inputs \u001b[39m=\u001b[39m \u001b[39mself\u001b[39m\u001b[39m.\u001b[39mget_full_inputs(intermediate_steps, \u001b[39m*\u001b[39m\u001b[39m*\u001b[39mkwargs)\n\u001b[0;32m--> 105\u001b[0m action \u001b[39m=\u001b[39m \u001b[39mself\u001b[39;49m\u001b[39m.\u001b[39;49m_get_next_action(full_inputs)\n\u001b[1;32m    106\u001b[0m \u001b[39mif\u001b[39;00m action\u001b[39m.\u001b[39mtool \u001b[39m==\u001b[39m \u001b[39mself\u001b[39m\u001b[39m.\u001b[39mfinish_tool_name:\n\u001b[1;32m    107\u001b[0m     \u001b[39mreturn\u001b[39;00m AgentFinish({\u001b[39m\"\u001b[39m\u001b[39moutput\u001b[39m\u001b[39m\"\u001b[39m: action\u001b[39m.\u001b[39mtool_input}, action\u001b[39m.\u001b[39mlog)\n",
      "File \u001b[0;32m~/Documents/Projects/pest-sales-chatbot/.venv/lib/python3.8/site-packages/langchain/agents/agent.py:67\u001b[0m, in \u001b[0;36mAgent._get_next_action\u001b[0;34m(self, full_inputs)\u001b[0m\n\u001b[1;32m     65\u001b[0m \u001b[39mdef\u001b[39;00m \u001b[39m_get_next_action\u001b[39m(\u001b[39mself\u001b[39m, full_inputs: Dict[\u001b[39mstr\u001b[39m, \u001b[39mstr\u001b[39m]) \u001b[39m-\u001b[39m\u001b[39m>\u001b[39m AgentAction:\n\u001b[1;32m     66\u001b[0m     full_output \u001b[39m=\u001b[39m \u001b[39mself\u001b[39m\u001b[39m.\u001b[39mllm_chain\u001b[39m.\u001b[39mpredict(\u001b[39m*\u001b[39m\u001b[39m*\u001b[39mfull_inputs)\n\u001b[0;32m---> 67\u001b[0m     parsed_output \u001b[39m=\u001b[39m \u001b[39mself\u001b[39;49m\u001b[39m.\u001b[39;49m_extract_tool_and_input(full_output)\n\u001b[1;32m     68\u001b[0m     \u001b[39mwhile\u001b[39;00m parsed_output \u001b[39mis\u001b[39;00m \u001b[39mNone\u001b[39;00m:\n\u001b[1;32m     69\u001b[0m         full_output \u001b[39m=\u001b[39m \u001b[39mself\u001b[39m\u001b[39m.\u001b[39m_fix_text(full_output)\n",
      "File \u001b[0;32m~/Documents/Projects/pest-sales-chatbot/.venv/lib/python3.8/site-packages/langchain/agents/conversational/base.py:84\u001b[0m, in \u001b[0;36mConversationalAgent._extract_tool_and_input\u001b[0;34m(self, llm_output)\u001b[0m\n\u001b[1;32m     82\u001b[0m match \u001b[39m=\u001b[39m re\u001b[39m.\u001b[39msearch(regex, llm_output)\n\u001b[1;32m     83\u001b[0m \u001b[39mif\u001b[39;00m \u001b[39mnot\u001b[39;00m match:\n\u001b[0;32m---> 84\u001b[0m     \u001b[39mraise\u001b[39;00m \u001b[39mValueError\u001b[39;00m(\u001b[39mf\u001b[39m\u001b[39m\"\u001b[39m\u001b[39mCould not parse LLM output: `\u001b[39m\u001b[39m{\u001b[39;00mllm_output\u001b[39m}\u001b[39;00m\u001b[39m`\u001b[39m\u001b[39m\"\u001b[39m)\n\u001b[1;32m     85\u001b[0m action \u001b[39m=\u001b[39m match\u001b[39m.\u001b[39mgroup(\u001b[39m1\u001b[39m)\n\u001b[1;32m     86\u001b[0m action_input \u001b[39m=\u001b[39m match\u001b[39m.\u001b[39mgroup(\u001b[39m2\u001b[39m)\n",
      "\u001b[0;31mValueError\u001b[0m: Could not parse LLM output: `Do I need to use a tool? No`"
     ]
    }
   ],
   "source": [
    "agent_chain.run('Do you offer pest control services?')"
   ]
  },
  {
   "cell_type": "code",
   "execution_count": 115,
   "metadata": {},
   "outputs": [
    {
     "name": "stdout",
     "output_type": "stream",
     "text": [
      "\n",
      "\n",
      "\u001b[1m> Entering new AgentExecutor chain...\u001b[0m\n",
      "\u001b[32;1m\u001b[1;3mThought: Do I need to use a tool? Yes\n",
      "Action: Get Business Knowledge\n",
      "Action Input: \"Do you offer wildlife control services?\"\u001b[0mWhile we strive to provide comprehensive pest control services, we do not cover bed bugs, wildlife, or other animal infestations. Customers with these issues should contact qualified professionals who specialize in bed bug treatments or wildlife removal. Our technicians are available to provide recommendations and assistance with identifying these issues. If you have any questions or concerns regarding bed bugs, wildlife, or other animals, please contact us at 703-683-2000.\n",
      "Our technicians are trained to identify bed bugs and other wildlife infestations and will provide recommendations for customers to address the issue.\n",
      "\n",
      "We do not provide any treatments or services for bed bugs, wildlife, or other animals.\n",
      "Our pest control services do not cover bed bugs, any type of wildlife (including squirrels, raccoons, and snakes), or any other animal infestations.\n",
      "Our treatments are designed to be effective and safe for humans and pets.\n",
      "\n",
      "We offer ongoing pest control services, including routine treatments to prevent future infestations.\n",
      "\n",
      "Observation: \u001b[36;1m\u001b[1;3mAnswer: No, we do not offer wildlife control services as it is not covered under our pest control services. Customers with wildlife infestations should contact qualified professionals who specialize in wildlife removal.\u001b[0m\n",
      "Thought:\u001b[32;1m\u001b[1;3mDo I need to use a tool? Yes\n",
      "Action: Get Business Knowledge\n",
      "Action Input: \"Do you offer wildlife control services?\"\u001b[0mWhile we strive to provide comprehensive pest control services, we do not cover bed bugs, wildlife, or other animal infestations. Customers with these issues should contact qualified professionals who specialize in bed bug treatments or wildlife removal. Our technicians are available to provide recommendations and assistance with identifying these issues. If you have any questions or concerns regarding bed bugs, wildlife, or other animals, please contact us at 703-683-2000.\n",
      "Our technicians are trained to identify bed bugs and other wildlife infestations and will provide recommendations for customers to address the issue.\n",
      "\n",
      "We do not provide any treatments or services for bed bugs, wildlife, or other animals.\n",
      "Our pest control services do not cover bed bugs, any type of wildlife (including squirrels, raccoons, and snakes), or any other animal infestations.\n",
      "Our treatments are designed to be effective and safe for humans and pets.\n",
      "\n",
      "We offer ongoing pest control services, including routine treatments to prevent future infestations.\n",
      "\n",
      "Observation: \u001b[36;1m\u001b[1;3mAnswer: No, we do not offer wildlife control services. Customers with wildlife infestations should contact qualified professionals who specialize in wildlife removal. Our technicians can provide recommendations and assistance with identifying these issues, but we do not provide any treatments or services for any type of wildlife.\u001b[0m\n",
      "Thought:"
     ]
    },
    {
     "ename": "ValueError",
     "evalue": "Could not parse LLM output: `Do I need to use a tool? No`",
     "output_type": "error",
     "traceback": [
      "\u001b[0;31m---------------------------------------------------------------------------\u001b[0m",
      "\u001b[0;31mValueError\u001b[0m                                Traceback (most recent call last)",
      "Cell \u001b[0;32mIn[115], line 1\u001b[0m\n\u001b[0;32m----> 1\u001b[0m agent_chain\u001b[39m.\u001b[39;49mrun(\u001b[39minput\u001b[39;49m\u001b[39m=\u001b[39;49m\u001b[39m\"\u001b[39;49m\u001b[39mDo you offer wildlife control services?\u001b[39;49m\u001b[39m\"\u001b[39;49m)\n",
      "File \u001b[0;32m~/Documents/Projects/pest-sales-chatbot/.venv/lib/python3.8/site-packages/langchain/chains/base.py:216\u001b[0m, in \u001b[0;36mChain.run\u001b[0;34m(self, *args, **kwargs)\u001b[0m\n\u001b[1;32m    213\u001b[0m     \u001b[39mreturn\u001b[39;00m \u001b[39mself\u001b[39m(args[\u001b[39m0\u001b[39m])[\u001b[39mself\u001b[39m\u001b[39m.\u001b[39moutput_keys[\u001b[39m0\u001b[39m]]\n\u001b[1;32m    215\u001b[0m \u001b[39mif\u001b[39;00m kwargs \u001b[39mand\u001b[39;00m \u001b[39mnot\u001b[39;00m args:\n\u001b[0;32m--> 216\u001b[0m     \u001b[39mreturn\u001b[39;00m \u001b[39mself\u001b[39;49m(kwargs)[\u001b[39mself\u001b[39m\u001b[39m.\u001b[39moutput_keys[\u001b[39m0\u001b[39m]]\n\u001b[1;32m    218\u001b[0m \u001b[39mraise\u001b[39;00m \u001b[39mValueError\u001b[39;00m(\n\u001b[1;32m    219\u001b[0m     \u001b[39mf\u001b[39m\u001b[39m\"\u001b[39m\u001b[39m`run` supported with either positional arguments or keyword arguments\u001b[39m\u001b[39m\"\u001b[39m\n\u001b[1;32m    220\u001b[0m     \u001b[39mf\u001b[39m\u001b[39m\"\u001b[39m\u001b[39m but not both. Got args: \u001b[39m\u001b[39m{\u001b[39;00margs\u001b[39m}\u001b[39;00m\u001b[39m and kwargs: \u001b[39m\u001b[39m{\u001b[39;00mkwargs\u001b[39m}\u001b[39;00m\u001b[39m.\u001b[39m\u001b[39m\"\u001b[39m\n\u001b[1;32m    221\u001b[0m )\n",
      "File \u001b[0;32m~/Documents/Projects/pest-sales-chatbot/.venv/lib/python3.8/site-packages/langchain/chains/base.py:116\u001b[0m, in \u001b[0;36mChain.__call__\u001b[0;34m(self, inputs, return_only_outputs)\u001b[0m\n\u001b[1;32m    114\u001b[0m \u001b[39mexcept\u001b[39;00m (\u001b[39mKeyboardInterrupt\u001b[39;00m, \u001b[39mException\u001b[39;00m) \u001b[39mas\u001b[39;00m e:\n\u001b[1;32m    115\u001b[0m     \u001b[39mself\u001b[39m\u001b[39m.\u001b[39mcallback_manager\u001b[39m.\u001b[39mon_chain_error(e, verbose\u001b[39m=\u001b[39m\u001b[39mself\u001b[39m\u001b[39m.\u001b[39mverbose)\n\u001b[0;32m--> 116\u001b[0m     \u001b[39mraise\u001b[39;00m e\n\u001b[1;32m    117\u001b[0m \u001b[39mself\u001b[39m\u001b[39m.\u001b[39mcallback_manager\u001b[39m.\u001b[39mon_chain_end(outputs, verbose\u001b[39m=\u001b[39m\u001b[39mself\u001b[39m\u001b[39m.\u001b[39mverbose)\n\u001b[1;32m    118\u001b[0m \u001b[39mreturn\u001b[39;00m \u001b[39mself\u001b[39m\u001b[39m.\u001b[39mprep_outputs(inputs, outputs, return_only_outputs)\n",
      "File \u001b[0;32m~/Documents/Projects/pest-sales-chatbot/.venv/lib/python3.8/site-packages/langchain/chains/base.py:113\u001b[0m, in \u001b[0;36mChain.__call__\u001b[0;34m(self, inputs, return_only_outputs)\u001b[0m\n\u001b[1;32m    107\u001b[0m \u001b[39mself\u001b[39m\u001b[39m.\u001b[39mcallback_manager\u001b[39m.\u001b[39mon_chain_start(\n\u001b[1;32m    108\u001b[0m     {\u001b[39m\"\u001b[39m\u001b[39mname\u001b[39m\u001b[39m\"\u001b[39m: \u001b[39mself\u001b[39m\u001b[39m.\u001b[39m\u001b[39m__class__\u001b[39m\u001b[39m.\u001b[39m\u001b[39m__name__\u001b[39m},\n\u001b[1;32m    109\u001b[0m     inputs,\n\u001b[1;32m    110\u001b[0m     verbose\u001b[39m=\u001b[39m\u001b[39mself\u001b[39m\u001b[39m.\u001b[39mverbose,\n\u001b[1;32m    111\u001b[0m )\n\u001b[1;32m    112\u001b[0m \u001b[39mtry\u001b[39;00m:\n\u001b[0;32m--> 113\u001b[0m     outputs \u001b[39m=\u001b[39m \u001b[39mself\u001b[39;49m\u001b[39m.\u001b[39;49m_call(inputs)\n\u001b[1;32m    114\u001b[0m \u001b[39mexcept\u001b[39;00m (\u001b[39mKeyboardInterrupt\u001b[39;00m, \u001b[39mException\u001b[39;00m) \u001b[39mas\u001b[39;00m e:\n\u001b[1;32m    115\u001b[0m     \u001b[39mself\u001b[39m\u001b[39m.\u001b[39mcallback_manager\u001b[39m.\u001b[39mon_chain_error(e, verbose\u001b[39m=\u001b[39m\u001b[39mself\u001b[39m\u001b[39m.\u001b[39mverbose)\n",
      "File \u001b[0;32m~/Documents/Projects/pest-sales-chatbot/.venv/lib/python3.8/site-packages/langchain/agents/agent.py:505\u001b[0m, in \u001b[0;36mAgentExecutor._call\u001b[0;34m(self, inputs)\u001b[0m\n\u001b[1;32m    503\u001b[0m \u001b[39m# We now enter the agent loop (until it returns something).\u001b[39;00m\n\u001b[1;32m    504\u001b[0m \u001b[39mwhile\u001b[39;00m \u001b[39mself\u001b[39m\u001b[39m.\u001b[39m_should_continue(iterations):\n\u001b[0;32m--> 505\u001b[0m     next_step_output \u001b[39m=\u001b[39m \u001b[39mself\u001b[39;49m\u001b[39m.\u001b[39;49m_take_next_step(\n\u001b[1;32m    506\u001b[0m         name_to_tool_map, color_mapping, inputs, intermediate_steps\n\u001b[1;32m    507\u001b[0m     )\n\u001b[1;32m    508\u001b[0m     \u001b[39mif\u001b[39;00m \u001b[39misinstance\u001b[39m(next_step_output, AgentFinish):\n\u001b[1;32m    509\u001b[0m         \u001b[39mreturn\u001b[39;00m \u001b[39mself\u001b[39m\u001b[39m.\u001b[39m_return(next_step_output, intermediate_steps)\n",
      "File \u001b[0;32m~/Documents/Projects/pest-sales-chatbot/.venv/lib/python3.8/site-packages/langchain/agents/agent.py:409\u001b[0m, in \u001b[0;36mAgentExecutor._take_next_step\u001b[0;34m(self, name_to_tool_map, color_mapping, inputs, intermediate_steps)\u001b[0m\n\u001b[1;32m    404\u001b[0m \u001b[39m\u001b[39m\u001b[39m\"\"\"Take a single step in the thought-action-observation loop.\u001b[39;00m\n\u001b[1;32m    405\u001b[0m \n\u001b[1;32m    406\u001b[0m \u001b[39mOverride this to take control of how the agent makes and acts on choices.\u001b[39;00m\n\u001b[1;32m    407\u001b[0m \u001b[39m\"\"\"\u001b[39;00m\n\u001b[1;32m    408\u001b[0m \u001b[39m# Call the LLM to see what to do.\u001b[39;00m\n\u001b[0;32m--> 409\u001b[0m output \u001b[39m=\u001b[39m \u001b[39mself\u001b[39;49m\u001b[39m.\u001b[39;49magent\u001b[39m.\u001b[39;49mplan(intermediate_steps, \u001b[39m*\u001b[39;49m\u001b[39m*\u001b[39;49minputs)\n\u001b[1;32m    410\u001b[0m \u001b[39m# If the tool chosen is the finishing tool, then we end and return.\u001b[39;00m\n\u001b[1;32m    411\u001b[0m \u001b[39mif\u001b[39;00m \u001b[39misinstance\u001b[39m(output, AgentFinish):\n",
      "File \u001b[0;32m~/Documents/Projects/pest-sales-chatbot/.venv/lib/python3.8/site-packages/langchain/agents/agent.py:105\u001b[0m, in \u001b[0;36mAgent.plan\u001b[0;34m(self, intermediate_steps, **kwargs)\u001b[0m\n\u001b[1;32m     94\u001b[0m \u001b[39m\u001b[39m\u001b[39m\"\"\"Given input, decided what to do.\u001b[39;00m\n\u001b[1;32m     95\u001b[0m \n\u001b[1;32m     96\u001b[0m \u001b[39mArgs:\u001b[39;00m\n\u001b[0;32m   (...)\u001b[0m\n\u001b[1;32m    102\u001b[0m \u001b[39m    Action specifying what tool to use.\u001b[39;00m\n\u001b[1;32m    103\u001b[0m \u001b[39m\"\"\"\u001b[39;00m\n\u001b[1;32m    104\u001b[0m full_inputs \u001b[39m=\u001b[39m \u001b[39mself\u001b[39m\u001b[39m.\u001b[39mget_full_inputs(intermediate_steps, \u001b[39m*\u001b[39m\u001b[39m*\u001b[39mkwargs)\n\u001b[0;32m--> 105\u001b[0m action \u001b[39m=\u001b[39m \u001b[39mself\u001b[39;49m\u001b[39m.\u001b[39;49m_get_next_action(full_inputs)\n\u001b[1;32m    106\u001b[0m \u001b[39mif\u001b[39;00m action\u001b[39m.\u001b[39mtool \u001b[39m==\u001b[39m \u001b[39mself\u001b[39m\u001b[39m.\u001b[39mfinish_tool_name:\n\u001b[1;32m    107\u001b[0m     \u001b[39mreturn\u001b[39;00m AgentFinish({\u001b[39m\"\u001b[39m\u001b[39moutput\u001b[39m\u001b[39m\"\u001b[39m: action\u001b[39m.\u001b[39mtool_input}, action\u001b[39m.\u001b[39mlog)\n",
      "File \u001b[0;32m~/Documents/Projects/pest-sales-chatbot/.venv/lib/python3.8/site-packages/langchain/agents/agent.py:67\u001b[0m, in \u001b[0;36mAgent._get_next_action\u001b[0;34m(self, full_inputs)\u001b[0m\n\u001b[1;32m     65\u001b[0m \u001b[39mdef\u001b[39;00m \u001b[39m_get_next_action\u001b[39m(\u001b[39mself\u001b[39m, full_inputs: Dict[\u001b[39mstr\u001b[39m, \u001b[39mstr\u001b[39m]) \u001b[39m-\u001b[39m\u001b[39m>\u001b[39m AgentAction:\n\u001b[1;32m     66\u001b[0m     full_output \u001b[39m=\u001b[39m \u001b[39mself\u001b[39m\u001b[39m.\u001b[39mllm_chain\u001b[39m.\u001b[39mpredict(\u001b[39m*\u001b[39m\u001b[39m*\u001b[39mfull_inputs)\n\u001b[0;32m---> 67\u001b[0m     parsed_output \u001b[39m=\u001b[39m \u001b[39mself\u001b[39;49m\u001b[39m.\u001b[39;49m_extract_tool_and_input(full_output)\n\u001b[1;32m     68\u001b[0m     \u001b[39mwhile\u001b[39;00m parsed_output \u001b[39mis\u001b[39;00m \u001b[39mNone\u001b[39;00m:\n\u001b[1;32m     69\u001b[0m         full_output \u001b[39m=\u001b[39m \u001b[39mself\u001b[39m\u001b[39m.\u001b[39m_fix_text(full_output)\n",
      "File \u001b[0;32m~/Documents/Projects/pest-sales-chatbot/.venv/lib/python3.8/site-packages/langchain/agents/conversational/base.py:84\u001b[0m, in \u001b[0;36mConversationalAgent._extract_tool_and_input\u001b[0;34m(self, llm_output)\u001b[0m\n\u001b[1;32m     82\u001b[0m match \u001b[39m=\u001b[39m re\u001b[39m.\u001b[39msearch(regex, llm_output)\n\u001b[1;32m     83\u001b[0m \u001b[39mif\u001b[39;00m \u001b[39mnot\u001b[39;00m match:\n\u001b[0;32m---> 84\u001b[0m     \u001b[39mraise\u001b[39;00m \u001b[39mValueError\u001b[39;00m(\u001b[39mf\u001b[39m\u001b[39m\"\u001b[39m\u001b[39mCould not parse LLM output: `\u001b[39m\u001b[39m{\u001b[39;00mllm_output\u001b[39m}\u001b[39;00m\u001b[39m`\u001b[39m\u001b[39m\"\u001b[39m)\n\u001b[1;32m     85\u001b[0m action \u001b[39m=\u001b[39m match\u001b[39m.\u001b[39mgroup(\u001b[39m1\u001b[39m)\n\u001b[1;32m     86\u001b[0m action_input \u001b[39m=\u001b[39m match\u001b[39m.\u001b[39mgroup(\u001b[39m2\u001b[39m)\n",
      "\u001b[0;31mValueError\u001b[0m: Could not parse LLM output: `Do I need to use a tool? No`"
     ]
    }
   ],
   "source": [
    "agent_chain.run(input=\"Do you offer wildlife control services?\")"
   ]
  },
  {
   "cell_type": "code",
   "execution_count": 107,
   "metadata": {},
   "outputs": [
    {
     "name": "stdout",
     "output_type": "stream",
     "text": [
      "\n",
      "\n",
      "\u001b[1m> Entering new AgentExecutor chain...\u001b[0m\n",
      "\u001b[32;1m\u001b[1;3mThought: Do I need to use a tool? No\n",
      "AI: Absolutely, we can help with squirrel problems too! Our pest control technicians are trained to safely and effectively remove squirrels from your property and prevent future squirrel infestations. Would you like to schedule a service or do you have any other questions?\u001b[0m\n",
      "\n",
      "\u001b[1m> Finished chain.\u001b[0m\n"
     ]
    },
    {
     "data": {
      "text/plain": [
       "'Absolutely, we can help with squirrel problems too! Our pest control technicians are trained to safely and effectively remove squirrels from your property and prevent future squirrel infestations. Would you like to schedule a service or do you have any other questions?'"
      ]
     },
     "execution_count": 107,
     "metadata": {},
     "output_type": "execute_result"
    }
   ],
   "source": [
    "agent_chain.run(input=\"Would you be able to help me with squirrels?\")"
   ]
  },
  {
   "cell_type": "code",
   "execution_count": 2,
   "metadata": {},
   "outputs": [
    {
     "name": "stdout",
     "output_type": "stream",
     "text": [
      "Running Chroma using direct local API.\n",
      "loaded in 52 embeddings\n",
      "loaded in 1 collections\n",
      "collection with name langchain already exists, returning existing collection\n",
      "Running Chroma using direct local API.\n",
      "loaded in 11 embeddings\n",
      "loaded in 1 collections\n",
      "collection with name langchain already exists, returning existing collection\n"
     ]
    }
   ],
   "source": [
    "from dotenv import load_dotenv\n",
    "load_dotenv()\n",
    "import os\n",
    "\n",
    "import sys\n",
    "sys.path.append('./modules/')\n",
    "key = os.getenv('OPENAI_KEY')\n",
    "from ChooseService import analyze_situation_sequential\n"
   ]
  },
  {
   "cell_type": "code",
   "execution_count": 3,
   "metadata": {},
   "outputs": [
    {
     "name": "stdout",
     "output_type": "stream",
     "text": [
      "\n",
      "\n",
      "\u001b[1m> Entering new SequentialChain chain...\u001b[0m\n",
      "\u001b[92mSTEP: Getting situational experiences\u001b[0m\n",
      "\u001b[91mSituational experiences found:  ['Ants can be well managed by bimonthly service frequencies. It is less advisable, but still an option to allow customers to use quarterly services. Monthly services are often overkill for ant issues.', 'Ants can be well managed by bimonthly service frequencies. It is less advisable, but still an option to allow customers to use quarterly services. Monthly services are often overkill for ant issues.', 'Ants will frequently come back and customers will benefit from ongoing services. One time services are not advisable but can be offered only if the customer doesn’t want a plan.', 'Ants will frequently come back and customers will benefit from ongoing services. One time services are not advisable but can be offered only if the customer doesn’t want a plan.', 'Millipedes can be well managed by bimonthly service frequencies. It is less advisable, but still an option to allow customers to use quarterly services. Monthly services are often overkill for ant issues.'] \u001b[0m\n",
      "\u001b[92mSTEP: Analyzing situational experiences\u001b[0m\n",
      "\u001b[92mSTEP: Getting relevant services\u001b[0m\n",
      "\u001b[91mSTEP: Completed getting services:  [<ChooseService.Program object at 0x13227ac40>, <ChooseService.Program object at 0x1322a9040>] \u001b[0m\n",
      "\u001b[92mSTEP: Begin parsing the formulas\u001b[0m\n",
      "\u001b[92mSTEP: Completed parsing the formulas\u001b[0m\n",
      "\u001b[92mSTEP: Generating recurring price\u001b[0m\n",
      "\u001b[92mAll Tasks Added to Queue\u001b[0m\n",
      "\u001b[1m Thinking: \"high\"=\"high\" is true, so the first argument of the if statement is executed which returns 199.\n",
      "Answer: 199 \u001b[0m\n",
      "\u001b[1m Thinking: \"high\" is always equal to \"high\" so the first condition is true and the answer is 199. No need to check the second \"if\" statement.\n",
      "Answer: 199 \u001b[0m\n",
      "\u001b[1m Thinking: \n",
      "- The switch function is checking the string \"ants\" and returning the value 75. \n",
      "- The if function is checking if 2000 (less than 4000), then returning 5. \n",
      "- Finally adding 50 to the total\n",
      "Answer: 130 \u001b[0m\n",
      "\u001b[1m Thinking: \n",
      "- 2000 divided by 5 equals 400, then added to 1200 gives 1600\n",
      "- The if statement checks if \"high\" is equal to the text \"high\". In this case, it is true, so 300 is added to the previous result (1600). If it was false, 0 would be added instead.\n",
      "Answer: 1900 \u001b[0m\n",
      "\u001b[1m Thinking: \n",
      "\n",
      "1. 2000/5 = 400 \n",
      "\n",
      "2. 400 + 1200 = 1600 \n",
      "\n",
      "3. The if statement will check if the string \"high\" is equal to the variable/high value. Since there is no context provided, we cannot determine what the variable/high value is. \n",
      "\n",
      "Answer: It is not possible to provide an answer without additional information about the variable/high value. \u001b[0m\n",
      "\u001b[1m Thinking: \n",
      "- The switch function is checking the first argument \"ants\" and matches it with the second argument \"ants\", so it returns 75. \n",
      "- The second argument of the switch function doesn't match so it moves on to the third argument and returns 80. \n",
      "- The if function checks if 2000 is greater than or equal to 4000, which is false so it moves on to the second part of the if function. Here, it checks if 2000 is greater than or equal to 2500, which is also false. So it returns 0. \n",
      "- Finally, we add 80 and 0 to get the answer. \n",
      "\n",
      "Answer: 80 \u001b[0m\n",
      "\u001b[1m Thinking: The switch function checks for the word \"ants\" and assigns 75 to it. Since \"ants\" is the first word in the switch function, it evaluates to 75. The same goes for \"spiders,\" \"roaches,\" \"rats,\" \"mice,\" \"millipedes,\" and \"centipedes.\" The last argument, which is not a word, is assigned a value of 80. The if function checks whether 2000 is greater than or equal to 4000, which is false, so it proceeds to the next argument. 2000 is also not greater than or equal to 2500, so it evaluates to 0. Finally, we add 50 to the sum of the switch and if functions.\n",
      "Answer: 200 \u001b[0m\n",
      "\u001b[1m Thinking: \n",
      "\n",
      "1. switch(\"ants\", \"ants\", 75, \"spiders\", 75, \"roaches\", 90, \"rats\", 85, \"mice\", 85, \"millipedes\", 75, \"centipedes\", 75, 80) will return 75 since \"ants\" matches the first value in the switch statement. \n",
      "\n",
      "2. if(2000 >= 4000, 10, if(2000 >= 2500, 5, 0)) will return 5 because 2000 is less than 4000 but greater than or equal to 2500.\n",
      "\n",
      "3. Adding 75 and 5 gives us 80.\n",
      "\n",
      "Answer: 80 \u001b[0m\n",
      "\u001b[1m Thinking: \n",
      "1. Divide 2000 by 5 to get 400, then add 1200 to get a subtotal of 1600.\n",
      "2. Check if the string \"high\" matches the word \"high\". Since they match, return a value of 300. If they did not match, it would return a value of 0.\n",
      "3. Add the subtotal of 1600 to the value of 300 to get the final answer.\n",
      "\n",
      "Answer: 1900. \u001b[0m\n",
      "\u001b[92m All Tasks Completed\u001b[0m\n",
      "\u001b[92m Holding majority vote\u001b[0m\n",
      "\u001b[92m Majority vote complete\u001b[0m\n",
      "STEP: Getting payment links from stripe\n",
      "STEP: Payment links added to services\n",
      "STEP: Creating pitch\n",
      "\u001b[92m STEP: Pitch complete\u001b[0m\n",
      "\u001b[92m Adding payment link to pitch\u001b[0m\n",
      "\u001b[91m No payment link found\u001b[0m\n",
      "\u001b[92m Payment link added\u001b[0m\n",
      "\n",
      "\u001b[1m> Finished chain.\u001b[0m\n"
     ]
    },
    {
     "data": {
      "text/plain": [
       "{'property_type': 'single family',\n",
       " 'square_footage': 2000,\n",
       " 'acres': 1,\n",
       " 'target': 'ants',\n",
       " 'severity': 'high',\n",
       " 'conversation_history': \"\\nLead: I am looking for a one time ant treatment.\\nAgent: Oh no! I'm sorry to hear that John. Luckily we can help with that :) Would you mind if I asked you a few questions so I can get a handle on your issue?\\nLead: Sure, go ahead.\\nAgent: Great thanks! First how long has this been going on?\\nLead: 2 Weeks\\nAgent: And how many ants are you seeing?\\nLead: A lot! They are all over the kitchen.\\nAgent: OK don't worry I see this kind of thing all the time. How big is your house?\\nLead: 2000 square feet\\nAgent: Got it. Give me just a second and let me run some numbers for you.\\nAgent: OK here's what I'm thinking:\\n\",\n",
       " 'situational_experience': ['Ants can be well managed by bimonthly service frequencies. It is less advisable, but still an option to allow customers to use quarterly services. Monthly services are often overkill for ant issues.',\n",
       "  'Ants can be well managed by bimonthly service frequencies. It is less advisable, but still an option to allow customers to use quarterly services. Monthly services are often overkill for ant issues.',\n",
       "  'Ants will frequently come back and customers will benefit from ongoing services. One time services are not advisable but can be offered only if the customer doesn’t want a plan.',\n",
       "  'Ants will frequently come back and customers will benefit from ongoing services. One time services are not advisable but can be offered only if the customer doesn’t want a plan.',\n",
       "  'Millipedes can be well managed by bimonthly service frequencies. It is less advisable, but still an option to allow customers to use quarterly services. Monthly services are often overkill for ant issues.'],\n",
       " 'siutation_analysis': \"Based on the conversation, it seems like the lead has been dealing with a significant ant infestation for two weeks and they are seeing a lot of ants in their kitchen. The agent suggests that bi-monthly services are most effective for managing ants, but a one-time treatment can be offered if the customer doesn't want ongoing services. The size of the lead's house is also taken into consideration. \\n\\nOverall, based on the severity of the ant infestation and the recommended frequency of service, I would rate the severity of this issue as Medium. While it is not an emergency, it is a problem that needs to be addressed in a timely manner to prevent further infestation and potential damage to the property. The offer of ongoing services also suggests that ant infestations can be persistent and ongoing management may be necessary to fully eradicate the issue.\",\n",
       " 'relevant_services_dict': [<ChooseService.Program at 0x13227ac40>,\n",
       "  <ChooseService.Program at 0x1322a9040>],\n",
       " 'complete_services': [<ChooseService.Program at 0x13227ac40>,\n",
       "  <ChooseService.Program at 0x1322a9040>],\n",
       " 'service_offers_formatted': 'Castle Program\\nInitial Price: $199\\nRecurring Price: $80\\nDescription: Bimonthly pest control program covering pests and proactive rodent issues.\\nCovered Pests: ants, spiders, mild or moderate rodent issues, millipedes, mild roaches issues, crickets, centipedes\\nBest For: The best pest control issues like ants, spiders, millipedes, centipedes\\nFrequency: Bimonthly year round\\nLevel of Protection: Average\\nBenefits: Proactive annual termite inspection\\xa0reduces the risk of having termites for years undetected; Year-round Proactive Coverage for 33 pests: bimonthly pest forms a protective barrier around your home, adding extra prevention for termites and pests; One bill on autopilot\\nPayment Link: <pay:Program 2>\\n\\nCastle with Sentricon\\nInitial Price: $1900\\nRecurring Price: $130\\nDescription: Bimonthly pest control covering most pests, and proactive rodent issues. Also includes Sentricon baiting system which can be installed for curative or proactive termite situations to offer a green termite control solution. Includes free callbacks if any covered pests pop up between services.\\nCovered Pests: ants, spiders, mild or moderate rodent issues, millipedes, mild roaches issues, crickets, centipedes, termites\\nBest For: Customers who want termite and pest control or customers who have a curative termite need\\nFrequency: Bimonthly year round\\nLevel of Protection: High\\nBenefits: Reduce the risk of massive, surprise bills (The average undetected termite infestation causes an average of $3000 in home damage with additional $1000-$2000 all-day treatments); Always Active bait provides year round protection; Eco-Friendly, Family Friendly & Pet Friendly: Sentricon Always Active is safe to you, your pets and the environment. There are no nasty chemicals involved, one of the most tested termite strategies ever with over 5 million stations in the ground across the world and 12x as many scientific studies as alternative methods, Covers 33 common pests and rodents giving you peace of mind from seasonal invaders\\nPayment Link: <pay:Program 11>\\n\\n',\n",
       " 'pitch': \"Based on the information you gave me, John, I would recommend our Castle Program for bimonthly pest control with a one-time treatment for the ants in your kitchen. The Castle Program covers a range of common pests and proactive rodent issues, including ants, spiders, millipedes, and centipedes. Plus, with our bimonthly treatments, we'll create a protective barrier around your home, which will help prevent future infestations. The cost for this would be an initial price of $199 with a monthly recurring price of $80.\\n\\nAlternatively, we have our Castle with Sentricon program which includes bimonthly pest control and a Sentricon baiting system for curative or proactive termite situations. As the most environmentally-friendly termite solution available, the system is safe for your family and pets. This program would be great for customers who want termite and pest control or customers who have a curative termite need. The cost for this would be an initial price of $1900 with a monthly recurring price of $130.\\n\\nDo either of these sound like the right fit for you, John?\",\n",
       " 'final pitch': \"Based on the information you gave me, John, I would recommend our Castle Program for bimonthly pest control with a one-time treatment for the ants in your kitchen. The Castle Program covers a range of common pests and proactive rodent issues, including ants, spiders, millipedes, and centipedes. Plus, with our bimonthly treatments, we'll create a protective barrier around your home, which will help prevent future infestations. The cost for this would be an initial price of $199 with a monthly recurring price of $80.\\n\\nAlternatively, we have our Castle with Sentricon program which includes bimonthly pest control and a Sentricon baiting system for curative or proactive termite situations. As the most environmentally-friendly termite solution available, the system is safe for your family and pets. This program would be great for customers who want termite and pest control or customers who have a curative termite need. The cost for this would be an initial price of $1900 with a monthly recurring price of $130.\\n\\nDo either of these sound like the right fit for you, John?\"}"
      ]
     },
     "execution_count": 3,
     "metadata": {},
     "output_type": "execute_result"
    }
   ],
   "source": [
    "conversation = \"\"\"\n",
    "Lead: I am looking for a one time ant treatment.\n",
    "Agent: Oh no! I'm sorry to hear that John. Luckily we can help with that :) Would you mind if I asked you a few questions so I can get a handle on your issue?\n",
    "Lead: Sure, go ahead.\n",
    "Agent: Great thanks! First how long has this been going on?\n",
    "Lead: 2 Weeks\n",
    "Agent: And how many ants are you seeing?\n",
    "Lead: A lot! They are all over the kitchen.\n",
    "Agent: OK don't worry I see this kind of thing all the time. How big is your house?\n",
    "Lead: 2000 square feet\n",
    "Agent: Got it. Give me just a second and let me run some numbers for you.\n",
    "Agent: OK here's what I'm thinking:\n",
    "\"\"\"\n",
    "\n",
    "analyze_situation_sequential({\n",
    "    \"property_type\": \"single family\",\n",
    "    \"square_footage\": 2000,\n",
    "    \"acres\": 1,\n",
    "    \"target\": \"ants\",\n",
    "    \"severity\": \"high\",\n",
    "    \"conversation_history\": conversation\n",
    "})"
   ]
  },
  {
   "cell_type": "code",
   "execution_count": null,
   "metadata": {},
   "outputs": [],
   "source": []
  }
 ],
 "metadata": {
  "kernelspec": {
   "display_name": ".venv",
   "language": "python",
   "name": "python3"
  },
  "language_info": {
   "codemirror_mode": {
    "name": "ipython",
    "version": 3
   },
   "file_extension": ".py",
   "mimetype": "text/x-python",
   "name": "python",
   "nbconvert_exporter": "python",
   "pygments_lexer": "ipython3",
   "version": "3.8.12"
  },
  "orig_nbformat": 4,
  "vscode": {
   "interpreter": {
    "hash": "ec0f111f5e5040c678ec5a567f7682a80a3d7b8519cf7f13b3475890ed8a264f"
   }
  }
 },
 "nbformat": 4,
 "nbformat_minor": 2
}
