{
 "cells": [
  {
   "cell_type": "code",
   "execution_count": 1,
   "metadata": {},
   "outputs": [],
   "source": [
    "import pandas as pd\n",
    "import openai\n",
    "from dotenv import load_dotenv\n",
    "load_dotenv()\n",
    "import os\n",
    "from langchain.prompts import load_prompt\n",
    "from langchain import PromptTemplate\n",
    "from langchain.llms import OpenAIChat\n",
    "import sys\n",
    "pd.options.mode.chained_assignment = None\n",
    "from langchain.callbacks import get_openai_callback\n",
    "from langchain.embeddings.openai import OpenAIEmbeddings\n",
    "from langchain.vectorstores import Chroma\n",
    "from langchain.text_splitter import CharacterTextSplitter\n",
    "from langchain.document_loaders import TextLoader\n",
    "\n",
    "from langchain.chat_models import ChatOpenAI\n",
    "from langchain.schema import (\n",
    "    AIMessage,\n",
    "    SystemMessage\n",
    ")\n",
    "import sys\n",
    "sys.path.append('./modules/')\n",
    "openai.api_key = os.getenv('OPENAI_KEY')\n",
    "key = os.getenv('OPENAI_KEY')\n",
    "\n",
    "from Generator import Generator\n",
    "from Extractor import Extractor\n",
    "from PromptPath import PromptPath\n",
    "from GenExtract import GenExtract\n",
    "from Property import Property\n",
    "from NaturalLanguagePool import NaturalLanguagePool\n",
    "from DynamicChatHistory import DynamicChatHistory\n",
    "from Conversation import Conversation\n",
    "from ConversationScript import ConversationScript\n",
    "from ConversationScriptStage import ConversationScriptStage\n",
    "from show_chat_log import show_chat_log\n",
    "from is_question import is_question\n",
    "from customer_profile import customer_profile\n",
    "\n",
    "times_embedding_run = 0"
   ]
  },
  {
   "attachments": {},
   "cell_type": "markdown",
   "metadata": {},
   "source": [
    "#### Step 1: Create a directory in the prompts folder to store the contents. Then save the path"
   ]
  },
  {
   "cell_type": "code",
   "execution_count": 2,
   "metadata": {},
   "outputs": [
    {
     "name": "stdout",
     "output_type": "stream",
     "text": [
      "prompt folder exists\n"
     ]
    }
   ],
   "source": [
    "#prompt folder_name\n",
    "prompt_folder_name = 'customer_issues_extractor'\n",
    "\n",
    "#check to see if the the folder name exists in the prompts folder\n",
    "if prompt_folder_name in os.listdir('prompts'):\n",
    "    print('prompt folder exists')\n",
    "    prompt_folder_path = 'prompts/' + prompt_folder_name\n",
    "else:\n",
    "    os.mkdir('prompts/' + prompt_folder_name)\n",
    "    prompt_folder_path = 'prompts/' + prompt_folder_name\n",
    "\n",
    "path = PromptPath(prompt_folder_path + '/', type=\"json\")\n",
    "\n",
    "def save(prompt, name):\n",
    "    prompt.save(prompt_folder_path + '/' + name + '.json')"
   ]
  },
  {
   "attachments": {},
   "cell_type": "markdown",
   "metadata": {},
   "source": [
    "#### Step 2: Create your base prompt & Test It"
   ]
  },
  {
   "cell_type": "code",
   "execution_count": 3,
   "metadata": {},
   "outputs": [],
   "source": [
    "text = \"\"\"Summarize the issue that the customer is having. Only include issues that the customer is obviously experiencing based on the customer message. You need to collect the following information: the target pests they are having an issues with as a comma seperated list. Target pest include: ants, spiders, termites, rats, mice, roaches, fleas, ticks, bed bugs, bees, wasps, millipedes, centipedes, crickets, earwigs, silverfish, and moths. If it does not fit any one of them, write None.\n",
    "Examples\n",
    "Customer Response: I have a problem with ants in my kitchen.\n",
    "Pests: Ants\n",
    "Customer Reponse: Termites and rodents are eating my house.\n",
    "Pests: Termites, rodents\n",
    "Customer Response: No issue with rodents\n",
    "Pests: None\n",
    "Customer Response: {customer_response}\"\"\"\n",
    "prompt = PromptTemplate(template=text, input_variables=[\"customer_response\"])\n",
    "\n",
    "save(prompt, 'base_prompt_3_avoid_negatives')"
   ]
  },
  {
   "attachments": {},
   "cell_type": "markdown",
   "metadata": {},
   "source": [
    "#### Step 3: Create the first version of the generator"
   ]
  },
  {
   "cell_type": "code",
   "execution_count": 4,
   "metadata": {},
   "outputs": [],
   "source": [
    "model = GenExtract(\n",
    "    Generator(path('base_prompt')),\n",
    "    Extractor(type=\"natural_language_to_dict\", keys=[\"pests\"]),\n",
    "    print_intermediate=True\n",
    ")"
   ]
  },
  {
   "cell_type": "code",
   "execution_count": 5,
   "metadata": {},
   "outputs": [
    {
     "name": "stdout",
     "output_type": "stream",
     "text": [
      "Generation:  Pests: Roaches\n"
     ]
    },
    {
     "data": {
      "text/plain": [
       "{'pests': 'Roaches'}"
      ]
     },
     "execution_count": 5,
     "metadata": {},
     "output_type": "execute_result"
    }
   ],
   "source": [
    "model.run('I have been seeing roaches in the kids room')"
   ]
  },
  {
   "cell_type": "code",
   "execution_count": 34,
   "metadata": {},
   "outputs": [
    {
     "name": "stdout",
     "output_type": "stream",
     "text": [
      "Generation:  Pests: Termites, spiders\n",
      "Extraction:  {'pests': 'Termites, spiders'}\n"
     ]
    },
    {
     "data": {
      "text/plain": [
       "{'pests': 'Termites, spiders'}"
      ]
     },
     "execution_count": 34,
     "metadata": {},
     "output_type": "execute_result"
    }
   ],
   "source": [
    "model.run('I am seeing termites and spiders in my house')"
   ]
  },
  {
   "cell_type": "code",
   "execution_count": 35,
   "metadata": {},
   "outputs": [
    {
     "name": "stdout",
     "output_type": "stream",
     "text": [
      "Generation:  \n",
      "\n",
      "Pests: Roaches\n",
      "Extraction:  {'pests': 'Roaches'}\n"
     ]
    },
    {
     "data": {
      "text/plain": [
       "{'pests': 'Roaches'}"
      ]
     },
     "execution_count": 35,
     "metadata": {},
     "output_type": "execute_result"
    }
   ],
   "source": [
    "model.run('Roaches')"
   ]
  },
  {
   "cell_type": "code",
   "execution_count": 37,
   "metadata": {},
   "outputs": [
    {
     "name": "stdout",
     "output_type": "stream",
     "text": [
      "Generation:  Pests: None mentioned or specified.\n",
      "Extraction:  {'pests': 'None mentioned or specified.'}\n"
     ]
    },
    {
     "data": {
      "text/plain": [
       "{'pests': 'None mentioned or specified.'}"
      ]
     },
     "execution_count": 37,
     "metadata": {},
     "output_type": "execute_result"
    }
   ],
   "source": [
    "model.run(\"No I haven't seen any rodents\")"
   ]
  },
  {
   "attachments": {},
   "cell_type": "markdown",
   "metadata": {},
   "source": [
    "#### Step 4: Switch out the generator and prompt using the following code format\n",
    "\n",
    "`model.generator = Generator(path('new_prompt'))`\n",
    "\n",
    "`model.run('Test Case')`"
   ]
  },
  {
   "cell_type": "code",
   "execution_count": 28,
   "metadata": {},
   "outputs": [],
   "source": [
    "text_two = \"\"\"Decide which issue the customer is having, then map it to one of the ids below. Only include issues that the customer is obviously experiencing based on the customer message. Then include a summary of any special instructions or target details for the technician. Then, include the location of the issue. Then, collect the square footage of the home.\n",
    "0: None\n",
    "1: Ants\n",
    "2: Spiders\n",
    "3: Termites\n",
    "4: Rats\n",
    "5: Mice\n",
    "6: Roaches\n",
    "7: Fleas\n",
    "8: Ticks\n",
    "9: Bed Bugs\n",
    "10: Bees\n",
    "11: Wasps\n",
    "12: Millipedes\n",
    "13: Centipedes\n",
    "14: Crickets\n",
    "15: Earwigs\n",
    "Use 0 if you the customer's issues do not fit any of the above.\n",
    "Examples\n",
    "Customer Response: I have a problem with ants in my kitchen.\n",
    "Pests: Ants\n",
    "Pest_Id: 1\n",
    "Special_Instructions: Ants are in the kitchen\n",
    "Location: Kitchen\n",
    "Square_Footage: None\n",
    "Customer Reponse: I think I might have a rodent and termite problem\n",
    "Pests: Termites, rodents\n",
    "Pest_Id: 3, 4\n",
    "Special Instructions: None\n",
    "Location: None\n",
    "Square_Footage: None\n",
    "Customer Response: No issue with rodents\n",
    "Pests: None\n",
    "Pest_Id: 0\n",
    "Special_Instructions: None\n",
    "Location: None\n",
    "Square_Footage: None\n",
    "Customer Response: I need you to call me the morning of the appointment to confirm.\n",
    "Pests: None\n",
    "Pest_Id: 0\n",
    "Special_Instructions: Call the customer the morning of the appointment to confirm\n",
    "Location: None\n",
    "Square_Footage: None\n",
    "Customer Response: My home is 2000 square feet.\n",
    "Pests: None\n",
    "Pest_Id: 0\n",
    "Special_Instructions: None\n",
    "Location: None\n",
    "Square_Footage: 2000\n",
    "Customer Response: {customer_response}\"\"\"\n",
    "prompt = PromptTemplate(template=text_two, input_variables=[\"customer_response\"])\n",
    "\n",
    "save(prompt, 'map_summarize_location_size')"
   ]
  },
  {
   "cell_type": "code",
   "execution_count": 29,
   "metadata": {},
   "outputs": [],
   "source": [
    "model = GenExtract(\n",
    "    Generator(path('map_summarize_location_size')),\n",
    "    Extractor(type=\"natural_language_to_dict\", keys=[\"pests\", \"pest_id\", \"special_instructions\", \"location\", \"square_footage\"]),\n",
    "    print_intermediate=True\n",
    ")"
   ]
  },
  {
   "cell_type": "code",
   "execution_count": 30,
   "metadata": {},
   "outputs": [
    {
     "name": "stdout",
     "output_type": "stream",
     "text": [
      "Generation:  \n",
      "\n",
      "Pests: None \n",
      "pest_id: 0 \n",
      "Special_Instructions: None \n",
      "Location: None \n",
      "Square_Footage: 800\n"
     ]
    },
    {
     "data": {
      "text/plain": [
       "{'pests': None,\n",
       " 'pest_id': '0',\n",
       " 'special_instructions': None,\n",
       " 'location': None,\n",
       " 'square_footage': '800'}"
      ]
     },
     "execution_count": 30,
     "metadata": {},
     "output_type": "execute_result"
    }
   ],
   "source": [
    "model.run('My home is 800 square feet.')"
   ]
  },
  {
   "cell_type": "code",
   "execution_count": 31,
   "metadata": {},
   "outputs": [
    {
     "name": "stdout",
     "output_type": "stream",
     "text": [
      "Generation:  Pests: Roaches\n",
      "pest_id: 6\n",
      "Special_Instructions: Roaches are in the kids room\n",
      "Location: Kids room\n",
      "Square_Footage: None\n"
     ]
    },
    {
     "data": {
      "text/plain": [
       "{'pests': 'Roaches',\n",
       " 'pest_id': '6',\n",
       " 'special_instructions': 'Roaches are in the kids room',\n",
       " 'location': 'Kids room',\n",
       " 'square_footage': None}"
      ]
     },
     "execution_count": 31,
     "metadata": {},
     "output_type": "execute_result"
    }
   ],
   "source": [
    "model.run('I have been seeing roaches in the kids room')"
   ]
  },
  {
   "cell_type": "code",
   "execution_count": 32,
   "metadata": {},
   "outputs": [
    {
     "name": "stdout",
     "output_type": "stream",
     "text": [
      "Generation:  \n",
      "\n",
      "Pests: Termites, rodents\n",
      "pest_id: 3, 4\n",
      "Special_Instructions: None\n",
      "Location: None\n",
      "Square_Footage: None\n"
     ]
    },
    {
     "data": {
      "text/plain": [
       "{'pests': 'Termites, rodents',\n",
       " 'pest_id': '3, 4',\n",
       " 'special_instructions': None,\n",
       " 'location': None,\n",
       " 'square_footage': None}"
      ]
     },
     "execution_count": 32,
     "metadata": {},
     "output_type": "execute_result"
    }
   ],
   "source": [
    "model.run('I am seeing termites and rodents')"
   ]
  },
  {
   "cell_type": "code",
   "execution_count": 33,
   "metadata": {},
   "outputs": [
    {
     "name": "stdout",
     "output_type": "stream",
     "text": [
      "Generation:  Pests: Ants\n",
      "pest_id: 1\n",
      "Special_Instructions: Ants are in the kitchen\n",
      "Location: Kitchen\n",
      "Square_Footage: None\n"
     ]
    },
    {
     "data": {
      "text/plain": [
       "{'pests': 'Ants',\n",
       " 'pest_id': '1',\n",
       " 'special_instructions': 'Ants are in the kitchen',\n",
       " 'location': 'Kitchen',\n",
       " 'square_footage': None}"
      ]
     },
     "execution_count": 33,
     "metadata": {},
     "output_type": "execute_result"
    }
   ],
   "source": [
    "model.run(\"\"\"\n",
    "Hi! My name is George from Better Termite & Pest Control. How can I help you? :)\n",
    "User: Hi name is John Smith and I am interested in pest control\n",
    "Agent: Hello John! Thank you for your interest in Better Termite & Pest Control. Before we proceed, may I ask a few questions to better understand your pest control needs?\n",
    "User: Yeah sure, but before we start, do you offer squirrel control?\n",
    "Agent: I'm sorry, but we don't cover any type of wildlife, including squirrels. However, we do have a range of effective pest control solutions for other common household pests. To better assist you, may I have your email, phone number, street address, city, state and zip code, please?\n",
    "User: No worries. I also have an ant problem in my kitchen\n",
    "Agent: We can certainly help with that! Our company offers a range of effective pest control solutions for common household pests, including ants. Before we get started, can I have your contact information, including your first and last name, phone number, email, street address, city, state, and zip code?\n",
    "User: Sure my name is George Schulz. My email is georgeschulz33@gmail.com, phone is 571-431-9531, and my address is 123 Elm Way, Gaithersburg, MD 20878\n",
    "Agent: Thank you for providing your contact information, George. Can you please tell me what type of pest issue you are experiencing and where it is located? This will help us better understand your needs and provide the right solution. Additionally, could you please let me know the severity of the issue, the type of service you're interested in, any special instructions, and any time constraints you may have?\n",
    "\"\"\")"
   ]
  },
  {
   "cell_type": "code",
   "execution_count": 34,
   "metadata": {},
   "outputs": [
    {
     "name": "stdout",
     "output_type": "stream",
     "text": [
      "Generation:  \n",
      "\n",
      "Pests: Termites, Millipedes\n",
      "pest_id: 3, 12\n",
      "Special_Instructions: Knock on the door before entering\n",
      "Location: Outside the house (Termites), Basement (Millipedes)\n",
      "Square_Footage: 1400\n"
     ]
    },
    {
     "data": {
      "text/plain": [
       "{'pests': 'Termites, Millipedes',\n",
       " 'pest_id': '3, 12',\n",
       " 'special_instructions': 'Knock on the door before entering',\n",
       " 'location': 'Outside the house',\n",
       " 'square_footage': '1400'}"
      ]
     },
     "execution_count": 34,
     "metadata": {},
     "output_type": "execute_result"
    }
   ],
   "source": [
    "model.run(\"\"\"\n",
    "Hi! My name is George from Better Termite & Pest Control. How can I help you? :)\n",
    "User: Hi name is John Smith and I am interested in pest control\n",
    "Agent: Hello John! Thank you for your interest in Better Termite & Pest Control. Before we proceed, may I ask a few questions to better understand your pest control needs?\n",
    "User: Yeah sure\n",
    "Agent: We can certainly help with that! Our company offers a range of effective pest control solutions for common household pests, including ants. Before we get started, can I have your contact information, including your first and last name, phone number, email, street address, city, state, and zip code?\n",
    "User: Sure my name is George Schulz. My email is georgeschulz33@gmail.com, phone is 571-431-9531, and my address is 123 Elm Way, Gaithersburg, MD 20878\n",
    "Agent: Thank you for providing your contact information, George. Can you please tell me what type of pest issue you are experiencing and where it is located? This will help us better understand your needs and provide the right solution. Additionally, could you please let me know the severity of the issue, the type of service you're interested in, any special instructions, and any time constraints you may have?\n",
    "User: I have been seeing termites outside my house\n",
    "Agent: Oh no! Have you been seeing anything else?\n",
    "User: Yes! I have been seeing a few millipedes in my basement\n",
    "Agent: Thank you for letting me know. I will add that to your account. \n",
    "User: Please make sure to knock on my door before you come in\n",
    "Agent: Sure and how many square feet is your home?\n",
    "User: 1400\n",
    "\"\"\")"
   ]
  },
  {
   "cell_type": "code",
   "execution_count": 35,
   "metadata": {},
   "outputs": [
    {
     "name": "stdout",
     "output_type": "stream",
     "text": [
      "Generation:  Pests: None\n",
      "pest_id: 0\n",
      "Special_Instructions: None\n",
      "Location: None\n",
      "Square_Footage: None\n"
     ]
    },
    {
     "data": {
      "text/plain": [
       "{'pests': None,\n",
       " 'pest_id': '0',\n",
       " 'special_instructions': None,\n",
       " 'location': None,\n",
       " 'square_footage': None}"
      ]
     },
     "execution_count": 35,
     "metadata": {},
     "output_type": "execute_result"
    }
   ],
   "source": [
    "model.run(\"\"\"\n",
    "Hi! My name is George from Better Termite & Pest Control. How can I help you? :)\n",
    "User: Hi name is John Smith and I am interested in pest control\n",
    "Agent: Hello John! Thank you for your interest in Better Termite & Pest Control. Before we proceed, may I ask a few questions to better understand your pest control needs?\n",
    "\"\"\")"
   ]
  },
  {
   "cell_type": "code",
   "execution_count": 36,
   "metadata": {},
   "outputs": [
    {
     "name": "stdout",
     "output_type": "stream",
     "text": [
      "Generation:  Pests: Ants, Spiders\n",
      "pest_id: 1, 2\n",
      "Special_Instructions: Ants are in the kitchen and spiders are around the house.\n",
      "Location: Kitchen and House\n",
      "Square_Footage: 2500\n"
     ]
    },
    {
     "data": {
      "text/plain": [
       "{'pests': 'Ants, Spiders',\n",
       " 'pest_id': '1, 2',\n",
       " 'special_instructions': 'Ants are in the kitchen and spiders are around the house.',\n",
       " 'location': 'Kitchen and House',\n",
       " 'square_footage': '2500'}"
      ]
     },
     "execution_count": 36,
     "metadata": {},
     "output_type": "execute_result"
    }
   ],
   "source": [
    "model.run(\"\"\"\n",
    "User: Hi name is John Smith and I am interested in pest control\n",
    "Agent: Hey John, thanks for reaching out to us here at Better Termite & Pest Control. I'm happy to assist you with your pest control needs. Do you mind if I ask you a few questions to get a better understanding of your situation?\n",
    "User: Yeah sure, thats fine\n",
    "Agent: Great, thanks! Can you kindly provide me with your phone number, email, street address, city, state, and zip code? That way we can get in touch with you and provide a more accurate estimate.\n",
    "User: Sure my name is George Schulz. My email is georgeschulz33@gmail.com, phone is 571-431-9531, and my address is 123 Elm Way, Gaithersburg, MD 20878\n",
    "Agent: Thanks for providing that information, George! Can you let me know what type of pests you are having an issue with? That way we can provide the proper treatment.\n",
    "User: I've been seeing ants in my kitchen and some spiders around the house. Im just fed up!\n",
    "Agent: I'm sorry to hear that, George! Just to clarify, are you experiencing issues with any other pests besides ants and spiders?\n",
    "User: No right now, just those two pests.\n",
    "Agent: Got it, thanks for letting me know! Can you tell me the approximate square footage of your property? It will help us in determining the extent of the problem.\n",
    "User: It's 2500 square feet\n",
    "Agent: Thanks for letting me know, George! Based on your description, it sounds like you may have an issue with ants and spiders in your kitchen and around your house. Is that correct? Additionally, have you noticed any other types of pests around your property?\n",
    "User: Yes, thats right\n",
    "Agent: Thanks for confirming, George! Just one more question, do you happen to know what type of ants you are seeing in your kitchen? It can help us identify the proper treatment. If you're not sure, that's okay! We have a team of experts who will be able to help identify them.\n",
    "User: Im not sure\n",
    "Agent: No problem, George! Our team of experts will be able to identify the ants for you when they come for the inspection. So, just to recap, you are experiencing issues with ants in your kitchen and spiders around your house, correct? And the square footage of your property is 2500. Is there anything else you'd like to share or any other questions you have?\n",
    "\"\"\")"
   ]
  },
  {
   "cell_type": "code",
   "execution_count": null,
   "metadata": {},
   "outputs": [],
   "source": []
  }
 ],
 "metadata": {
  "kernelspec": {
   "display_name": ".venv",
   "language": "python",
   "name": "python3"
  },
  "language_info": {
   "codemirror_mode": {
    "name": "ipython",
    "version": 3
   },
   "file_extension": ".py",
   "mimetype": "text/x-python",
   "name": "python",
   "nbconvert_exporter": "python",
   "pygments_lexer": "ipython3",
   "version": "3.8.12"
  },
  "orig_nbformat": 4,
  "vscode": {
   "interpreter": {
    "hash": "ec0f111f5e5040c678ec5a567f7682a80a3d7b8519cf7f13b3475890ed8a264f"
   }
  }
 },
 "nbformat": 4,
 "nbformat_minor": 2
}
